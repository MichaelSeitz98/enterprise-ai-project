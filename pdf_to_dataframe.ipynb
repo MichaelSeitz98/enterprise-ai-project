{
 "cells": [
  {
   "cell_type": "code",
   "execution_count": 1,
   "metadata": {},
   "outputs": [],
   "source": [
    "import requests\n",
    "import tabula\n",
    "import pandas as pd"
   ]
  },
  {
   "cell_type": "code",
   "execution_count": 4,
   "metadata": {},
   "outputs": [],
   "source": [
    "# Bachelor\t\n",
    "pdf_url_bachelor_business_management_and_economics = \"https://www2.uni-wuerzburg.de/mhb/MHB1-en-82-184-H-2008.pdf\"\n",
    "pdf_url_bachelor_information_systems = \"https://www2.uni-wuerzburg.de/mhb/MHB1-en-82-277-H-2021.pdf\"\n",
    "pdf_url_bachelor_economathematics = \"https://www2.uni-wuerzburg.de/mhb/MHB1-en-82-276-H-2015.pdf\"\n",
    "\n",
    "# Master\n",
    "pdf_url_master_information_systems = \"https://www2.uni-wuerzburg.de/mhb/MHB1-en-82-277-H-2021.pdf\"\n",
    "pdf_url_master_management =\"https://www2.uni-wuerzburg.de/mhb/MHB1-en-88-i45-H-2018.pdf\"\n",
    "pdf_url_master_international_economic_policy = \"https://www2.uni-wuerzburg.de/mhb/MHB1-en-88-h92-H-2018.pdf\"\n",
    "\n",
    "# Bachelor\n",
    "response = requests.get(pdf_url_bachelor_business_management_and_economics)\n",
    "with open(\"module_handbooks/bachelor_business_management_and_economics.pdf\", \"wb\") as f:\n",
    "    f.write(response.content)\n",
    "\n",
    "print(\"Downloaded bachelor_business_management_and_economics.pdf\")\n",
    "\n",
    "response = requests.get(pdf_url_bachelor_information_systems)\n",
    "with open(\"module_handbooks/bachelor_information_systems.pdf\", \"wb\") as f:\n",
    "    f.write(response.content)\n",
    "\n",
    "print(\"Downloaded bachelor_information_systems.pdf\")\n",
    "\n",
    "response = requests.get(pdf_url_bachelor_economathematics)\n",
    "with open(\"module_handbooks/bachelor_economathematics.pdf\", \"wb\") as f:\n",
    "    f.write(response.content)\n",
    "print(\"Downloaded bachelor_economathematics.pdf\")\n",
    "\n",
    "response = requests.get(pdf_url_master_information_systems)\n",
    "with open(\"module_handbooks/master_information_systems.pdf\", \"wb\") as f:\n",
    "    f.write(response.content)\n",
    "print(\"Downloaded master_information_systems.pdf\")\n",
    "\n",
    "response = requests.get(pdf_url_master_management)\n",
    "with open(\"module_handbooks/master_management.pdf\", \"wb\") as f:\n",
    "    f.write(response.content)\n",
    "print(\"Downloaded master_management.pdf\")\n",
    "\n",
    "response = requests.get(pdf_url_master_international_economic_policy)\n",
    "with open(\"module_handbooks/master_international_economic_policy.pdf\", \"wb\") as f:\n",
    "    f.write(response.content)\n",
    "print(\"Downloaded master_international_economic_policy.pdf\")\n"
   ]
  },
  {
   "cell_type": "code",
   "execution_count": 3,
   "metadata": {},
   "outputs": [
    {
     "name": "stdout",
     "output_type": "stream",
     "text": [
      "                section / sub-section ECTS credits  starting\\rpage\n",
      "0                  Compulsory Courses          105               9\n",
      "1                Business Informatics           20              10\n",
      "2   Business Management and Economics           30              19\n",
      "3                            Methoden           20              34\n",
      "4                    Computer Science           35              41\n",
      "5                Compulsory Electives           45              50\n",
      "6                Business Informatics      min. 20              51\n",
      "7             Business Administration      max. 25              83\n",
      "8                           Economics      max. 25             155\n",
      "9                    Computer Science      max. 25             230\n",
      "10                    Key Skills Area           20             242\n",
      "11                 General Key Skills            5             243\n",
      "12        Subject-specific Key Skills           15             244\n",
      "13                        Thesis Area           10             325\n"
     ]
    }
   ],
   "source": [
    "# Extract tables from the PDF using tabula-py\n",
    "tables = tabula.read_pdf(\"module_handbooks/master_information_systems.pdf\", pages='all', multiple_tables=True)\n",
    "\n",
    "# Convert each table to a DataFrame\n",
    "dataframes = [pd.DataFrame(table) for table in tables]\n",
    "\n",
    "# You can access each DataFrame using dataframes[index]\n",
    "# For example, to access the first DataFrame:\n",
    "df = dataframes[0]\n",
    "print(df)"
   ]
  }
 ],
 "metadata": {
  "kernelspec": {
   "display_name": "Python 3",
   "language": "python",
   "name": "python3"
  },
  "language_info": {
   "codemirror_mode": {
    "name": "ipython",
    "version": 3
   },
   "file_extension": ".py",
   "mimetype": "text/x-python",
   "name": "python",
   "nbconvert_exporter": "python",
   "pygments_lexer": "ipython3",
   "version": "3.8.16"
  },
  "orig_nbformat": 4
 },
 "nbformat": 4,
 "nbformat_minor": 2
}
