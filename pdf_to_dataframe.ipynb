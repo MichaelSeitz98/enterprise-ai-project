{
 "cells": [
  {
   "cell_type": "code",
   "execution_count": 1,
   "metadata": {},
   "outputs": [],
   "source": [
    "import requests\n",
    "import tabula\n",
    "import pandas as pd\n",
    "import camelot"
   ]
  },
  {
   "cell_type": "code",
   "execution_count": 6,
   "metadata": {},
   "outputs": [],
   "source": [
    "pdf_url_master_information_systems = \"https://www2.uni-wuerzburg.de/mhb/MHB1-en-82-277-H-2021.pdf\"\n",
    "pdf_url_master_management =\"https://www2.uni-wuerzburg.de/mhb/MHB1-en-88-i45-H-2018.pdf\"\n",
    "pdf_url_master_international_economic_policy = \"https://www2.uni-wuerzburg.de/mhb/MHB1-en-88-h92-H-2018.pdf\"\n",
    "\n",
    "\n",
    "# Download the PDF file\n",
    "response = requests.get(pdf_url_master_information_systems)\n",
    "with open(\"module_handbooks/master_information_systems.pdf\", \"wb\") as f:\n",
    "    f.write(response.content)"
   ]
  },
  {
   "cell_type": "code",
   "execution_count": null,
   "metadata": {},
   "outputs": [],
   "source": [
    "# Extract tables from the PDF using tabula-py\n",
    "tables = tabula.read_pdf(\"module_handbooks/master_information_systems.pdf\", pages='all', multiple_tables=True)\n",
    "\n",
    "# Convert each table to a DataFrame\n",
    "dataframes = [pd.DataFrame(table) for table in tables]\n",
    "\n",
    "# You can access each DataFrame using dataframes[index]\n",
    "# For example, to access the first DataFrame:\n",
    "df = dataframes[0]\n",
    "print(df)"
   ]
  }
 ],
 "metadata": {
  "kernelspec": {
   "display_name": "Python 3",
   "language": "python",
   "name": "python3"
  },
  "language_info": {
   "codemirror_mode": {
    "name": "ipython",
    "version": 3
   },
   "file_extension": ".py",
   "mimetype": "text/x-python",
   "name": "python",
   "nbconvert_exporter": "python",
   "pygments_lexer": "ipython3",
   "version": "3.8.16"
  },
  "orig_nbformat": 4
 },
 "nbformat": 4,
 "nbformat_minor": 2
}
