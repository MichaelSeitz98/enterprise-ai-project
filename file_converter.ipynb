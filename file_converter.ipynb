{
 "cells": [
  {
   "cell_type": "code",
   "execution_count": null,
   "metadata": {},
   "outputs": [],
   "source": [
    "import pandas as pd\n",
    "\n",
    "def clean_and_save(file_path):\n",
    "    # Read the excel file\n",
    "    df = pd.read_excel(file_path)\n",
    "    df = df.astype(str)\n",
    "\n",
    "    \n",
    "    # Strip whitespaces and line breaks from all columns\n",
    "    df = df.apply(lambda x: x.str.strip() if x.dtype == \"object\" else x)\n",
    "    \n",
    "    # Save as CSV\n",
    "    csv_file_path = file_path.replace(\".xlsx\", \".csv\")\n",
    "    df.to_csv(csv_file_path, index=False)\n",
    "    \n",
    "    # Save as Excel\n",
    "    excel_file_path = file_path.replace(\".xlsx\", \"_cleaned.xlsx\")\n",
    "    df.to_excel(excel_file_path, index=False)\n",
    "    \n",
    "    return f\"CSV and Excel files saved at {csv_file_path} and {excel_file_path} respectively.\"\n",
    "\n",
    "\n",
    "\n",
    "clean_and_save(\"extracted_final_modules/MS_IS_all_modules.xlsx\")\n"
   ]
  },
  {
   "cell_type": "code",
   "execution_count": null,
   "metadata": {},
   "outputs": [],
   "source": [
    "import random\n",
    "\n",
    "def create_training_data_abbreviation(file_path):\n",
    "    # Read the cleaned excel file\n",
    "    df = pd.read_excel(file_path)\n",
    "    \n",
    "    # Create a new dataframe for training data\n",
    "    training_data = pd.DataFrame(columns=['id', 'annotator', 'position', 'question', 'table_file', 'answer_coordinates', 'answer_text'])\n",
    "    \n",
    "    # Define a list of possible question formulations\n",
    "   \n",
    "    \n",
    "    # Loop through each row of the dataframe\n",
    "    for i, row in df.iterrows():\n",
    "        # Create a new row for the training data\n",
    "        new_row = {'id': f'ms-is-01', 'annotator': 0, 'position': 0, 'question': '', 'table_file': '', 'answer_coordinates': '', 'answer_text': ''}\n",
    "        \n",
    "        # Set the question\n",
    "        question_formulations = [ f\"What is the abbreviation of {row['Module title']}?\",f\"What is the code for {row['Module title']}?\",f\"What is the ID of {row['Module title']}?\",f\"What is the abbreviation of the module {row['Module title']}?\"]\n",
    "\n",
    "        question = random.choice(question_formulations).format(row=row)\n",
    "        new_row['question'] = question\n",
    "        \n",
    "        # Set the table file\n",
    "        table_file = f\"table_csv/MS_IS_all_modules_cleaned.csv\"\n",
    "        new_row['table_file'] = table_file\n",
    "        \n",
    "        # Set the answer coordinates\n",
    "        answer_coordinates = f\"['({i}, {df.columns.get_loc('Abbreviation')})']\"\n",
    "        new_row['answer_coordinates'] = answer_coordinates\n",
    "        \n",
    "        # Set the answer text\n",
    "        answer_text = f\"['{row['Abbreviation']}']\"\n",
    "        new_row['answer_text'] = answer_text\n",
    "        \n",
    "        # Append the new row to the training data\n",
    "        training_data = training_data.append(new_row, ignore_index=True)\n",
    "    \n",
    "    # Save the training data as an excel file\n",
    "    training_data.to_excel('questions_abbreviation.xlsx', index=False)\n",
    "    \n",
    "    return \"Training data created and saved as 'training_data.xlsx'.\"\n",
    "\n",
    "create_training_data_abbreviation(\"extracted_final_modules/MS_IS_all_modules_cleaned.xlsx\")\n"
   ]
  },
  {
   "cell_type": "code",
   "execution_count": null,
   "metadata": {},
   "outputs": [],
   "source": []
  },
  {
   "cell_type": "code",
   "execution_count": null,
   "metadata": {},
   "outputs": [],
   "source": []
  }
 ],
 "metadata": {
  "kernelspec": {
   "display_name": "enterpriseai2",
   "language": "python",
   "name": "python3"
  },
  "language_info": {
   "codemirror_mode": {
    "name": "ipython",
    "version": 3
   },
   "file_extension": ".py",
   "mimetype": "text/x-python",
   "name": "python",
   "nbconvert_exporter": "python",
   "pygments_lexer": "ipython3",
   "version": "3.8.16"
  },
  "orig_nbformat": 4
 },
 "nbformat": 4,
 "nbformat_minor": 2
}
