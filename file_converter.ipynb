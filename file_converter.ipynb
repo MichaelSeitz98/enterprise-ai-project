{
 "cells": [
  {
   "cell_type": "code",
   "execution_count": 2,
   "metadata": {},
   "outputs": [
    {
     "data": {
      "text/plain": [
       "'CSV and Excel files saved at extracted_final_modules/MS_IS_all_modules.csv and extracted_final_modules/MS_IS_all_modules_cleaned.xlsx respectively.'"
      ]
     },
     "execution_count": 2,
     "metadata": {},
     "output_type": "execute_result"
    }
   ],
   "source": [
    "import pandas as pd\n",
    "\n",
    "def clean_and_save(file_path):\n",
    "    # Read the excel file\n",
    "    df = pd.read_excel(file_path)\n",
    "    df = df.astype(str)\n",
    "\n",
    "    \n",
    "    # Strip whitespaces and line breaks from all columns\n",
    "    df = df.apply(lambda x: x.str.strip() if x.dtype == \"object\" else x)\n",
    "    \n",
    "    # Save as CSV\n",
    "    csv_file_path = file_path.replace(\".xlsx\", \".csv\")\n",
    "    df.to_csv(csv_file_path, index=False)\n",
    "    \n",
    "    # Save as Excel\n",
    "    excel_file_path = file_path.replace(\".xlsx\", \"_cleaned.xlsx\")\n",
    "    df.to_excel(excel_file_path, index=False)\n",
    "    \n",
    "    return f\"CSV and Excel files saved at {csv_file_path} and {excel_file_path} respectively.\"\n",
    "\n",
    "\n",
    "\n",
    "clean_and_save(\"extracted_final_modules/MS_IS_all_modules.xlsx\")\n"
   ]
  }
 ],
 "metadata": {
  "kernelspec": {
   "display_name": "enterpriseai2",
   "language": "python",
   "name": "python3"
  },
  "language_info": {
   "codemirror_mode": {
    "name": "ipython",
    "version": 3
   },
   "file_extension": ".py",
   "mimetype": "text/x-python",
   "name": "python",
   "nbconvert_exporter": "python",
   "pygments_lexer": "ipython3",
   "version": "3.8.16"
  },
  "orig_nbformat": 4
 },
 "nbformat": 4,
 "nbformat_minor": 2
}
