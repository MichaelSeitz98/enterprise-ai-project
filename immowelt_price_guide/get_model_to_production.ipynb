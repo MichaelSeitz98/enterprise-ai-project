{
 "cells": [
  {
   "cell_type": "code",
   "execution_count": 2,
   "metadata": {},
   "outputs": [
    {
     "name": "stderr",
     "output_type": "stream",
     "text": [
      "2023/07/16 17:52:43 WARNING mlflow.pyfunc: Encountered an unexpected error (AttributeError(\"module 'configparser' has no attribute '__version__'\")) while detecting model dependency mismatches. Set logging level to DEBUG to see the full traceback.\n",
      "2023/07/16 17:52:43 WARNING mlflow.pyfunc: The version of Python that the model was saved in, `Python 3.8.16`, differs from the version of Python that is currently running, `Python 3.11.3`, and may be incompatible\n"
     ]
    }
   ],
   "source": [
    "from gradio_functions import save_model\n",
    "import mlflow\n",
    "\n",
    "# Load current production model from MLFLOW and save it as pickle file in the Backend directory\n",
    "mlflow.set_tracking_uri(\"http://localhost:5000\")\n",
    "\n",
    "MODEL_NAME = \"rent-wue-selected-features-linear-reg\"\n",
    "PATH = \"backend/model.pkl\"\n",
    "\n",
    "def set_model_in_production(model_name, path):\n",
    "    model = save_model(model_name, path)\n",
    "\n",
    "\n",
    "set_model_in_production(MODEL_NAME, PATH)\n",
    "\n"
   ]
  }
 ],
 "metadata": {
  "kernelspec": {
   "display_name": "py311",
   "language": "python",
   "name": "python3"
  },
  "language_info": {
   "codemirror_mode": {
    "name": "ipython",
    "version": 3
   },
   "file_extension": ".py",
   "mimetype": "text/x-python",
   "name": "python",
   "nbconvert_exporter": "python",
   "pygments_lexer": "ipython3",
   "version": "3.11.3"
  },
  "orig_nbformat": 4
 },
 "nbformat": 4,
 "nbformat_minor": 2
}
