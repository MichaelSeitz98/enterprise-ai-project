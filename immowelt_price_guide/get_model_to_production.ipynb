{
 "cells": [
  {
   "cell_type": "markdown",
   "metadata": {},
   "source": [
    "### Definition of the model running in production \n",
    "Replace the constante MODEL_NAME with the name of the model from MLflow you want to run in production.\n",
    "Then run the cell and the model will be stored to the backend folder.\n",
    "Next you can push the changes to the git repo & heroku, what starts an automatic deployment on the heroku cloud."
   ]
  },
  {
   "cell_type": "code",
   "execution_count": 1,
   "metadata": {},
   "outputs": [
    {
     "name": "stderr",
     "output_type": "stream",
     "text": [
      "2023/07/16 23:25:31 WARNING mlflow.pyfunc: Encountered an unexpected error (AttributeError(\"module 'configparser' has no attribute '__version__'\")) while detecting model dependency mismatches. Set logging level to DEBUG to see the full traceback.\n",
      "Trying to unpickle estimator DecisionTreeRegressor from version 1.2.2 when using version 1.2.1. This might lead to breaking code or invalid results. Use at your own risk. For more info please refer to:\n",
      "https://scikit-learn.org/stable/model_persistence.html#security-maintainability-limitations\n",
      "Trying to unpickle estimator RandomForestRegressor from version 1.2.2 when using version 1.2.1. This might lead to breaking code or invalid results. Use at your own risk. For more info please refer to:\n",
      "https://scikit-learn.org/stable/model_persistence.html#security-maintainability-limitations\n"
     ]
    }
   ],
   "source": [
    "from model_functions import get_model_path, set_model_details_to_prod, set_model_to_prod\n",
    "# This model needs python 3.8\n",
    "MODEL_NAME = \"wue-rent-feature-set-app\"\n",
    "ml_flow_details_path = get_model_path(MODEL_NAME)\n",
    "\n",
    "# Get model + its information from mlflow and place it to the BE \n",
    "set_model_details_to_prod(ml_flow_details_path)\n",
    "set_model_to_prod(MODEL_NAME)\n"
   ]
  }
 ],
 "metadata": {
  "kernelspec": {
   "display_name": "py311",
   "language": "python",
   "name": "python3"
  },
  "language_info": {
   "codemirror_mode": {
    "name": "ipython",
    "version": 3
   },
   "file_extension": ".py",
   "mimetype": "text/x-python",
   "name": "python",
   "nbconvert_exporter": "python",
   "pygments_lexer": "ipython3",
   "version": "3.8.16"
  },
  "orig_nbformat": 4
 },
 "nbformat": 4,
 "nbformat_minor": 2
}
