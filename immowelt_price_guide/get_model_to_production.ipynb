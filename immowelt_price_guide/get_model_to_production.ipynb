{
 "cells": [
  {
   "cell_type": "markdown",
   "metadata": {},
   "source": [
    "### Definition of the model running in production \n",
    "Replace the constante MODEL_NAME with the name of the model from MLflow you want to run in production.\n",
    "-> Therefore the model has to be set on stage production in MLflow.\n",
    "Then run the cell and the model will be stored to the backend folder.\n",
    "It also copies the specific requirements of the model to the container requirements.\n",
    "\n",
    "Next you can push the changes to the git repo & heroku, what starts an automatic deployment on the heroku cloud."
   ]
  },
  {
   "cell_type": "code",
   "execution_count": null,
   "metadata": {},
   "outputs": [],
   "source": [
    "from to_prod_functions import get_model_details_path, set_model_details_to_prod, set_model_to_prod, get_model_req_path, set_model_requirements_to_prod, get_model_env_path\n",
    "\n",
    "# Set model name here\n",
    "MODEL_NAME = \"wue-rent-feature-set-app-xgb\"\n",
    "\n",
    "details_path = get_model_details_path(MODEL_NAME)\n",
    "requirements_path = get_model_req_path(MODEL_NAME)\n",
    "yaml_path = get_model_env_path(MODEL_NAME)\n",
    "\n",
    "# Get model + its information from mlflow and place it to the BE \n",
    "set_model_details_to_prod(details_path)\n",
    "set_model_to_prod(MODEL_NAME)\n",
    "\n",
    "# Set the python version and lib requirements to the Dockerfile\n",
    "set_model_requirements_to_prod(requirements_path)"
   ]
  },
  {
   "cell_type": "code",
   "execution_count": 7,
   "metadata": {},
   "outputs": [
    {
     "name": "stderr",
     "output_type": "stream",
     "text": [
      "Das System kann den angegebenen Pfad nicht finden.\n",
      "warning: LF will be replaced by CRLF in immowelt_price_guide/get_model_to_production.ipynb.\n",
      "The file will have its original line endings in your working directory\n",
      "error: pathspec 'git' did not match any file(s) known to git\n",
      "error: pathspec 'push' did not match any file(s) known to git\n",
      "Everything up-to-date\n"
     ]
    }
   ],
   "source": [
    "# Next you can run these commands to trigger the new deployment: (when you are in the root directory of the project)\n",
    "\n",
    "! cd backend\n",
    "! git add . \n",
    "! git commit -m \"Update model to production\"\n",
    "! git push\n",
    "! git push heroku main"
   ]
  }
 ],
 "metadata": {
  "kernelspec": {
   "display_name": "py311",
   "language": "python",
   "name": "python3"
  },
  "language_info": {
   "codemirror_mode": {
    "name": "ipython",
    "version": 3
   },
   "file_extension": ".py",
   "mimetype": "text/x-python",
   "name": "python",
   "nbconvert_exporter": "python",
   "pygments_lexer": "ipython3",
   "version": "3.8.16"
  },
  "orig_nbformat": 4
 },
 "nbformat": 4,
 "nbformat_minor": 2
}
