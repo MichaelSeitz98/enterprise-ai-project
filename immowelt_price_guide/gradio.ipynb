{
 "cells": [
  {
   "cell_type": "code",
   "execution_count": 1,
   "metadata": {},
   "outputs": [
    {
     "name": "stderr",
     "output_type": "stream",
     "text": [
      "c:\\Python311\\Lib\\site-packages\\numba\\core\\decorators.py:262: NumbaDeprecationWarning: \u001b[1mnumba.generated_jit is deprecated. Please see the documentation at: https://numba.readthedocs.io/en/stable/reference/deprecation.html#deprecation-of-generated-jit for more information and advice on a suitable replacement.\u001b[0m\n",
      "  warnings.warn(msg, NumbaDeprecationWarning)\n",
      "c:\\Python311\\Lib\\site-packages\\visions\\backends\\shared\\nan_handling.py:50: NumbaDeprecationWarning: \u001b[1mThe 'nopython' keyword argument was not supplied to the 'numba.jit' decorator. The implicit default value for this argument is currently False, but it will be changed to True in Numba 0.59.0. See https://numba.readthedocs.io/en/stable/reference/deprecation.html#deprecation-of-object-mode-fall-back-behaviour-when-using-jit for details.\u001b[0m\n",
      "  @nb.jit\n"
     ]
    }
   ],
   "source": [
    "import gradio as gr\n",
    "import pandas as pd\n",
    "import mlflow\n",
    "import numpy as np\n",
    "import mlflow.pyfunc\n",
    "import xgboost as xgb\n",
    "import mlflow.xgboost\n",
    "import pickle\n",
    "from gradio_functions import *\n",
    "import matplotlib.pyplot as plt\n",
    "import plotly.express as px\n",
    "from model_functions import *\n",
    "import html\n",
    "mlflow.set_tracking_uri(\"http://localhost:5000\")"
   ]
  },
  {
   "cell_type": "code",
   "execution_count": 2,
   "metadata": {},
   "outputs": [
    {
     "name": "stdout",
     "output_type": "stream",
     "text": [
      "Running on local URL:  http://127.0.0.1:7860\n",
      "\n",
      "To create a public link, set `share=True` in `launch()`.\n"
     ]
    },
    {
     "data": {
      "text/html": [
       "<div><iframe src=\"http://127.0.0.1:7860/\" width=\"100%\" height=\"500\" allow=\"autoplay; camera; microphone; clipboard-read; clipboard-write;\" frameborder=\"0\" allowfullscreen></iframe></div>"
      ],
      "text/plain": [
       "<IPython.core.display.HTML object>"
      ]
     },
     "metadata": {},
     "output_type": "display_data"
    },
    {
     "name": "stdout",
     "output_type": "stream",
     "text": [
      "https://www.immowelt.de/liste/wuerzburg/wohnungen/mieten\n",
      "started\n",
      "Retraining data successfully scraped.\n",
      "Retraining data successfully written to excel under data/retrain_train_data.xslx\n",
      "Done with raw preprocessing.\n",
      "old shape of train_recent (108, 47)\n",
      "Index(['Object_price', 'LivingSpace', 'Rooms', 'ConstructionYear', 'ZipCode',\n",
      "       'EstateType', 'DistributionType', 'abstellraum', 'altbau_(bis_1945)',\n",
      "       'balkon', 'barriefrei', 'dachgeschoss', 'dsl', 'dusche', 'einbaukueche',\n",
      "       'elektro', 'erdgeschoss', 'erdwaerme', 'etagenheizung', 'fenster',\n",
      "       'fern', 'ferne', 'fliesen', 'frei', 'fussbodenheizung', 'gaestewc',\n",
      "       'garage', 'gas', 'gepflegt', 'granit', 'haustiere_erlaubt',\n",
      "       'kable_sat_tv', 'kelleranteil',\n",
      "       'kontrollierte_be-_und_entlueftungsanlage', 'kunststofffenster',\n",
      "       'laminat', 'loggia', 'luftwp', 'moebliert', 'neubau', 'ofenheizung',\n",
      "       'pantry', 'parkett', 'pellet', 'personenaufzug', 'reinigung',\n",
      "       'renoviert', 'souterrain', 'stein', 'teppich', 'terrasse', 'tiefgarage',\n",
      "       'wanne', 'zentralheizung', 'stellplatz', 'bad/wc_getrennt', 'garten',\n",
      "       'gartennutzung'],\n",
      "      dtype='object')\n",
      "Used feature set for preprocessing:['Object_price', 'LivingSpace', 'ZipCode', 'Rooms', 'altbau_(bis_1945)', 'balkon', 'barriefrei', 'dachgeschoss', 'einbaukueche', 'neubau', 'parkett', 'stellplatz', 'bad/wc_getrennt', 'personenaufzug', 'garten', 'garage', 'renoviert', 'terrasse', 'wanne', 'zentralheizung', 'abstellraum', 'ferne', 'fussbodenheizung', 'gartennutzung', 'kelleranteil']\n",
      "new shape of train_recent (122, 47)\n",
      "Retraining data successfully added to training data.\n",
      "!!!--------------------------------------START RETRAINING----------------------------------------------!!!\n"
     ]
    },
    {
     "name": "stderr",
     "output_type": "stream",
     "text": [
      "2023/07/16 14:47:35 INFO mlflow.tracking.fluent: Experiment with name 'retraining_2023-07-16_14-47' does not exist. Creating a new experiment.\n"
     ]
    },
    {
     "name": "stdout",
     "output_type": "stream",
     "text": [
      "XGB------\n",
      "train(122, 46)\n",
      "val:(27, 46)\n",
      "y_train:(122,)\n",
      "y_val:(27, 1)\n",
      "[0]\tvalidation_0-rmse:949.12014\tvalidation_0-mae:827.12919\n",
      "[1]\tvalidation_0-rmse:708.56292\tvalidation_0-mae:592.37173\n",
      "[2]\tvalidation_0-rmse:542.39578\tvalidation_0-mae:424.33665\n",
      "[3]\tvalidation_0-rmse:436.03012\tvalidation_0-mae:315.96783\n",
      "[4]\tvalidation_0-rmse:370.09318\tvalidation_0-mae:267.51430\n",
      "[5]\tvalidation_0-rmse:332.66945\tvalidation_0-mae:251.24185\n",
      "[6]\tvalidation_0-rmse:312.07361\tvalidation_0-mae:237.65018\n",
      "[7]\tvalidation_0-rmse:308.48192\tvalidation_0-mae:232.77575\n",
      "[8]\tvalidation_0-rmse:303.98871\tvalidation_0-mae:229.11343\n",
      "[9]\tvalidation_0-rmse:299.81530\tvalidation_0-mae:223.49278\n",
      "[10]\tvalidation_0-rmse:296.92310\tvalidation_0-mae:220.62628\n",
      "[11]\tvalidation_0-rmse:297.91061\tvalidation_0-mae:217.56628\n",
      "[12]\tvalidation_0-rmse:298.63138\tvalidation_0-mae:218.46386\n",
      "[13]\tvalidation_0-rmse:300.94673\tvalidation_0-mae:217.15734\n",
      "[14]\tvalidation_0-rmse:300.60296\tvalidation_0-mae:217.42990\n",
      "[15]\tvalidation_0-rmse:302.99825\tvalidation_0-mae:216.28772\n",
      "[16]\tvalidation_0-rmse:304.64525\tvalidation_0-mae:218.55691\n",
      "[17]\tvalidation_0-rmse:306.94054\tvalidation_0-mae:218.54657\n",
      "[18]\tvalidation_0-rmse:307.58748\tvalidation_0-mae:217.73449\n",
      "[19]\tvalidation_0-rmse:308.47016\tvalidation_0-mae:219.37736\n",
      "[20]\tvalidation_0-rmse:308.67667\tvalidation_0-mae:219.42621\n",
      "[21]\tvalidation_0-rmse:308.98649\tvalidation_0-mae:219.69173\n",
      "[22]\tvalidation_0-rmse:309.60965\tvalidation_0-mae:220.37694\n",
      "[23]\tvalidation_0-rmse:309.89813\tvalidation_0-mae:220.54195\n",
      "[24]\tvalidation_0-rmse:311.14223\tvalidation_0-mae:221.67716\n",
      "[25]\tvalidation_0-rmse:311.28311\tvalidation_0-mae:221.88031\n",
      "[26]\tvalidation_0-rmse:311.44253\tvalidation_0-mae:222.29253\n",
      "[27]\tvalidation_0-rmse:311.53886\tvalidation_0-mae:222.78601\n",
      "[28]\tvalidation_0-rmse:311.33048\tvalidation_0-mae:223.00056\n",
      "[29]\tvalidation_0-rmse:311.43837\tvalidation_0-mae:223.31628\n",
      "[30]\tvalidation_0-rmse:311.45578\tvalidation_0-mae:223.79960\n",
      "[31]\tvalidation_0-rmse:312.18211\tvalidation_0-mae:224.73859\n",
      "[32]\tvalidation_0-rmse:313.19151\tvalidation_0-mae:225.98992\n",
      "[33]\tvalidation_0-rmse:313.45316\tvalidation_0-mae:226.68796\n",
      "[34]\tvalidation_0-rmse:313.54091\tvalidation_0-mae:226.33226\n",
      "[35]\tvalidation_0-rmse:313.94712\tvalidation_0-mae:227.00250\n",
      "[36]\tvalidation_0-rmse:314.62452\tvalidation_0-mae:227.81028\n",
      "[37]\tvalidation_0-rmse:314.79131\tvalidation_0-mae:227.74582\n",
      "[38]\tvalidation_0-rmse:315.65886\tvalidation_0-mae:228.23964\n",
      "[39]\tvalidation_0-rmse:315.41444\tvalidation_0-mae:227.91829\n",
      "[40]\tvalidation_0-rmse:315.63510\tvalidation_0-mae:228.54785\n",
      "[41]\tvalidation_0-rmse:315.43711\tvalidation_0-mae:228.33696\n",
      "[42]\tvalidation_0-rmse:315.44751\tvalidation_0-mae:228.32099\n",
      "[43]\tvalidation_0-rmse:315.75777\tvalidation_0-mae:228.77248\n",
      "[44]\tvalidation_0-rmse:315.83704\tvalidation_0-mae:228.95159\n"
     ]
    },
    {
     "name": "stderr",
     "output_type": "stream",
     "text": [
      "2023/07/16 14:47:56 WARNING mlflow.utils.autologging_utils: MLflow autologging encountered a warning: \"c:\\Python311\\Lib\\site-packages\\mlflow\\models\\signature.py:144: UserWarning: Hint: Inferred schema contains integer column(s). Integer columns in Python cannot represent missing values. If your input data contains missing values at inference time, it will be encoded as floats and will cause a schema enforcement error. The best way to avoid this problem is to infer the model schema based on a realistic data sample (training dataset) that includes missing values. Alternatively, you can declare integer columns as doubles (float64) whenever these columns may have missing values. See `Handling Integers With Missing Values <https://www.mlflow.org/docs/latest/models.html#handling-integers-with-missing-values>`_ for more details.\"\n",
      "2023/07/16 14:48:07 WARNING mlflow.utils.autologging_utils: MLflow autologging encountered a warning: \"c:\\Python311\\Lib\\site-packages\\_distutils_hack\\__init__.py:33: UserWarning: Setuptools is replacing distutils.\"\n",
      "2023/07/16 14:48:20 WARNING mlflow.utils.autologging_utils: MLflow autologging encountered a warning: \"c:\\Python311\\Lib\\site-packages\\mlflow\\data\\pandas_dataset.py:116: UserWarning: Hint: Inferred schema contains integer column(s). Integer columns in Python cannot represent missing values. If your input data contains missing values at inference time, it will be encoded as floats and will cause a schema enforcement error. The best way to avoid this problem is to infer the model schema based on a realistic data sample (training dataset) that includes missing values. Alternatively, you can declare integer columns as doubles (float64) whenever these columns may have missing values. See `Handling Integers With Missing Values <https://www.mlflow.org/docs/latest/models.html#handling-integers-with-missing-values>`_ for more details.\"\n"
     ]
    },
    {
     "name": "stdout",
     "output_type": "stream",
     "text": [
      "Training xgb model done...\n",
      "---EVALUATION AND LOGGING TO MLFLOW------ xgb\n"
     ]
    },
    {
     "name": "stderr",
     "output_type": "stream",
     "text": [
      "2023/07/16 14:48:22 WARNING mlflow.utils.autologging_utils: MLflow autologging encountered a warning: \"c:\\Python311\\Lib\\site-packages\\mlflow\\data\\pandas_dataset.py:116: UserWarning: Hint: Inferred schema contains integer column(s). Integer columns in Python cannot represent missing values. If your input data contains missing values at inference time, it will be encoded as floats and will cause a schema enforcement error. The best way to avoid this problem is to infer the model schema based on a realistic data sample (training dataset) that includes missing values. Alternatively, you can declare integer columns as doubles (float64) whenever these columns may have missing values. See `Handling Integers With Missing Values <https://www.mlflow.org/docs/latest/models.html#handling-integers-with-missing-values>`_ for more details.\"\n",
      "2023/07/16 14:48:24 WARNING mlflow.utils.autologging_utils: MLflow autologging encountered a warning: \"c:\\Python311\\Lib\\site-packages\\mlflow\\data\\pandas_dataset.py:116: UserWarning: Hint: Inferred schema contains integer column(s). Integer columns in Python cannot represent missing values. If your input data contains missing values at inference time, it will be encoded as floats and will cause a schema enforcement error. The best way to avoid this problem is to infer the model schema based on a realistic data sample (training dataset) that includes missing values. Alternatively, you can declare integer columns as doubles (float64) whenever these columns may have missing values. See `Handling Integers With Missing Values <https://www.mlflow.org/docs/latest/models.html#handling-integers-with-missing-values>`_ for more details.\"\n",
      "The frame.append method is deprecated and will be removed from pandas in a future version. Use pandas.concat instead.\n",
      "2023/07/16 14:48:50 WARNING mlflow.utils.autologging_utils: MLflow autologging encountered a warning: \"c:\\Python311\\Lib\\site-packages\\mlflow\\data\\pandas_dataset.py:116: UserWarning: Hint: Inferred schema contains integer column(s). Integer columns in Python cannot represent missing values. If your input data contains missing values at inference time, it will be encoded as floats and will cause a schema enforcement error. The best way to avoid this problem is to infer the model schema based on a realistic data sample (training dataset) that includes missing values. Alternatively, you can declare integer columns as doubles (float64) whenever these columns may have missing values. See `Handling Integers With Missing Values <https://www.mlflow.org/docs/latest/models.html#handling-integers-with-missing-values>`_ for more details.\"\n"
     ]
    },
    {
     "name": "stdout",
     "output_type": "stream",
     "text": [
      "RIDGE------\n"
     ]
    },
    {
     "name": "stderr",
     "output_type": "stream",
     "text": [
      "2023/07/16 14:48:54 WARNING mlflow.utils.autologging_utils: MLflow autologging encountered a warning: \"c:\\Python311\\Lib\\site-packages\\mlflow\\models\\signature.py:144: UserWarning: Hint: Inferred schema contains integer column(s). Integer columns in Python cannot represent missing values. If your input data contains missing values at inference time, it will be encoded as floats and will cause a schema enforcement error. The best way to avoid this problem is to infer the model schema based on a realistic data sample (training dataset) that includes missing values. Alternatively, you can declare integer columns as doubles (float64) whenever these columns may have missing values. See `Handling Integers With Missing Values <https://www.mlflow.org/docs/latest/models.html#handling-integers-with-missing-values>`_ for more details.\"\n",
      "2023/07/16 14:49:14 WARNING mlflow.utils.autologging_utils: MLflow autologging encountered a warning: \"c:\\Python311\\Lib\\site-packages\\mlflow\\data\\pandas_dataset.py:116: UserWarning: Hint: Inferred schema contains integer column(s). Integer columns in Python cannot represent missing values. If your input data contains missing values at inference time, it will be encoded as floats and will cause a schema enforcement error. The best way to avoid this problem is to infer the model schema based on a realistic data sample (training dataset) that includes missing values. Alternatively, you can declare integer columns as doubles (float64) whenever these columns may have missing values. See `Handling Integers With Missing Values <https://www.mlflow.org/docs/latest/models.html#handling-integers-with-missing-values>`_ for more details.\"\n"
     ]
    },
    {
     "name": "stdout",
     "output_type": "stream",
     "text": [
      "Training ridge model done...\n",
      "---EVALUATION AND LOGGING TO MLFLOW------ ridge\n"
     ]
    },
    {
     "name": "stderr",
     "output_type": "stream",
     "text": [
      "2023/07/16 14:49:16 WARNING mlflow.utils.autologging_utils: MLflow autologging encountered a warning: \"c:\\Python311\\Lib\\site-packages\\mlflow\\data\\pandas_dataset.py:116: UserWarning: Hint: Inferred schema contains integer column(s). Integer columns in Python cannot represent missing values. If your input data contains missing values at inference time, it will be encoded as floats and will cause a schema enforcement error. The best way to avoid this problem is to infer the model schema based on a realistic data sample (training dataset) that includes missing values. Alternatively, you can declare integer columns as doubles (float64) whenever these columns may have missing values. See `Handling Integers With Missing Values <https://www.mlflow.org/docs/latest/models.html#handling-integers-with-missing-values>`_ for more details.\"\n",
      "2023/07/16 14:49:18 WARNING mlflow.utils.autologging_utils: MLflow autologging encountered a warning: \"c:\\Python311\\Lib\\site-packages\\mlflow\\data\\pandas_dataset.py:116: UserWarning: Hint: Inferred schema contains integer column(s). Integer columns in Python cannot represent missing values. If your input data contains missing values at inference time, it will be encoded as floats and will cause a schema enforcement error. The best way to avoid this problem is to infer the model schema based on a realistic data sample (training dataset) that includes missing values. Alternatively, you can declare integer columns as doubles (float64) whenever these columns may have missing values. See `Handling Integers With Missing Values <https://www.mlflow.org/docs/latest/models.html#handling-integers-with-missing-values>`_ for more details.\"\n",
      "The frame.append method is deprecated and will be removed from pandas in a future version. Use pandas.concat instead.\n",
      "2023/07/16 14:49:44 WARNING mlflow.utils.autologging_utils: MLflow autologging encountered a warning: \"c:\\Python311\\Lib\\site-packages\\mlflow\\data\\pandas_dataset.py:116: UserWarning: Hint: Inferred schema contains integer column(s). Integer columns in Python cannot represent missing values. If your input data contains missing values at inference time, it will be encoded as floats and will cause a schema enforcement error. The best way to avoid this problem is to infer the model schema based on a realistic data sample (training dataset) that includes missing values. Alternatively, you can declare integer columns as doubles (float64) whenever these columns may have missing values. See `Handling Integers With Missing Values <https://www.mlflow.org/docs/latest/models.html#handling-integers-with-missing-values>`_ for more details.\"\n"
     ]
    },
    {
     "name": "stdout",
     "output_type": "stream",
     "text": [
      "RF------\n"
     ]
    },
    {
     "name": "stderr",
     "output_type": "stream",
     "text": [
      "2023/07/16 14:49:48 WARNING mlflow.utils.autologging_utils: MLflow autologging encountered a warning: \"c:\\Python311\\Lib\\site-packages\\mlflow\\models\\signature.py:144: UserWarning: Hint: Inferred schema contains integer column(s). Integer columns in Python cannot represent missing values. If your input data contains missing values at inference time, it will be encoded as floats and will cause a schema enforcement error. The best way to avoid this problem is to infer the model schema based on a realistic data sample (training dataset) that includes missing values. Alternatively, you can declare integer columns as doubles (float64) whenever these columns may have missing values. See `Handling Integers With Missing Values <https://www.mlflow.org/docs/latest/models.html#handling-integers-with-missing-values>`_ for more details.\"\n",
      "2023/07/16 14:50:08 WARNING mlflow.utils.autologging_utils: MLflow autologging encountered a warning: \"c:\\Python311\\Lib\\site-packages\\mlflow\\data\\pandas_dataset.py:116: UserWarning: Hint: Inferred schema contains integer column(s). Integer columns in Python cannot represent missing values. If your input data contains missing values at inference time, it will be encoded as floats and will cause a schema enforcement error. The best way to avoid this problem is to infer the model schema based on a realistic data sample (training dataset) that includes missing values. Alternatively, you can declare integer columns as doubles (float64) whenever these columns may have missing values. See `Handling Integers With Missing Values <https://www.mlflow.org/docs/latest/models.html#handling-integers-with-missing-values>`_ for more details.\"\n"
     ]
    },
    {
     "name": "stdout",
     "output_type": "stream",
     "text": [
      "Training rf model done...\n",
      "---EVALUATION AND LOGGING TO MLFLOW------ rf\n"
     ]
    },
    {
     "name": "stderr",
     "output_type": "stream",
     "text": [
      "2023/07/16 14:50:10 WARNING mlflow.utils.autologging_utils: MLflow autologging encountered a warning: \"c:\\Python311\\Lib\\site-packages\\mlflow\\data\\pandas_dataset.py:116: UserWarning: Hint: Inferred schema contains integer column(s). Integer columns in Python cannot represent missing values. If your input data contains missing values at inference time, it will be encoded as floats and will cause a schema enforcement error. The best way to avoid this problem is to infer the model schema based on a realistic data sample (training dataset) that includes missing values. Alternatively, you can declare integer columns as doubles (float64) whenever these columns may have missing values. See `Handling Integers With Missing Values <https://www.mlflow.org/docs/latest/models.html#handling-integers-with-missing-values>`_ for more details.\"\n",
      "2023/07/16 14:50:12 WARNING mlflow.utils.autologging_utils: MLflow autologging encountered a warning: \"c:\\Python311\\Lib\\site-packages\\mlflow\\data\\pandas_dataset.py:116: UserWarning: Hint: Inferred schema contains integer column(s). Integer columns in Python cannot represent missing values. If your input data contains missing values at inference time, it will be encoded as floats and will cause a schema enforcement error. The best way to avoid this problem is to infer the model schema based on a realistic data sample (training dataset) that includes missing values. Alternatively, you can declare integer columns as doubles (float64) whenever these columns may have missing values. See `Handling Integers With Missing Values <https://www.mlflow.org/docs/latest/models.html#handling-integers-with-missing-values>`_ for more details.\"\n",
      "The frame.append method is deprecated and will be removed from pandas in a future version. Use pandas.concat instead.\n",
      "2023/07/16 14:50:38 WARNING mlflow.utils.autologging_utils: MLflow autologging encountered a warning: \"c:\\Python311\\Lib\\site-packages\\mlflow\\data\\pandas_dataset.py:116: UserWarning: Hint: Inferred schema contains integer column(s). Integer columns in Python cannot represent missing values. If your input data contains missing values at inference time, it will be encoded as floats and will cause a schema enforcement error. The best way to avoid this problem is to infer the model schema based on a realistic data sample (training dataset) that includes missing values. Alternatively, you can declare integer columns as doubles (float64) whenever these columns may have missing values. See `Handling Integers With Missing Values <https://www.mlflow.org/docs/latest/models.html#handling-integers-with-missing-values>`_ for more details.\"\n"
     ]
    },
    {
     "name": "stdout",
     "output_type": "stream",
     "text": [
      "ELASTICNET------\n"
     ]
    },
    {
     "name": "stderr",
     "output_type": "stream",
     "text": [
      "2023/07/16 14:50:43 WARNING mlflow.utils.autologging_utils: MLflow autologging encountered a warning: \"c:\\Python311\\Lib\\site-packages\\mlflow\\models\\signature.py:144: UserWarning: Hint: Inferred schema contains integer column(s). Integer columns in Python cannot represent missing values. If your input data contains missing values at inference time, it will be encoded as floats and will cause a schema enforcement error. The best way to avoid this problem is to infer the model schema based on a realistic data sample (training dataset) that includes missing values. Alternatively, you can declare integer columns as doubles (float64) whenever these columns may have missing values. See `Handling Integers With Missing Values <https://www.mlflow.org/docs/latest/models.html#handling-integers-with-missing-values>`_ for more details.\"\n",
      "2023/07/16 14:51:02 WARNING mlflow.utils.autologging_utils: MLflow autologging encountered a warning: \"c:\\Python311\\Lib\\site-packages\\mlflow\\data\\pandas_dataset.py:116: UserWarning: Hint: Inferred schema contains integer column(s). Integer columns in Python cannot represent missing values. If your input data contains missing values at inference time, it will be encoded as floats and will cause a schema enforcement error. The best way to avoid this problem is to infer the model schema based on a realistic data sample (training dataset) that includes missing values. Alternatively, you can declare integer columns as doubles (float64) whenever these columns may have missing values. See `Handling Integers With Missing Values <https://www.mlflow.org/docs/latest/models.html#handling-integers-with-missing-values>`_ for more details.\"\n"
     ]
    },
    {
     "name": "stdout",
     "output_type": "stream",
     "text": [
      "Training elasticnet model done...\n",
      "---EVALUATION AND LOGGING TO MLFLOW------ elasticnet\n"
     ]
    },
    {
     "name": "stderr",
     "output_type": "stream",
     "text": [
      "2023/07/16 14:51:04 WARNING mlflow.utils.autologging_utils: MLflow autologging encountered a warning: \"c:\\Python311\\Lib\\site-packages\\mlflow\\data\\pandas_dataset.py:116: UserWarning: Hint: Inferred schema contains integer column(s). Integer columns in Python cannot represent missing values. If your input data contains missing values at inference time, it will be encoded as floats and will cause a schema enforcement error. The best way to avoid this problem is to infer the model schema based on a realistic data sample (training dataset) that includes missing values. Alternatively, you can declare integer columns as doubles (float64) whenever these columns may have missing values. See `Handling Integers With Missing Values <https://www.mlflow.org/docs/latest/models.html#handling-integers-with-missing-values>`_ for more details.\"\n",
      "2023/07/16 14:51:06 WARNING mlflow.utils.autologging_utils: MLflow autologging encountered a warning: \"c:\\Python311\\Lib\\site-packages\\mlflow\\data\\pandas_dataset.py:116: UserWarning: Hint: Inferred schema contains integer column(s). Integer columns in Python cannot represent missing values. If your input data contains missing values at inference time, it will be encoded as floats and will cause a schema enforcement error. The best way to avoid this problem is to infer the model schema based on a realistic data sample (training dataset) that includes missing values. Alternatively, you can declare integer columns as doubles (float64) whenever these columns may have missing values. See `Handling Integers With Missing Values <https://www.mlflow.org/docs/latest/models.html#handling-integers-with-missing-values>`_ for more details.\"\n",
      "The frame.append method is deprecated and will be removed from pandas in a future version. Use pandas.concat instead.\n",
      "2023/07/16 14:51:32 WARNING mlflow.utils.autologging_utils: MLflow autologging encountered a warning: \"c:\\Python311\\Lib\\site-packages\\mlflow\\data\\pandas_dataset.py:116: UserWarning: Hint: Inferred schema contains integer column(s). Integer columns in Python cannot represent missing values. If your input data contains missing values at inference time, it will be encoded as floats and will cause a schema enforcement error. The best way to avoid this problem is to infer the model schema based on a realistic data sample (training dataset) that includes missing values. Alternatively, you can declare integer columns as doubles (float64) whenever these columns may have missing values. See `Handling Integers With Missing Values <https://www.mlflow.org/docs/latest/models.html#handling-integers-with-missing-values>`_ for more details.\"\n"
     ]
    },
    {
     "name": "stdout",
     "output_type": "stream",
     "text": [
      "LINEAR------\n"
     ]
    },
    {
     "name": "stderr",
     "output_type": "stream",
     "text": [
      "2023/07/16 14:51:36 WARNING mlflow.utils.autologging_utils: MLflow autologging encountered a warning: \"c:\\Python311\\Lib\\site-packages\\mlflow\\models\\signature.py:144: UserWarning: Hint: Inferred schema contains integer column(s). Integer columns in Python cannot represent missing values. If your input data contains missing values at inference time, it will be encoded as floats and will cause a schema enforcement error. The best way to avoid this problem is to infer the model schema based on a realistic data sample (training dataset) that includes missing values. Alternatively, you can declare integer columns as doubles (float64) whenever these columns may have missing values. See `Handling Integers With Missing Values <https://www.mlflow.org/docs/latest/models.html#handling-integers-with-missing-values>`_ for more details.\"\n",
      "2023/07/16 14:51:54 WARNING mlflow.utils.autologging_utils: MLflow autologging encountered a warning: \"c:\\Python311\\Lib\\site-packages\\mlflow\\data\\pandas_dataset.py:116: UserWarning: Hint: Inferred schema contains integer column(s). Integer columns in Python cannot represent missing values. If your input data contains missing values at inference time, it will be encoded as floats and will cause a schema enforcement error. The best way to avoid this problem is to infer the model schema based on a realistic data sample (training dataset) that includes missing values. Alternatively, you can declare integer columns as doubles (float64) whenever these columns may have missing values. See `Handling Integers With Missing Values <https://www.mlflow.org/docs/latest/models.html#handling-integers-with-missing-values>`_ for more details.\"\n"
     ]
    },
    {
     "name": "stdout",
     "output_type": "stream",
     "text": [
      "Training linear model done...\n",
      "---EVALUATION AND LOGGING TO MLFLOW------ linear\n"
     ]
    },
    {
     "name": "stderr",
     "output_type": "stream",
     "text": [
      "2023/07/16 14:51:56 WARNING mlflow.utils.autologging_utils: MLflow autologging encountered a warning: \"c:\\Python311\\Lib\\site-packages\\mlflow\\data\\pandas_dataset.py:116: UserWarning: Hint: Inferred schema contains integer column(s). Integer columns in Python cannot represent missing values. If your input data contains missing values at inference time, it will be encoded as floats and will cause a schema enforcement error. The best way to avoid this problem is to infer the model schema based on a realistic data sample (training dataset) that includes missing values. Alternatively, you can declare integer columns as doubles (float64) whenever these columns may have missing values. See `Handling Integers With Missing Values <https://www.mlflow.org/docs/latest/models.html#handling-integers-with-missing-values>`_ for more details.\"\n",
      "2023/07/16 14:51:58 WARNING mlflow.utils.autologging_utils: MLflow autologging encountered a warning: \"c:\\Python311\\Lib\\site-packages\\mlflow\\data\\pandas_dataset.py:116: UserWarning: Hint: Inferred schema contains integer column(s). Integer columns in Python cannot represent missing values. If your input data contains missing values at inference time, it will be encoded as floats and will cause a schema enforcement error. The best way to avoid this problem is to infer the model schema based on a realistic data sample (training dataset) that includes missing values. Alternatively, you can declare integer columns as doubles (float64) whenever these columns may have missing values. See `Handling Integers With Missing Values <https://www.mlflow.org/docs/latest/models.html#handling-integers-with-missing-values>`_ for more details.\"\n",
      "The frame.append method is deprecated and will be removed from pandas in a future version. Use pandas.concat instead.\n",
      "2023/07/16 14:52:23 WARNING mlflow.utils.autologging_utils: MLflow autologging encountered a warning: \"c:\\Python311\\Lib\\site-packages\\mlflow\\data\\pandas_dataset.py:116: UserWarning: Hint: Inferred schema contains integer column(s). Integer columns in Python cannot represent missing values. If your input data contains missing values at inference time, it will be encoded as floats and will cause a schema enforcement error. The best way to avoid this problem is to infer the model schema based on a realistic data sample (training dataset) that includes missing values. Alternatively, you can declare integer columns as doubles (float64) whenever these columns may have missing values. See `Handling Integers With Missing Values <https://www.mlflow.org/docs/latest/models.html#handling-integers-with-missing-values>`_ for more details.\"\n"
     ]
    },
    {
     "name": "stdout",
     "output_type": "stream",
     "text": [
      "LASSO------\n"
     ]
    },
    {
     "name": "stderr",
     "output_type": "stream",
     "text": [
      "2023/07/16 14:52:28 WARNING mlflow.utils.autologging_utils: MLflow autologging encountered a warning: \"c:\\Python311\\Lib\\site-packages\\mlflow\\models\\signature.py:144: UserWarning: Hint: Inferred schema contains integer column(s). Integer columns in Python cannot represent missing values. If your input data contains missing values at inference time, it will be encoded as floats and will cause a schema enforcement error. The best way to avoid this problem is to infer the model schema based on a realistic data sample (training dataset) that includes missing values. Alternatively, you can declare integer columns as doubles (float64) whenever these columns may have missing values. See `Handling Integers With Missing Values <https://www.mlflow.org/docs/latest/models.html#handling-integers-with-missing-values>`_ for more details.\"\n",
      "2023/07/16 14:52:46 WARNING mlflow.utils.autologging_utils: MLflow autologging encountered a warning: \"c:\\Python311\\Lib\\site-packages\\mlflow\\data\\pandas_dataset.py:116: UserWarning: Hint: Inferred schema contains integer column(s). Integer columns in Python cannot represent missing values. If your input data contains missing values at inference time, it will be encoded as floats and will cause a schema enforcement error. The best way to avoid this problem is to infer the model schema based on a realistic data sample (training dataset) that includes missing values. Alternatively, you can declare integer columns as doubles (float64) whenever these columns may have missing values. See `Handling Integers With Missing Values <https://www.mlflow.org/docs/latest/models.html#handling-integers-with-missing-values>`_ for more details.\"\n"
     ]
    },
    {
     "name": "stdout",
     "output_type": "stream",
     "text": [
      "Training lasso model done...\n",
      "---EVALUATION AND LOGGING TO MLFLOW------ lasso\n"
     ]
    },
    {
     "name": "stderr",
     "output_type": "stream",
     "text": [
      "2023/07/16 14:52:49 WARNING mlflow.utils.autologging_utils: MLflow autologging encountered a warning: \"c:\\Python311\\Lib\\site-packages\\mlflow\\data\\pandas_dataset.py:116: UserWarning: Hint: Inferred schema contains integer column(s). Integer columns in Python cannot represent missing values. If your input data contains missing values at inference time, it will be encoded as floats and will cause a schema enforcement error. The best way to avoid this problem is to infer the model schema based on a realistic data sample (training dataset) that includes missing values. Alternatively, you can declare integer columns as doubles (float64) whenever these columns may have missing values. See `Handling Integers With Missing Values <https://www.mlflow.org/docs/latest/models.html#handling-integers-with-missing-values>`_ for more details.\"\n",
      "2023/07/16 14:52:51 WARNING mlflow.utils.autologging_utils: MLflow autologging encountered a warning: \"c:\\Python311\\Lib\\site-packages\\mlflow\\data\\pandas_dataset.py:116: UserWarning: Hint: Inferred schema contains integer column(s). Integer columns in Python cannot represent missing values. If your input data contains missing values at inference time, it will be encoded as floats and will cause a schema enforcement error. The best way to avoid this problem is to infer the model schema based on a realistic data sample (training dataset) that includes missing values. Alternatively, you can declare integer columns as doubles (float64) whenever these columns may have missing values. See `Handling Integers With Missing Values <https://www.mlflow.org/docs/latest/models.html#handling-integers-with-missing-values>`_ for more details.\"\n",
      "The frame.append method is deprecated and will be removed from pandas in a future version. Use pandas.concat instead.\n"
     ]
    },
    {
     "name": "stdout",
     "output_type": "stream",
     "text": [
      "BASELINE-RENT------\n",
      "Extrcated rental price per square meter via scraper: 11.21\n",
      "Average rental price per sqm: 11.21\n",
      "Baseline Mae: 285.5564\n",
      "Baseline Mae: 285.5564\n",
      "Baseline MSE: 140135.41872988813\n",
      "Baseline R2 Score: 0.5802888162379594\n",
      "Training baseline-rent model done...\n",
      "---EVALUATION AND LOGGING TO MLFLOW------ baseline-rent\n"
     ]
    },
    {
     "name": "stderr",
     "output_type": "stream",
     "text": [
      "The frame.append method is deprecated and will be removed from pandas in a future version. Use pandas.concat instead.\n"
     ]
    },
    {
     "name": "stdout",
     "output_type": "stream",
     "text": [
      "Done with retraining:             model     mae        mse    r2  mae_test  mse_test  r2_test  \\\n",
      "0            xgb  216.29   91807.94  0.73    141.55  42542.08     0.86   \n",
      "1          ridge  240.77   92518.07  0.72    179.84  60708.98     0.79   \n",
      "2             rf  204.19   88573.62  0.73    141.07  34304.19     0.88   \n",
      "3     elasticnet  241.01   99799.93  0.70    187.53  51435.20     0.83   \n",
      "4         linear  275.89  124804.47  0.63    186.34  76205.55     0.74   \n",
      "5          lasso  244.99   95669.21  0.71    187.91  65708.14     0.78   \n",
      "6  baseline-rent  285.56  140135.42  0.58    237.83  92491.55     0.69   \n",
      "\n",
      "   mae_train  mse_train  r2_train  \n",
      "0      39.59    2734.17      0.99  \n",
      "1     129.29   28652.93      0.92  \n",
      "2      61.46    7247.01      0.98  \n",
      "3     179.20   53210.63      0.86  \n",
      "4     122.39   26955.37      0.93  \n",
      "5     130.03   28868.93      0.92  \n",
      "6        NaN        NaN       NaN  \n",
      "Save results to excel\n",
      "Done with saving results to excel\n",
      "Done with plotting:  Figure({\n",
      "    'data': [{'alignmentgroup': 'True',\n",
      "              'hovertemplate': 'model=%{x}<br>mae=%{marker.color}<extra></extra>',\n",
      "              'legendgroup': '',\n",
      "              'marker': {'color': array([216.29, 240.77, 204.19, 241.01, 275.89, 244.99, 285.56]),\n",
      "                         'coloraxis': 'coloraxis',\n",
      "                         'pattern': {'shape': ''}},\n",
      "              'name': '',\n",
      "              'offsetgroup': '',\n",
      "              'orientation': 'v',\n",
      "              'showlegend': False,\n",
      "              'textposition': 'auto',\n",
      "              'type': 'bar',\n",
      "              'x': array(['xgb', 'ridge', 'rf', 'elasticnet', 'linear', 'lasso', 'baseline-rent'],\n",
      "                         dtype=object),\n",
      "              'xaxis': 'x',\n",
      "              'y': array([216.29, 240.77, 204.19, 241.01, 275.89, 244.99, 285.56]),\n",
      "              'yaxis': 'y'}],\n",
      "    'layout': {'barmode': 'relative',\n",
      "               'coloraxis': {'colorbar': {'title': {'text': 'mae'}},\n",
      "                             'colorscale': [[0.0, 'rgb(0,68,27)'],\n",
      "                                            [0.058823529411764705,\n",
      "                                            'rgb(0,109,44)'], [0.11764705882352941,\n",
      "                                            'rgb(35,139,69)'],\n",
      "                                            [0.17647058823529413,\n",
      "                                            'rgb(65,171,93)'],\n",
      "                                            [0.23529411764705882,\n",
      "                                            'rgb(116,196,118)'],\n",
      "                                            [0.29411764705882354,\n",
      "                                            'rgb(161,217,155)'],\n",
      "                                            [0.35294117647058826,\n",
      "                                            'rgb(199,233,192)'],\n",
      "                                            [0.4117647058823529,\n",
      "                                            'rgb(229,245,224)'],\n",
      "                                            [0.47058823529411764,\n",
      "                                            'rgb(247,252,245)'],\n",
      "                                            [0.5294117647058824,\n",
      "                                            'rgb(255,245,240)'],\n",
      "                                            [0.5882352941176471,\n",
      "                                            'rgb(254,224,210)'],\n",
      "                                            [0.6470588235294118,\n",
      "                                            'rgb(252,187,161)'],\n",
      "                                            [0.7058823529411765,\n",
      "                                            'rgb(252,146,114)'],\n",
      "                                            [0.7647058823529411,\n",
      "                                            'rgb(251,106,74)'],\n",
      "                                            [0.8235294117647058, 'rgb(239,59,44)'],\n",
      "                                            [0.8823529411764706, 'rgb(203,24,29)'],\n",
      "                                            [0.9411764705882353, 'rgb(165,15,21)'],\n",
      "                                            [1.0, 'rgb(103,0,13)']]},\n",
      "               'legend': {'tracegroupgap': 0},\n",
      "               'template': '...',\n",
      "               'title': {'text': 'Modellperformance mit aktuellen Trainingsdaten'},\n",
      "               'xaxis': {'anchor': 'y', 'domain': [0.0, 1.0], 'title': {'text': 'model'}},\n",
      "               'yaxis': {'anchor': 'x', 'domain': [0.0, 1.0], 'title': {'text': 'mae'}}}\n",
      "})\n",
      "Keyboard interruption in main thread... closing server.\n"
     ]
    },
    {
     "data": {
      "text/plain": []
     },
     "execution_count": 2,
     "metadata": {},
     "output_type": "execute_result"
    }
   ],
   "source": [
    "with gr.Blocks() as demo:\n",
    "     with gr.Tab(label=\"Admin\", default=True):\n",
    "        gr.Markdown(\n",
    "            \"\"\"\n",
    "        # Admin-Page\n",
    "        \"\"\"\n",
    "        )\n",
    "        gr.Markdown(\"## Admin page\")\n",
    "        link = \"https://michaelseitz98.github.io/enterprise-ai-project/eda-wue-rent-all.html\"\n",
    "        description = (\n",
    "            \"Explorative Data Analyis for Flats to rent\"\n",
    "        )\n",
    "        html_code = f'<a href=\"{html.escape(link)}\" font-size: 16px;\">{html.escape(description)}</a>'\n",
    "        gr.HTML(html_code)\n",
    "        gr.HTML(\"<hr>\")\n",
    "        gr.Markdown(\"## Retrain\")\n",
    "        gr.Markdown(\"Select the models you want to retrain.\")\n",
    "\n",
    "        with gr.Row():\n",
    "            xgb = gr.Checkbox(label=\"xgb\")\n",
    "            rf = gr.Checkbox(label=\"rf\")\n",
    "            linear = gr.Checkbox(label=\"linear\", value=True)\n",
    "            lasso = gr.Checkbox(label=\"lasso\")\n",
    "            ridge = gr.Checkbox(label=\"ridge\")\n",
    "            elasticnet = gr.Checkbox(label=\"elasticnet\")\n",
    "            baseline = gr.Checkbox(label=\"baseline-rent\", value=True)\n",
    "\n",
    "        model_list = []\n",
    "        if xgb:\n",
    "            model_list.append(\"xgb\")\n",
    "        if rf:\n",
    "            model_list.append(\"rf\")\n",
    "        if lasso:\n",
    "            model_list.append(\"lasso\")\n",
    "        if ridge:\n",
    "            model_list.append(\"ridge\")\n",
    "        if elasticnet:\n",
    "            model_list.append(\"elasticnet\")\n",
    "        if baseline:\n",
    "            model_list.append(\"baseline-rent\")\n",
    "\n",
    "        limit = gr.Slider(label=\"Amount of scraped slides\", value=1, maximum=10)\n",
    "        nachtraining = gr.Button(\"Scrape new data, retrain and evaluate models\")\n",
    "        \n",
    "        df_results = gr.Dataframe(label=\"Results of retraining\")\n",
    "        output_plot = gr.Plot(visible=False)\n",
    "\n",
    "        nachtraining.click(fn=gradio_retrain_with_added_data, inputs=[xgb, ridge, rf, elasticnet, linear, lasso, baseline, limit], outputs=[df_results, output_plot])\n",
    "\n",
    "\n",
    "    with gr.Tab(label=\"Immopreisrechner\"):\n",
    "        gr.Markdown(\n",
    "            \"\"\"\n",
    "        # Geben Sie hier an, welche Merkmale Ihre Immobilie besitzt 🏠\n",
    "        \"\"\"\n",
    "        )\n",
    "        with gr.Row():\n",
    "            feature_zip = gr.Dropdown(\n",
    "                label=\"Postleitzahl\",\n",
    "                choices=[\n",
    "                    \"97070 Würzburg-Altstadt\",\n",
    "                    \"97072 Würzburg-Sanderau\",\n",
    "                    \"97074 Würzburg-Frauenland\",\n",
    "                    \"97076 Würzburg-Lengfeld\",\n",
    "                    \"97078 Würzburg-Lindleinsmühle\",\n",
    "                    \"97080 Würzburg-Dürrbachtal\",\n",
    "                    \"97082 Würzburg-Steinbachtal\",\n",
    "                    \"97084 Würzburg-Heuchelhof\",\n",
    "                    \"97204 Höchberg\",\n",
    "                    \"97209 Veitshöchheim\",\n",
    "                    \"97218 Gerbrunn\",\n",
    "                    \"97222 Rimpar\",\n",
    "                    \"97228 Rottendorf\",\n",
    "                    \"97234 Reichenberg\",\n",
    "                    \"97236 Randersacker\",\n",
    "                    \"97246 Eibelstadt\",\n",
    "                    \"97249 Eisingen\",\n",
    "                    \"97250 Erlabrunn\",\n",
    "                    \"97261 Güntersleben\",\n",
    "                    \"97270 Kist\",\n",
    "                    \"97288 Theilheim\",\n",
    "                    \"97297 Waldbüttelbrunn\",\n",
    "                    \"97299 Zell am Main\",\n",
    "                ],\n",
    "                value=\"97070 Würzburg-Altstadt\",\n",
    "            )\n",
    "        with gr.Row():\n",
    "            feature_squrmeter = gr.Number(label=\"Wohnfläche [qm]\", value=79)\n",
    "        with gr.Row():\n",
    "            feature_rooms = gr.Number(label=\"Anzahl der Zimmer\", value=3)\n",
    "        with gr.Row():\n",
    "            features_altbau = gr.Checkbox(label=\"Altbau (bis 1945)\")\n",
    "            feature_balkon = gr.Checkbox(label=\"Balkon\")\n",
    "            feature_ba = gr.Checkbox(label=\"Barrierefrei\")\n",
    "            feature_dachgeschoss = gr.Checkbox(label=\"Dachgeschoss\")\n",
    "            feature_einbaukueche = gr.Checkbox(label=\"Einbauküche\")\n",
    "            feature_neubau = gr.Checkbox(label=\"Neubau\")\n",
    "            feature_parkett = gr.Checkbox(label=\"Parkett\")\n",
    "            feature_stellplatz = gr.Checkbox(label=\"Stellplatz\")\n",
    "            feature_badwc_getrennt = gr.Checkbox(label=\"Bad/WC getrennt\")\n",
    "            feature_personenaufzug = gr.Checkbox(label=\"Personenaufzug\")\n",
    "            feature_garten = gr.Checkbox(label=\"Garten\")\n",
    "            feature_garage = gr.Checkbox(label=\"Garage\")\n",
    "            feature_renoviert = gr.Checkbox(label=\"Renoviert\")\n",
    "            feature_terrasse = gr.Checkbox(label=\"Terrasse\")\n",
    "            feature_wanne = gr.Checkbox(label=\"Badewanne\")\n",
    "            feature_zentralheizung = gr.Checkbox(label=\"Zentralheizung\")\n",
    "            feature_abstellraum = gr.Checkbox(label=\"Abstellraum\")\n",
    "            feature_fernwaerme = gr.Checkbox(label=\"Fernwärme\")\n",
    "            feature_fussbodenheizung = gr.Checkbox(label=\"Fußbodenheizung\")\n",
    "            feature_gartenmitbenutzung = gr.Checkbox(label=\"Gartenmitbenutzung\")\n",
    "            feature_kellerabteil = gr.Checkbox(label=\"Kellerabteil\")\n",
    "\n",
    "        with gr.Accordion(\"erweiterte Optionen\", open=False):\n",
    "            erklärung = gr.Checkbox(label=\"XGBoost vorhersagen\")\n",
    "\n",
    "        btn = gr.Button(\"Berechne deinen Preis\")\n",
    "        output_html = gr.HTML(label=\"Dein Preis\")\n",
    "        btn.click(\n",
    "            fn=trigger_actions,\n",
    "            inputs=[\n",
    "                feature_squrmeter,\n",
    "                feature_zip,\n",
    "                feature_rooms,\n",
    "                features_altbau,\n",
    "                feature_balkon,\n",
    "                feature_ba,\n",
    "                feature_dachgeschoss,\n",
    "                feature_einbaukueche,\n",
    "                feature_neubau,\n",
    "                feature_parkett,\n",
    "                feature_stellplatz,\n",
    "                feature_badwc_getrennt,\n",
    "                feature_personenaufzug,\n",
    "                feature_garten,\n",
    "                feature_garage,\n",
    "                feature_renoviert,\n",
    "                feature_terrasse,\n",
    "                feature_wanne,\n",
    "                feature_zentralheizung,\n",
    "                feature_abstellraum,\n",
    "                feature_fernwaerme,\n",
    "                feature_fussbodenheizung,\n",
    "                feature_gartenmitbenutzung,\n",
    "                feature_kellerabteil,\n",
    "                erklärung,\n",
    "            ],\n",
    "            outputs=[output_html],\n",
    "        )\n",
    "\n",
    "   \n",
    "demo.queue(concurrency_count=10).launch(debug=True)"
   ]
  },
  {
   "cell_type": "code",
   "execution_count": null,
   "metadata": {},
   "outputs": [],
   "source": [
    "import gradio as gr\n",
    "import time\n",
    "\n",
    "def slowly_reverse(word, progress=gr.Progress()):\n",
    "    progress(0, desc=\"Starting\")\n",
    "    time.sleep(1)\n",
    "    progress(0.5, desc=\"Halfway\")\n",
    "    time.sleep(1)\n",
    "    new_string = \"\"\n",
    "    for letter in progress.tqdm(word, desc=\"Reversing\"):\n",
    "        time.sleep(0.25)\n",
    "        new_string = letter + new_string\n",
    "    return new_string\n",
    "\n",
    "demo = gr.Interface(slowly_reverse, gr.Text(), gr.Text())\n",
    "\n",
    "if __name__ == \"__main__\":\n",
    "    demo.queue(concurrency_count=10).launch()"
   ]
  }
 ],
 "metadata": {
  "kernelspec": {
   "display_name": "Python 3",
   "language": "python",
   "name": "python3"
  },
  "language_info": {
   "codemirror_mode": {
    "name": "ipython",
    "version": 3
   },
   "file_extension": ".py",
   "mimetype": "text/x-python",
   "name": "python",
   "nbconvert_exporter": "python",
   "pygments_lexer": "ipython3",
   "version": "3.11.3"
  },
  "orig_nbformat": 4
 },
 "nbformat": 4,
 "nbformat_minor": 2
}
