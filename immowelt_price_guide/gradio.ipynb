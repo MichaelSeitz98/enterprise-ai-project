{
 "cells": [
  {
   "cell_type": "code",
   "execution_count": 1,
   "metadata": {},
   "outputs": [
    {
     "name": "stderr",
     "output_type": "stream",
     "text": [
      "c:\\Users\\michi\\Anaconda3\\envs\\enterpriseai2\\lib\\site-packages\\numba\\core\\decorators.py:262: NumbaDeprecationWarning: \u001b[1mnumba.generated_jit is deprecated. Please see the documentation at: https://numba.readthedocs.io/en/stable/reference/deprecation.html#deprecation-of-generated-jit for more information and advice on a suitable replacement.\u001b[0m\n",
      "  warnings.warn(msg, NumbaDeprecationWarning)\n",
      "C:\\Users\\michi\\AppData\\Roaming\\Python\\Python38\\site-packages\\visions\\backends\\shared\\nan_handling.py:51: NumbaDeprecationWarning: \u001b[1mThe 'nopython' keyword argument was not supplied to the 'numba.jit' decorator. The implicit default value for this argument is currently False, but it will be changed to True in Numba 0.59.0. See https://numba.readthedocs.io/en/stable/reference/deprecation.html#deprecation-of-object-mode-fall-back-behaviour-when-using-jit for details.\u001b[0m\n",
      "  def hasna(x: np.ndarray) -> bool:\n"
     ]
    }
   ],
   "source": [
    "import gradio as gr\n",
    "import pandas as pd\n",
    "import mlflow\n",
    "import numpy as np\n",
    "import mlflow.pyfunc\n",
    "import xgboost as xgb\n",
    "import mlflow.xgboost\n",
    "import pickle\n",
    "from gradio_functions import *\n",
    "import matplotlib.pyplot as plt\n",
    "import plotly.express as px\n",
    "from model_functions import *\n",
    "import html\n",
    "mlflow.set_tracking_uri(\"http://localhost:5000\")"
   ]
  },
  {
   "cell_type": "code",
   "execution_count": 2,
   "metadata": {},
   "outputs": [
    {
     "name": "stdout",
     "output_type": "stream",
     "text": [
      "Running on local URL:  http://127.0.0.1:7860\n",
      "\n",
      "To create a public link, set `share=True` in `launch()`.\n"
     ]
    },
    {
     "data": {
      "text/html": [
       "<div><iframe src=\"http://127.0.0.1:7860/\" width=\"100%\" height=\"500\" allow=\"autoplay; camera; microphone; clipboard-read; clipboard-write;\" frameborder=\"0\" allowfullscreen></iframe></div>"
      ],
      "text/plain": [
       "<IPython.core.display.HTML object>"
      ]
     },
     "metadata": {},
     "output_type": "display_data"
    },
    {
     "name": "stdout",
     "output_type": "stream",
     "text": [
      "https://www.immowelt.de/liste/wuerzburg/wohnungen/mieten?d=true&r=10&sd=DESC&sf=RELEVANCE&sp=1\n",
      "started\n",
      "Retraining data successfully scraped.\n",
      "Retraining data successfully written to excel under data/retrain_train_data.xslx\n",
      "Done with raw preprocessing.\n",
      "old shape of train_recent (108, 47)\n",
      "Index(['Object_price', 'LivingSpace', 'Rooms', 'ConstructionYear', 'ZipCode',\n",
      "       'EstateType', 'DistributionType', 'abstellraum', 'altbau_(bis_1945)',\n",
      "       'balkon', 'barriefrei', 'dachgeschoss', 'dsl', 'dusche', 'einbaukueche',\n",
      "       'elektro', 'erdgeschoss', 'etagenheizung', 'fenster', 'fern', 'ferne',\n",
      "       'fliesen', 'frei', 'fussbodenheizung', 'gaestewc', 'garten',\n",
      "       'gartennutzung', 'gas', 'gepflegt', 'kelleranteil', 'kunststoff',\n",
      "       'kunststofffenster', 'luftwp', 'neubau', 'offene_kueche', 'parkett',\n",
      "       'pellet', 'personenaufzug', 'reinigung', 'renoviert',\n",
      "       'rollstuhlgerecht', 'sat', 'speisekammer', 'stellplatz',\n",
      "       'teilweise_moebliert', 'teppich', 'terrasse', 'tiefgarage', 'wanne',\n",
      "       'wg_geeignet', 'zentralheizung', 'bad/wc_getrennt', 'garage'],\n",
      "      dtype='object')\n",
      "Used feature set for preprocessing:['Object_price', 'LivingSpace', 'ZipCode', 'Rooms', 'altbau_(bis_1945)', 'balkon', 'barriefrei', 'dachgeschoss', 'einbaukueche', 'neubau', 'parkett', 'stellplatz', 'bad/wc_getrennt', 'personenaufzug', 'garten', 'garage', 'renoviert', 'terrasse', 'wanne', 'zentralheizung', 'abstellraum', 'ferne', 'fussbodenheizung', 'gartennutzung', 'kelleranteil']\n",
      "new shape of train_recent (122, 47)\n",
      "Retraining data successfully added to training data.\n",
      "train_recent shape before dropping na (122, 47)\n",
      "train_recent shape after dropping na (122, 47)\n",
      "!!!--------------------------------------START RETRAINING----------------------------------------------!!!\n"
     ]
    },
    {
     "name": "stderr",
     "output_type": "stream",
     "text": [
      "2023/07/15 19:10:22 INFO mlflow.tracking.fluent: Experiment with name 'retraining_2023-07-15_19-10' does not exist. Creating a new experiment.\n",
      "  0%|          | 0/3 [00:00<?, ?it/s]2023/07/15 19:10:29 WARNING mlflow.utils.autologging_utils: MLflow autologging encountered a warning: \"c:\\Users\\michi\\Anaconda3\\envs\\enterpriseai2\\lib\\site-packages\\mlflow\\data\\pandas_dataset.py:116: UserWarning: Hint: Inferred schema contains integer column(s). Integer columns in Python cannot represent missing values. If your input data contains missing values at inference time, it will be encoded as floats and will cause a schema enforcement error. The best way to avoid this problem is to infer the model schema based on a realistic data sample (training dataset) that includes missing values. Alternatively, you can declare integer columns as doubles (float64) whenever these columns may have missing values. See `Handling Integers With Missing Values <https://www.mlflow.org/docs/latest/models.html#handling-integers-with-missing-values>`_ for more details.\"\n"
     ]
    },
    {
     "name": "stdout",
     "output_type": "stream",
     "text": [
      "ELASTICNET------\n"
     ]
    },
    {
     "name": "stderr",
     "output_type": "stream",
     "text": [
      "2023/07/15 19:10:33 WARNING mlflow.utils.autologging_utils: MLflow autologging encountered a warning: \"c:\\Users\\michi\\Anaconda3\\envs\\enterpriseai2\\lib\\site-packages\\mlflow\\models\\signature.py:144: UserWarning: Hint: Inferred schema contains integer column(s). Integer columns in Python cannot represent missing values. If your input data contains missing values at inference time, it will be encoded as floats and will cause a schema enforcement error. The best way to avoid this problem is to infer the model schema based on a realistic data sample (training dataset) that includes missing values. Alternatively, you can declare integer columns as doubles (float64) whenever these columns may have missing values. See `Handling Integers With Missing Values <https://www.mlflow.org/docs/latest/models.html#handling-integers-with-missing-values>`_ for more details.\"\n",
      "2023/07/15 19:10:39 WARNING mlflow.utils.autologging_utils: MLflow autologging encountered a warning: \"c:\\Users\\michi\\Anaconda3\\envs\\enterpriseai2\\lib\\site-packages\\_distutils_hack\\__init__.py:33: UserWarning: Setuptools is replacing distutils.\"\n",
      "2023/07/15 19:10:53 WARNING mlflow.utils.autologging_utils: MLflow autologging encountered a warning: \"c:\\Users\\michi\\Anaconda3\\envs\\enterpriseai2\\lib\\site-packages\\mlflow\\data\\pandas_dataset.py:116: UserWarning: Hint: Inferred schema contains integer column(s). Integer columns in Python cannot represent missing values. If your input data contains missing values at inference time, it will be encoded as floats and will cause a schema enforcement error. The best way to avoid this problem is to infer the model schema based on a realistic data sample (training dataset) that includes missing values. Alternatively, you can declare integer columns as doubles (float64) whenever these columns may have missing values. See `Handling Integers With Missing Values <https://www.mlflow.org/docs/latest/models.html#handling-integers-with-missing-values>`_ for more details.\"\n"
     ]
    },
    {
     "name": "stdout",
     "output_type": "stream",
     "text": [
      "Training elasticnet model done...\n",
      "---EVALUATION AND LOGGING TO MLFLOW------ elasticnet\n"
     ]
    },
    {
     "name": "stderr",
     "output_type": "stream",
     "text": [
      "2023/07/15 19:10:56 WARNING mlflow.utils.autologging_utils: MLflow autologging encountered a warning: \"c:\\Users\\michi\\Anaconda3\\envs\\enterpriseai2\\lib\\site-packages\\mlflow\\data\\pandas_dataset.py:116: UserWarning: Hint: Inferred schema contains integer column(s). Integer columns in Python cannot represent missing values. If your input data contains missing values at inference time, it will be encoded as floats and will cause a schema enforcement error. The best way to avoid this problem is to infer the model schema based on a realistic data sample (training dataset) that includes missing values. Alternatively, you can declare integer columns as doubles (float64) whenever these columns may have missing values. See `Handling Integers With Missing Values <https://www.mlflow.org/docs/latest/models.html#handling-integers-with-missing-values>`_ for more details.\"\n",
      "2023/07/15 19:10:58 WARNING mlflow.utils.autologging_utils: MLflow autologging encountered a warning: \"c:\\Users\\michi\\Anaconda3\\envs\\enterpriseai2\\lib\\site-packages\\mlflow\\data\\pandas_dataset.py:116: UserWarning: Hint: Inferred schema contains integer column(s). Integer columns in Python cannot represent missing values. If your input data contains missing values at inference time, it will be encoded as floats and will cause a schema enforcement error. The best way to avoid this problem is to infer the model schema based on a realistic data sample (training dataset) that includes missing values. Alternatively, you can declare integer columns as doubles (float64) whenever these columns may have missing values. See `Handling Integers With Missing Values <https://www.mlflow.org/docs/latest/models.html#handling-integers-with-missing-values>`_ for more details.\"\n",
      "The frame.append method is deprecated and will be removed from pandas in a future version. Use pandas.concat instead.\n",
      " 33%|███▎      | 1/3 [00:54<01:48, 54.06s/it]2023/07/15 19:11:23 WARNING mlflow.utils.autologging_utils: MLflow autologging encountered a warning: \"c:\\Users\\michi\\Anaconda3\\envs\\enterpriseai2\\lib\\site-packages\\mlflow\\data\\pandas_dataset.py:116: UserWarning: Hint: Inferred schema contains integer column(s). Integer columns in Python cannot represent missing values. If your input data contains missing values at inference time, it will be encoded as floats and will cause a schema enforcement error. The best way to avoid this problem is to infer the model schema based on a realistic data sample (training dataset) that includes missing values. Alternatively, you can declare integer columns as doubles (float64) whenever these columns may have missing values. See `Handling Integers With Missing Values <https://www.mlflow.org/docs/latest/models.html#handling-integers-with-missing-values>`_ for more details.\"\n"
     ]
    },
    {
     "name": "stdout",
     "output_type": "stream",
     "text": [
      "LINEAR------\n"
     ]
    },
    {
     "name": "stderr",
     "output_type": "stream",
     "text": [
      "2023/07/15 19:11:27 WARNING mlflow.utils.autologging_utils: MLflow autologging encountered a warning: \"c:\\Users\\michi\\Anaconda3\\envs\\enterpriseai2\\lib\\site-packages\\mlflow\\models\\signature.py:144: UserWarning: Hint: Inferred schema contains integer column(s). Integer columns in Python cannot represent missing values. If your input data contains missing values at inference time, it will be encoded as floats and will cause a schema enforcement error. The best way to avoid this problem is to infer the model schema based on a realistic data sample (training dataset) that includes missing values. Alternatively, you can declare integer columns as doubles (float64) whenever these columns may have missing values. See `Handling Integers With Missing Values <https://www.mlflow.org/docs/latest/models.html#handling-integers-with-missing-values>`_ for more details.\"\n",
      "2023/07/15 19:11:46 WARNING mlflow.utils.autologging_utils: MLflow autologging encountered a warning: \"c:\\Users\\michi\\Anaconda3\\envs\\enterpriseai2\\lib\\site-packages\\mlflow\\data\\pandas_dataset.py:116: UserWarning: Hint: Inferred schema contains integer column(s). Integer columns in Python cannot represent missing values. If your input data contains missing values at inference time, it will be encoded as floats and will cause a schema enforcement error. The best way to avoid this problem is to infer the model schema based on a realistic data sample (training dataset) that includes missing values. Alternatively, you can declare integer columns as doubles (float64) whenever these columns may have missing values. See `Handling Integers With Missing Values <https://www.mlflow.org/docs/latest/models.html#handling-integers-with-missing-values>`_ for more details.\"\n"
     ]
    },
    {
     "name": "stdout",
     "output_type": "stream",
     "text": [
      "Training linear model done...\n",
      "---EVALUATION AND LOGGING TO MLFLOW------ linear\n"
     ]
    },
    {
     "name": "stderr",
     "output_type": "stream",
     "text": [
      "2023/07/15 19:11:48 WARNING mlflow.utils.autologging_utils: MLflow autologging encountered a warning: \"c:\\Users\\michi\\Anaconda3\\envs\\enterpriseai2\\lib\\site-packages\\mlflow\\data\\pandas_dataset.py:116: UserWarning: Hint: Inferred schema contains integer column(s). Integer columns in Python cannot represent missing values. If your input data contains missing values at inference time, it will be encoded as floats and will cause a schema enforcement error. The best way to avoid this problem is to infer the model schema based on a realistic data sample (training dataset) that includes missing values. Alternatively, you can declare integer columns as doubles (float64) whenever these columns may have missing values. See `Handling Integers With Missing Values <https://www.mlflow.org/docs/latest/models.html#handling-integers-with-missing-values>`_ for more details.\"\n",
      "2023/07/15 19:11:50 WARNING mlflow.utils.autologging_utils: MLflow autologging encountered a warning: \"c:\\Users\\michi\\Anaconda3\\envs\\enterpriseai2\\lib\\site-packages\\mlflow\\data\\pandas_dataset.py:116: UserWarning: Hint: Inferred schema contains integer column(s). Integer columns in Python cannot represent missing values. If your input data contains missing values at inference time, it will be encoded as floats and will cause a schema enforcement error. The best way to avoid this problem is to infer the model schema based on a realistic data sample (training dataset) that includes missing values. Alternatively, you can declare integer columns as doubles (float64) whenever these columns may have missing values. See `Handling Integers With Missing Values <https://www.mlflow.org/docs/latest/models.html#handling-integers-with-missing-values>`_ for more details.\"\n",
      "The frame.append method is deprecated and will be removed from pandas in a future version. Use pandas.concat instead.\n",
      " 67%|██████▋   | 2/3 [01:46<00:53, 53.16s/it]"
     ]
    },
    {
     "name": "stdout",
     "output_type": "stream",
     "text": [
      "BASELINE-RENT------\n",
      "Extrcated rental price per square meter via scraper: 11.21\n",
      "Average rental price per sqm: 11.21\n",
      "Baseline Mae: 285.5564\n",
      "Baseline Mae: 285.5564\n",
      "Baseline MSE: 140135.41872988813\n",
      "Baseline R2 Score: 0.5802888162379594\n",
      "Training baseline-rent model done...\n",
      "---EVALUATION AND LOGGING TO MLFLOW------ baseline-rent\n"
     ]
    },
    {
     "name": "stderr",
     "output_type": "stream",
     "text": [
      "The frame.append method is deprecated and will be removed from pandas in a future version. Use pandas.concat instead.\n",
      "100%|██████████| 3/3 [02:04<00:00, 41.47s/it]\n"
     ]
    },
    {
     "name": "stdout",
     "output_type": "stream",
     "text": [
      "Done with retraining:             model       mae           mse        r2   mae_test     mse_test  \\\n",
      "0     elasticnet  238.6700   97337.43000  0.710000  194.81000  55753.20000   \n",
      "1         linear  256.1600  120536.99000  0.640000  202.85000  79008.89000   \n",
      "2  baseline-rent  285.5564  140135.41873  0.580289  237.83265  92491.55243   \n",
      "\n",
      "    r2_test  mae_train  mse_train  r2_train  \n",
      "0  0.810000     183.09   53425.27      0.80  \n",
      "1  0.730000     135.97   29663.75      0.89  \n",
      "2  0.686215        NaN        NaN       NaN  \n",
      "Save results to excel\n",
      "Done with saving results to excel\n",
      "Done with plotting:  Figure({\n",
      "    'data': [{'alignmentgroup': 'True',\n",
      "              'hovertemplate': 'model=%{x}<br>mae=%{marker.color}<extra></extra>',\n",
      "              'legendgroup': '',\n",
      "              'marker': {'color': array([238.67  , 256.16  , 285.5564]),\n",
      "                         'coloraxis': 'coloraxis',\n",
      "                         'pattern': {'shape': ''}},\n",
      "              'name': '',\n",
      "              'offsetgroup': '',\n",
      "              'orientation': 'v',\n",
      "              'showlegend': False,\n",
      "              'textposition': 'auto',\n",
      "              'type': 'bar',\n",
      "              'x': array(['elasticnet', 'linear', 'baseline-rent'], dtype=object),\n",
      "              'xaxis': 'x',\n",
      "              'y': array([238.67  , 256.16  , 285.5564]),\n",
      "              'yaxis': 'y'}],\n",
      "    'layout': {'barmode': 'relative',\n",
      "               'coloraxis': {'colorbar': {'title': {'text': 'mae'}},\n",
      "                             'colorscale': [[0.0, 'rgb(0,68,27)'],\n",
      "                                            [0.058823529411764705,\n",
      "                                            'rgb(0,109,44)'], [0.11764705882352941,\n",
      "                                            'rgb(35,139,69)'],\n",
      "                                            [0.17647058823529413,\n",
      "                                            'rgb(65,171,93)'],\n",
      "                                            [0.23529411764705882,\n",
      "                                            'rgb(116,196,118)'],\n",
      "                                            [0.29411764705882354,\n",
      "                                            'rgb(161,217,155)'],\n",
      "                                            [0.35294117647058826,\n",
      "                                            'rgb(199,233,192)'],\n",
      "                                            [0.4117647058823529,\n",
      "                                            'rgb(229,245,224)'],\n",
      "                                            [0.47058823529411764,\n",
      "                                            'rgb(247,252,245)'],\n",
      "                                            [0.5294117647058824,\n",
      "                                            'rgb(255,245,240)'],\n",
      "                                            [0.5882352941176471,\n",
      "                                            'rgb(254,224,210)'],\n",
      "                                            [0.6470588235294118,\n",
      "                                            'rgb(252,187,161)'],\n",
      "                                            [0.7058823529411765,\n",
      "                                            'rgb(252,146,114)'],\n",
      "                                            [0.7647058823529411,\n",
      "                                            'rgb(251,106,74)'],\n",
      "                                            [0.8235294117647058, 'rgb(239,59,44)'],\n",
      "                                            [0.8823529411764706, 'rgb(203,24,29)'],\n",
      "                                            [0.9411764705882353, 'rgb(165,15,21)'],\n",
      "                                            [1.0, 'rgb(103,0,13)']]},\n",
      "               'legend': {'tracegroupgap': 0},\n",
      "               'template': '...',\n",
      "               'title': {'text': 'Modellperformance mit erweitereten Trainingsdaten'},\n",
      "               'xaxis': {'anchor': 'y', 'domain': [0.0, 1.0], 'title': {'text': 'model'}},\n",
      "               'yaxis': {'anchor': 'x', 'domain': [0.0, 1.0], 'title': {'text': 'mae'}}}\n",
      "})\n"
     ]
    }
   ],
   "source": [
    "with gr.Blocks() as demo:\n",
    "    with gr.Tab(label=\"Immopreisrechner\"):\n",
    "        gr.Markdown(\n",
    "            \"\"\"\n",
    "        # Geben Sie hier an, welche Merkmale Ihre Immobilie besitzt 🏠\n",
    "        \"\"\"\n",
    "        )\n",
    "        with gr.Row():\n",
    "            feature_zip = gr.Dropdown(\n",
    "                label=\"Postleitzahl\",\n",
    "                choices=[\n",
    "                    \"97070 Würzburg-Altstadt\",\n",
    "                    \"97072 Würzburg-Sanderau\",\n",
    "                    \"97074 Würzburg-Frauenland\",\n",
    "                    \"97076 Würzburg-Lengfeld\",\n",
    "                    \"97078 Würzburg-Lindleinsmühle\",\n",
    "                    \"97080 Würzburg-Dürrbachtal\",\n",
    "                    \"97082 Würzburg-Steinbachtal\",\n",
    "                    \"97084 Würzburg-Heuchelhof\",\n",
    "                    \"97204 Höchberg\",\n",
    "                    \"97209 Veitshöchheim\",\n",
    "                    \"97218 Gerbrunn\",\n",
    "                    \"97222 Rimpar\",\n",
    "                    \"97228 Rottendorf\",\n",
    "                    \"97234 Reichenberg\",\n",
    "                    \"97236 Randersacker\",\n",
    "                    \"97246 Eibelstadt\",\n",
    "                    \"97249 Eisingen\",\n",
    "                    \"97250 Erlabrunn\",\n",
    "                    \"97261 Güntersleben\",\n",
    "                    \"97270 Kist\",\n",
    "                    \"97288 Theilheim\",\n",
    "                    \"97297 Waldbüttelbrunn\",\n",
    "                    \"97299 Zell am Main\",\n",
    "                ],\n",
    "                value=\"97070 Würzburg-Altstadt\",\n",
    "            )\n",
    "        with gr.Row():\n",
    "            feature_squrmeter = gr.Number(label=\"Wohnfläche [qm]\", value=79)\n",
    "        with gr.Row():\n",
    "            feature_rooms = gr.Number(label=\"Anzahl der Zimmer\", value=3)\n",
    "        with gr.Row():\n",
    "            features_altbau = gr.Checkbox(label=\"Altbau (bis 1945)\")\n",
    "            feature_balkon = gr.Checkbox(label=\"Balkon\")\n",
    "            feature_ba = gr.Checkbox(label=\"Barrierefrei\")\n",
    "            feature_dachgeschoss = gr.Checkbox(label=\"Dachgeschoss\")\n",
    "            feature_einbaukueche = gr.Checkbox(label=\"Einbauküche\")\n",
    "            feature_neubau = gr.Checkbox(label=\"Neubau\")\n",
    "            feature_parkett = gr.Checkbox(label=\"Parkett\")\n",
    "            feature_stellplatz = gr.Checkbox(label=\"Stellplatz\")\n",
    "            feature_badwc_getrennt = gr.Checkbox(label=\"Bad/WC getrennt\")\n",
    "            feature_personenaufzug = gr.Checkbox(label=\"Personenaufzug\")\n",
    "            feature_garten = gr.Checkbox(label=\"Garten\")\n",
    "            feature_garage = gr.Checkbox(label=\"Garage\")\n",
    "            feature_renoviert = gr.Checkbox(label=\"Renoviert\")\n",
    "            feature_terrasse = gr.Checkbox(label=\"Terrasse\")\n",
    "            feature_wanne = gr.Checkbox(label=\"Badewanne\")\n",
    "            feature_zentralheizung = gr.Checkbox(label=\"Zentralheizung\")\n",
    "            feature_abstellraum = gr.Checkbox(label=\"Abstellraum\")\n",
    "            feature_fernwaerme = gr.Checkbox(label=\"Fernwärme\")\n",
    "            feature_fussbodenheitzung = gr.Checkbox(label=\"Fußbodenheizung\")\n",
    "            feature_gartenmitbenutzung = gr.Checkbox(label=\"Gartenmitbenutzung\")\n",
    "            feature_kellerabteil = gr.Checkbox(label=\"Kellerabteil\")\n",
    "\n",
    "        with gr.Accordion(\"erweiterte Optionen\", open=False):\n",
    "            erklärung = gr.Checkbox(label=\"XGBoost vorhersagen\")\n",
    "\n",
    "        btn = gr.Button(\"Berechne deinen Preis\")\n",
    "        output_html = gr.HTML(label=\"Dein Preis\")\n",
    "        btn.click(\n",
    "            fn=trigger_actions,\n",
    "            inputs=[\n",
    "                feature_squrmeter,\n",
    "                feature_zip,\n",
    "                feature_rooms,\n",
    "                features_altbau,\n",
    "                feature_balkon,\n",
    "                feature_ba,\n",
    "                feature_dachgeschoss,\n",
    "                feature_einbaukueche,\n",
    "                feature_neubau,\n",
    "                feature_parkett,\n",
    "                feature_stellplatz,\n",
    "                feature_badwc_getrennt,\n",
    "                feature_personenaufzug,\n",
    "                feature_garten,\n",
    "                feature_garage,\n",
    "                feature_renoviert,\n",
    "                feature_terrasse,\n",
    "                feature_wanne,\n",
    "                feature_zentralheizung,\n",
    "                feature_abstellraum,\n",
    "                feature_fernwaerme,\n",
    "                feature_fussbodenheitzung,\n",
    "                feature_gartenmitbenutzung,\n",
    "                feature_kellerabteil,\n",
    "                erklärung,\n",
    "            ],\n",
    "            # gebe mir den output der funktion in einem number gradio widget aus\n",
    "            outputs=[output_html],\n",
    "        )\n",
    "\n",
    "    with gr.Tab(label=\"Admin\"):\n",
    "        gr.Markdown(\n",
    "            \"\"\"\n",
    "        # Admin-Seite\n",
    "        Hier können Sie Ihre Modelle nachtrainieren und die verschiedenen Modelle vergleichen.\n",
    "        \"\"\"\n",
    "        )\n",
    "        gr.Markdown(\"## Datengrundlage erkunden und verstehen:\")\n",
    "        link = \"https://michaelseitz98.github.io/enterprise-ai-project/eda-wue-rent-all.html\"\n",
    "        description = (\n",
    "            \"Datenanalyse des Ausgangsdatensatz für Würzburger Wohnungen (Miete), EDA\"\n",
    "        )\n",
    "        html_code = f'<a href=\"{html.escape(link)}\" font-size: 16px;\">{html.escape(description)}</a>'\n",
    "        gr.HTML(html_code)\n",
    "        link = (\n",
    "            \"https://michaelseitz98.github.io/enterprise-ai-project/eda-wue-houses.html\"\n",
    "        )\n",
    "        description = \"Jetzt anschauen: Datenanalyse des Ausgangsdatensatz Würzburger Häuser (Kauf), EDA\"\n",
    "        html_code = f'<a href=\"{html.escape(link)}\" font-size: 16px;\">{html.escape(description)}</a>'\n",
    "        gr.HTML(html_code)\n",
    "        gr.HTML(\"<hr>\")\n",
    "\n",
    "        gr.Markdown(\"## Dynamisches Nachtraining\")\n",
    "        gr.Markdown(\"Wählen Sie die Modelle aus, die Sie nachtrainieren möchten und miteinander vergleichen möchten\")\n",
    "\n",
    "        with gr.Row():\n",
    "            xgb = gr.Checkbox(label=\"xgb\")\n",
    "            rf = gr.Checkbox(label=\"rf\")\n",
    "            linear = gr.Checkbox(label=\"linear\", value=True)\n",
    "            lasso = gr.Checkbox(label=\"lasso\")\n",
    "            ridge = gr.Checkbox(label=\"ridge\")\n",
    "            elasticnet = gr.Checkbox(label=\"elasticnet\")\n",
    "            baseline = gr.Checkbox(label=\"baseline-rent\", value=True)\n",
    "\n",
    "        model_list = []\n",
    "        if xgb:\n",
    "            model_list.append(\"xgb\")\n",
    "        if rf:\n",
    "            model_list.append(\"rf\")\n",
    "        if lasso:\n",
    "            model_list.append(\"lasso\")\n",
    "        if ridge:\n",
    "            model_list.append(\"ridge\")\n",
    "        if elasticnet:\n",
    "            model_list.append(\"elasticnet\")\n",
    "        if baseline:\n",
    "            model_list.append(\"baseline-rent\")\n",
    "\n",
    "        limit = gr.Number(label=\"Anzahl der zu scrapenden Seiten \", value=1, maximum=10)\n",
    "\n",
    "        nachtraining = gr.Button(\"Aktuelle Daten Scrapen, Modelle nachtrainieren und evaluieren\")\n",
    "        \n",
    "        df_results = gr.Dataframe(label=\"Ergebnisse Nachtraining\")\n",
    "        output_plot = gr.Plot(visible=False)\n",
    "\n",
    "        nachtraining.click(fn=gradio_retrain_with_added_data, inputs=[xgb, ridge, rf, elasticnet, linear, lasso, baseline, limit], outputs=[df_results, output_plot])\n",
    "\n",
    "demo.queue(concurrency_count=10).launch(debug=True)"
   ]
  },
  {
   "cell_type": "code",
   "execution_count": null,
   "metadata": {},
   "outputs": [],
   "source": [
    "import gradio as gr\n",
    "import time\n",
    "\n",
    "def slowly_reverse(word, progress=gr.Progress()):\n",
    "    progress(0, desc=\"Starting\")\n",
    "    time.sleep(1)\n",
    "    progress(0.5, desc=\"Halfway\")\n",
    "    time.sleep(1)\n",
    "    new_string = \"\"\n",
    "    for letter in progress.tqdm(word, desc=\"Reversing\"):\n",
    "        time.sleep(0.25)\n",
    "        new_string = letter + new_string\n",
    "    return new_string\n",
    "\n",
    "demo = gr.Interface(slowly_reverse, gr.Text(), gr.Text())\n",
    "\n",
    "if __name__ == \"__main__\":\n",
    "    demo.queue(concurrency_count=10).launch()"
   ]
  }
 ],
 "metadata": {
  "kernelspec": {
   "display_name": "Python 3",
   "language": "python",
   "name": "python3"
  },
  "language_info": {
   "codemirror_mode": {
    "name": "ipython",
    "version": 3
   },
   "file_extension": ".py",
   "mimetype": "text/x-python",
   "name": "python",
   "nbconvert_exporter": "python",
   "pygments_lexer": "ipython3",
   "version": "3.11.3"
  },
  "orig_nbformat": 4
 },
 "nbformat": 4,
 "nbformat_minor": 2
}
