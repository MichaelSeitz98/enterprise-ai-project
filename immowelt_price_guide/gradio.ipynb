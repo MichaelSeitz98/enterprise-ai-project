{
 "cells": [
  {
   "cell_type": "code",
   "execution_count": 1,
   "metadata": {},
   "outputs": [],
   "source": [
    "import gradio as gr\n",
    "import pandas as pd\n",
    "import mlflow\n",
    "import numpy as np\n",
    "import mlflow.pyfunc\n",
    "import xgboost as xgb\n",
    "import mlflow.xgboost\n",
    "import pickle\n",
    "from gradio_functions import *\n",
    "import matplotlib.pyplot as plt\n",
    "import plotly.express as px\n"
   ]
  },
  {
   "cell_type": "code",
   "execution_count": 8,
   "metadata": {},
   "outputs": [
    {
     "name": "stdout",
     "output_type": "stream",
     "text": [
      "Running on local URL:  http://127.0.0.1:7860\n",
      "\n",
      "To create a public link, set `share=True` in `launch()`.\n"
     ]
    },
    {
     "data": {
      "text/html": [
       "<div><iframe src=\"http://127.0.0.1:7860/\" width=\"100%\" height=\"500\" allow=\"autoplay; camera; microphone; clipboard-read; clipboard-write;\" frameborder=\"0\" allowfullscreen></iframe></div>"
      ],
      "text/plain": [
       "<IPython.core.display.HTML object>"
      ]
     },
     "metadata": {},
     "output_type": "display_data"
    },
    {
     "name": "stdout",
     "output_type": "stream",
     "text": [
      "Keyboard interruption in main thread... closing server.\n"
     ]
    },
    {
     "data": {
      "text/plain": []
     },
     "execution_count": 8,
     "metadata": {},
     "output_type": "execute_result"
    }
   ],
   "source": [
    "with gr.Blocks() as demo:\n",
    "    with gr.Tab(label='Immopreisrechner'):\n",
    "    \n",
    "        gr.Markdown(\n",
    "        \"\"\"\n",
    "        # Geben Sie hier an, welche Merkmale Ihre Immobilie besitzt 🏠:\n",
    "        \"\"\"\n",
    "        )\n",
    "        with gr.Row():\n",
    "            feature_zip = gr.Dropdown(\n",
    "                label=\"Postleitzahl\",\n",
    "                choices=[\n",
    "                    \"97070 Würzburg-Altstadt\",\n",
    "                    \"97072 Würzburg-Sanderau\",\n",
    "                    \"97074 Würzburg-Frauenland\",\n",
    "                    \"97076 Würzburg-Lengfeld\",\n",
    "                    \"97078 Würzburg-Lindleinsmühle\",\n",
    "                    \"97080 Würzburg-Dürrbachtal\",\n",
    "                    \"97082 Würzburg-Steinbachtal\",\n",
    "                    \"97084 Würzburg-Heuchelhof\",\n",
    "                    \"97204 Höchberg\",\n",
    "                    \"97209 Veitshöchheim\",\n",
    "                    \"97218 Gerbrunn\",\n",
    "                    \"97222 Rimpar\",\n",
    "                    \"97228 Rottendorf\",\n",
    "                    \"97234 Reichenberg\",\n",
    "                    \"97236 Randersacker\",\n",
    "                    \"97246 Eibelstadt\",\n",
    "                    \"97249 Eisingen\",\n",
    "                    \"97250 Erlabrunn\",\n",
    "                    \"97261 Güntersleben\",\n",
    "                    \"97270 Kist\",\n",
    "                    \"97288 Theilheim\",\n",
    "                    \"97297 Waldbüttelbrunn\",\n",
    "                    \"97299 Zell am Main\",\n",
    "                ],\n",
    "                value=\"97070 Würzburg-Altstadt\",\n",
    "            )\n",
    "        with gr.Row():\n",
    "            feature_squrmeter = gr.Number(label=\"Wohnfläche [qm]\", value=79)\n",
    "        with gr.Row():\n",
    "            feature_rooms = gr.Number(label=\"Anzahl der Zimmer\", value=3)\n",
    "        with gr.Row():\n",
    "            features_altbau = gr.Checkbox(label=\"Altbau (bis 1945)\")\n",
    "            feature_balkon = gr.Checkbox(label=\"Balkon\")\n",
    "            feature_ba = gr.Checkbox(label=\"Barrierefrei\")\n",
    "            feature_dachgeschoss = gr.Checkbox(label=\"Dachgeschoss\")\n",
    "            feature_einbaukueche = gr.Checkbox(label=\"Einbauküche\")\n",
    "            feature_neubau = gr.Checkbox(label=\"Neubau\")\n",
    "            feature_parkett = gr.Checkbox(label=\"Parkett\")\n",
    "            feature_stellplatz = gr.Checkbox(label=\"Stellplatz\")\n",
    "            feature_badwc_getrennt = gr.Checkbox(label=\"Bad/WC getrennt\")\n",
    "            feature_personenaufzug = gr.Checkbox(label=\"Personenaufzug\")\n",
    "            feature_garten = gr.Checkbox(label=\"Garten\")\n",
    "            feature_garage = gr.Checkbox(label=\"Garage\")\n",
    "            feature_renoviert = gr.Checkbox(label=\"Renoviert\")\n",
    "            feature_terrasse = gr.Checkbox(label=\"Terrasse\")\n",
    "            feature_wanne = gr.Checkbox(label=\"Badewanne\")\n",
    "            feature_zentralheizung = gr.Checkbox(label=\"Zentralheizung\")\n",
    "            feature_abstellraum = gr.Checkbox(label=\"Abstellraum\")\n",
    "            feature_fernwaerme = gr.Checkbox(label=\"Fernwärme\")\n",
    "            feature_fussbodenheitzung = gr.Checkbox(label=\"Fußbodenheizung\")\n",
    "            feature_gartenmitbenutzung = gr.Checkbox(label=\"Gartenmitbenutzung\")\n",
    "            feature_kellerabteil = gr.Checkbox(label=\"Kellerabteil\")\n",
    "\n",
    "        with gr.Accordion(\"erweiterte Optionen\"):\n",
    "            erklärung = gr.Checkbox(label=\"mit XGBoost vorhersagen\")\n",
    "\n",
    "        btn = gr.Button(\"Berechne deinen Preis\")\n",
    "        output_html = gr.HTML(label=\"Dein Preis\")\n",
    "        btn.click(\n",
    "            fn=trigger_actions,\n",
    "            inputs=[\n",
    "                feature_squrmeter,\n",
    "                feature_zip,\n",
    "                feature_rooms,\n",
    "                features_altbau,\n",
    "                feature_balkon,\n",
    "                feature_ba,\n",
    "                feature_dachgeschoss,\n",
    "                feature_einbaukueche,\n",
    "                feature_neubau,\n",
    "                feature_parkett,\n",
    "                feature_stellplatz,\n",
    "                feature_badwc_getrennt,\n",
    "                feature_personenaufzug,\n",
    "                feature_garten,\n",
    "                feature_garage,\n",
    "                feature_renoviert,\n",
    "                feature_terrasse,\n",
    "                feature_wanne,\n",
    "                feature_zentralheizung,\n",
    "                feature_abstellraum,\n",
    "                feature_fernwaerme,\n",
    "                feature_fussbodenheitzung,\n",
    "                feature_gartenmitbenutzung,\n",
    "                feature_kellerabteil,\n",
    "                erklärung\n",
    "            ],\n",
    "            #gebe mir den output der funktion in einem number gradio widget aus\n",
    "            outputs=[output_html]\n",
    "        )\n",
    "    with gr.Tab(label=\"Erklärung\"):\n",
    "        gr.Markdown(\n",
    "        \"\"\"\n",
    "        # Admin-Seite\n",
    "        ## Hier können Sie Ihre Modelle nachtrainieren und die verschiedenen Modelle vergleichen.\n",
    "        \"\"\"\n",
    "        )\n",
    "        nachtraining = gr.Button('Modelle nachtrainieren und evaluieren')\n",
    "        plot = gr.Plot(visible=False)\n",
    "        nachtraining.click(fn=bar_chart, outputs=[plot])\n",
    "        \n",
    "demo.launch(debug=True)"
   ]
  }
 ],
 "metadata": {
  "kernelspec": {
   "display_name": "Python 3",
   "language": "python",
   "name": "python3"
  },
  "language_info": {
   "codemirror_mode": {
    "name": "ipython",
    "version": 3
   },
   "file_extension": ".py",
   "mimetype": "text/x-python",
   "name": "python",
   "nbconvert_exporter": "python",
   "pygments_lexer": "ipython3",
   "version": "3.11.3"
  },
  "orig_nbformat": 4
 },
 "nbformat": 4,
 "nbformat_minor": 2
}
