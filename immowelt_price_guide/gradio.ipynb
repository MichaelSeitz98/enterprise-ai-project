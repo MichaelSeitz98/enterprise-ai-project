{
 "cells": [
  {
   "cell_type": "code",
   "execution_count": 1,
   "metadata": {},
   "outputs": [],
   "source": [
    "import gradio as gr\n",
    "import pandas as pd\n",
    "import mlflow\n",
    "import numpy as np\n",
    "import mlflow.pyfunc\n",
    "import xgboost as xgb\n",
    "import mlflow.xgboost\n",
    "import pickle\n",
    "from gradio_functions import *\n",
    "import matplotlib.pyplot as plt\n",
    "import plotly.express as px\n"
   ]
  },
  {
   "cell_type": "code",
   "execution_count": 2,
   "metadata": {},
   "outputs": [],
   "source": [
    "df = pd.read_excel(r\"C:\\Users\\mbauer2\\workspace\\Uni\\enterprise-ai-project\\immowelt_price_guide\\results-selected-features-aug.xlsx\")"
   ]
  },
  {
   "cell_type": "code",
   "execution_count": 3,
   "metadata": {},
   "outputs": [
    {
     "data": {
      "text/html": [
       "<div>\n",
       "<style scoped>\n",
       "    .dataframe tbody tr th:only-of-type {\n",
       "        vertical-align: middle;\n",
       "    }\n",
       "\n",
       "    .dataframe tbody tr th {\n",
       "        vertical-align: top;\n",
       "    }\n",
       "\n",
       "    .dataframe thead th {\n",
       "        text-align: right;\n",
       "    }\n",
       "</style>\n",
       "<table border=\"1\" class=\"dataframe\">\n",
       "  <thead>\n",
       "    <tr style=\"text-align: right;\">\n",
       "      <th></th>\n",
       "      <th>tags.mlflow.runName</th>\n",
       "      <th>metrics.mae</th>\n",
       "      <th>metrics.r2</th>\n",
       "      <th>experiment</th>\n",
       "    </tr>\n",
       "  </thead>\n",
       "  <tbody>\n",
       "    <tr>\n",
       "      <th>0</th>\n",
       "      <td>baseline-rent</td>\n",
       "      <td>285.556400</td>\n",
       "      <td>0.580289</td>\n",
       "      <td>wue-rent-selected-features</td>\n",
       "    </tr>\n",
       "    <tr>\n",
       "      <th>1</th>\n",
       "      <td>linear</td>\n",
       "      <td>269.628615</td>\n",
       "      <td>0.639057</td>\n",
       "      <td>wue-rent-selected-features</td>\n",
       "    </tr>\n",
       "    <tr>\n",
       "      <th>2</th>\n",
       "      <td>lasso</td>\n",
       "      <td>239.379006</td>\n",
       "      <td>0.726555</td>\n",
       "      <td>wue-rent-selected-features</td>\n",
       "    </tr>\n",
       "    <tr>\n",
       "      <th>3</th>\n",
       "      <td>ridge</td>\n",
       "      <td>237.547989</td>\n",
       "      <td>0.734597</td>\n",
       "      <td>wue-rent-selected-features</td>\n",
       "    </tr>\n",
       "    <tr>\n",
       "      <th>4</th>\n",
       "      <td>elasticnet</td>\n",
       "      <td>231.958821</td>\n",
       "      <td>0.724565</td>\n",
       "      <td>wue-rent-selected-features</td>\n",
       "    </tr>\n",
       "    <tr>\n",
       "      <th>5</th>\n",
       "      <td>xgb</td>\n",
       "      <td>212.349642</td>\n",
       "      <td>0.732313</td>\n",
       "      <td>wue-rent-selected-features</td>\n",
       "    </tr>\n",
       "    <tr>\n",
       "      <th>6</th>\n",
       "      <td>rf</td>\n",
       "      <td>194.380348</td>\n",
       "      <td>0.745000</td>\n",
       "      <td>wue-rent-selected-features</td>\n",
       "    </tr>\n",
       "  </tbody>\n",
       "</table>\n",
       "</div>"
      ],
      "text/plain": [
       "  tags.mlflow.runName  metrics.mae  metrics.r2                  experiment\n",
       "0       baseline-rent   285.556400    0.580289  wue-rent-selected-features\n",
       "1              linear   269.628615    0.639057  wue-rent-selected-features\n",
       "2               lasso   239.379006    0.726555  wue-rent-selected-features\n",
       "3               ridge   237.547989    0.734597  wue-rent-selected-features\n",
       "4          elasticnet   231.958821    0.724565  wue-rent-selected-features\n",
       "5                 xgb   212.349642    0.732313  wue-rent-selected-features\n",
       "6                  rf   194.380348    0.745000  wue-rent-selected-features"
      ]
     },
     "execution_count": 3,
     "metadata": {},
     "output_type": "execute_result"
    }
   ],
   "source": [
    "df\n"
   ]
  },
  {
   "cell_type": "code",
   "execution_count": 4,
   "metadata": {},
   "outputs": [],
   "source": [
    "plot = px.bar(df, x=\"tags.mlflow.runName\", y=\"metrics.mae\", title=\"Modellperformance\", color=\"tags.mlflow.runName\", color_continuous_scale=px.colors.sequential.Viridis)"
   ]
  },
  {
   "cell_type": "code",
   "execution_count": 5,
   "metadata": {},
   "outputs": [
    {
     "data": {
      "application/vnd.plotly.v1+json": {
       "config": {
        "plotlyServerURL": "https://plot.ly"
       },
       "data": [
        {
         "alignmentgroup": "True",
         "hovertemplate": "tags.mlflow.runName=%{x}<br>metrics.mae=%{y}<extra></extra>",
         "legendgroup": "baseline-rent",
         "marker": {
          "color": "#636efa",
          "pattern": {
           "shape": ""
          }
         },
         "name": "baseline-rent",
         "offsetgroup": "baseline-rent",
         "orientation": "v",
         "showlegend": true,
         "textposition": "auto",
         "type": "bar",
         "x": [
          "baseline-rent"
         ],
         "xaxis": "x",
         "y": [
          285.5564
         ],
         "yaxis": "y"
        },
        {
         "alignmentgroup": "True",
         "hovertemplate": "tags.mlflow.runName=%{x}<br>metrics.mae=%{y}<extra></extra>",
         "legendgroup": "linear",
         "marker": {
          "color": "#EF553B",
          "pattern": {
           "shape": ""
          }
         },
         "name": "linear",
         "offsetgroup": "linear",
         "orientation": "v",
         "showlegend": true,
         "textposition": "auto",
         "type": "bar",
         "x": [
          "linear"
         ],
         "xaxis": "x",
         "y": [
          269.6286147547291
         ],
         "yaxis": "y"
        },
        {
         "alignmentgroup": "True",
         "hovertemplate": "tags.mlflow.runName=%{x}<br>metrics.mae=%{y}<extra></extra>",
         "legendgroup": "lasso",
         "marker": {
          "color": "#00cc96",
          "pattern": {
           "shape": ""
          }
         },
         "name": "lasso",
         "offsetgroup": "lasso",
         "orientation": "v",
         "showlegend": true,
         "textposition": "auto",
         "type": "bar",
         "x": [
          "lasso"
         ],
         "xaxis": "x",
         "y": [
          239.3790058634541
         ],
         "yaxis": "y"
        },
        {
         "alignmentgroup": "True",
         "hovertemplate": "tags.mlflow.runName=%{x}<br>metrics.mae=%{y}<extra></extra>",
         "legendgroup": "ridge",
         "marker": {
          "color": "#ab63fa",
          "pattern": {
           "shape": ""
          }
         },
         "name": "ridge",
         "offsetgroup": "ridge",
         "orientation": "v",
         "showlegend": true,
         "textposition": "auto",
         "type": "bar",
         "x": [
          "ridge"
         ],
         "xaxis": "x",
         "y": [
          237.5479892918289
         ],
         "yaxis": "y"
        },
        {
         "alignmentgroup": "True",
         "hovertemplate": "tags.mlflow.runName=%{x}<br>metrics.mae=%{y}<extra></extra>",
         "legendgroup": "elasticnet",
         "marker": {
          "color": "#FFA15A",
          "pattern": {
           "shape": ""
          }
         },
         "name": "elasticnet",
         "offsetgroup": "elasticnet",
         "orientation": "v",
         "showlegend": true,
         "textposition": "auto",
         "type": "bar",
         "x": [
          "elasticnet"
         ],
         "xaxis": "x",
         "y": [
          231.9588210342386
         ],
         "yaxis": "y"
        },
        {
         "alignmentgroup": "True",
         "hovertemplate": "tags.mlflow.runName=%{x}<br>metrics.mae=%{y}<extra></extra>",
         "legendgroup": "xgb",
         "marker": {
          "color": "#19d3f3",
          "pattern": {
           "shape": ""
          }
         },
         "name": "xgb",
         "offsetgroup": "xgb",
         "orientation": "v",
         "showlegend": true,
         "textposition": "auto",
         "type": "bar",
         "x": [
          "xgb"
         ],
         "xaxis": "x",
         "y": [
          212.3496418818721
         ],
         "yaxis": "y"
        },
        {
         "alignmentgroup": "True",
         "hovertemplate": "tags.mlflow.runName=%{x}<br>metrics.mae=%{y}<extra></extra>",
         "legendgroup": "rf",
         "marker": {
          "color": "#FF6692",
          "pattern": {
           "shape": ""
          }
         },
         "name": "rf",
         "offsetgroup": "rf",
         "orientation": "v",
         "showlegend": true,
         "textposition": "auto",
         "type": "bar",
         "x": [
          "rf"
         ],
         "xaxis": "x",
         "y": [
          194.3803481481482
         ],
         "yaxis": "y"
        }
       ],
       "layout": {
        "barmode": "relative",
        "legend": {
         "title": {
          "text": "tags.mlflow.runName"
         },
         "tracegroupgap": 0
        },
        "template": {
         "data": {
          "bar": [
           {
            "error_x": {
             "color": "#2a3f5f"
            },
            "error_y": {
             "color": "#2a3f5f"
            },
            "marker": {
             "line": {
              "color": "#E5ECF6",
              "width": 0.5
             },
             "pattern": {
              "fillmode": "overlay",
              "size": 10,
              "solidity": 0.2
             }
            },
            "type": "bar"
           }
          ],
          "barpolar": [
           {
            "marker": {
             "line": {
              "color": "#E5ECF6",
              "width": 0.5
             },
             "pattern": {
              "fillmode": "overlay",
              "size": 10,
              "solidity": 0.2
             }
            },
            "type": "barpolar"
           }
          ],
          "carpet": [
           {
            "aaxis": {
             "endlinecolor": "#2a3f5f",
             "gridcolor": "white",
             "linecolor": "white",
             "minorgridcolor": "white",
             "startlinecolor": "#2a3f5f"
            },
            "baxis": {
             "endlinecolor": "#2a3f5f",
             "gridcolor": "white",
             "linecolor": "white",
             "minorgridcolor": "white",
             "startlinecolor": "#2a3f5f"
            },
            "type": "carpet"
           }
          ],
          "choropleth": [
           {
            "colorbar": {
             "outlinewidth": 0,
             "ticks": ""
            },
            "type": "choropleth"
           }
          ],
          "contour": [
           {
            "colorbar": {
             "outlinewidth": 0,
             "ticks": ""
            },
            "colorscale": [
             [
              0,
              "#0d0887"
             ],
             [
              0.1111111111111111,
              "#46039f"
             ],
             [
              0.2222222222222222,
              "#7201a8"
             ],
             [
              0.3333333333333333,
              "#9c179e"
             ],
             [
              0.4444444444444444,
              "#bd3786"
             ],
             [
              0.5555555555555556,
              "#d8576b"
             ],
             [
              0.6666666666666666,
              "#ed7953"
             ],
             [
              0.7777777777777778,
              "#fb9f3a"
             ],
             [
              0.8888888888888888,
              "#fdca26"
             ],
             [
              1,
              "#f0f921"
             ]
            ],
            "type": "contour"
           }
          ],
          "contourcarpet": [
           {
            "colorbar": {
             "outlinewidth": 0,
             "ticks": ""
            },
            "type": "contourcarpet"
           }
          ],
          "heatmap": [
           {
            "colorbar": {
             "outlinewidth": 0,
             "ticks": ""
            },
            "colorscale": [
             [
              0,
              "#0d0887"
             ],
             [
              0.1111111111111111,
              "#46039f"
             ],
             [
              0.2222222222222222,
              "#7201a8"
             ],
             [
              0.3333333333333333,
              "#9c179e"
             ],
             [
              0.4444444444444444,
              "#bd3786"
             ],
             [
              0.5555555555555556,
              "#d8576b"
             ],
             [
              0.6666666666666666,
              "#ed7953"
             ],
             [
              0.7777777777777778,
              "#fb9f3a"
             ],
             [
              0.8888888888888888,
              "#fdca26"
             ],
             [
              1,
              "#f0f921"
             ]
            ],
            "type": "heatmap"
           }
          ],
          "heatmapgl": [
           {
            "colorbar": {
             "outlinewidth": 0,
             "ticks": ""
            },
            "colorscale": [
             [
              0,
              "#0d0887"
             ],
             [
              0.1111111111111111,
              "#46039f"
             ],
             [
              0.2222222222222222,
              "#7201a8"
             ],
             [
              0.3333333333333333,
              "#9c179e"
             ],
             [
              0.4444444444444444,
              "#bd3786"
             ],
             [
              0.5555555555555556,
              "#d8576b"
             ],
             [
              0.6666666666666666,
              "#ed7953"
             ],
             [
              0.7777777777777778,
              "#fb9f3a"
             ],
             [
              0.8888888888888888,
              "#fdca26"
             ],
             [
              1,
              "#f0f921"
             ]
            ],
            "type": "heatmapgl"
           }
          ],
          "histogram": [
           {
            "marker": {
             "pattern": {
              "fillmode": "overlay",
              "size": 10,
              "solidity": 0.2
             }
            },
            "type": "histogram"
           }
          ],
          "histogram2d": [
           {
            "colorbar": {
             "outlinewidth": 0,
             "ticks": ""
            },
            "colorscale": [
             [
              0,
              "#0d0887"
             ],
             [
              0.1111111111111111,
              "#46039f"
             ],
             [
              0.2222222222222222,
              "#7201a8"
             ],
             [
              0.3333333333333333,
              "#9c179e"
             ],
             [
              0.4444444444444444,
              "#bd3786"
             ],
             [
              0.5555555555555556,
              "#d8576b"
             ],
             [
              0.6666666666666666,
              "#ed7953"
             ],
             [
              0.7777777777777778,
              "#fb9f3a"
             ],
             [
              0.8888888888888888,
              "#fdca26"
             ],
             [
              1,
              "#f0f921"
             ]
            ],
            "type": "histogram2d"
           }
          ],
          "histogram2dcontour": [
           {
            "colorbar": {
             "outlinewidth": 0,
             "ticks": ""
            },
            "colorscale": [
             [
              0,
              "#0d0887"
             ],
             [
              0.1111111111111111,
              "#46039f"
             ],
             [
              0.2222222222222222,
              "#7201a8"
             ],
             [
              0.3333333333333333,
              "#9c179e"
             ],
             [
              0.4444444444444444,
              "#bd3786"
             ],
             [
              0.5555555555555556,
              "#d8576b"
             ],
             [
              0.6666666666666666,
              "#ed7953"
             ],
             [
              0.7777777777777778,
              "#fb9f3a"
             ],
             [
              0.8888888888888888,
              "#fdca26"
             ],
             [
              1,
              "#f0f921"
             ]
            ],
            "type": "histogram2dcontour"
           }
          ],
          "mesh3d": [
           {
            "colorbar": {
             "outlinewidth": 0,
             "ticks": ""
            },
            "type": "mesh3d"
           }
          ],
          "parcoords": [
           {
            "line": {
             "colorbar": {
              "outlinewidth": 0,
              "ticks": ""
             }
            },
            "type": "parcoords"
           }
          ],
          "pie": [
           {
            "automargin": true,
            "type": "pie"
           }
          ],
          "scatter": [
           {
            "fillpattern": {
             "fillmode": "overlay",
             "size": 10,
             "solidity": 0.2
            },
            "type": "scatter"
           }
          ],
          "scatter3d": [
           {
            "line": {
             "colorbar": {
              "outlinewidth": 0,
              "ticks": ""
             }
            },
            "marker": {
             "colorbar": {
              "outlinewidth": 0,
              "ticks": ""
             }
            },
            "type": "scatter3d"
           }
          ],
          "scattercarpet": [
           {
            "marker": {
             "colorbar": {
              "outlinewidth": 0,
              "ticks": ""
             }
            },
            "type": "scattercarpet"
           }
          ],
          "scattergeo": [
           {
            "marker": {
             "colorbar": {
              "outlinewidth": 0,
              "ticks": ""
             }
            },
            "type": "scattergeo"
           }
          ],
          "scattergl": [
           {
            "marker": {
             "colorbar": {
              "outlinewidth": 0,
              "ticks": ""
             }
            },
            "type": "scattergl"
           }
          ],
          "scattermapbox": [
           {
            "marker": {
             "colorbar": {
              "outlinewidth": 0,
              "ticks": ""
             }
            },
            "type": "scattermapbox"
           }
          ],
          "scatterpolar": [
           {
            "marker": {
             "colorbar": {
              "outlinewidth": 0,
              "ticks": ""
             }
            },
            "type": "scatterpolar"
           }
          ],
          "scatterpolargl": [
           {
            "marker": {
             "colorbar": {
              "outlinewidth": 0,
              "ticks": ""
             }
            },
            "type": "scatterpolargl"
           }
          ],
          "scatterternary": [
           {
            "marker": {
             "colorbar": {
              "outlinewidth": 0,
              "ticks": ""
             }
            },
            "type": "scatterternary"
           }
          ],
          "surface": [
           {
            "colorbar": {
             "outlinewidth": 0,
             "ticks": ""
            },
            "colorscale": [
             [
              0,
              "#0d0887"
             ],
             [
              0.1111111111111111,
              "#46039f"
             ],
             [
              0.2222222222222222,
              "#7201a8"
             ],
             [
              0.3333333333333333,
              "#9c179e"
             ],
             [
              0.4444444444444444,
              "#bd3786"
             ],
             [
              0.5555555555555556,
              "#d8576b"
             ],
             [
              0.6666666666666666,
              "#ed7953"
             ],
             [
              0.7777777777777778,
              "#fb9f3a"
             ],
             [
              0.8888888888888888,
              "#fdca26"
             ],
             [
              1,
              "#f0f921"
             ]
            ],
            "type": "surface"
           }
          ],
          "table": [
           {
            "cells": {
             "fill": {
              "color": "#EBF0F8"
             },
             "line": {
              "color": "white"
             }
            },
            "header": {
             "fill": {
              "color": "#C8D4E3"
             },
             "line": {
              "color": "white"
             }
            },
            "type": "table"
           }
          ]
         },
         "layout": {
          "annotationdefaults": {
           "arrowcolor": "#2a3f5f",
           "arrowhead": 0,
           "arrowwidth": 1
          },
          "autotypenumbers": "strict",
          "coloraxis": {
           "colorbar": {
            "outlinewidth": 0,
            "ticks": ""
           }
          },
          "colorscale": {
           "diverging": [
            [
             0,
             "#8e0152"
            ],
            [
             0.1,
             "#c51b7d"
            ],
            [
             0.2,
             "#de77ae"
            ],
            [
             0.3,
             "#f1b6da"
            ],
            [
             0.4,
             "#fde0ef"
            ],
            [
             0.5,
             "#f7f7f7"
            ],
            [
             0.6,
             "#e6f5d0"
            ],
            [
             0.7,
             "#b8e186"
            ],
            [
             0.8,
             "#7fbc41"
            ],
            [
             0.9,
             "#4d9221"
            ],
            [
             1,
             "#276419"
            ]
           ],
           "sequential": [
            [
             0,
             "#0d0887"
            ],
            [
             0.1111111111111111,
             "#46039f"
            ],
            [
             0.2222222222222222,
             "#7201a8"
            ],
            [
             0.3333333333333333,
             "#9c179e"
            ],
            [
             0.4444444444444444,
             "#bd3786"
            ],
            [
             0.5555555555555556,
             "#d8576b"
            ],
            [
             0.6666666666666666,
             "#ed7953"
            ],
            [
             0.7777777777777778,
             "#fb9f3a"
            ],
            [
             0.8888888888888888,
             "#fdca26"
            ],
            [
             1,
             "#f0f921"
            ]
           ],
           "sequentialminus": [
            [
             0,
             "#0d0887"
            ],
            [
             0.1111111111111111,
             "#46039f"
            ],
            [
             0.2222222222222222,
             "#7201a8"
            ],
            [
             0.3333333333333333,
             "#9c179e"
            ],
            [
             0.4444444444444444,
             "#bd3786"
            ],
            [
             0.5555555555555556,
             "#d8576b"
            ],
            [
             0.6666666666666666,
             "#ed7953"
            ],
            [
             0.7777777777777778,
             "#fb9f3a"
            ],
            [
             0.8888888888888888,
             "#fdca26"
            ],
            [
             1,
             "#f0f921"
            ]
           ]
          },
          "colorway": [
           "#636efa",
           "#EF553B",
           "#00cc96",
           "#ab63fa",
           "#FFA15A",
           "#19d3f3",
           "#FF6692",
           "#B6E880",
           "#FF97FF",
           "#FECB52"
          ],
          "font": {
           "color": "#2a3f5f"
          },
          "geo": {
           "bgcolor": "white",
           "lakecolor": "white",
           "landcolor": "#E5ECF6",
           "showlakes": true,
           "showland": true,
           "subunitcolor": "white"
          },
          "hoverlabel": {
           "align": "left"
          },
          "hovermode": "closest",
          "mapbox": {
           "style": "light"
          },
          "paper_bgcolor": "white",
          "plot_bgcolor": "#E5ECF6",
          "polar": {
           "angularaxis": {
            "gridcolor": "white",
            "linecolor": "white",
            "ticks": ""
           },
           "bgcolor": "#E5ECF6",
           "radialaxis": {
            "gridcolor": "white",
            "linecolor": "white",
            "ticks": ""
           }
          },
          "scene": {
           "xaxis": {
            "backgroundcolor": "#E5ECF6",
            "gridcolor": "white",
            "gridwidth": 2,
            "linecolor": "white",
            "showbackground": true,
            "ticks": "",
            "zerolinecolor": "white"
           },
           "yaxis": {
            "backgroundcolor": "#E5ECF6",
            "gridcolor": "white",
            "gridwidth": 2,
            "linecolor": "white",
            "showbackground": true,
            "ticks": "",
            "zerolinecolor": "white"
           },
           "zaxis": {
            "backgroundcolor": "#E5ECF6",
            "gridcolor": "white",
            "gridwidth": 2,
            "linecolor": "white",
            "showbackground": true,
            "ticks": "",
            "zerolinecolor": "white"
           }
          },
          "shapedefaults": {
           "line": {
            "color": "#2a3f5f"
           }
          },
          "ternary": {
           "aaxis": {
            "gridcolor": "white",
            "linecolor": "white",
            "ticks": ""
           },
           "baxis": {
            "gridcolor": "white",
            "linecolor": "white",
            "ticks": ""
           },
           "bgcolor": "#E5ECF6",
           "caxis": {
            "gridcolor": "white",
            "linecolor": "white",
            "ticks": ""
           }
          },
          "title": {
           "x": 0.05
          },
          "xaxis": {
           "automargin": true,
           "gridcolor": "white",
           "linecolor": "white",
           "ticks": "",
           "title": {
            "standoff": 15
           },
           "zerolinecolor": "white",
           "zerolinewidth": 2
          },
          "yaxis": {
           "automargin": true,
           "gridcolor": "white",
           "linecolor": "white",
           "ticks": "",
           "title": {
            "standoff": 15
           },
           "zerolinecolor": "white",
           "zerolinewidth": 2
          }
         }
        },
        "title": {
         "text": "Modellperformance"
        },
        "xaxis": {
         "anchor": "y",
         "categoryarray": [
          "baseline-rent",
          "linear",
          "lasso",
          "ridge",
          "elasticnet",
          "xgb",
          "rf"
         ],
         "categoryorder": "array",
         "domain": [
          0,
          1
         ],
         "title": {
          "text": "tags.mlflow.runName"
         }
        },
        "yaxis": {
         "anchor": "x",
         "domain": [
          0,
          1
         ],
         "title": {
          "text": "metrics.mae"
         }
        }
       }
      }
     },
     "metadata": {},
     "output_type": "display_data"
    }
   ],
   "source": [
    "plot"
   ]
  },
  {
   "cell_type": "code",
   "execution_count": 6,
   "metadata": {},
   "outputs": [],
   "source": [
    "# import matplotlib.pyplot as plt\n",
    "# def bar_chart():\n",
    "#     models = df['tags.mlflow.runName']\n",
    "#     mae_values = df['metrics.mae']\n",
    "#     plt.bar(models, mae_values)\n",
    "#     plt.xlabel('Modelle')\n",
    "#     plt.ylabel('MAE')\n",
    "#     plt.title('Vergleich der Modelle anhand von MAE')\n",
    "#     plt.xticks(rotation=45)\n",
    "#     plt.show()"
   ]
  },
  {
   "cell_type": "code",
   "execution_count": 7,
   "metadata": {},
   "outputs": [
    {
     "data": {
      "text/plain": [
       "{'value': Figure({\n",
       "     'data': [{'alignmentgroup': 'True',\n",
       "               'hovertemplate': 'tags.mlflow.runName=%{x}<br>metrics.mae=%{y}<extra></extra>',\n",
       "               'legendgroup': 'baseline-rent',\n",
       "               'marker': {'color': '#636efa', 'pattern': {'shape': ''}},\n",
       "               'name': 'baseline-rent',\n",
       "               'offsetgroup': 'baseline-rent',\n",
       "               'orientation': 'v',\n",
       "               'showlegend': True,\n",
       "               'textposition': 'auto',\n",
       "               'type': 'bar',\n",
       "               'x': array(['baseline-rent'], dtype=object),\n",
       "               'xaxis': 'x',\n",
       "               'y': array([285.5564]),\n",
       "               'yaxis': 'y'},\n",
       "              {'alignmentgroup': 'True',\n",
       "               'hovertemplate': 'tags.mlflow.runName=%{x}<br>metrics.mae=%{y}<extra></extra>',\n",
       "               'legendgroup': 'linear',\n",
       "               'marker': {'color': '#EF553B', 'pattern': {'shape': ''}},\n",
       "               'name': 'linear',\n",
       "               'offsetgroup': 'linear',\n",
       "               'orientation': 'v',\n",
       "               'showlegend': True,\n",
       "               'textposition': 'auto',\n",
       "               'type': 'bar',\n",
       "               'x': array(['linear'], dtype=object),\n",
       "               'xaxis': 'x',\n",
       "               'y': array([269.62861475]),\n",
       "               'yaxis': 'y'},\n",
       "              {'alignmentgroup': 'True',\n",
       "               'hovertemplate': 'tags.mlflow.runName=%{x}<br>metrics.mae=%{y}<extra></extra>',\n",
       "               'legendgroup': 'lasso',\n",
       "               'marker': {'color': '#00cc96', 'pattern': {'shape': ''}},\n",
       "               'name': 'lasso',\n",
       "               'offsetgroup': 'lasso',\n",
       "               'orientation': 'v',\n",
       "               'showlegend': True,\n",
       "               'textposition': 'auto',\n",
       "               'type': 'bar',\n",
       "               'x': array(['lasso'], dtype=object),\n",
       "               'xaxis': 'x',\n",
       "               'y': array([239.37900586]),\n",
       "               'yaxis': 'y'},\n",
       "              {'alignmentgroup': 'True',\n",
       "               'hovertemplate': 'tags.mlflow.runName=%{x}<br>metrics.mae=%{y}<extra></extra>',\n",
       "               'legendgroup': 'ridge',\n",
       "               'marker': {'color': '#ab63fa', 'pattern': {'shape': ''}},\n",
       "               'name': 'ridge',\n",
       "               'offsetgroup': 'ridge',\n",
       "               'orientation': 'v',\n",
       "               'showlegend': True,\n",
       "               'textposition': 'auto',\n",
       "               'type': 'bar',\n",
       "               'x': array(['ridge'], dtype=object),\n",
       "               'xaxis': 'x',\n",
       "               'y': array([237.54798929]),\n",
       "               'yaxis': 'y'},\n",
       "              {'alignmentgroup': 'True',\n",
       "               'hovertemplate': 'tags.mlflow.runName=%{x}<br>metrics.mae=%{y}<extra></extra>',\n",
       "               'legendgroup': 'elasticnet',\n",
       "               'marker': {'color': '#FFA15A', 'pattern': {'shape': ''}},\n",
       "               'name': 'elasticnet',\n",
       "               'offsetgroup': 'elasticnet',\n",
       "               'orientation': 'v',\n",
       "               'showlegend': True,\n",
       "               'textposition': 'auto',\n",
       "               'type': 'bar',\n",
       "               'x': array(['elasticnet'], dtype=object),\n",
       "               'xaxis': 'x',\n",
       "               'y': array([231.95882103]),\n",
       "               'yaxis': 'y'},\n",
       "              {'alignmentgroup': 'True',\n",
       "               'hovertemplate': 'tags.mlflow.runName=%{x}<br>metrics.mae=%{y}<extra></extra>',\n",
       "               'legendgroup': 'xgb',\n",
       "               'marker': {'color': '#19d3f3', 'pattern': {'shape': ''}},\n",
       "               'name': 'xgb',\n",
       "               'offsetgroup': 'xgb',\n",
       "               'orientation': 'v',\n",
       "               'showlegend': True,\n",
       "               'textposition': 'auto',\n",
       "               'type': 'bar',\n",
       "               'x': array(['xgb'], dtype=object),\n",
       "               'xaxis': 'x',\n",
       "               'y': array([212.34964188]),\n",
       "               'yaxis': 'y'},\n",
       "              {'alignmentgroup': 'True',\n",
       "               'hovertemplate': 'tags.mlflow.runName=%{x}<br>metrics.mae=%{y}<extra></extra>',\n",
       "               'legendgroup': 'rf',\n",
       "               'marker': {'color': '#FF6692', 'pattern': {'shape': ''}},\n",
       "               'name': 'rf',\n",
       "               'offsetgroup': 'rf',\n",
       "               'orientation': 'v',\n",
       "               'showlegend': True,\n",
       "               'textposition': 'auto',\n",
       "               'type': 'bar',\n",
       "               'x': array(['rf'], dtype=object),\n",
       "               'xaxis': 'x',\n",
       "               'y': array([194.38034815]),\n",
       "               'yaxis': 'y'}],\n",
       "     'layout': {'barmode': 'relative',\n",
       "                'legend': {'title': {'text': 'tags.mlflow.runName'}, 'tracegroupgap': 0},\n",
       "                'template': '...',\n",
       "                'title': {'text': 'Modellperformance'},\n",
       "                'xaxis': {'anchor': 'y',\n",
       "                          'categoryarray': [baseline-rent, linear, lasso, ridge,\n",
       "                                            elasticnet, xgb, rf],\n",
       "                          'categoryorder': 'array',\n",
       "                          'domain': [0.0, 1.0],\n",
       "                          'title': {'text': 'tags.mlflow.runName'}},\n",
       "                'yaxis': {'anchor': 'x', 'domain': [0.0, 1.0], 'title': {'text': 'metrics.mae'}}}\n",
       " }),\n",
       " 'visible': True,\n",
       " '__type__': 'generic_update'}"
      ]
     },
     "execution_count": 7,
     "metadata": {},
     "output_type": "execute_result"
    }
   ],
   "source": [
    "bar_chart()"
   ]
  },
  {
   "cell_type": "code",
   "execution_count": 8,
   "metadata": {},
   "outputs": [
    {
     "name": "stdout",
     "output_type": "stream",
     "text": [
      "Running on local URL:  http://127.0.0.1:7860\n",
      "\n",
      "To create a public link, set `share=True` in `launch()`.\n"
     ]
    },
    {
     "data": {
      "text/html": [
       "<div><iframe src=\"http://127.0.0.1:7860/\" width=\"100%\" height=\"500\" allow=\"autoplay; camera; microphone; clipboard-read; clipboard-write;\" frameborder=\"0\" allowfullscreen></iframe></div>"
      ],
      "text/plain": [
       "<IPython.core.display.HTML object>"
      ]
     },
     "metadata": {},
     "output_type": "display_data"
    }
   ],
   "source": [
    "with gr.Blocks() as demo:\n",
    "    with gr.Tab(label='Immopreisrechner'):\n",
    "    \n",
    "        gr.Markdown(\n",
    "        \"\"\"\n",
    "        # Geben Sie hier an, welche Merkmale Ihre Immobilie besitzt 🏠:\n",
    "        \"\"\"\n",
    "        )\n",
    "        with gr.Row():\n",
    "            feature_zip = gr.Dropdown(\n",
    "                label=\"Postleitzahl\",\n",
    "                choices=[\n",
    "                    \"97070 Würzburg-Altstadt\",\n",
    "                    \"97072 Würzburg-Sanderau\",\n",
    "                    \"97074 Würzburg-Frauenland\",\n",
    "                    \"97076 Würzburg-Lengfeld\",\n",
    "                    \"97078 Würzburg-Lindleinsmühle\",\n",
    "                    \"97080 Würzburg-Dürrbachtal\",\n",
    "                    \"97082 Würzburg-Steinbachtal\",\n",
    "                    \"97084 Würzburg-Heuchelhof\",\n",
    "                    \"97204 Höchberg\",\n",
    "                    \"97209 Veitshöchheim\",\n",
    "                    \"97218 Gerbrunn\",\n",
    "                    \"97222 Rimpar\",\n",
    "                    \"97228 Rottendorf\",\n",
    "                    \"97234 Reichenberg\",\n",
    "                    \"97236 Randersacker\",\n",
    "                    \"97246 Eibelstadt\",\n",
    "                    \"97249 Eisingen\",\n",
    "                    \"97250 Erlabrunn\",\n",
    "                    \"97261 Güntersleben\",\n",
    "                    \"97270 Kist\",\n",
    "                    \"97288 Theilheim\",\n",
    "                    \"97297 Waldbüttelbrunn\",\n",
    "                    \"97299 Zell am Main\",\n",
    "                ],\n",
    "                value=\"97070 Würzburg-Altstadt\",\n",
    "            )\n",
    "        with gr.Row():\n",
    "            feature_squrmeter = gr.Number(label=\"Wohnfläche [qm]\", value=79)\n",
    "        with gr.Row():\n",
    "            feature_rooms = gr.Number(label=\"Anzahl der Zimmer\", value=3)\n",
    "        with gr.Row():\n",
    "            features_altbau = gr.Checkbox(label=\"Altbau (bis 1945)\")\n",
    "            feature_balkon = gr.Checkbox(label=\"Balkon\")\n",
    "            feature_ba = gr.Checkbox(label=\"Barrierefrei\")\n",
    "            feature_dachgeschoss = gr.Checkbox(label=\"Dachgeschoss\")\n",
    "            feature_einbaukueche = gr.Checkbox(label=\"Einbauküche\")\n",
    "            feature_neubau = gr.Checkbox(label=\"Neubau\")\n",
    "            feature_parkett = gr.Checkbox(label=\"Parkett\")\n",
    "            feature_stellplatz = gr.Checkbox(label=\"Stellplatz\")\n",
    "            feature_badwc_getrennt = gr.Checkbox(label=\"Bad/WC getrennt\")\n",
    "            feature_personenaufzug = gr.Checkbox(label=\"Personenaufzug\")\n",
    "            feature_garten = gr.Checkbox(label=\"Garten\")\n",
    "            feature_garage = gr.Checkbox(label=\"Garage\")\n",
    "            feature_renoviert = gr.Checkbox(label=\"Renoviert\")\n",
    "            feature_terrasse = gr.Checkbox(label=\"Terrasse\")\n",
    "            feature_wanne = gr.Checkbox(label=\"Badewanne\")\n",
    "            feature_zentralheizung = gr.Checkbox(label=\"Zentralheizung\")\n",
    "            feature_abstellraum = gr.Checkbox(label=\"Abstellraum\")\n",
    "            feature_fernwaerme = gr.Checkbox(label=\"Fernwärme\")\n",
    "            feature_fussbodenheitzung = gr.Checkbox(label=\"Fußbodenheizung\")\n",
    "            feature_gartenmitbenutzung = gr.Checkbox(label=\"Gartenmitbenutzung\")\n",
    "            feature_kellerabteil = gr.Checkbox(label=\"Kellerabteil\")\n",
    "\n",
    "        with gr.Accordion(\"erweiterte Optionen\"):\n",
    "            erklärung = gr.Checkbox(label=\"mit XGBoost vorhersagen\")\n",
    "\n",
    "        btn = gr.Button(\"Berechne deinen Preis\")\n",
    "        output_html = gr.HTML(label=\"Dein Preis\")\n",
    "        btn.click(\n",
    "            fn=trigger_actions,\n",
    "            inputs=[\n",
    "                feature_squrmeter,\n",
    "                feature_zip,\n",
    "                feature_rooms,\n",
    "                features_altbau,\n",
    "                feature_balkon,\n",
    "                feature_ba,\n",
    "                feature_dachgeschoss,\n",
    "                feature_einbaukueche,\n",
    "                feature_neubau,\n",
    "                feature_parkett,\n",
    "                feature_stellplatz,\n",
    "                feature_badwc_getrennt,\n",
    "                feature_personenaufzug,\n",
    "                feature_garten,\n",
    "                feature_garage,\n",
    "                feature_renoviert,\n",
    "                feature_terrasse,\n",
    "                feature_wanne,\n",
    "                feature_zentralheizung,\n",
    "                feature_abstellraum,\n",
    "                feature_fernwaerme,\n",
    "                feature_fussbodenheitzung,\n",
    "                feature_gartenmitbenutzung,\n",
    "                feature_kellerabteil,\n",
    "                erklärung\n",
    "            ],\n",
    "            #gebe mir den output der funktion in einem number gradio widget aus\n",
    "            outputs=[output_html]\n",
    "        )\n",
    "    with gr.Tab(label=\"Erklärung\"):\n",
    "        gr.Markdown(\n",
    "        \"\"\"\n",
    "        # Admin-Seite\n",
    "        ## Hier können Sie Ihre Modelle nachtrainieren und die verschiedenen Modelle vergleichen.\n",
    "        \"\"\"\n",
    "        )\n",
    "        nachtraining = gr.Button('Modelle nachtrainieren und evaluieren')\n",
    "        plot = gr.Plot(visible=False)\n",
    "        nachtraining.click(fn=bar_chart, outputs=[plot])\n",
    "        \n",
    "demo.launch(debug=True)"
   ]
  }
 ],
 "metadata": {
  "kernelspec": {
   "display_name": "Python 3",
   "language": "python",
   "name": "python3"
  },
  "language_info": {
   "codemirror_mode": {
    "name": "ipython",
    "version": 3
   },
   "file_extension": ".py",
   "mimetype": "text/x-python",
   "name": "python",
   "nbconvert_exporter": "python",
   "pygments_lexer": "ipython3",
   "version": "3.11.3"
  },
  "orig_nbformat": 4
 },
 "nbformat": 4,
 "nbformat_minor": 2
}
