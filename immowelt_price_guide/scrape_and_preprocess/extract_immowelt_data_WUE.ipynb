{
 "cells": [
  {
   "cell_type": "code",
   "execution_count": 3,
   "metadata": {},
   "outputs": [],
   "source": [
    "from enum import Enum\n",
    "from preprocessing_methods import *\n",
    "from apify_scrap import *\n",
    "\n",
    "class ImmoWeltUrls(Enum):\n",
    "    BUY_FLATS_WUE_10km = \"https://www.immowelt.de/liste/wuerzburg/wohnungen/kaufen?d=true&r=10&sd=DESC&sf=RELEVANCE&sp=1\"\n",
    "    # add price range to avoid \"consulting\"-offers without named price \n",
    "    BUY_HOUSES_WUE_10km = \"https://www.immowelt.de/liste/wuerzburg/haeuser/kaufen?d=true&pma=10000000&pmi=10&r=10&sd=DESC&sf=RELEVANCE&sp=1\"\n",
    "    RENT_FLATS_WUE_10km = \"https://www.immowelt.de/liste/wuerzburg/wohnungen/mieten?d=true&r=10&sd=DESC&sf=RELEVANCE&sp=1\"\n",
    "    RENT_HOUSES_WUE_10km = \"https://www.immowelt.de/liste/wuerzburg/haeuser/mieten?d=true&r=10&sd=DESC&sf=RELEVANCE&sp=1\"\n"
   ]
  },
  {
   "cell_type": "code",
   "execution_count": 4,
   "metadata": {},
   "outputs": [],
   "source": [
    "# get data \n",
    "# flats_to_buy = get_dataset_items(ImmoWeltUrls.BUY_FLATS_WUE_10km.value, 50)\n",
    "houses_to_buy = get_dataset_items(ImmoWeltUrls.BUY_HOUSES_WUE_10km.value, 50)\n",
    "#flats_to_rent = get_dataset_items(ImmoWeltUrls.RENT_FLATS_WUE_10km.value, 50)\n",
    "# houses_to_rent = get_dataset_items(ImmoWeltUrls.RENT_HOUSES_WUE_10km.value, 50)"
   ]
  },
  {
   "cell_type": "code",
   "execution_count": 5,
   "metadata": {},
   "outputs": [],
   "source": [
    "# write data to excel for each category\n",
    "\n",
    "# write_data_to_excel(flats_to_buy, \"flats_to_buy.xlsx\")\n",
    "write_data_to_excel(houses_to_buy, \"data/houses_to_buy_wue_1207.xlsx\")\n",
    "# write_data_to_excel(flats_to_rent, \"data/flats_to_rent_wue_1207.xlsx\")\n",
    "# write_data_to_excel(houses_to_rent, \"houses_to_rent.xlsx\")"
   ]
  },
  {
   "cell_type": "code",
   "execution_count": 6,
   "metadata": {},
   "outputs": [
    {
     "name": "stdout",
     "output_type": "stream",
     "text": [
      "Index(['Object_price', 'LivingSpace', 'Rooms', 'ConstructionYear', 'ZipCode',\n",
      "       'EstateType', 'DistributionType', 'abrissobjekt', 'abstellraum',\n",
      "       'alarmanlage', 'als_ferienimmobilie_geeignet', 'altbau_(bis_1945)',\n",
      "       'aluminiumfenster', 'bad/wc_getrennt', 'balkon', 'barriefrei', 'bidet',\n",
      "       'carport', 'dach_ausbauf\\u00e4hig', 'dach_ausgebaut',\n",
      "       'denkmalgeschuetzt', 'dielen', 'dsl', 'dusche', 'einbauk\\u00fcche',\n",
      "       'elektro', 'erstbezug', 'estrich', 'etagenheizung', 'fenster', 'fern',\n",
      "       'ferne', 'fertighaus', 'fliesen', 'fluessiggas', 'frei',\n",
      "       'fu\\u00dfbodenheizung', 'gaestewc', 'garage', 'garten', 'gartennutzung',\n",
      "       'gas', 'gepflegt', 'granit', 'haustiere_erlaubt', 'holz', 'holzfenster',\n",
      "       'kable_sat_tv', 'kamera', 'kamin', 'kapitalanlage', 'kfw55',\n",
      "       'kunststoff', 'kunststofffenster', 'laminat', 'linoleum', 'loggia',\n",
      "       'luftwp', 'massivhaus', 'moebliert', 'neubau', 'neuwertig',\n",
      "       'nicht_unterkellert', 'oel', 'ofenheizung', 'offene_k\\u00fcche',\n",
      "       'parkett', 'pellet', 'personenaufzug', 'projektiert', 'provisionsfrei',\n",
      "       'renoviert', 'renovierungsbed\\u00fcrftig', 'rollstuhlgerecht', 'sat',\n",
      "       'sauna', 'speisekammer', 'stein', 'stellplatz', 'swimmingpool',\n",
      "       'teil_saniert', 'teilweise_m\\u00f6bliert', 'teppich', 'terrasse',\n",
      "       'tiefgarage', 'unterkellert', 'vermietet', 'vollerschlossen', 'wanne',\n",
      "       'wasch_trockenraum', 'wg_geeignet', 'wintergarten', 'zentralheizung'],\n",
      "      dtype='object')\n"
     ]
    }
   ],
   "source": [
    "# create preprocessed xlsx\n",
    "flats_to_rent_wue = pd.read_excel(\"data/houses_to_buy_wue_1207.xlsx\")\n",
    "flats_to_rent_wue_preprocessed = preprocess_data(flats_to_rent_wue)\n",
    "\n",
    "print (flats_to_rent_wue_preprocessed.columns)\n",
    "flats_to_rent_wue_preprocessed.to_excel(\"data/houses_to_buy_wue_preprocessed_1207.xlsx\")"
   ]
  }
 ],
 "metadata": {
  "kernelspec": {
   "display_name": "py38",
   "language": "python",
   "name": "python3"
  },
  "language_info": {
   "codemirror_mode": {
    "name": "ipython",
    "version": 3
   },
   "file_extension": ".py",
   "mimetype": "text/x-python",
   "name": "python",
   "nbconvert_exporter": "python",
   "pygments_lexer": "ipython3",
   "version": "3.8.16"
  },
  "orig_nbformat": 4
 },
 "nbformat": 4,
 "nbformat_minor": 2
}
