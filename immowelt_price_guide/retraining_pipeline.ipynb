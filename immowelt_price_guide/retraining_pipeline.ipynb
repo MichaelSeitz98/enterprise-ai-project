{
 "cells": [
  {
   "cell_type": "code",
   "execution_count": 1,
   "metadata": {},
   "outputs": [
    {
     "name": "stderr",
     "output_type": "stream",
     "text": [
      "c:\\Users\\michi\\Anaconda3\\envs\\enterpriseai2\\lib\\site-packages\\numba\\core\\decorators.py:262: NumbaDeprecationWarning: \u001b[1mnumba.generated_jit is deprecated. Please see the documentation at: https://numba.readthedocs.io/en/stable/reference/deprecation.html#deprecation-of-generated-jit for more information and advice on a suitable replacement.\u001b[0m\n",
      "  warnings.warn(msg, NumbaDeprecationWarning)\n",
      "C:\\Users\\michi\\AppData\\Roaming\\Python\\Python38\\site-packages\\visions\\backends\\shared\\nan_handling.py:51: NumbaDeprecationWarning: \u001b[1mThe 'nopython' keyword argument was not supplied to the 'numba.jit' decorator. The implicit default value for this argument is currently False, but it will be changed to True in Numba 0.59.0. See https://numba.readthedocs.io/en/stable/reference/deprecation.html#deprecation-of-object-mode-fall-back-behaviour-when-using-jit for details.\u001b[0m\n",
      "  def hasna(x: np.ndarray) -> bool:\n"
     ]
    }
   ],
   "source": [
    "from enum import Enum\n",
    "from preprocessing_methods import *\n",
    "from apify_scrap import *\n",
    "from datetime import datetime\n",
    "import mlflow\n",
    "import pickle\n",
    "from model_functions import *\n",
    "from sklearn.metrics import mean_absolute_error, mean_squared_error, r2_score"
   ]
  },
  {
   "cell_type": "code",
   "execution_count": 3,
   "metadata": {},
   "outputs": [],
   "source": [
    "class ImmoWeltUrls(Enum):\n",
    "    BUY_FLATS_WUE_10km = \"https://www.immowelt.de/liste/wuerzburg/wohnungen/kaufen?d=true&r=10&sd=DESC&sf=RELEVANCE&sp=1\"\n",
    "    # add price range to avoid \"consulting\"-offers without named price\n",
    "    BUY_HOUSES_WUE_10km = \"https://www.immowelt.de/liste/wuerzburg/haeuser/kaufen?d=true&pma=10000000&pmi=10&r=10&sd=DESC&sf=RELEVANCE&sp=1\"\n",
    "    RENT_FLATS_WUE_10km = \"https://www.immowelt.de/liste/wuerzburg/wohnungen/mieten?d=true&r=10&sd=DESC&sf=RELEVANCE&sp=1\"\n",
    "    RENT_HOUSES_WUE_10km = \"https://www.immowelt.de/liste/wuerzburg/haeuser/mieten?d=true&r=10&sd=DESC&sf=RELEVANCE&sp=1\"\n",
    "\n",
    "\n",
    "def getFeatureSetApp():\n",
    "    return [\n",
    "        \"Object_price\",\n",
    "        \"LivingSpace\",\n",
    "        \"ZipCode\",\n",
    "        \"Rooms\",\n",
    "        \"altbau_(bis_1945)\",\n",
    "        \"balkon\",\n",
    "        \"barriefrei\",\n",
    "        \"dachgeschoss\",\n",
    "        \"einbaukueche\",\n",
    "        \"neubau\",\n",
    "        \"parkett\",\n",
    "        \"stellplatz\",\n",
    "        \"bad/wc_getrennt\",\n",
    "        \"personenaufzug\",\n",
    "        \"garten\",\n",
    "        \"garage\",\n",
    "        \"renoviert\",\n",
    "        \"terrasse\",\n",
    "        \"wanne\",\n",
    "        \"zentralheizung\",\n",
    "        \"abstellraum\",\n",
    "        \"ferne\",\n",
    "        \"fussbodenheizung\",\n",
    "        \"gartennutzung\",\n",
    "        \"kelleranteil\",\n",
    "    ]"
   ]
  },
  {
   "cell_type": "markdown",
   "metadata": {},
   "source": [
    "# Dataset  issues"
   ]
  },
  {
   "cell_type": "code",
   "execution_count": null,
   "metadata": {},
   "outputs": [],
   "source": [
    "def evaluate_model(model, X_train_recent, y_train_recent, X_val, y_val, X_test, y_test):\n",
    "    pred_train = model.predict(X_train_recent)\n",
    "    preds = model.predict(X_val)\n",
    "    pred_test = model.predict(X_test)\n",
    "\n",
    "    mae_train = mean_absolute_error(y_train_recent, pred_train)\n",
    "    mse_train = mean_squared_error(y_train_recent, pred_train)\n",
    "    r2_train = r2_score(y_train_recent, pred_train)\n",
    "\n",
    "    mae_test = mean_absolute_error(y_test, pred_test)\n",
    "    mse_test = mean_squared_error(y_test, pred_test)\n",
    "    r2_test = r2_score(y_test, pred_test)\n",
    "\n",
    "    mae_val = mean_absolute_error(y_val, preds)\n",
    "    mse_val = mean_squared_error(y_val, preds)\n",
    "    r2_val = r2_score(y_val, preds)\n",
    "\n",
    "    mlflow.log_metric(\"mae_test\", mae_test)\n",
    "    mlflow.log_metric(\"mse_test\", mse_test)\n",
    "    mlflow.log_metric(\"r2_test\", r2_test)\n",
    "    mlflow.log_metric(\"mae_train\", mae_train)\n",
    "    mlflow.log_metric(\"r2_train\", mae_train)\n",
    "    mlflow.log_metric(\"mse_train\", mae_train)\n",
    "    mlflow.log_metric(\"mae\", mae_val)\n",
    "    mlflow.log_metric(\"mse\", mse_val)\n",
    "    mlflow.log_metric(\"r2\", r2_val)\n",
    "    return (\n",
    "        mae_val,\n",
    "        mse_val,\n",
    "        r2_val,\n",
    "        mae_test,\n",
    "        mse_test,\n",
    "        r2_test,\n",
    "        mae_train,\n",
    "        mse_train,\n",
    "        r2_train,\n",
    "    )"
   ]
  },
  {
   "cell_type": "markdown",
   "metadata": {},
   "source": [
    "# Pipeline\n"
   ]
  },
  {
   "cell_type": "code",
   "execution_count": null,
   "metadata": {},
   "outputs": [],
   "source": [
    "def decode_col_names(df):\n",
    "    df.columns = [\n",
    "        re.sub(r\"\\\\u([0-9a-fA-F]{4})\", lambda m: chr(int(m.group(1), 16)), col)\n",
    "        for col in df.columns\n",
    "    ]\n",
    "    df.columns = [\n",
    "        col.replace(\"ö\", \"oe\").replace(\"ä\", \"ae\").replace(\"ü\", \"ue\").replace(\"ß\", \"ss\")\n",
    "        for col in df.columns\n",
    "    ]\n",
    "    return df"
   ]
  },
  {
   "cell_type": "code",
   "execution_count": 70,
   "metadata": {},
   "outputs": [
    {
     "name": "stdout",
     "output_type": "stream",
     "text": [
      "old shape of train_recent (108, 47)\n",
      "Index(['Object_price', 'LivingSpace', 'Rooms', 'ConstructionYear', 'ZipCode',\n",
      "       'EstateType', 'DistributionType', 'abstellraum', 'altbau_(bis_1945)',\n",
      "       'balkon', 'barriefrei', 'dachgeschoss', 'dsl', 'dusche', 'einbaukueche',\n",
      "       'elektro', 'erdgeschoss', 'etagenheizung', 'fenster', 'fern', 'ferne',\n",
      "       'fliesen', 'frei', 'fussbodenheizung', 'gaestewc', 'garten',\n",
      "       'gartennutzung', 'gas', 'haustiere_erlaubt', 'kelleranteil',\n",
      "       'kunststoff', 'kunststofffenster', 'luftwp', 'neubau', 'offene_kueche',\n",
      "       'parkett', 'pellet', 'personenaufzug', 'reinigung', 'renoviert',\n",
      "       'rollstuhlgerecht', 'sat', 'speisekammer', 'stellplatz', 'terrasse',\n",
      "       'tiefgarage', 'wanne', 'wg_geeignet', 'zentralheizung',\n",
      "       'bad/wc_getrennt', 'garage'],\n",
      "      dtype='object')\n",
      "Used feature set for preprocessing:['Object_price', 'LivingSpace', 'ZipCode', 'Rooms', 'altbau_(bis_1945)', 'balkon', 'barriefrei', 'dachgeschoss', 'einbaukueche', 'neubau', 'parkett', 'stellplatz', 'bad/wc_getrennt', 'personenaufzug', 'garten', 'garage', 'renoviert', 'terrasse', 'wanne', 'zentralheizung', 'abstellraum', 'ferne', 'fussbodenheizung', 'gartennutzung', 'kelleranteil']\n",
      "new shape of train_recent (123, 47)\n",
      "Retraining data successfully added to training data.\n",
      "train_recent shape before dropping na (123, 47)\n",
      "train_recent shape after dropping na (123, 47)\n",
      "!!!--------------------------------------START RETRAINING----------------------------------------------!!!\n"
     ]
    },
    {
     "name": "stderr",
     "output_type": "stream",
     "text": [
      "2023/07/15 02:43:29 INFO mlflow.tracking.fluent: Experiment with name 'retraining_2023-07-15_02-43' does not exist. Creating a new experiment.\n"
     ]
    },
    {
     "name": "stdout",
     "output_type": "stream",
     "text": [
      "BASELINE-RENT------\n",
      "Extrcated rental price per square meter via scraper: 11.21\n",
      "Average rental price per sqm: 11.21\n",
      "Baseline Mae: 285.5564\n",
      "Baseline Mae: 285.5564\n",
      "Baseline MSE: 140135.41872988813\n",
      "Baseline R2 Score: 0.5802888162379594\n",
      "Training baseline-rent model done...\n",
      "---EVALUATION AND LOGGING TO MLFLOW------ baseline-rent\n"
     ]
    },
    {
     "name": "stderr",
     "output_type": "stream",
     "text": [
      "The frame.append method is deprecated and will be removed from pandas in a future version. Use pandas.concat instead.\n"
     ]
    },
    {
     "name": "stdout",
     "output_type": "stream",
     "text": [
      "XGB------\n",
      "train(123, 46)\n",
      "val:(27, 46)\n",
      "y_train:(123,)\n",
      "y_val:(27, 1)\n",
      "[0]\tvalidation_0-rmse:971.79233\tvalidation_0-mae:844.04006\n",
      "[1]\tvalidation_0-rmse:741.80679\tvalidation_0-mae:616.53053\n",
      "[2]\tvalidation_0-rmse:590.51839\tvalidation_0-mae:459.64535\n",
      "[3]\tvalidation_0-rmse:482.86501\tvalidation_0-mae:364.35498\n",
      "[4]\tvalidation_0-rmse:405.46137\tvalidation_0-mae:291.21950\n",
      "[5]\tvalidation_0-rmse:356.93320\tvalidation_0-mae:265.17385\n",
      "[6]\tvalidation_0-rmse:327.89818\tvalidation_0-mae:248.62334\n",
      "[7]\tvalidation_0-rmse:315.76786\tvalidation_0-mae:236.71356\n",
      "[8]\tvalidation_0-rmse:311.67944\tvalidation_0-mae:232.02247\n",
      "[9]\tvalidation_0-rmse:307.30974\tvalidation_0-mae:230.36590\n",
      "[10]\tvalidation_0-rmse:306.81361\tvalidation_0-mae:230.02015\n",
      "[11]\tvalidation_0-rmse:303.29897\tvalidation_0-mae:229.02983\n",
      "[12]\tvalidation_0-rmse:306.02268\tvalidation_0-mae:230.24911\n",
      "[13]\tvalidation_0-rmse:304.06716\tvalidation_0-mae:228.05274\n",
      "[14]\tvalidation_0-rmse:303.88006\tvalidation_0-mae:226.29853\n",
      "[15]\tvalidation_0-rmse:303.30321\tvalidation_0-mae:224.41033\n",
      "[16]\tvalidation_0-rmse:303.32481\tvalidation_0-mae:224.87923\n",
      "[17]\tvalidation_0-rmse:304.53547\tvalidation_0-mae:226.60350\n",
      "[18]\tvalidation_0-rmse:304.02639\tvalidation_0-mae:227.29939\n",
      "[19]\tvalidation_0-rmse:303.57904\tvalidation_0-mae:226.56385\n",
      "[20]\tvalidation_0-rmse:302.81443\tvalidation_0-mae:227.10838\n",
      "[21]\tvalidation_0-rmse:304.87189\tvalidation_0-mae:228.52153\n",
      "[22]\tvalidation_0-rmse:304.82136\tvalidation_0-mae:228.90005\n",
      "[23]\tvalidation_0-rmse:304.11722\tvalidation_0-mae:227.58748\n",
      "[24]\tvalidation_0-rmse:304.54092\tvalidation_0-mae:227.88678\n",
      "[25]\tvalidation_0-rmse:305.19413\tvalidation_0-mae:228.27870\n",
      "[26]\tvalidation_0-rmse:304.83263\tvalidation_0-mae:228.32525\n",
      "[27]\tvalidation_0-rmse:304.63150\tvalidation_0-mae:227.53724\n",
      "[28]\tvalidation_0-rmse:304.42902\tvalidation_0-mae:227.40015\n",
      "[29]\tvalidation_0-rmse:304.86657\tvalidation_0-mae:227.11383\n",
      "[30]\tvalidation_0-rmse:304.90001\tvalidation_0-mae:226.85475\n",
      "[31]\tvalidation_0-rmse:305.73172\tvalidation_0-mae:227.33725\n",
      "[32]\tvalidation_0-rmse:305.94348\tvalidation_0-mae:227.28416\n",
      "[33]\tvalidation_0-rmse:305.74129\tvalidation_0-mae:227.07495\n",
      "[34]\tvalidation_0-rmse:305.82868\tvalidation_0-mae:226.98213\n",
      "[35]\tvalidation_0-rmse:306.15469\tvalidation_0-mae:227.15309\n",
      "[36]\tvalidation_0-rmse:305.67392\tvalidation_0-mae:226.32688\n",
      "[37]\tvalidation_0-rmse:305.75879\tvalidation_0-mae:226.30363\n",
      "[38]\tvalidation_0-rmse:305.70050\tvalidation_0-mae:226.14785\n",
      "[39]\tvalidation_0-rmse:305.88465\tvalidation_0-mae:226.30032\n",
      "[40]\tvalidation_0-rmse:305.69038\tvalidation_0-mae:226.14905\n",
      "[41]\tvalidation_0-rmse:305.90613\tvalidation_0-mae:226.13881\n",
      "[42]\tvalidation_0-rmse:306.14903\tvalidation_0-mae:226.20899\n",
      "[43]\tvalidation_0-rmse:305.98399\tvalidation_0-mae:225.90540\n",
      "[44]\tvalidation_0-rmse:305.75527\tvalidation_0-mae:225.77864\n",
      "[45]\tvalidation_0-rmse:305.56617\tvalidation_0-mae:225.55291\n"
     ]
    },
    {
     "name": "stderr",
     "output_type": "stream",
     "text": [
      "2023/07/15 02:44:07 WARNING mlflow.utils.autologging_utils: MLflow autologging encountered a warning: \"c:\\Users\\michi\\Anaconda3\\envs\\enterpriseai2\\lib\\site-packages\\mlflow\\models\\signature.py:144: UserWarning: Hint: Inferred schema contains integer column(s). Integer columns in Python cannot represent missing values. If your input data contains missing values at inference time, it will be encoded as floats and will cause a schema enforcement error. The best way to avoid this problem is to infer the model schema based on a realistic data sample (training dataset) that includes missing values. Alternatively, you can declare integer columns as doubles (float64) whenever these columns may have missing values. See `Handling Integers With Missing Values <https://www.mlflow.org/docs/latest/models.html#handling-integers-with-missing-values>`_ for more details.\"\n",
      "2023/07/15 02:44:25 WARNING mlflow.utils.autologging_utils: MLflow autologging encountered a warning: \"c:\\Users\\michi\\Anaconda3\\envs\\enterpriseai2\\lib\\site-packages\\mlflow\\data\\pandas_dataset.py:116: UserWarning: Hint: Inferred schema contains integer column(s). Integer columns in Python cannot represent missing values. If your input data contains missing values at inference time, it will be encoded as floats and will cause a schema enforcement error. The best way to avoid this problem is to infer the model schema based on a realistic data sample (training dataset) that includes missing values. Alternatively, you can declare integer columns as doubles (float64) whenever these columns may have missing values. See `Handling Integers With Missing Values <https://www.mlflow.org/docs/latest/models.html#handling-integers-with-missing-values>`_ for more details.\"\n"
     ]
    },
    {
     "name": "stdout",
     "output_type": "stream",
     "text": [
      "Training xgb model done...\n",
      "---EVALUATION AND LOGGING TO MLFLOW------ xgb\n"
     ]
    },
    {
     "name": "stderr",
     "output_type": "stream",
     "text": [
      "2023/07/15 02:44:27 WARNING mlflow.utils.autologging_utils: MLflow autologging encountered a warning: \"c:\\Users\\michi\\Anaconda3\\envs\\enterpriseai2\\lib\\site-packages\\mlflow\\data\\pandas_dataset.py:116: UserWarning: Hint: Inferred schema contains integer column(s). Integer columns in Python cannot represent missing values. If your input data contains missing values at inference time, it will be encoded as floats and will cause a schema enforcement error. The best way to avoid this problem is to infer the model schema based on a realistic data sample (training dataset) that includes missing values. Alternatively, you can declare integer columns as doubles (float64) whenever these columns may have missing values. See `Handling Integers With Missing Values <https://www.mlflow.org/docs/latest/models.html#handling-integers-with-missing-values>`_ for more details.\"\n",
      "2023/07/15 02:44:29 WARNING mlflow.utils.autologging_utils: MLflow autologging encountered a warning: \"c:\\Users\\michi\\Anaconda3\\envs\\enterpriseai2\\lib\\site-packages\\mlflow\\data\\pandas_dataset.py:116: UserWarning: Hint: Inferred schema contains integer column(s). Integer columns in Python cannot represent missing values. If your input data contains missing values at inference time, it will be encoded as floats and will cause a schema enforcement error. The best way to avoid this problem is to infer the model schema based on a realistic data sample (training dataset) that includes missing values. Alternatively, you can declare integer columns as doubles (float64) whenever these columns may have missing values. See `Handling Integers With Missing Values <https://www.mlflow.org/docs/latest/models.html#handling-integers-with-missing-values>`_ for more details.\"\n",
      "The frame.append method is deprecated and will be removed from pandas in a future version. Use pandas.concat instead.\n",
      "2023/07/15 02:44:55 WARNING mlflow.utils.autologging_utils: MLflow autologging encountered a warning: \"c:\\Users\\michi\\Anaconda3\\envs\\enterpriseai2\\lib\\site-packages\\mlflow\\data\\pandas_dataset.py:116: UserWarning: Hint: Inferred schema contains integer column(s). Integer columns in Python cannot represent missing values. If your input data contains missing values at inference time, it will be encoded as floats and will cause a schema enforcement error. The best way to avoid this problem is to infer the model schema based on a realistic data sample (training dataset) that includes missing values. Alternatively, you can declare integer columns as doubles (float64) whenever these columns may have missing values. See `Handling Integers With Missing Values <https://www.mlflow.org/docs/latest/models.html#handling-integers-with-missing-values>`_ for more details.\"\n"
     ]
    },
    {
     "name": "stdout",
     "output_type": "stream",
     "text": [
      "RIDGE------\n"
     ]
    },
    {
     "name": "stderr",
     "output_type": "stream",
     "text": [
      "2023/07/15 02:44:59 WARNING mlflow.utils.autologging_utils: MLflow autologging encountered a warning: \"c:\\Users\\michi\\Anaconda3\\envs\\enterpriseai2\\lib\\site-packages\\mlflow\\models\\signature.py:144: UserWarning: Hint: Inferred schema contains integer column(s). Integer columns in Python cannot represent missing values. If your input data contains missing values at inference time, it will be encoded as floats and will cause a schema enforcement error. The best way to avoid this problem is to infer the model schema based on a realistic data sample (training dataset) that includes missing values. Alternatively, you can declare integer columns as doubles (float64) whenever these columns may have missing values. See `Handling Integers With Missing Values <https://www.mlflow.org/docs/latest/models.html#handling-integers-with-missing-values>`_ for more details.\"\n",
      "2023/07/15 02:45:18 WARNING mlflow.utils.autologging_utils: MLflow autologging encountered a warning: \"c:\\Users\\michi\\Anaconda3\\envs\\enterpriseai2\\lib\\site-packages\\mlflow\\data\\pandas_dataset.py:116: UserWarning: Hint: Inferred schema contains integer column(s). Integer columns in Python cannot represent missing values. If your input data contains missing values at inference time, it will be encoded as floats and will cause a schema enforcement error. The best way to avoid this problem is to infer the model schema based on a realistic data sample (training dataset) that includes missing values. Alternatively, you can declare integer columns as doubles (float64) whenever these columns may have missing values. See `Handling Integers With Missing Values <https://www.mlflow.org/docs/latest/models.html#handling-integers-with-missing-values>`_ for more details.\"\n"
     ]
    },
    {
     "name": "stdout",
     "output_type": "stream",
     "text": [
      "Training ridge model done...\n",
      "---EVALUATION AND LOGGING TO MLFLOW------ ridge\n"
     ]
    },
    {
     "name": "stderr",
     "output_type": "stream",
     "text": [
      "2023/07/15 02:45:20 WARNING mlflow.utils.autologging_utils: MLflow autologging encountered a warning: \"c:\\Users\\michi\\Anaconda3\\envs\\enterpriseai2\\lib\\site-packages\\mlflow\\data\\pandas_dataset.py:116: UserWarning: Hint: Inferred schema contains integer column(s). Integer columns in Python cannot represent missing values. If your input data contains missing values at inference time, it will be encoded as floats and will cause a schema enforcement error. The best way to avoid this problem is to infer the model schema based on a realistic data sample (training dataset) that includes missing values. Alternatively, you can declare integer columns as doubles (float64) whenever these columns may have missing values. See `Handling Integers With Missing Values <https://www.mlflow.org/docs/latest/models.html#handling-integers-with-missing-values>`_ for more details.\"\n",
      "2023/07/15 02:45:22 WARNING mlflow.utils.autologging_utils: MLflow autologging encountered a warning: \"c:\\Users\\michi\\Anaconda3\\envs\\enterpriseai2\\lib\\site-packages\\mlflow\\data\\pandas_dataset.py:116: UserWarning: Hint: Inferred schema contains integer column(s). Integer columns in Python cannot represent missing values. If your input data contains missing values at inference time, it will be encoded as floats and will cause a schema enforcement error. The best way to avoid this problem is to infer the model schema based on a realistic data sample (training dataset) that includes missing values. Alternatively, you can declare integer columns as doubles (float64) whenever these columns may have missing values. See `Handling Integers With Missing Values <https://www.mlflow.org/docs/latest/models.html#handling-integers-with-missing-values>`_ for more details.\"\n",
      "The frame.append method is deprecated and will be removed from pandas in a future version. Use pandas.concat instead.\n",
      "2023/07/15 02:45:47 WARNING mlflow.utils.autologging_utils: MLflow autologging encountered a warning: \"c:\\Users\\michi\\Anaconda3\\envs\\enterpriseai2\\lib\\site-packages\\mlflow\\data\\pandas_dataset.py:116: UserWarning: Hint: Inferred schema contains integer column(s). Integer columns in Python cannot represent missing values. If your input data contains missing values at inference time, it will be encoded as floats and will cause a schema enforcement error. The best way to avoid this problem is to infer the model schema based on a realistic data sample (training dataset) that includes missing values. Alternatively, you can declare integer columns as doubles (float64) whenever these columns may have missing values. See `Handling Integers With Missing Values <https://www.mlflow.org/docs/latest/models.html#handling-integers-with-missing-values>`_ for more details.\"\n"
     ]
    },
    {
     "name": "stdout",
     "output_type": "stream",
     "text": [
      "RF------\n"
     ]
    },
    {
     "name": "stderr",
     "output_type": "stream",
     "text": [
      "2023/07/15 02:45:52 WARNING mlflow.utils.autologging_utils: MLflow autologging encountered a warning: \"c:\\Users\\michi\\Anaconda3\\envs\\enterpriseai2\\lib\\site-packages\\mlflow\\models\\signature.py:144: UserWarning: Hint: Inferred schema contains integer column(s). Integer columns in Python cannot represent missing values. If your input data contains missing values at inference time, it will be encoded as floats and will cause a schema enforcement error. The best way to avoid this problem is to infer the model schema based on a realistic data sample (training dataset) that includes missing values. Alternatively, you can declare integer columns as doubles (float64) whenever these columns may have missing values. See `Handling Integers With Missing Values <https://www.mlflow.org/docs/latest/models.html#handling-integers-with-missing-values>`_ for more details.\"\n",
      "2023/07/15 02:46:11 WARNING mlflow.utils.autologging_utils: MLflow autologging encountered a warning: \"c:\\Users\\michi\\Anaconda3\\envs\\enterpriseai2\\lib\\site-packages\\mlflow\\data\\pandas_dataset.py:116: UserWarning: Hint: Inferred schema contains integer column(s). Integer columns in Python cannot represent missing values. If your input data contains missing values at inference time, it will be encoded as floats and will cause a schema enforcement error. The best way to avoid this problem is to infer the model schema based on a realistic data sample (training dataset) that includes missing values. Alternatively, you can declare integer columns as doubles (float64) whenever these columns may have missing values. See `Handling Integers With Missing Values <https://www.mlflow.org/docs/latest/models.html#handling-integers-with-missing-values>`_ for more details.\"\n"
     ]
    },
    {
     "name": "stdout",
     "output_type": "stream",
     "text": [
      "Training rf model done...\n",
      "---EVALUATION AND LOGGING TO MLFLOW------ rf\n"
     ]
    },
    {
     "name": "stderr",
     "output_type": "stream",
     "text": [
      "2023/07/15 02:46:13 WARNING mlflow.utils.autologging_utils: MLflow autologging encountered a warning: \"c:\\Users\\michi\\Anaconda3\\envs\\enterpriseai2\\lib\\site-packages\\mlflow\\data\\pandas_dataset.py:116: UserWarning: Hint: Inferred schema contains integer column(s). Integer columns in Python cannot represent missing values. If your input data contains missing values at inference time, it will be encoded as floats and will cause a schema enforcement error. The best way to avoid this problem is to infer the model schema based on a realistic data sample (training dataset) that includes missing values. Alternatively, you can declare integer columns as doubles (float64) whenever these columns may have missing values. See `Handling Integers With Missing Values <https://www.mlflow.org/docs/latest/models.html#handling-integers-with-missing-values>`_ for more details.\"\n",
      "2023/07/15 02:46:15 WARNING mlflow.utils.autologging_utils: MLflow autologging encountered a warning: \"c:\\Users\\michi\\Anaconda3\\envs\\enterpriseai2\\lib\\site-packages\\mlflow\\data\\pandas_dataset.py:116: UserWarning: Hint: Inferred schema contains integer column(s). Integer columns in Python cannot represent missing values. If your input data contains missing values at inference time, it will be encoded as floats and will cause a schema enforcement error. The best way to avoid this problem is to infer the model schema based on a realistic data sample (training dataset) that includes missing values. Alternatively, you can declare integer columns as doubles (float64) whenever these columns may have missing values. See `Handling Integers With Missing Values <https://www.mlflow.org/docs/latest/models.html#handling-integers-with-missing-values>`_ for more details.\"\n",
      "The frame.append method is deprecated and will be removed from pandas in a future version. Use pandas.concat instead.\n",
      "2023/07/15 02:46:40 WARNING mlflow.utils.autologging_utils: MLflow autologging encountered a warning: \"c:\\Users\\michi\\Anaconda3\\envs\\enterpriseai2\\lib\\site-packages\\mlflow\\data\\pandas_dataset.py:116: UserWarning: Hint: Inferred schema contains integer column(s). Integer columns in Python cannot represent missing values. If your input data contains missing values at inference time, it will be encoded as floats and will cause a schema enforcement error. The best way to avoid this problem is to infer the model schema based on a realistic data sample (training dataset) that includes missing values. Alternatively, you can declare integer columns as doubles (float64) whenever these columns may have missing values. See `Handling Integers With Missing Values <https://www.mlflow.org/docs/latest/models.html#handling-integers-with-missing-values>`_ for more details.\"\n"
     ]
    },
    {
     "name": "stdout",
     "output_type": "stream",
     "text": [
      "ELASTICNET------\n"
     ]
    },
    {
     "name": "stderr",
     "output_type": "stream",
     "text": [
      "2023/07/15 02:46:44 WARNING mlflow.utils.autologging_utils: MLflow autologging encountered a warning: \"c:\\Users\\michi\\Anaconda3\\envs\\enterpriseai2\\lib\\site-packages\\mlflow\\models\\signature.py:144: UserWarning: Hint: Inferred schema contains integer column(s). Integer columns in Python cannot represent missing values. If your input data contains missing values at inference time, it will be encoded as floats and will cause a schema enforcement error. The best way to avoid this problem is to infer the model schema based on a realistic data sample (training dataset) that includes missing values. Alternatively, you can declare integer columns as doubles (float64) whenever these columns may have missing values. See `Handling Integers With Missing Values <https://www.mlflow.org/docs/latest/models.html#handling-integers-with-missing-values>`_ for more details.\"\n",
      "2023/07/15 02:47:03 WARNING mlflow.utils.autologging_utils: MLflow autologging encountered a warning: \"c:\\Users\\michi\\Anaconda3\\envs\\enterpriseai2\\lib\\site-packages\\mlflow\\data\\pandas_dataset.py:116: UserWarning: Hint: Inferred schema contains integer column(s). Integer columns in Python cannot represent missing values. If your input data contains missing values at inference time, it will be encoded as floats and will cause a schema enforcement error. The best way to avoid this problem is to infer the model schema based on a realistic data sample (training dataset) that includes missing values. Alternatively, you can declare integer columns as doubles (float64) whenever these columns may have missing values. See `Handling Integers With Missing Values <https://www.mlflow.org/docs/latest/models.html#handling-integers-with-missing-values>`_ for more details.\"\n"
     ]
    },
    {
     "name": "stdout",
     "output_type": "stream",
     "text": [
      "Training elasticnet model done...\n",
      "---EVALUATION AND LOGGING TO MLFLOW------ elasticnet\n"
     ]
    },
    {
     "name": "stderr",
     "output_type": "stream",
     "text": [
      "2023/07/15 02:47:05 WARNING mlflow.utils.autologging_utils: MLflow autologging encountered a warning: \"c:\\Users\\michi\\Anaconda3\\envs\\enterpriseai2\\lib\\site-packages\\mlflow\\data\\pandas_dataset.py:116: UserWarning: Hint: Inferred schema contains integer column(s). Integer columns in Python cannot represent missing values. If your input data contains missing values at inference time, it will be encoded as floats and will cause a schema enforcement error. The best way to avoid this problem is to infer the model schema based on a realistic data sample (training dataset) that includes missing values. Alternatively, you can declare integer columns as doubles (float64) whenever these columns may have missing values. See `Handling Integers With Missing Values <https://www.mlflow.org/docs/latest/models.html#handling-integers-with-missing-values>`_ for more details.\"\n",
      "2023/07/15 02:47:08 WARNING mlflow.utils.autologging_utils: MLflow autologging encountered a warning: \"c:\\Users\\michi\\Anaconda3\\envs\\enterpriseai2\\lib\\site-packages\\mlflow\\data\\pandas_dataset.py:116: UserWarning: Hint: Inferred schema contains integer column(s). Integer columns in Python cannot represent missing values. If your input data contains missing values at inference time, it will be encoded as floats and will cause a schema enforcement error. The best way to avoid this problem is to infer the model schema based on a realistic data sample (training dataset) that includes missing values. Alternatively, you can declare integer columns as doubles (float64) whenever these columns may have missing values. See `Handling Integers With Missing Values <https://www.mlflow.org/docs/latest/models.html#handling-integers-with-missing-values>`_ for more details.\"\n",
      "The frame.append method is deprecated and will be removed from pandas in a future version. Use pandas.concat instead.\n",
      "2023/07/15 02:47:33 WARNING mlflow.utils.autologging_utils: MLflow autologging encountered a warning: \"c:\\Users\\michi\\Anaconda3\\envs\\enterpriseai2\\lib\\site-packages\\mlflow\\data\\pandas_dataset.py:116: UserWarning: Hint: Inferred schema contains integer column(s). Integer columns in Python cannot represent missing values. If your input data contains missing values at inference time, it will be encoded as floats and will cause a schema enforcement error. The best way to avoid this problem is to infer the model schema based on a realistic data sample (training dataset) that includes missing values. Alternatively, you can declare integer columns as doubles (float64) whenever these columns may have missing values. See `Handling Integers With Missing Values <https://www.mlflow.org/docs/latest/models.html#handling-integers-with-missing-values>`_ for more details.\"\n"
     ]
    },
    {
     "name": "stdout",
     "output_type": "stream",
     "text": [
      "LINEAR------\n"
     ]
    },
    {
     "name": "stderr",
     "output_type": "stream",
     "text": [
      "2023/07/15 02:47:37 WARNING mlflow.utils.autologging_utils: MLflow autologging encountered a warning: \"c:\\Users\\michi\\Anaconda3\\envs\\enterpriseai2\\lib\\site-packages\\mlflow\\models\\signature.py:144: UserWarning: Hint: Inferred schema contains integer column(s). Integer columns in Python cannot represent missing values. If your input data contains missing values at inference time, it will be encoded as floats and will cause a schema enforcement error. The best way to avoid this problem is to infer the model schema based on a realistic data sample (training dataset) that includes missing values. Alternatively, you can declare integer columns as doubles (float64) whenever these columns may have missing values. See `Handling Integers With Missing Values <https://www.mlflow.org/docs/latest/models.html#handling-integers-with-missing-values>`_ for more details.\"\n",
      "2023/07/15 02:47:56 WARNING mlflow.utils.autologging_utils: MLflow autologging encountered a warning: \"c:\\Users\\michi\\Anaconda3\\envs\\enterpriseai2\\lib\\site-packages\\mlflow\\data\\pandas_dataset.py:116: UserWarning: Hint: Inferred schema contains integer column(s). Integer columns in Python cannot represent missing values. If your input data contains missing values at inference time, it will be encoded as floats and will cause a schema enforcement error. The best way to avoid this problem is to infer the model schema based on a realistic data sample (training dataset) that includes missing values. Alternatively, you can declare integer columns as doubles (float64) whenever these columns may have missing values. See `Handling Integers With Missing Values <https://www.mlflow.org/docs/latest/models.html#handling-integers-with-missing-values>`_ for more details.\"\n"
     ]
    },
    {
     "name": "stdout",
     "output_type": "stream",
     "text": [
      "Training linear model done...\n",
      "---EVALUATION AND LOGGING TO MLFLOW------ linear\n"
     ]
    },
    {
     "name": "stderr",
     "output_type": "stream",
     "text": [
      "2023/07/15 02:47:58 WARNING mlflow.utils.autologging_utils: MLflow autologging encountered a warning: \"c:\\Users\\michi\\Anaconda3\\envs\\enterpriseai2\\lib\\site-packages\\mlflow\\data\\pandas_dataset.py:116: UserWarning: Hint: Inferred schema contains integer column(s). Integer columns in Python cannot represent missing values. If your input data contains missing values at inference time, it will be encoded as floats and will cause a schema enforcement error. The best way to avoid this problem is to infer the model schema based on a realistic data sample (training dataset) that includes missing values. Alternatively, you can declare integer columns as doubles (float64) whenever these columns may have missing values. See `Handling Integers With Missing Values <https://www.mlflow.org/docs/latest/models.html#handling-integers-with-missing-values>`_ for more details.\"\n",
      "2023/07/15 02:48:00 WARNING mlflow.utils.autologging_utils: MLflow autologging encountered a warning: \"c:\\Users\\michi\\Anaconda3\\envs\\enterpriseai2\\lib\\site-packages\\mlflow\\data\\pandas_dataset.py:116: UserWarning: Hint: Inferred schema contains integer column(s). Integer columns in Python cannot represent missing values. If your input data contains missing values at inference time, it will be encoded as floats and will cause a schema enforcement error. The best way to avoid this problem is to infer the model schema based on a realistic data sample (training dataset) that includes missing values. Alternatively, you can declare integer columns as doubles (float64) whenever these columns may have missing values. See `Handling Integers With Missing Values <https://www.mlflow.org/docs/latest/models.html#handling-integers-with-missing-values>`_ for more details.\"\n",
      "The frame.append method is deprecated and will be removed from pandas in a future version. Use pandas.concat instead.\n",
      "2023/07/15 02:48:26 WARNING mlflow.utils.autologging_utils: MLflow autologging encountered a warning: \"c:\\Users\\michi\\Anaconda3\\envs\\enterpriseai2\\lib\\site-packages\\mlflow\\data\\pandas_dataset.py:116: UserWarning: Hint: Inferred schema contains integer column(s). Integer columns in Python cannot represent missing values. If your input data contains missing values at inference time, it will be encoded as floats and will cause a schema enforcement error. The best way to avoid this problem is to infer the model schema based on a realistic data sample (training dataset) that includes missing values. Alternatively, you can declare integer columns as doubles (float64) whenever these columns may have missing values. See `Handling Integers With Missing Values <https://www.mlflow.org/docs/latest/models.html#handling-integers-with-missing-values>`_ for more details.\"\n"
     ]
    },
    {
     "name": "stdout",
     "output_type": "stream",
     "text": [
      "LASSO------\n"
     ]
    },
    {
     "name": "stderr",
     "output_type": "stream",
     "text": [
      "2023/07/15 02:48:30 WARNING mlflow.utils.autologging_utils: MLflow autologging encountered a warning: \"c:\\Users\\michi\\Anaconda3\\envs\\enterpriseai2\\lib\\site-packages\\mlflow\\models\\signature.py:144: UserWarning: Hint: Inferred schema contains integer column(s). Integer columns in Python cannot represent missing values. If your input data contains missing values at inference time, it will be encoded as floats and will cause a schema enforcement error. The best way to avoid this problem is to infer the model schema based on a realistic data sample (training dataset) that includes missing values. Alternatively, you can declare integer columns as doubles (float64) whenever these columns may have missing values. See `Handling Integers With Missing Values <https://www.mlflow.org/docs/latest/models.html#handling-integers-with-missing-values>`_ for more details.\"\n",
      "2023/07/15 02:48:49 WARNING mlflow.utils.autologging_utils: MLflow autologging encountered a warning: \"c:\\Users\\michi\\Anaconda3\\envs\\enterpriseai2\\lib\\site-packages\\mlflow\\data\\pandas_dataset.py:116: UserWarning: Hint: Inferred schema contains integer column(s). Integer columns in Python cannot represent missing values. If your input data contains missing values at inference time, it will be encoded as floats and will cause a schema enforcement error. The best way to avoid this problem is to infer the model schema based on a realistic data sample (training dataset) that includes missing values. Alternatively, you can declare integer columns as doubles (float64) whenever these columns may have missing values. See `Handling Integers With Missing Values <https://www.mlflow.org/docs/latest/models.html#handling-integers-with-missing-values>`_ for more details.\"\n"
     ]
    },
    {
     "name": "stdout",
     "output_type": "stream",
     "text": [
      "Training lasso model done...\n",
      "---EVALUATION AND LOGGING TO MLFLOW------ lasso\n"
     ]
    },
    {
     "name": "stderr",
     "output_type": "stream",
     "text": [
      "2023/07/15 02:48:51 WARNING mlflow.utils.autologging_utils: MLflow autologging encountered a warning: \"c:\\Users\\michi\\Anaconda3\\envs\\enterpriseai2\\lib\\site-packages\\mlflow\\data\\pandas_dataset.py:116: UserWarning: Hint: Inferred schema contains integer column(s). Integer columns in Python cannot represent missing values. If your input data contains missing values at inference time, it will be encoded as floats and will cause a schema enforcement error. The best way to avoid this problem is to infer the model schema based on a realistic data sample (training dataset) that includes missing values. Alternatively, you can declare integer columns as doubles (float64) whenever these columns may have missing values. See `Handling Integers With Missing Values <https://www.mlflow.org/docs/latest/models.html#handling-integers-with-missing-values>`_ for more details.\"\n",
      "2023/07/15 02:48:53 WARNING mlflow.utils.autologging_utils: MLflow autologging encountered a warning: \"c:\\Users\\michi\\Anaconda3\\envs\\enterpriseai2\\lib\\site-packages\\mlflow\\data\\pandas_dataset.py:116: UserWarning: Hint: Inferred schema contains integer column(s). Integer columns in Python cannot represent missing values. If your input data contains missing values at inference time, it will be encoded as floats and will cause a schema enforcement error. The best way to avoid this problem is to infer the model schema based on a realistic data sample (training dataset) that includes missing values. Alternatively, you can declare integer columns as doubles (float64) whenever these columns may have missing values. See `Handling Integers With Missing Values <https://www.mlflow.org/docs/latest/models.html#handling-integers-with-missing-values>`_ for more details.\"\n",
      "The frame.append method is deprecated and will be removed from pandas in a future version. Use pandas.concat instead.\n"
     ]
    },
    {
     "data": {
      "text/html": [
       "<div>\n",
       "<style scoped>\n",
       "    .dataframe tbody tr th:only-of-type {\n",
       "        vertical-align: middle;\n",
       "    }\n",
       "\n",
       "    .dataframe tbody tr th {\n",
       "        vertical-align: top;\n",
       "    }\n",
       "\n",
       "    .dataframe thead th {\n",
       "        text-align: right;\n",
       "    }\n",
       "</style>\n",
       "<table border=\"1\" class=\"dataframe\">\n",
       "  <thead>\n",
       "    <tr style=\"text-align: right;\">\n",
       "      <th></th>\n",
       "      <th>model</th>\n",
       "      <th>mae</th>\n",
       "      <th>mse</th>\n",
       "      <th>r2</th>\n",
       "      <th>mae_test</th>\n",
       "      <th>mse_test</th>\n",
       "      <th>r2_test</th>\n",
       "      <th>mae_train</th>\n",
       "      <th>mse_train</th>\n",
       "      <th>r2_train</th>\n",
       "    </tr>\n",
       "  </thead>\n",
       "  <tbody>\n",
       "    <tr>\n",
       "      <th>0</th>\n",
       "      <td>baseline-rent</td>\n",
       "      <td>285.556400</td>\n",
       "      <td>140135.418730</td>\n",
       "      <td>0.580289</td>\n",
       "      <td>237.832650</td>\n",
       "      <td>92491.552430</td>\n",
       "      <td>0.686215</td>\n",
       "      <td>NaN</td>\n",
       "      <td>NaN</td>\n",
       "      <td>NaN</td>\n",
       "    </tr>\n",
       "    <tr>\n",
       "      <th>1</th>\n",
       "      <td>xgb</td>\n",
       "      <td>224.410332</td>\n",
       "      <td>91992.834517</td>\n",
       "      <td>0.724478</td>\n",
       "      <td>119.411964</td>\n",
       "      <td>31594.955069</td>\n",
       "      <td>0.892812</td>\n",
       "      <td>41.488575</td>\n",
       "      <td>3255.965514</td>\n",
       "      <td>0.987830</td>\n",
       "    </tr>\n",
       "    <tr>\n",
       "      <th>2</th>\n",
       "      <td>ridge</td>\n",
       "      <td>223.964342</td>\n",
       "      <td>91430.988701</td>\n",
       "      <td>0.726161</td>\n",
       "      <td>190.765468</td>\n",
       "      <td>58641.051061</td>\n",
       "      <td>0.801055</td>\n",
       "      <td>139.655460</td>\n",
       "      <td>31126.799550</td>\n",
       "      <td>0.883657</td>\n",
       "    </tr>\n",
       "    <tr>\n",
       "      <th>3</th>\n",
       "      <td>rf</td>\n",
       "      <td>196.060289</td>\n",
       "      <td>86419.836355</td>\n",
       "      <td>0.741169</td>\n",
       "      <td>146.189547</td>\n",
       "      <td>34507.230467</td>\n",
       "      <td>0.882931</td>\n",
       "      <td>63.729311</td>\n",
       "      <td>8694.094695</td>\n",
       "      <td>0.967504</td>\n",
       "    </tr>\n",
       "    <tr>\n",
       "      <th>4</th>\n",
       "      <td>elasticnet</td>\n",
       "      <td>240.045151</td>\n",
       "      <td>98402.832902</td>\n",
       "      <td>0.705280</td>\n",
       "      <td>195.061738</td>\n",
       "      <td>55630.255891</td>\n",
       "      <td>0.811270</td>\n",
       "      <td>181.153074</td>\n",
       "      <td>52734.798647</td>\n",
       "      <td>0.802892</td>\n",
       "    </tr>\n",
       "    <tr>\n",
       "      <th>5</th>\n",
       "      <td>linear</td>\n",
       "      <td>258.883019</td>\n",
       "      <td>123548.054537</td>\n",
       "      <td>0.629969</td>\n",
       "      <td>200.569974</td>\n",
       "      <td>77504.414036</td>\n",
       "      <td>0.737060</td>\n",
       "      <td>134.096342</td>\n",
       "      <td>29350.289446</td>\n",
       "      <td>0.890297</td>\n",
       "    </tr>\n",
       "    <tr>\n",
       "      <th>6</th>\n",
       "      <td>lasso</td>\n",
       "      <td>227.731555</td>\n",
       "      <td>95994.975938</td>\n",
       "      <td>0.712491</td>\n",
       "      <td>194.851164</td>\n",
       "      <td>62413.160833</td>\n",
       "      <td>0.788258</td>\n",
       "      <td>139.543955</td>\n",
       "      <td>31260.965459</td>\n",
       "      <td>0.883155</td>\n",
       "    </tr>\n",
       "  </tbody>\n",
       "</table>\n",
       "</div>"
      ],
      "text/plain": [
       "           model         mae            mse        r2    mae_test  \\\n",
       "0  baseline-rent  285.556400  140135.418730  0.580289  237.832650   \n",
       "1            xgb  224.410332   91992.834517  0.724478  119.411964   \n",
       "2          ridge  223.964342   91430.988701  0.726161  190.765468   \n",
       "3             rf  196.060289   86419.836355  0.741169  146.189547   \n",
       "4     elasticnet  240.045151   98402.832902  0.705280  195.061738   \n",
       "5         linear  258.883019  123548.054537  0.629969  200.569974   \n",
       "6          lasso  227.731555   95994.975938  0.712491  194.851164   \n",
       "\n",
       "       mse_test   r2_test   mae_train     mse_train  r2_train  \n",
       "0  92491.552430  0.686215         NaN           NaN       NaN  \n",
       "1  31594.955069  0.892812   41.488575   3255.965514  0.987830  \n",
       "2  58641.051061  0.801055  139.655460  31126.799550  0.883657  \n",
       "3  34507.230467  0.882931   63.729311   8694.094695  0.967504  \n",
       "4  55630.255891  0.811270  181.153074  52734.798647  0.802892  \n",
       "5  77504.414036  0.737060  134.096342  29350.289446  0.890297  \n",
       "6  62413.160833  0.788258  139.543955  31260.965459  0.883155  "
      ]
     },
     "execution_count": 70,
     "metadata": {},
     "output_type": "execute_result"
    }
   ],
   "source": [
    "def trigger_retraining_with_added_data(\n",
    "    url,\n",
    "    feature_set,\n",
    "    limit=3,\n",
    "    model_list=[\"baseline-rent\", \"xgb\", \"ridge\", \"rf\", \"elasticnet\", \"linear\", \"lasso\"]\n",
    "):\n",
    "    print(url)\n",
    "    retrain_data = get_dataset_items(url, limit)\n",
    "    print(\"Retraining data successfully scraped.\")\n",
    "    write_data_to_excel(retrain_data, \"data/retrain_train_data.xlsx\")\n",
    "    print(\"Retraining data successfully written to excel.\")\n",
    "\n",
    "    new_df = pd.read_excel(r\"data/retrain_train_data.xlsx\")\n",
    "    new_df = preprocess_data(new_df)\n",
    "    print(\"Done with raw preprocessing.\")\n",
    "    new_df.to_excel(\"data/retrain_train_data_preprocessed.xlsx\", index=False)\n",
    "\n",
    "    X_val = pd.read_excel(\"data/X_val.xlsx\")\n",
    "    X_val = X_val.drop(\"Unnamed: 0\", axis=1)\n",
    "    y_val = pd.read_excel(\"data/y_val.xlsx\")\n",
    "    y_val = y_val.drop(\"Unnamed: 0\", axis=1)\n",
    "    X_test = pd.read_excel(\"data/X_test.xlsx\")\n",
    "    X_test = X_test.drop(\"Unnamed: 0\", axis=1)\n",
    "    y_test = pd.read_excel(\"data/y_test.xlsx\")\n",
    "    y_test = y_test.drop(\"Unnamed: 0\", axis=1)\n",
    "\n",
    "    new_df = pd.read_excel(\"data/retrain_train_data_preprocessed.xlsx\")\n",
    "    new_df = decode_col_names(new_df)\n",
    "\n",
    "    for feature in feature_set:\n",
    "        if feature not in new_df.columns:\n",
    "            new_df[feature] = 0\n",
    "\n",
    "    train_recent = pd.read_excel(\"data/train_recent.xlsx\")\n",
    "    print(\"old shape of train_recent\", train_recent.shape)\n",
    "\n",
    "    new_df = preprocess_data_for_model(new_df, feature_set)\n",
    "    train_recent = pd.concat([train_recent, new_df], axis=0)\n",
    "    train_recent = train_recent.drop_duplicates()\n",
    "    print(\"new shape of train_recent\", train_recent.shape)\n",
    "    print(\"Retraining data successfully added to training data.\")\n",
    "    train_recent = train_recent.fillna(0)\n",
    "    train_recent.to_excel(\"data/train_recent_add.xlsx\", index=False)\n",
    "\n",
    "    print(\"train_recent shape before dropping na\", train_recent.shape)\n",
    "    print(\"train_recent shape after dropping na\", train_recent.shape)\n",
    "    y_train_recent = train_recent[\"Object_price\"]\n",
    "    X_train_recent = train_recent.drop([\"Object_price\"], axis=1)\n",
    "\n",
    "    now = datetime.now()\n",
    "    print(\n",
    "        \"!!!--------------------------------------START RETRAINING----------------------------------------------!!!\"\n",
    "    )\n",
    "\n",
    "    model = None\n",
    "    mlflow.set_experiment(f\"retraining_{now.strftime('%Y-%m-%d_%H-%M')}\")\n",
    "\n",
    "    results = pd.DataFrame()\n",
    "    for model_name in model_list:\n",
    "        if model_name == \"xgb\":\n",
    "            mlflow.xgboost.autolog()\n",
    "        else:\n",
    "            mlflow.sklearn.autolog()\n",
    "\n",
    "        with mlflow.start_run(run_name=f\"{model_name}\"):\n",
    "            if model_name == \"xgb\":\n",
    "                print(\"XGB------\")\n",
    "                print(f\"train{X_train_recent.shape}\")\n",
    "                print(f\"val:{X_val.shape}\")\n",
    "                print(f\"y_train:{y_train_recent.shape}\")\n",
    "                print(f\"y_val:{y_val.shape}\")\n",
    "                model = train_and_eval_xgb(X_train_recent, y_train_recent, X_val, y_val)\n",
    "            elif model_name == \"lasso\":\n",
    "                print(\"LASSO------\")\n",
    "                model = train_and_eval_lasso(\n",
    "                    X_train_recent, y_train_recent, X_val, y_val\n",
    "                )\n",
    "            elif model_name == \"ridge\":\n",
    "                print(\"RIDGE------\")\n",
    "                model = train_and_eval_ridge(\n",
    "                    X_train_recent, y_train_recent, X_val, y_val\n",
    "                )\n",
    "            elif model_name == \"rf\":\n",
    "                print(\"RF------\")\n",
    "                model = train_and_eval_rf(X_train_recent, y_train_recent, X_val, y_val)\n",
    "            elif model_name == \"elasticnet\":\n",
    "                print(\"ELASTICNET------\")\n",
    "                model = train_and_eval_elasticnet(\n",
    "                    X_train_recent, y_train_recent, X_val, y_val\n",
    "                )\n",
    "            elif model_name == \"linear\":\n",
    "                print(\"LINEAR------\")\n",
    "                model = train_and_eval_linear(\n",
    "                    X_train_recent, y_train_recent, X_val, y_val\n",
    "                )\n",
    "            elif model_name == \"baseline-rent\":\n",
    "                print(\"BASELINE-RENT------\")\n",
    "                avg_price = baseline_rent(\"\", \"\")\n",
    "                baseline_preds_val = X_val[\"LivingSpace\"] * avg_price\n",
    "                baseline_preds_test = X_test[\"LivingSpace\"] * avg_price\n",
    "                baseline_mae = mean_absolute_error(y_val, baseline_preds_val)\n",
    "                baseline_r2 = r2_score(y_val, baseline_preds_val)\n",
    "                baseline_mse = mean_squared_error(y_val, baseline_preds_val)\n",
    "                baseline_mae_test = mean_absolute_error(y_test, baseline_preds_test)\n",
    "                baseline_r2_test = r2_score(y_test, baseline_preds_test)\n",
    "                baseline_mse_test = mean_squared_error(y_test, baseline_preds_test)\n",
    "                print(f\"Baseline Mae: {baseline_mae}\")\n",
    "                mlflow.log_metric(\"mse\", baseline_mse)\n",
    "                mlflow.log_metric(\"mae\", baseline_mae)\n",
    "                mlflow.log_metric(\"r2\", baseline_r2)\n",
    "                mlflow.log_metric(\"mse_test\", baseline_mse_test)\n",
    "                mlflow.log_metric(\"mae_test\", baseline_mae_test)\n",
    "                mlflow.log_metric(\"r2_test\", baseline_r2_test)\n",
    "\n",
    "                print(f\"Baseline Mae: {baseline_mae}\")\n",
    "                print(f\"Baseline MSE: {baseline_mse}\")\n",
    "                print(f\"Baseline R2 Score: {baseline_r2}\")\n",
    "\n",
    "                results = results.append(\n",
    "                    {\n",
    "                        \"model\": model_name,\n",
    "                        \"mae\": baseline_mae,\n",
    "                        \"mse\": baseline_mse,\n",
    "                        \"r2\": baseline_r2,\n",
    "                        \"mae_test\": baseline_mae_test,\n",
    "                        \"mse_test\": baseline_mse_test,\n",
    "                        \"r2_test\": baseline_r2_test,\n",
    "                    },\n",
    "                    ignore_index=True,\n",
    "                )\n",
    "\n",
    "            else:\n",
    "                print(\"Model not found.\")\n",
    "\n",
    "            print(f\"Training {model_name} model done...\")\n",
    "            print(f\"---EVALUATION AND LOGGING TO MLFLOW------ {model_name}\")\n",
    "\n",
    "            if model_name != \"baseline-rent\":\n",
    "                (\n",
    "                    mae_val,\n",
    "                    mse_val,\n",
    "                    r2_val,\n",
    "                    mae_test,\n",
    "                    mse_test,\n",
    "                    r2_test,\n",
    "                    mae_train,\n",
    "                    mse_train,\n",
    "                    r2_train,\n",
    "                ) = evaluate_model(\n",
    "                    model, X_train_recent, y_train_recent, X_val, y_val, X_test, y_test\n",
    "                )\n",
    "                results = results.append(\n",
    "                    {\n",
    "                        \"model\": model_name,\n",
    "                        \"mae\": mae_val,\n",
    "                        \"mse\": mse_val,\n",
    "                        \"r2\": r2_val,\n",
    "                        \"mae_test\": mae_test,\n",
    "                        \"mse_test\": mse_test,\n",
    "                        \"r2_test\": r2_test,\n",
    "                        \"mae_train\": mae_train,\n",
    "                        \"mse_train\": mse_train,\n",
    "                        \"r2_train\": r2_train,\n",
    "                    },\n",
    "                    ignore_index=True,\n",
    "                )\n",
    "\n",
    "            mlflow.end_run()\n",
    "    return results\n",
    "\n",
    "\n",
    "trigger_retraining_with_added_data(\n",
    "    url=\"https://www.immowelt.de/liste/wuerzburg/wohnungen/mieten?d=true&r=10&sd=DESC&sf=RELEVANCE&sp=1\",\n",
    "    feature_set=getFeatureSetApp(),\n",
    ")"
   ]
  }
 ],
 "metadata": {
  "kernelspec": {
   "display_name": "enterpriseai2",
   "language": "python",
   "name": "python3"
  },
  "language_info": {
   "codemirror_mode": {
    "name": "ipython",
    "version": 3
   },
   "file_extension": ".py",
   "mimetype": "text/x-python",
   "name": "python",
   "nbconvert_exporter": "python",
   "pygments_lexer": "ipython3",
   "version": "3.8.16"
  },
  "orig_nbformat": 4
 },
 "nbformat": 4,
 "nbformat_minor": 2
}
