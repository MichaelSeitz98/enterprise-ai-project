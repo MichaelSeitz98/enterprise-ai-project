{
 "cells": [
  {
   "cell_type": "code",
   "execution_count": null,
   "metadata": {},
   "outputs": [],
   "source": [
    "import requests\n",
    "import tabula\n",
    "import pandas as pd"
   ]
  },
  {
   "cell_type": "markdown",
   "metadata": {},
   "source": [
    "# Download of Module Handbooks"
   ]
  },
  {
   "cell_type": "code",
   "execution_count": null,
   "metadata": {},
   "outputs": [],
   "source": [
    "pdf_url_bachelor_business_management_and_economics = \"https://www2.uni-wuerzburg.de/mhb/MHB1-en-82-184-H-2008.pdf\"\n",
    "pdf_url_bachelor_information_systems = \"https://www2.uni-wuerzburg.de/mhb/MHB1-en-82-277-H-2021.pdf\"\n",
    "pdf_url_bachelor_economathematics = \"https://www2.uni-wuerzburg.de/mhb/MHB1-en-82-276-H-2015.pdf\"\n",
    "pdf_url_master_information_systems = \"https://www2.uni-wuerzburg.de/mhb/MHB1-en-88-j10-H-2019.pdf\"\n",
    "pdf_url_master_management =\"https://www2.uni-wuerzburg.de/mhb/MHB1-en-88-i45-H-2018.pdf\"\n",
    "pdf_url_master_international_economic_policy = \"https://www2.uni-wuerzburg.de/mhb/MHB1-en-88-h92-H-2018.pdf\"\n",
    "\n",
    "response = requests.get(pdf_url_bachelor_business_management_and_economics)\n",
    "with open(\"module_handbooks/bachelor_business_management_and_economics.pdf\", \"wb\") as f:\n",
    "    f.write(response.content)\n",
    "print(\"Downloaded bachelor_business_management_and_economics.pdf\")\n",
    "\n",
    "response = requests.get(pdf_url_bachelor_information_systems)\n",
    "with open(\"module_handbooks/bachelor_information_systems.pdf\", \"wb\") as f:\n",
    "    f.write(response.content)\n",
    "\n",
    "print(\"Downloaded bachelor_information_systems.pdf\")\n",
    "response = requests.get(pdf_url_bachelor_economathematics)\n",
    "with open(\"module_handbooks/bachelor_economathematics.pdf\", \"wb\") as f:\n",
    "    f.write(response.content)\n",
    "print(\"Downloaded bachelor_economathematics.pdf\")\n",
    "\n",
    "response = requests.get(pdf_url_master_information_systems)\n",
    "with open(\"module_handbooks/master_information_systems.pdf\", \"wb\") as f:\n",
    "    f.write(response.content)\n",
    "print(\"Downloaded master_information_systems.pdf\")\n",
    "\n",
    "response = requests.get(pdf_url_master_management)\n",
    "with open(\"module_handbooks/master_management.pdf\", \"wb\") as f:\n",
    "    f.write(response.content)\n",
    "print(\"Downloaded master_management.pdf\")\n",
    "\n",
    "response = requests.get(pdf_url_master_international_economic_policy)\n",
    "with open(\"module_handbooks/master_international_economic_policy.pdf\", \"wb\") as f:\n",
    "    f.write(response.content)\n",
    "print(\"Downloaded master_international_economic_policy.pdf\")"
   ]
  },
  {
   "cell_type": "markdown",
   "metadata": {},
   "source": [
    "# Ansatz über TABULA --> Verforfen \n",
    "Reading Tables from Module Book for master_information_systems"
   ]
  },
  {
   "cell_type": "code",
   "execution_count": null,
   "metadata": {},
   "outputs": [],
   "source": [
    "import pandas as pd\n",
    "import tabula\n",
    "import re\n",
    "\n",
    "pd.set_option('display.max_columns', 50)\n",
    "pd.set_option('display.max_rows', 50)\n",
    "pd.set_option('display.width', None)\n",
    "pd.set_option('display.max_colwidth', None)"
   ]
  },
  {
   "cell_type": "code",
   "execution_count": null,
   "metadata": {},
   "outputs": [],
   "source": [
    "\n",
    "\n",
    "tables_master_is = tabula.read_pdf(\"module_handbooks/master_information_systems.pdf\", pages='10-30', multiple_tables=True)\n",
    "print(len(tables_master_is))\n",
    "print(tables_master_is)"
   ]
  },
  {
   "cell_type": "markdown",
   "metadata": {},
   "source": [
    "# PDF Miner Ansatz wie Felix -> über Regex"
   ]
  },
  {
   "cell_type": "code",
   "execution_count": null,
   "metadata": {},
   "outputs": [],
   "source": [
    "import io\n",
    "from pdfminer.converter import TextConverter\n",
    "from pdfminer.layout import LAParams\n",
    "from pdfminer.pdfinterp import PDFPageInterpreter, PDFResourceManager\n",
    "from pdfminer.pdfpage import PDFPage\n",
    "\n",
    "\n",
    "def pdf_to_text(file_path, n=0):\n",
    "    resource_manager = PDFResourceManager()\n",
    "    fake_file_handle = io.StringIO()\n",
    "    laparams = LAParams()\n",
    "    converter = TextConverter(\n",
    "        resource_manager,\n",
    "        fake_file_handle,\n",
    "        codec=\"utf-8\",\n",
    "        laparams=laparams,\n",
    "    )\n",
    "    page_interpreter = PDFPageInterpreter(resource_manager, converter)\n",
    "\n",
    "    with open(file_path, \"rb\") as fh:\n",
    "        for i, page in enumerate(PDFPage.get_pages(fh, caching=True, check_extractable=True)):\n",
    "            if i < n:\n",
    "                continue\n",
    "            page_interpreter.process_page(page)\n",
    "\n",
    "        text = fake_file_handle.getvalue()\n",
    "\n",
    "    # close open handles\n",
    "    converter.close()\n",
    "    fake_file_handle.close()\n",
    "\n",
    "    if text:\n",
    "        return remove_header_footer(text)\n",
    "    else:\n",
    "        return \"\"\n",
    "\n",
    "\n",
    "def remove_header_footer(text):\n",
    "    # Split the text into lines\n",
    "    lines = text.split(\"\\n\")\n",
    "\n",
    "    # Remove lines that match the header pattern\n",
    "    lines = [line for line in lines if not line.startswith(\"JMU Würzburg\")]\n",
    "\n",
    "    # Remove lines that match the footer pattern\n",
    "    lines = [line for line in lines if not line.startswith(\"page\")]\n",
    "    lines = [line for line in lines if not re.match(r\".*Master.* with 1 major Information Systems.*\", line)]\n",
    "    lines = [line for line in lines if not re.match(r\".*Master.* Information Systems - 2019.*\", line)]\n",
    "    lines = [line for line in lines if not re.match(r\".*Module Catalogue for the Subject.*\", line)]\n",
    "    lines = [line for line in lines if not re.match(r\".*Information Systems.*\", line)]\n",
    "    lines = [line for line in lines if not re.match(r\".*Master’s with 1 major, 120 ECTS credits.*\", line)]\n",
    "\n",
    "\n",
    "    # Join the remaining lines back into a single string\n",
    "    clean_text = \"\\n\".join(lines)\n",
    "\n",
    "    return clean_text\n"
   ]
  },
  {
   "cell_type": "code",
   "execution_count": null,
   "metadata": {},
   "outputs": [],
   "source": [
    "# define a function which extracts the "
   ]
  },
  {
   "cell_type": "code",
   "execution_count": null,
   "metadata": {},
   "outputs": [],
   "source": [
    "text = pdf_to_text(\"module_handbooks/master_information_systems.pdf\", n=9)\n"
   ]
  },
  {
   "cell_type": "code",
   "execution_count": null,
   "metadata": {},
   "outputs": [],
   "source": [
    "text_no_footer_header = remove_header_footer(text)\n",
    "print(text_no_footer_header)\n",
    "\n",
    "with open(\"module_handbooks/master_information_systems_processed.txt\", \"w\") as f:\n",
    "    f.write(text_no_footer_header)"
   ]
  },
  {
   "cell_type": "code",
   "execution_count": null,
   "metadata": {},
   "outputs": [],
   "source": [
    "tables = re.split(r\"(?=Module title)\", text_no_footer_header)[1:]\n",
    "print(len(tables))\n",
    "print(\"---------------TABLE 0--------------------------\")\n",
    "print(tables[0])\n",
    "# store to table.txt file \n",
    "with open(\"module_handbooks/master_information_systems_table_0.txt\", \"w\") as f:\n",
    "    f.write(tables[0])\n",
    "\n",
    "print(\"---------------TABLE 1--------------------------\")\n",
    "print(tables[1])"
   ]
  },
  {
   "cell_type": "code",
   "execution_count": 114,
   "metadata": {},
   "outputs": [],
   "source": [
    "def extract_table_values(table_string):\n",
    "    # Define regex patterns\n",
    "    patterns = {\n",
    "        \"Module Title\": r\"Module title\\n\\n(.+)\",\n",
    "        \"Abbreviation\": r\"Abbreviation\\n\\n(.+)\",\n",
    "        \"Module Coordinator\": r\"Module coordinator\\n\\n(.+)\",\n",
    "        \"Module Offered By\": r\"Module offered by\\n\\n(.+)\",\n",
    "        \"ECTS\": r\"ECTS Method of grading\\n\\n(.+)\",\n",
    "        \"Method of Grading\": r\"Method of grading\\n\\n(.+)\",\n",
    "        \"Completion of Modules\": r\"Only after succ\\. compl\\. of module\\(s\\)\\n\\n(.+)\",\n",
    "        \"Duration\": r\"Duration\\n\\n(.+)\",\n",
    "        \"Module Level\": r\"Module level\\n\\n(.+)\",\n",
    "        \"Other Prerequisites\": r\"Other prerequisites\\n\\n(.+)\",\n",
    "        \"Contents\": r\"Contents\\n\\n(.+)\",\n",
    "        \"Intended Learning Outcomes\": r\"Intended learning outcomes\\n\\n(.+)\",\n",
    "        \"Courses\": r\"Courses \\(type, number of weekly contact hours, language — if other than German\\)\\n\\n(.+)\",\n",
    "        \"Method of Assessment\": r\"Method of assessment \\(type, scope, language — if other than German, examination offered — if not every semester, information on whether module is creditable for bonus\\)\\n\\n(.+)\",\n",
    "        \"Allocation of Places\": r\"Allocation of places\\n\\n(.+)\",\n",
    "        \"Additional Information\": r\"Additional information\\n\\n(.+)\",\n",
    "        \"Workload\": r\"Workload\\n\\n(.+)\",\n",
    "        \"Teaching Cycle\": r\"Teaching cycle\\n\\n(.+)\",\n",
    "        \"Referred to in LPO I\": r\"Referred to in LPO I  \\(examination regulations for teaching-degree programmes\\)\\n\\n(.+)\",\n",
    "        \"Page\": r\"Page\\n\\n(.+)\"\n",
    "    }\n",
    "    \n",
    "    extracted_values = {}\n",
    "    \n",
    "    # Extract values using regex\n",
    "    for key, pattern in patterns.items():\n",
    "        match = re.search(pattern, table_string)\n",
    "        if match:\n",
    "            extracted_values[key] = match.group(1)\n",
    "    \n",
    "    return extracted_values\n"
   ]
  },
  {
   "cell_type": "code",
   "execution_count": 115,
   "metadata": {},
   "outputs": [
    {
     "name": "stdout",
     "output_type": "stream",
     "text": [
      "{'Module Title': 'Information Processing within Organizations', 'Abbreviation': '12-IV-161-m01', 'Module Coordinator': 'Module offered by', 'Module Offered By': 'holder of the Chair of Business Management and Business ', 'ECTS': 'Only after succ. compl. of module(s)', 'Method of Grading': 'Only after succ. compl. of module(s)', 'Completion of Modules': '5', 'Duration': 'Module level', 'Module Level': 'Other prerequisites', 'Other Prerequisites': '1 semester', 'Contents': 'Content:', 'Intended Learning Outcomes': 'After completing the course \"Integrated Information Processing\", students will be able to', 'Courses': 'V (2) + Ü (2)', 'Allocation of Places': '--', 'Additional Information': '--', 'Workload': '150 h', 'Teaching Cycle': '--', 'Referred to in LPO I': '--'}\n",
      "Module Title: Information Processing within Organizations\n",
      "Abbreviation: 12-IV-161-m01\n",
      "Module Coordinator: Module offered by\n",
      "Module Offered By: holder of the Chair of Business Management and Business \n",
      "ECTS: Only after succ. compl. of module(s)\n",
      "Method of Grading: Only after succ. compl. of module(s)\n",
      "Completion of Modules: 5\n",
      "Duration: Module level\n",
      "Module Level: Other prerequisites\n",
      "Other Prerequisites: 1 semester\n",
      "Contents: Content:\n",
      "Intended Learning Outcomes: After completing the course \"Integrated Information Processing\", students will be able to\n",
      "Courses: V (2) + Ü (2)\n",
      "Allocation of Places: --\n",
      "Additional Information: --\n",
      "Workload: 150 h\n",
      "Teaching Cycle: --\n",
      "Referred to in LPO I: --\n"
     ]
    }
   ],
   "source": [
    "values = extract_table_values(tables[0])\n",
    "print(values)\n",
    "\n",
    "# Print the extracted values\n",
    "for key, value in values.items():\n",
    "    print(key + \": \" + value)"
   ]
  },
  {
   "cell_type": "markdown",
   "metadata": {},
   "source": [
    "# Create final Dataframe with these columns"
   ]
  },
  {
   "cell_type": "code",
   "execution_count": null,
   "metadata": {},
   "outputs": [],
   "source": [
    "module_handbook_columns = [\n",
    "    \"module title\",\n",
    "    \"abbreviation\",\n",
    "    \"module coordinator\",\n",
    "    \"module offered by\",\n",
    "    \"ects\",\n",
    "    \"method of grading\",\n",
    "    \"only after successfull completion of module(s)\",\n",
    "    \"duration\",\n",
    "    \"module level\",\n",
    "    \"other prerequisites\",\n",
    "    \"contents\",\n",
    "    \"intended learning outcomes\",\n",
    "    \"courses\",\n",
    "    \"method of assessment\",\n",
    "    \"allocation of places\",\n",
    "    \"additional information\",\n",
    "    \"workload\",\n",
    "    \"teaching cycle\",\n",
    "    \"referred to in lpo I\",\n",
    "    \"page\",\n",
    "]\n",
    "\n",
    "module_handbook_df = pd.DataFrame(columns=module_handbook_columns)\n",
    "print(module_handbook_df)\n",
    "print(module_handbook_df.shape)\n",
    "module_handbook_df.to_csv(\n",
    "    \"module_handbooks/master_information_systems.csv\", index=False\n",
    ")"
   ]
  }
 ],
 "metadata": {
  "kernelspec": {
   "display_name": "Python 3",
   "language": "python",
   "name": "python3"
  },
  "language_info": {
   "codemirror_mode": {
    "name": "ipython",
    "version": 3
   },
   "file_extension": ".py",
   "mimetype": "text/x-python",
   "name": "python",
   "nbconvert_exporter": "python",
   "pygments_lexer": "ipython3",
   "version": "3.8.16"
  },
  "orig_nbformat": 4
 },
 "nbformat": 4,
 "nbformat_minor": 2
}
