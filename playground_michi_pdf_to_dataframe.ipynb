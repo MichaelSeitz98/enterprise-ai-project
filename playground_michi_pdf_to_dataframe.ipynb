{
 "cells": [
  {
   "cell_type": "code",
   "execution_count": null,
   "metadata": {},
   "outputs": [],
   "source": [
    "import requests\n",
    "import tabula\n",
    "import pandas as pd"
   ]
  },
  {
   "cell_type": "markdown",
   "metadata": {},
   "source": [
    "# Download of Module Handbooks"
   ]
  },
  {
   "cell_type": "code",
   "execution_count": null,
   "metadata": {},
   "outputs": [],
   "source": [
    "pdf_url_bachelor_business_management_and_economics = \"https://www2.uni-wuerzburg.de/mhb/MHB1-en-82-184-H-2008.pdf\"\n",
    "pdf_url_bachelor_information_systems = \"https://www2.uni-wuerzburg.de/mhb/MHB1-en-82-277-H-2021.pdf\"\n",
    "pdf_url_bachelor_economathematics = \"https://www2.uni-wuerzburg.de/mhb/MHB1-en-82-276-H-2015.pdf\"\n",
    "pdf_url_master_information_systems = \"https://www2.uni-wuerzburg.de/mhb/MHB1-en-88-j10-H-2019.pdf\"\n",
    "pdf_url_master_management =\"https://www2.uni-wuerzburg.de/mhb/MHB1-en-88-i45-H-2018.pdf\"\n",
    "pdf_url_master_international_economic_policy = \"https://www2.uni-wuerzburg.de/mhb/MHB1-en-88-h92-H-2018.pdf\"\n",
    "\n",
    "response = requests.get(pdf_url_bachelor_business_management_and_economics)\n",
    "with open(\"module_handbooks/bachelor_business_management_and_economics.pdf\", \"wb\") as f:\n",
    "    f.write(response.content)\n",
    "print(\"Downloaded bachelor_business_management_and_economics.pdf\")\n",
    "\n",
    "response = requests.get(pdf_url_bachelor_information_systems)\n",
    "with open(\"module_handbooks/bachelor_information_systems.pdf\", \"wb\") as f:\n",
    "    f.write(response.content)\n",
    "\n",
    "print(\"Downloaded bachelor_information_systems.pdf\")\n",
    "response = requests.get(pdf_url_bachelor_economathematics)\n",
    "with open(\"module_handbooks/bachelor_economathematics.pdf\", \"wb\") as f:\n",
    "    f.write(response.content)\n",
    "print(\"Downloaded bachelor_economathematics.pdf\")\n",
    "\n",
    "response = requests.get(pdf_url_master_information_systems)\n",
    "with open(\"module_handbooks/master_information_systems.pdf\", \"wb\") as f:\n",
    "    f.write(response.content)\n",
    "print(\"Downloaded master_information_systems.pdf\")\n",
    "\n",
    "response = requests.get(pdf_url_master_management)\n",
    "with open(\"module_handbooks/master_management.pdf\", \"wb\") as f:\n",
    "    f.write(response.content)\n",
    "print(\"Downloaded master_management.pdf\")\n",
    "\n",
    "response = requests.get(pdf_url_master_international_economic_policy)\n",
    "with open(\"module_handbooks/master_international_economic_policy.pdf\", \"wb\") as f:\n",
    "    f.write(response.content)\n",
    "print(\"Downloaded master_international_economic_policy.pdf\")"
   ]
  },
  {
   "cell_type": "markdown",
   "metadata": {},
   "source": [
    "# Ansatz über TABULA --> Verforfen \n",
    "Reading Tables from Module Book for master_information_systems"
   ]
  },
  {
   "cell_type": "code",
   "execution_count": null,
   "metadata": {},
   "outputs": [],
   "source": [
    "import pandas as pd\n",
    "import tabula\n",
    "import re\n",
    "\n",
    "pd.set_option('display.max_columns', 50)\n",
    "pd.set_option('display.max_rows', 50)\n",
    "pd.set_option('display.width', None)\n",
    "pd.set_option('display.max_colwidth', None)"
   ]
  },
  {
   "cell_type": "code",
   "execution_count": null,
   "metadata": {},
   "outputs": [],
   "source": [
    "\n",
    "\n",
    "tables_master_is = tabula.read_pdf(\"module_handbooks/master_information_systems.pdf\", pages='10-30', multiple_tables=True)\n",
    "print(len(tables_master_is))\n",
    "print(tables_master_is)"
   ]
  },
  {
   "cell_type": "markdown",
   "metadata": {},
   "source": [
    "# PDF Miner Ansatz wie Felix -> über Regex"
   ]
  },
  {
   "cell_type": "code",
   "execution_count": 57,
   "metadata": {},
   "outputs": [],
   "source": [
    "import io\n",
    "import pdfminer\n",
    "from pdfminer.converter import TextConverter\n",
    "from pdfminer.layout import LAParams\n",
    "from pdfminer.pdfinterp import PDFPageInterpreter, PDFResourceManager\n",
    "from pdfminer.pdfpage import PDFPage\n",
    "\n",
    "\n",
    "def pdf_to_text(file_path, n=0):\n",
    "    resource_manager = PDFResourceManager()\n",
    "    fake_file_handle = io.StringIO()\n",
    "    laparams = LAParams(all_texts=False, boxes_flow=[(0, 0, 0.97, 0.85), (0, 0.96, 0.8, 0.8)])\n",
    "    converter = TextConverter(\n",
    "        resource_manager,\n",
    "        fake_file_handle,\n",
    "        codec=\"utf-8\",\n",
    "        laparams=laparams,\n",
    "    )\n",
    "    page_interpreter = PDFPageInterpreter(resource_manager, converter)\n",
    "\n",
    "    with open(file_path, \"rb\") as fh:\n",
    "        for i, page in enumerate(PDFPage.get_pages(fh, caching=True, check_extractable=True)):\n",
    "            if i < n:\n",
    "                continue\n",
    "            page_interpreter.process_page(page)\n",
    "\n",
    "        text = fake_file_handle.getvalue()\n",
    "\n",
    "    # close open handles\n",
    "    converter.close()\n",
    "    fake_file_handle.close()\n",
    "\n",
    "    if text:\n",
    "        return text\n",
    "    else:\n",
    "        return \"\"\n"
   ]
  },
  {
   "cell_type": "code",
   "execution_count": 58,
   "metadata": {},
   "outputs": [
    {
     "ename": "TypeError",
     "evalue": "LAParam boxes_flow should be None, or a number between -1 and +1",
     "output_type": "error",
     "traceback": [
      "\u001b[1;31m---------------------------------------------------------------------------\u001b[0m",
      "\u001b[1;31mTypeError\u001b[0m                                 Traceback (most recent call last)",
      "Cell \u001b[1;32mIn[58], line 1\u001b[0m\n\u001b[1;32m----> 1\u001b[0m text \u001b[39m=\u001b[39m pdf_to_text(\u001b[39m\"\u001b[39;49m\u001b[39mmodule_handbooks/master_information_systems.pdf\u001b[39;49m\u001b[39m\"\u001b[39;49m, n\u001b[39m=\u001b[39;49m\u001b[39m10\u001b[39;49m)\n\u001b[0;32m      2\u001b[0m \u001b[39mprint\u001b[39m(text)\n",
      "Cell \u001b[1;32mIn[57], line 12\u001b[0m, in \u001b[0;36mpdf_to_text\u001b[1;34m(file_path, n)\u001b[0m\n\u001b[0;32m     10\u001b[0m resource_manager \u001b[39m=\u001b[39m PDFResourceManager()\n\u001b[0;32m     11\u001b[0m fake_file_handle \u001b[39m=\u001b[39m io\u001b[39m.\u001b[39mStringIO()\n\u001b[1;32m---> 12\u001b[0m laparams \u001b[39m=\u001b[39m LAParams(all_texts\u001b[39m=\u001b[39;49m\u001b[39mFalse\u001b[39;49;00m, boxes_flow\u001b[39m=\u001b[39;49m[(\u001b[39m0\u001b[39;49m, \u001b[39m0\u001b[39;49m, \u001b[39m0.97\u001b[39;49m, \u001b[39m0.85\u001b[39;49m), (\u001b[39m0\u001b[39;49m, \u001b[39m0.96\u001b[39;49m, \u001b[39m0.8\u001b[39;49m, \u001b[39m0.8\u001b[39;49m)])\n\u001b[0;32m     13\u001b[0m converter \u001b[39m=\u001b[39m TextConverter(\n\u001b[0;32m     14\u001b[0m     resource_manager,\n\u001b[0;32m     15\u001b[0m     fake_file_handle,\n\u001b[0;32m     16\u001b[0m     codec\u001b[39m=\u001b[39m\u001b[39m\"\u001b[39m\u001b[39mutf-8\u001b[39m\u001b[39m\"\u001b[39m,\n\u001b[0;32m     17\u001b[0m     laparams\u001b[39m=\u001b[39mlaparams,\n\u001b[0;32m     18\u001b[0m )\n\u001b[0;32m     19\u001b[0m page_interpreter \u001b[39m=\u001b[39m PDFPageInterpreter(resource_manager, converter)\n",
      "File \u001b[1;32mc:\\Users\\michi\\Anaconda3\\envs\\enterpriseai2\\lib\\site-packages\\pdfminer\\layout.py:98\u001b[0m, in \u001b[0;36mLAParams.__init__\u001b[1;34m(self, line_overlap, char_margin, line_margin, word_margin, boxes_flow, detect_vertical, all_texts)\u001b[0m\n\u001b[0;32m     95\u001b[0m \u001b[39mself\u001b[39m\u001b[39m.\u001b[39mdetect_vertical \u001b[39m=\u001b[39m detect_vertical\n\u001b[0;32m     96\u001b[0m \u001b[39mself\u001b[39m\u001b[39m.\u001b[39mall_texts \u001b[39m=\u001b[39m all_texts\n\u001b[1;32m---> 98\u001b[0m \u001b[39mself\u001b[39;49m\u001b[39m.\u001b[39;49m_validate()\n",
      "File \u001b[1;32mc:\\Users\\michi\\Anaconda3\\envs\\enterpriseai2\\lib\\site-packages\\pdfminer\\layout.py:108\u001b[0m, in \u001b[0;36mLAParams._validate\u001b[1;34m(self)\u001b[0m\n\u001b[0;32m    102\u001b[0m boxes_flow_err_msg \u001b[39m=\u001b[39m (\n\u001b[0;32m    103\u001b[0m     \u001b[39m\"\u001b[39m\u001b[39mLAParam boxes_flow should be None, or a \u001b[39m\u001b[39m\"\u001b[39m \u001b[39m\"\u001b[39m\u001b[39mnumber between -1 and +1\u001b[39m\u001b[39m\"\u001b[39m\n\u001b[0;32m    104\u001b[0m )\n\u001b[0;32m    105\u001b[0m \u001b[39mif\u001b[39;00m \u001b[39mnot\u001b[39;00m (\n\u001b[0;32m    106\u001b[0m     \u001b[39misinstance\u001b[39m(\u001b[39mself\u001b[39m\u001b[39m.\u001b[39mboxes_flow, \u001b[39mint\u001b[39m) \u001b[39mor\u001b[39;00m \u001b[39misinstance\u001b[39m(\u001b[39mself\u001b[39m\u001b[39m.\u001b[39mboxes_flow, \u001b[39mfloat\u001b[39m)\n\u001b[0;32m    107\u001b[0m ):\n\u001b[1;32m--> 108\u001b[0m     \u001b[39mraise\u001b[39;00m \u001b[39mTypeError\u001b[39;00m(boxes_flow_err_msg)\n\u001b[0;32m    109\u001b[0m \u001b[39mif\u001b[39;00m \u001b[39mnot\u001b[39;00m \u001b[39m-\u001b[39m\u001b[39m1\u001b[39m \u001b[39m<\u001b[39m\u001b[39m=\u001b[39m \u001b[39mself\u001b[39m\u001b[39m.\u001b[39mboxes_flow \u001b[39m<\u001b[39m\u001b[39m=\u001b[39m \u001b[39m1\u001b[39m:\n\u001b[0;32m    110\u001b[0m     \u001b[39mraise\u001b[39;00m \u001b[39mValueError\u001b[39;00m(boxes_flow_err_msg)\n",
      "\u001b[1;31mTypeError\u001b[0m: LAParam boxes_flow should be None, or a number between -1 and +1"
     ]
    }
   ],
   "source": [
    "text = pdf_to_text(\"module_handbooks/master_information_systems.pdf\", n=10)\n",
    "print(text)"
   ]
  },
  {
   "cell_type": "code",
   "execution_count": null,
   "metadata": {},
   "outputs": [],
   "source": [
    "# remove footer and \n",
    "text_processed = re.sub(r\"Master’s with 1 major Information Systems \\(2019\\).*?page \\d+ / \\d+\", \"\", text)\n",
    "\n",
    "\n",
    "\n",
    "# store the processd text in a new file\n",
    "with open(\"module_handbooks/master_information_systems_processed.txt\", \"w\") as f:\n",
    "    f.write(text_processed)\n"
   ]
  },
  {
   "cell_type": "code",
   "execution_count": null,
   "metadata": {},
   "outputs": [],
   "source": [
    "tables = re.split(r\"Module title\", text_processed)[1:]\n",
    "print(len(tables))\n",
    "print(\"---------------TABLE 0--------------------------\")\n",
    "print(tables[0])\n",
    "print(\"---------------TABLE 1--------------------------\")\n",
    "print(tables[1])\n",
    "print(\"---------------TABLE 2--------------------------\")\n",
    "print(tables[2])\n"
   ]
  },
  {
   "cell_type": "markdown",
   "metadata": {},
   "source": [
    "# Create Finale Dataframe with these columns"
   ]
  },
  {
   "cell_type": "code",
   "execution_count": null,
   "metadata": {},
   "outputs": [],
   "source": [
    "module_handbook_columns = [\n",
    "    \"module title\",\n",
    "    \"abbreviation\",\n",
    "    \"module coordinator\",\n",
    "    \"module offered by\",\n",
    "    \"ects\",\n",
    "    \"method of grading\",\n",
    "    \"only after successfull completion of module(s)\",\n",
    "    \"duration\",\n",
    "    \"module level\",\n",
    "    \"other prerequisites\",\n",
    "    \"contents\",\n",
    "    \"intended learning outcomes\",\n",
    "    \"courses\",\n",
    "    \"method of assessment\",\n",
    "    \"allocation of places\",\n",
    "    \"additional information\",\n",
    "    \"workload\",\n",
    "    \"teaching cycle\",\n",
    "    \"referred to in lpo I\",\n",
    "    \"page\",\n",
    "]\n",
    "\n",
    "module_handbook_df = pd.DataFrame(columns=module_handbook_columns)\n",
    "print(module_handbook_df)\n",
    "print(module_handbook_df.shape)\n",
    "module_handbook_df.to_csv(\n",
    "    \"module_handbooks/master_information_systems.csv\", index=False\n",
    ")"
   ]
  }
 ],
 "metadata": {
  "kernelspec": {
   "display_name": "Python 3",
   "language": "python",
   "name": "python3"
  },
  "language_info": {
   "codemirror_mode": {
    "name": "ipython",
    "version": 3
   },
   "file_extension": ".py",
   "mimetype": "text/x-python",
   "name": "python",
   "nbconvert_exporter": "python",
   "pygments_lexer": "ipython3",
   "version": "3.8.16"
  },
  "orig_nbformat": 4
 },
 "nbformat": 4,
 "nbformat_minor": 2
}
