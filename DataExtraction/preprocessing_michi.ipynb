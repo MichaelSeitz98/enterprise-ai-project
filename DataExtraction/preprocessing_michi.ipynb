{
 "cells": [
  {
   "cell_type": "code",
   "execution_count": null,
   "metadata": {},
   "outputs": [],
   "source": [
    "import pandas as pd\n",
    "from keybert import KeyBERT\n",
    "\n",
    "pd.set_option('display.max_colwidth', None)\n",
    "\n",
    "# python -m spacy download en_core_web_sm\n",
    "# pip install keybert "
   ]
  },
  {
   "cell_type": "code",
   "execution_count": null,
   "metadata": {},
   "outputs": [],
   "source": [
    "def remove_newlines_at_start_end(df):\n",
    "    \"\"\"\n",
    "    Removes leading and trailing newlines from all columns of a pandas dataframe.\n",
    "    \"\"\"\n",
    "    # for all string columns, remove leading and trailing newlines\n",
    "    for col in df.select_dtypes(include=['object']).columns:\n",
    "        df[col] = df[col].str.strip('\\n')\n",
    "    return df\n",
    "\n",
    "df = pd.read_csv('MS_IS_all_modules.csv')\n",
    "\n",
    "def xlsx_to_csv(xlsx_file_path, csv_file_path):\n",
    "    df = pd.read_excel(xlsx_file_path)\n",
    "    print(df.head())\n",
    "    df.shape\n",
    "    df.to_csv(csv_file_path)\n",
    "\n",
    "\n",
    "def extract_keywords_from_content(df):\n",
    "    df = remove_newlines_at_start_end(df)\n",
    "    kw_model = KeyBERT()\n",
    "    df['keywords'] = df['Contents'].apply(lambda x: ', '.join(kw[0] for kw in kw_model.extract_keywords(x, keyphrase_ngram_range=(1,2),\n",
    "                                        stop_words='english', \n",
    "                                        highlight=False,\n",
    "                                        top_n=4)))\n",
    "    return df\n",
    "\n",
    "\n",
    "def extract_keywords_from_intended_learning_outcomes(df):\n",
    "    df = remove_newlines_at_start_end(df)\n",
    "    kw_model = KeyBERT()\n",
    "    df['keywords_learning'] = df['Intended learning outcomes'].apply(lambda x: ', '.join(kw[0] for kw in kw_model.extract_keywords(x, keyphrase_ngram_range=(1,2),\n",
    "                                        stop_words='english', \n",
    "                                        highlight=False,\n",
    "                                        top_n=4)))\n",
    "    return df\n"
   ]
  },
  {
   "cell_type": "code",
   "execution_count": null,
   "metadata": {},
   "outputs": [],
   "source": [
    "df = pd.read_csv('MS_IS_all_modules.csv')  \n",
    "\n",
    "df = df.head(30)\n",
    "df = extract_keywords_from_content(df)  \n",
    "df = extract_keywords_from_intended_learning_outcomes(df)\n",
    "df[['Module title', 'keywords', 'Contents', ]].head(30)\n",
    "\n",
    "print(\"---------------SAME FOR INTENDED LEARNING OUTCOMES-------------------\")\n",
    "\n",
    "df = extract_keywords_from_intended_learning_outcomes(df)  # Pass the dataframe to the function\n",
    "df[['Module title', 'keywords', 'Contents', 'keywords_learning', 'Intended learning outcomes']].head(30)"
   ]
  },
  {
   "cell_type": "markdown",
   "metadata": {},
   "source": [
    "# Ansatz mit zugeordneten Schlagwörter (Ausblick --> erstmal verworfen) "
   ]
  },
  {
   "cell_type": "code",
   "execution_count": null,
   "metadata": {},
   "outputs": [],
   "source": [
    "import pandas as pd\n",
    "import spacy\n",
    "from sklearn.feature_extraction.text import TfidfVectorizer\n",
    "from sklearn.metrics.pairwise import cosine_similarity\n",
    "\n",
    "def assign_categories(dataframe):\n",
    "    # Define the predefined categories\n",
    "    categories = {\n",
    "        \"Artificial Intelligence\": [\"AI\", \"Machine Learning\", \"Deep Learning\", \"Neuronal Nets\"],\n",
    "        \"Strategy\": [\"Business Strategy\", \"Market Analysis\", \"Competitive Intelligence\"],\n",
    "        \"Marketing\": [\"Digital Marketing\", \"Social Media Marketing\", \"Market Research\"],\n",
    "        \"Optimization\": [\"Operations Optimization\", \"Process Improvement\", \"Supply Chain Optimization\"],\n",
    "        \"Data Science\": [\"Data Analysis\", \"Data Mining\", \"Statistical Modeling\"],\n",
    "        \"Software Engineering\": [\"Software Development\", \"Programming\", \"Web Development\", \"\"],\n",
    "        \"Society and Ethics\": [\"Ethical Issues\", \"Social Impact\", \"Sustainability\", \"Privacy\"],\n",
    "        \"Finance\": [\"Financial Analysis\", \"Financial Markets\", \"Accounting\", \"Financial Reporting\"],\n",
    "        \"Management\": [\"Leadership\", \"Project Management\", \"Team Management\", \"Change Management\"],\n",
    "        \"Communication\": [\"Presentation Skills\", \"Negotiation\", \"Stakeholder Management\", \"Conflict Management\"],\n",
    "        \"Entrepreneurship\": [\"Business Development\", \"Innovation\", \"Startups\", \"Venture Capital\"],\n",
    "        \"Blockchain\": [\"Distributed Ledger\", \"Smart Contracts\", \"Cryptocurrencies\", \"Decentralized Applications\"],\n",
    "        \"Internet of Things\": [\"IoT Devices\", \"IoT Platforms\", \"IoT Security\", \"IoT Data Management\"],\n",
    "    }\n",
    "\n",
    "    # Initialize the NLP model (spacy)\n",
    "    nlp = spacy.load(\"en_core_web_sm\")\n",
    "\n",
    "    # Extract the names of predefined categories\n",
    "    category_names = list(categories.keys())\n",
    "\n",
    "    # Create a TF-IDF vectorizer\n",
    "    vectorizer = TfidfVectorizer()\n",
    "\n",
    "    # Fit and transform the predefined category names\n",
    "    category_vectors = vectorizer.fit_transform(category_names)\n",
    "\n",
    "    # Iterate over the rows in the DataFrame\n",
    "    assigned_categories = []\n",
    "    for index, row in dataframe.iterrows():\n",
    "        # Extract the row name\n",
    "        row_name = row[\"Module title\"]\n",
    "\n",
    "        # Calculate the similarity between the row name and predefined categories\n",
    "        row_vector = vectorizer.transform([row_name])\n",
    "        similarities = cosine_similarity(row_vector, category_vectors)[0]\n",
    "\n",
    "        # Find the index of the most similar category\n",
    "        max_index = similarities.argmax()\n",
    "\n",
    "        # Assign the category based on the index, if scores are less than 0.75, assign \"Other\"\n",
    "        if similarities[max_index] < 0.000008:\n",
    "            assigned_category = \"Other\"\n",
    "        else:\n",
    "            assigned_category = category_names[max_index]\n",
    "        \n",
    "\n",
    "        # Add the assigned category to the list\n",
    "        assigned_categories.append(assigned_category)\n",
    "\n",
    "    # Add the assigned categories to the DataFrame\n",
    "    dataframe[\"Assigned Category\"] = assigned_categories\n",
    "\n",
    "    return dataframe\n",
    "\n",
    "# Example usage\n",
    "\n",
    "df = pd.read_csv('MS_IS_all_modules.csv')\n",
    "\n",
    "df = pd.DataFrame(df)\n",
    "df_with_categories = assign_categories(df)\n",
    "#print only the columns we need\n",
    "df_with_categories = df_with_categories[['Module title', 'Assigned Category']]\n",
    "print(df_with_categories)"
   ]
  },
  {
   "cell_type": "markdown",
   "metadata": {},
   "source": [
    "# Ansatz über Zero-Shot-Classificator\n"
   ]
  },
  {
   "cell_type": "code",
   "execution_count": null,
   "metadata": {},
   "outputs": [],
   "source": [
    "from transformers import pipeline\n",
    "classifier = pipeline(\"zero-shot-classification\", model=\"facebook/bart-large-mnli\")"
   ]
  },
  {
   "cell_type": "code",
   "execution_count": null,
   "metadata": {},
   "outputs": [],
   "source": [
    "candidate_labels = [\n",
    "    \"Artificial Intelligence\",\n",
    "    \"Strategy\",\n",
    "    \"Marketing\",\n",
    "    \"Optimization\",\n",
    "    \"Data Science\",\n",
    "    \"Software Engineering\",\n",
    "    \"Society and Ethics\",\n",
    "    \"Finance\",\n",
    "    \"Management\",\n",
    "    \"Communication\",\n",
    "    \"Entrepreneurship\",\n",
    "    \"Internet of Things\",\n",
    "]"
   ]
  },
  {
   "cell_type": "code",
   "execution_count": null,
   "metadata": {},
   "outputs": [],
   "source": [
    "df = pd.read_csv('MS_IS_all_modules.csv')\n",
    "\n",
    "print(df['Module title'][5])\n",
    "text = df['Module title'][5]\n",
    "print(text)\n",
    "\n",
    "output = classifier(text, candidate_labels, device=0)\n",
    "df = pd.DataFrame({'label': output['labels'], 'score': output['scores']})\n",
    "nr_of_results = 3\n",
    "df = df.sort_values(by=['score'], ascending=False).head(nr_of_results)\n",
    "print(df)"
   ]
  }
 ],
 "metadata": {
  "kernelspec": {
   "display_name": "enterpriseai2",
   "language": "python",
   "name": "python3"
  },
  "language_info": {
   "codemirror_mode": {
    "name": "ipython",
    "version": 3
   },
   "file_extension": ".py",
   "mimetype": "text/x-python",
   "name": "python",
   "nbconvert_exporter": "python",
   "pygments_lexer": "ipython3",
   "version": "3.8.16"
  },
  "orig_nbformat": 4
 },
 "nbformat": 4,
 "nbformat_minor": 2
}
