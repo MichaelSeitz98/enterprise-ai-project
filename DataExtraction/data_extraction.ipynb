{
 "cells": [
  {
   "cell_type": "code",
   "execution_count": null,
   "metadata": {},
   "outputs": [],
   "source": [
    "# Necessary pip installs: \n",
    "# pip install pandas\n",
    "# pip install pdfminer.six\n",
    "# pip install xlsxwriter"
   ]
  },
  {
   "cell_type": "code",
   "execution_count": 1,
   "metadata": {},
   "outputs": [],
   "source": [
    "import re\n",
    "from pdfminer.high_level import extract_text\n",
    "import pandas as pd\n",
    "\n",
    "# Read PDF file\n",
    "text_Module_Catalogue = extract_text(\"MA_IS_allModules.pdf\")\n",
    "\n",
    "# Pattern to remove Master Information Systems\n",
    "removal_patterns_MS_IS = [\n",
    "        r\"Module Catalogue for the Subject\\nInformation Systems\\nMaster’s with 1 major, 120 ECTS credits\",\n",
    "        r\"JMU\\sWürzburg\\s•\\sgenerated\\s\\d{1,2}-[A-Za-z]+-\\d{4}\\s•\\sexam\\.\\sreg\\.\\sda-\\nta\\srecord\\sMaster\\s\\(120\\sECTS\\)\\sInformation\\sSystems\\s-\\s\\d{4}\",\n",
    "        r\"Master’s\\s+with\\s+1\\s+major\\s+Information\\s+Systems\\s+\\(\\d{4}\\)\",\n",
    "        r\"page\\s+\\d+\\s+/\\s+\\d+\",\n",
    "        r'^\\s*$'\n",
    "    ]"
   ]
  },
  {
   "cell_type": "code",
   "execution_count": 2,
   "metadata": {},
   "outputs": [],
   "source": [
    "# regex patterns to get attributes of Master Information Systems\n",
    "from enum import Enum\n",
    "\n",
    "class Patterns_MS_IS(Enum):\n",
    "    PATTERN_ENTIRE_MODULE = r\"Module title[\\s\\S]*?(?=Module title|$)\"\n",
    "    MODULE_TITLE = r'Module title\\s*\\n*\\s*(.*)'\n",
    "    ABBREVIATION = r'Abbreviation\\s*\\n*\\s*(.*)'\n",
    "    MODULE_OFFERED_BY = r\"^(Faculty|Institute).*\"\n",
    "    MODULE_COORDINATOR = r\"^(Holder|holder|Dean).*\"\n",
    "    ETCS = r\"^\\d{1,2}$\"\n",
    "    METHOD_GRADING = r\".*(not\\s)?successfully completed|numerical grade.*\"\n",
    "    DURATION = r\"^\\d\\ssemester$\"\n",
    "    MODULE_LEVEL = r\"^(?:graduate|undergraduate)$\"\n",
    "    CONTENTS = r'Contents([\\s\\S]*?)Intended learning outcomes'\n",
    "    INTENDED_LEARNING_OUTCOMES = r'Intended learning outcomes\\n\\n([\\s\\S]*?)\\n\\nCourses \\(type'\n",
    "    COURSES = r'if other than German\\)([\\s\\S]*?)Method of assessment'\n",
    "    ASSESSMENT = r'whether\\s*\\nmodule is creditable for bonus\\)([\\s\\S]*?)Allocation of places'\n",
    "    ALLOCATION = r'Allocation of places([\\s\\S]*?)Additional information'\n",
    "    ADDITIONAL_INFORMATION = r'Additional information([\\s\\S]*?)Workload'\n",
    "    WORKLOAD = r'Workload([\\s\\S]*?)Teaching cycle'\n",
    "    TEACHING_CYCLE = r'Teaching cycle([\\s\\S]*?)Referred to in LPO I'\n",
    "    REFERRED_LPO = r'regulations for teaching-degree programmes\\)([\\s\\S]*?)Module appears in'\n"
   ]
  },
  {
   "cell_type": "code",
   "execution_count": 31,
   "metadata": {},
   "outputs": [],
   "source": [
    "from helper_methods import extract_first_match, extract_LineMatch, clean_entries\n",
    "import xlsxwriter\n",
    "\n",
    "# Extract modules to xlsx  -> Method shall be used generically for all modules later\n",
    "\n",
    "def extract_modules_to_xlsx (text, patternsToRemove, file_path):\n",
    "\n",
    "    modules = re.findall(Patterns_MS_IS.PATTERN_ENTIRE_MODULE.value, text)\n",
    "    modules = clean_entries(modules, patternsToRemove)\n",
    "\n",
    "    workbook = xlsxwriter.Workbook(file_path)\n",
    "    worksheet = workbook.add_worksheet()\n",
    "\n",
    "    # set columns\n",
    "    column_names = ['Module title', 'Abbreviation', 'Module coordinator', 'Module offered by', 'ETCS', 'Method of grading',\n",
    "                'Duration', 'Module level', 'Contents', 'Intended learning outcomes', 'Courses', 'Method of assessment',\n",
    "                'Allocation of places', 'Additional information', 'Workload', 'Teaching cycle', 'Referred to in LPO I']\n",
    "    \n",
    "    for i in range(len(column_names)):\n",
    "        worksheet.write(0, i, column_names[i])\n",
    "\n",
    "    counter = 1\n",
    "    # Extract module attributes\n",
    "    for i in range(len(modules)):\n",
    "        module_attributes = []\n",
    "        module_attributes.append(extract_first_match(modules[i], Patterns_MS_IS.MODULE_TITLE.value))\n",
    "        module_attributes.append(extract_first_match(modules[i], Patterns_MS_IS.ABBREVIATION.value))\n",
    "        module_attributes.append(extract_LineMatch(modules[i], Patterns_MS_IS.MODULE_OFFERED_BY.value))\n",
    "        module_attributes.append(extract_LineMatch(modules[i], Patterns_MS_IS.MODULE_COORDINATOR.value))\n",
    "        module_attributes.append(extract_LineMatch(modules[i], Patterns_MS_IS.ETCS.value))\n",
    "        module_attributes.append(extract_LineMatch(modules[i], Patterns_MS_IS.METHOD_GRADING.value))\n",
    "        module_attributes.append(extract_LineMatch(modules[i], Patterns_MS_IS.DURATION.value))\n",
    "        module_attributes.append(extract_LineMatch(modules[i], Patterns_MS_IS.MODULE_LEVEL.value))\n",
    "        module_attributes.append(extract_first_match(modules[i], Patterns_MS_IS.CONTENTS.value))\n",
    "        module_attributes.append(extract_first_match(modules[i], Patterns_MS_IS.INTENDED_LEARNING_OUTCOMES.value))\n",
    "        module_attributes.append(extract_first_match(modules[i], Patterns_MS_IS.COURSES.value))\n",
    "        module_attributes.append(extract_first_match(modules[i], Patterns_MS_IS.ASSESSMENT.value))\n",
    "        module_attributes.append(extract_first_match(modules[i], Patterns_MS_IS.ALLOCATION.value))\n",
    "        module_attributes.append(extract_first_match(modules[i], Patterns_MS_IS.ADDITIONAL_INFORMATION.value))\n",
    "        module_attributes.append(extract_first_match(modules[i], Patterns_MS_IS.WORKLOAD.value))\n",
    "        module_attributes.append(extract_first_match(modules[i], Patterns_MS_IS.TEACHING_CYCLE.value))\n",
    "        module_attributes.append(extract_first_match(modules[i], Patterns_MS_IS.REFERRED_LPO.value))\n",
    "        \n",
    "        # Write to xlsx file\n",
    "        for j in range(len(module_attributes)):\n",
    "            worksheet.write(counter, j, module_attributes[j])\n",
    "        \n",
    "        counter += 1\n",
    "    workbook.close()\n",
    "\n",
    "\n"
   ]
  },
  {
   "cell_type": "code",
   "execution_count": 32,
   "metadata": {},
   "outputs": [],
   "source": [
    "# Use write to xlsx method for Master Information Systems\n",
    "\n",
    "extract_modules_to_xlsx(text_Module_Catalogue, removal_patterns_MS_IS, \"MS_IS_all_modules.xlsx\")\n"
   ]
  }
 ],
 "metadata": {
  "kernelspec": {
   "display_name": "py38",
   "language": "python",
   "name": "python3"
  },
  "language_info": {
   "codemirror_mode": {
    "name": "ipython",
    "version": 3
   },
   "file_extension": ".py",
   "mimetype": "text/x-python",
   "name": "python",
   "nbconvert_exporter": "python",
   "pygments_lexer": "ipython3",
   "version": "3.8.16"
  },
  "orig_nbformat": 4
 },
 "nbformat": 4,
 "nbformat_minor": 2
}
