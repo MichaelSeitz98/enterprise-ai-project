{
 "cells": [
  {
   "cell_type": "code",
   "execution_count": null,
   "metadata": {},
   "outputs": [],
   "source": [
    "# Necessary pip installs: \n",
    "# pip install pandas\n",
    "# pip install pdfminer.six"
   ]
  },
  {
   "cell_type": "code",
   "execution_count": 26,
   "metadata": {},
   "outputs": [],
   "source": [
    "import re\n",
    "import csv\n",
    "import tempfile\n",
    "import shutil\n",
    "from pdfminer.high_level import extract_text\n",
    "import pandas as pd\n",
    "\n",
    "# Read PDF file\n",
    "text_Module_Catalogue = extract_text(\"MA_IS_allModules.pdf\")\n",
    "\n",
    "# Pattern to remove Master Information Systems\n",
    "removal_patterns_MS_IS = [\n",
    "        r\"Module Catalogue for the Subject\\nInformation Systems\\nMaster’s with 1 major, 120 ECTS credits\",\n",
    "        r\"JMU\\sWürzburg\\s•\\sgenerated\\s\\d{1,2}-[A-Za-z]+-\\d{4}\\s•\\sexam\\.\\sreg\\.\\sda-\\nta\\srecord\\sMaster\\s\\(120\\sECTS\\)\\sInformation\\sSystems\\s-\\s\\d{4}\",\n",
    "        r\"Master’s\\s+with\\s+1\\s+major\\s+Information\\s+Systems\\s+\\(\\d{4}\\)\",\n",
    "        r\"page\\s+\\d+\\s+/\\s+\\d+\",\n",
    "        r'^\\s*$'\n",
    "    ]"
   ]
  },
  {
   "cell_type": "code",
   "execution_count": 27,
   "metadata": {},
   "outputs": [],
   "source": [
    "# regex patterns to get attributes of Master Information Systems\n",
    "from enum import Enum\n",
    "\n",
    "class Patterns_MS_IS(Enum):\n",
    "    PATTERN_ENTIRE_MODULE = r\"Module title[\\s\\S]*?(?=Module title|$)\"\n",
    "    MODULE_TITLE = r'Module title\\s*\\n*\\s*(.*)'\n",
    "    ABBREVIATION = r'Abbreviation\\s*\\n*\\s*(.*)'\n",
    "    MODULE_OFFERED_BY = r\"^(Faculty|Institute).*\"\n",
    "    MODULE_COORDINATOR = r\"^(Holder|holder|Dean).*\"\n",
    "    ETCS = r\"^\\d{1,2}$\"\n",
    "    METHOD_GRADING = r\".*(not\\s)?successfully completed|numerical grade.*\"\n",
    "    DURATION = r\"^\\d\\ssemester$\"\n",
    "    MODULE_LEVEL = r\"^(?:graduate|undergraduate)$\"\n",
    "    CONTENTS = r'Contents([\\s\\S]*?)Intended learning outcomes'\n",
    "    INTENDED_LEARNING_OUTCOMES = r'Intended learning outcomes\\n\\n([\\s\\S]*?)\\n\\nCourses \\(type'\n",
    "    COURSES = r'if other than German\\)([\\s\\S]*?)Method of assessment'\n",
    "    ASSESSMENT = r'whether\\s*\\nmodule is creditable for bonus\\)([\\s\\S]*?)Allocation of places'\n",
    "    ALLOCATION = r'Allocation of places([\\s\\S]*?)Additional information'\n",
    "    ADDITIONAL_INFORMATION = r'Additional information([\\s\\S]*?)Workload'\n",
    "    WORKLOAD = r'Workload([\\s\\S]*?)Teaching cycle'\n",
    "    TEACHING_CYCLE = r'Teaching cycle([\\s\\S]*?)Referred to in LPO I'\n",
    "    REFERRED_LPO = r'regulations for teaching-degree programmes\\)([\\s\\S]*?)Module appears in'\n"
   ]
  },
  {
   "cell_type": "code",
   "execution_count": 31,
   "metadata": {},
   "outputs": [],
   "source": [
    "from helper_methods import extract_first_match, extract_LineMatch, clean_entries, add_row_to_csv\n",
    "\n",
    "# Extract modules to csv  -> Method shall be used generically for all modules later\n",
    "\n",
    "def extract_modules_to_csv (text, patternsToRemove, filename):\n",
    "\n",
    "    modules = re.findall(Patterns_MS_IS.PATTERN_ENTIRE_MODULE.value, text)\n",
    "    modules = clean_entries(modules, patternsToRemove)\n",
    "    \n",
    "    # Extract module attributes\n",
    "    for module in modules[0:2]:\n",
    "        module_attributes = []\n",
    "        module_attributes.append(extract_first_match(module, Patterns_MS_IS.MODULE_TITLE.value))\n",
    "        module_attributes.append(extract_first_match(module, Patterns_MS_IS.ABBREVIATION.value))\n",
    "        module_attributes.append(extract_LineMatch(module, Patterns_MS_IS.MODULE_OFFERED_BY.value))\n",
    "        module_attributes.append(extract_LineMatch(module, Patterns_MS_IS.MODULE_COORDINATOR.value))\n",
    "        module_attributes.append(extract_LineMatch(module, Patterns_MS_IS.ETCS.value))\n",
    "        module_attributes.append(extract_LineMatch(module, Patterns_MS_IS.METHOD_GRADING.value))\n",
    "        module_attributes.append(extract_LineMatch(module, Patterns_MS_IS.DURATION.value))\n",
    "        module_attributes.append(extract_LineMatch(module, Patterns_MS_IS.MODULE_LEVEL.value))\n",
    "        module_attributes.append(extract_first_match(module, Patterns_MS_IS.CONTENTS.value))\n",
    "        module_attributes.append(extract_first_match(module, Patterns_MS_IS.INTENDED_LEARNING_OUTCOMES.value))\n",
    "        module_attributes.append(extract_first_match(module, Patterns_MS_IS.COURSES.value))\n",
    "        module_attributes.append(extract_first_match(module, Patterns_MS_IS.ASSESSMENT.value))\n",
    "        module_attributes.append(extract_first_match(module, Patterns_MS_IS.ALLOCATION.value))\n",
    "        module_attributes.append(extract_first_match(module, Patterns_MS_IS.ADDITIONAL_INFORMATION.value))\n",
    "        module_attributes.append(extract_first_match(module, Patterns_MS_IS.WORKLOAD.value))\n",
    "        module_attributes.append(extract_first_match(module, Patterns_MS_IS.TEACHING_CYCLE.value))\n",
    "        module_attributes.append(extract_first_match(module, Patterns_MS_IS.REFERRED_LPO.value))\n",
    "        # Write to csv\n",
    "        print(module_attributes)\n",
    "        add_row_to_csv(filename, module_attributes)\n",
    "\n"
   ]
  },
  {
   "cell_type": "code",
   "execution_count": 32,
   "metadata": {},
   "outputs": [
    {
     "name": "stdout",
     "output_type": "stream",
     "text": [
      "['Information Processing within Organizations', '12-IV-161-m01', 'Faculty of Business Management and Economics', 'holder of the Chair of Business Management and Business ', '5', 'numerical grade', '1 semester', 'graduate', '\\n\\nContent:\\nThis course provides students with an in-depth overview of the structure and the application areas of business \\nmanagement information systems in enterprises and public institutions.\\n\\nOutline of syllabus:\\n1. What is software: concepts, categories, application\\n2. Software life cycle: duration, phases, steps\\n3. As-is analysis: tasks, problems\\n4. To-be concept: system design, data design, dialog design, function design\\n5. Object orientation: paradigm shift\\n6. Change management: meaning, methodologies, project management\\n7. Office automation: tasks, areas of application\\n\\n', 'After completing the course \"Integrated Information Processing\", students will be able to\\n(i) understand the importance of integration in enterprises, especially in information systems;\\n(ii) assess the progress of development of a software project, estimate cycle costs, know and consider require-\\nments, which brings a software implementation with;\\n(iii) select the correct procedures or practices in an as-is analysis and target conception and practically apply \\n(with participation in the exercise);\\n(iv) understand the importance of change management and project management and know the appropriate me-\\nthods for specific applications.', '\\n\\nV (2) + Ü (2)\\n\\n', '\\n\\nwritten examination (approx. 60 minutes)\\nLanguage of assessment: German and/or English\\ncreditable for bonus\\n\\n', '\\n\\n--\\n\\n', '\\n\\n--\\n\\n', '\\n\\n150 h\\n\\n', '\\n\\n--\\n\\n', '\\n\\n--\\n\\n']\n",
      "['IT-Management', '12-M-ITM-161-m01', 'Faculty of Business Management and Economics', 'Holder of the Chair of Information Systems Engineering', '5', 'numerical grade', '1 semester', 'graduate', '\\n\\nContent:\\nThis course provides students with an in-depth overview of aims, tasks and appropriate methods of IT manage-\\nment.\\n\\nOutline of syllabus:\\n1. Organisation and distinction\\n2. IT strategy\\n3. IT organisation\\n4. Management of IT systems\\n5. Enterprise Architecture Management\\n6. IT project management\\n7. IT security\\n8. IT law\\n9. IT controlling\\n\\nReading:\\n\\n• Hofmann/Schmidt: Masterkurs IT-Management, Wiesbaden.\\n• Tiemeyer: Handbuch IT-Management, Munich.\\n• Hanschke: Strategisches Management der IT-Landschaft, Munich.\\n\\n', 'After completing the course \"IT Management\", students will be able to\\n1. overview the different aspects to be considered regarding a purposeful IT management;\\n2. understand and apply appropriate methods and tools;\\n3. independently perform system search and selection in a team project (only after participation in the practice \\n\\nlessons).', '\\n\\nV (2) + Ü (2)\\n\\n', '\\n\\na) written examination (approx. 60 minutes) or b) oral examination (one candidate each: approx. 15 to 20 minu-\\ntes; groups of 2: approx. 20 minutes; groups of 3: approx. 30 minutes)\\nLanguage of assessment: German and/or English\\ncreditable for bonus\\n\\n', '\\n\\n--\\n\\n', '\\n\\n--\\n\\n', '\\n\\n150 h\\n\\n', '\\n\\n--\\n\\n', '\\n\\n--\\n\\n']\n"
     ]
    }
   ],
   "source": [
    "# Use write to csv method for Master Information Systems\n",
    "\n",
    "\n",
    "\n",
    "extract_modules_to_csv(text_Module_Catalogue, removal_patterns_MS_IS, \"MS_IS_all_modules1.csv\")"
   ]
  }
 ],
 "metadata": {
  "kernelspec": {
   "display_name": "py38",
   "language": "python",
   "name": "python3"
  },
  "language_info": {
   "codemirror_mode": {
    "name": "ipython",
    "version": 3
   },
   "file_extension": ".py",
   "mimetype": "text/x-python",
   "name": "python",
   "nbconvert_exporter": "python",
   "pygments_lexer": "ipython3",
   "version": "3.8.16"
  },
  "orig_nbformat": 4
 },
 "nbformat": 4,
 "nbformat_minor": 2
}
