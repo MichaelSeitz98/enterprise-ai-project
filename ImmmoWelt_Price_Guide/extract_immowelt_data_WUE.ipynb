{
 "cells": [
  {
   "cell_type": "code",
   "execution_count": 1,
   "metadata": {},
   "outputs": [],
   "source": [
    "from enum import Enum\n",
    "\n",
    "class ImmoWeltUrls(Enum):\n",
    "    BUY_FLATS_WUE_10km = \"https://www.immowelt.de/liste/wuerzburg/wohnungen/kaufen?d=true&r=10&sd=DESC&sf=RELEVANCE&sp=1\"\n",
    "    # add price range to avoid \"consulting\"-offers without named price \n",
    "    BUY_HOUSES_WUE_10km = \"https://www.immowelt.de/liste/wuerzburg/haeuser/kaufen?d=true&pma=10000000&pmi=10&r=10&sd=DESC&sf=RELEVANCE&sp=1\"\n",
    "    RENT_FLATS_WUE_10km = \"https://www.immowelt.de/liste/wuerzburg/wohnungen/mieten?d=true&r=10&sd=DESC&sf=RELEVANCE&sp=1\"\n",
    "    RENT_HOUSES_WUE_10km = \"https://www.immowelt.de/liste/wuerzburg/haeuser/mieten?d=true&r=10&sd=DESC&sf=RELEVANCE&sp=1\"\n",
    "\n"
   ]
  },
  {
   "cell_type": "code",
   "execution_count": 2,
   "metadata": {},
   "outputs": [],
   "source": [
    "from apify_client import ApifyClient\n",
    "\n",
    "def get_dataset_items(url, limit):\n",
    "    # Initialize the ApifyClient with your API token\n",
    "    client = ApifyClient(\"apify_api_ODNYdzGzgsEyN9NGAQ3vyPyqTuj1jq34zPry\")\n",
    "\n",
    "    # Prepare the Actor input\n",
    "    run_input = {\n",
    "        \"startUrls\": [{ \"url\": url }],\n",
    "        \"limit\": limit,\n",
    "        \"proxyConfig\": { \"useApifyProxy\": True },\n",
    "    }\n",
    "\n",
    "    # Run the Actor and wait for it to finish\n",
    "    run = client.actor(\"b4d9dfcf9MzBnyW7z\").call(run_input=run_input)\n",
    "\n",
    "    # Get the output of the Actor run\n",
    "    dataset_items = []\n",
    "    for item in client.dataset(run[\"defaultDatasetId\"]).iterate_items():\n",
    "        dataset_items.append(item)\n",
    "\n",
    "    return dataset_items\n",
    "\n"
   ]
  },
  {
   "cell_type": "code",
   "execution_count": 3,
   "metadata": {},
   "outputs": [],
   "source": [
    "# get data \n",
    "# flats_to_buy = get_dataset_items(ImmoWeltUrls.BUY_FLATS_WUE_10km.value, 50)\n",
    "houses_to_buy = get_dataset_items(ImmoWeltUrls.BUY_HOUSES_WUE_10km.value, 50)\n",
    "# flats_to_rent = get_dataset_items(ImmoWeltUrls.RENT_FLATS_WUE_10km.value, 50)\n",
    "# houses_to_rent = get_dataset_items(ImmoWeltUrls.RENT_HOUSES_WUE_10km.value, 50)"
   ]
  },
  {
   "cell_type": "code",
   "execution_count": 4,
   "metadata": {},
   "outputs": [],
   "source": [
    "import openpyxl\n",
    "import json\n",
    "\n",
    "def write_data_to_excel(data_objects, file_name):\n",
    "    # Create a new workbook and select the active sheet\n",
    "    workbook = openpyxl.Workbook()\n",
    "    sheet = workbook.active\n",
    "\n",
    "    # Write the headers\n",
    "    headers = list(data_objects[0].keys())\n",
    "    for col_num, header in enumerate(headers, 1):\n",
    "        sheet.cell(row=1, column=col_num).value = header\n",
    "\n",
    "    # Write the data rows\n",
    "    for row_num, data in enumerate(data_objects, 2):\n",
    "        for col_num, header in enumerate(headers, 1):\n",
    "            value = json.dumps(data.get(header, \"\"))  # Convert value to string, use empty string if key not found\n",
    "            sheet.cell(row=row_num, column=col_num).value = value\n",
    "\n",
    "    # Save the workbook\n",
    "    workbook.save(file_name)"
   ]
  },
  {
   "cell_type": "code",
   "execution_count": 5,
   "metadata": {},
   "outputs": [],
   "source": [
    "# write data to excel for each category\n",
    "# write_data_to_excel(flats_to_buy, \"flats_to_buy.xlsx\")\n",
    "write_data_to_excel(houses_to_buy, \"houses_to_buy1.xlsx\")\n",
    "# write_data_to_excel(flats_to_rent, \"flats_to_rent.xlsx\")\n",
    "# write_data_to_excel(houses_to_rent, \"houses_to_rent.xlsx\")\n"
   ]
  }
 ],
 "metadata": {
  "kernelspec": {
   "display_name": "py38",
   "language": "python",
   "name": "python3"
  },
  "language_info": {
   "codemirror_mode": {
    "name": "ipython",
    "version": 3
   },
   "file_extension": ".py",
   "mimetype": "text/x-python",
   "name": "python",
   "nbconvert_exporter": "python",
   "pygments_lexer": "ipython3",
   "version": "3.8.16"
  },
  "orig_nbformat": 4
 },
 "nbformat": 4,
 "nbformat_minor": 2
}
