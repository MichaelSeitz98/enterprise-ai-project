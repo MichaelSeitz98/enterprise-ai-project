{
 "cells": [
  {
   "cell_type": "code",
   "execution_count": 2,
   "metadata": {},
   "outputs": [],
   "source": [
    "from enum import Enum\n",
    "from preprocessing_methods import *\n",
    "from apify_scrap import *\n",
    "\n",
    "class ImmoWeltUrls(Enum):\n",
    "    BUY_FLATS_WUE_10km = \"https://www.immowelt.de/liste/wuerzburg/wohnungen/kaufen?d=true&r=10&sd=DESC&sf=RELEVANCE&sp=1\"\n",
    "    # add price range to avoid \"consulting\"-offers without named price \n",
    "    BUY_HOUSES_WUE_10km = \"https://www.immowelt.de/liste/wuerzburg/haeuser/kaufen?d=true&pma=10000000&pmi=10&r=10&sd=DESC&sf=RELEVANCE&sp=1\"\n",
    "    RENT_FLATS_WUE_10km = \"https://www.immowelt.de/liste/wuerzburg/wohnungen/mieten?d=true&r=10&sd=DESC&sf=RELEVANCE&sp=1\"\n",
    "    RENT_HOUSES_WUE_10km = \"https://www.immowelt.de/liste/wuerzburg/haeuser/mieten?d=true&r=10&sd=DESC&sf=RELEVANCE&sp=1\"\n"
   ]
  },
  {
   "cell_type": "code",
   "execution_count": 2,
   "metadata": {},
   "outputs": [],
   "source": [
    "# get data \n",
    "# flats_to_buy = get_dataset_items(ImmoWeltUrls.BUY_FLATS_WUE_10km.value, 50)\n",
    "#houses_to_buy = get_dataset_items(ImmoWeltUrls.BUY_HOUSES_WUE_10km.value, 50)\n",
    "flats_to_rent = get_dataset_items(ImmoWeltUrls.RENT_FLATS_WUE_10km.value, 50)\n",
    "# houses_to_rent = get_dataset_items(ImmoWeltUrls.RENT_HOUSES_WUE_10km.value, 50)"
   ]
  },
  {
   "cell_type": "code",
   "execution_count": 3,
   "metadata": {},
   "outputs": [],
   "source": [
    "# write data to excel for each category\n",
    "\n",
    "# write_data_to_excel(flats_to_buy, \"flats_to_buy.xlsx\")\n",
    "# write_data_to_excel(houses_to_buy, \"houses_to_buy1.xlsx\")\n",
    "write_data_to_excel(flats_to_rent, \"data/flats_to_rent_wue.xlsx\")\n",
    "# write_data_to_excel(houses_to_rent, \"houses_to_rent.xlsx\")"
   ]
  },
  {
   "cell_type": "code",
   "execution_count": 3,
   "metadata": {},
   "outputs": [
    {
     "name": "stdout",
     "output_type": "stream",
     "text": [
      "Index(['Object_price', 'LivingSpace', 'Rooms', 'ConstructionYear', 'ZipCode',\n",
      "       'EstateType', 'DistributionType', 'abstellraum',\n",
      "       'als_ferienimmobilie_geeignet', 'altbau_(bis_1945)', 'bad/wc_getrennt',\n",
      "       'balkon', 'barriefrei', 'bidet', 'carport', 'dachgeschoss', 'dielen',\n",
      "       'dsl', 'duplex', 'dusche', 'einbauk\\u00fcche', 'elektro', 'erdgeschoss',\n",
      "       'erdwaerme', 'erstbezug', 'estrich', 'etagenheizung', 'fenster', 'fern',\n",
      "       'ferne', 'fliesen', 'frei', 'fu\\u00dfbodenheizung', 'gaestewc',\n",
      "       'garage', 'garten', 'gartennutzung', 'gas', 'gepflegt',\n",
      "       'haustiere_erlaubt', 'holzfenster', 'kable_sat_tv', 'kamera', 'kamin',\n",
      "       'kelleranteil', 'kfw40', 'kfw55', 'kfw70', 'klimatisiert',\n",
      "       'kontrollierte_be-_und_entl\\u00fcftungsanlage', 'kunststoff',\n",
      "       'kunststofffenster', 'laminat', 'linoleum', 'loggia', 'luftwp',\n",
      "       'marmor', 'massivhaus', 'moebliert', 'neubau', 'neuwertig', 'oel',\n",
      "       'ofenheizung', 'offene_k\\u00fcche', 'pantry', 'parkett', 'pellet',\n",
      "       'personenaufzug', 'reinigung', 'renoviert', 'rollstuhlgerecht', 'sat',\n",
      "       'speisekammer', 'stein', 'stellplatz', 'teilweise_m\\u00f6bliert',\n",
      "       'teppich', 'terrasse', 'tiefgarage', 'vermietet', 'wanne',\n",
      "       'wasch_trockenraum', 'wg_geeignet', 'wintergarten',\n",
      "       'wohnberechtigungsschein', 'zentralheizung'],\n",
      "      dtype='object')\n"
     ]
    }
   ],
   "source": [
    "# create preprocessed xlsx\n",
    "flats_to_rent_wue = pd.read_excel(\"data/flats_to_rent_wue.xlsx\")\n",
    "flats_to_rent_wue_preprocessed = preprocess_data(flats_to_rent_wue)\n",
    "\n",
    "print (flats_to_rent_wue_preprocessed.columns)\n",
    "flats_to_rent_wue_preprocessed.to_excel(\"data/flats_to_rent_wue_preprocessed.xlsx\")"
   ]
  }
 ],
 "metadata": {
  "kernelspec": {
   "display_name": "py38",
   "language": "python",
   "name": "python3"
  },
  "language_info": {
   "codemirror_mode": {
    "name": "ipython",
    "version": 3
   },
   "file_extension": ".py",
   "mimetype": "text/x-python",
   "name": "python",
   "nbconvert_exporter": "python",
   "pygments_lexer": "ipython3",
   "version": "3.8.16"
  },
  "orig_nbformat": 4
 },
 "nbformat": 4,
 "nbformat_minor": 2
}
