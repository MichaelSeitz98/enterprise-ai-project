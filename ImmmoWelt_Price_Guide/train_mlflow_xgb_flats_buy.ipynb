{
 "cells": [
  {
   "cell_type": "code",
   "execution_count": 21,
   "metadata": {},
   "outputs": [],
   "source": [
    "import pandas as pd\n",
    "from sklearn.compose import ColumnTransformer\n",
    "from sklearn.pipeline import Pipeline\n",
    "from sklearn.preprocessing import OrdinalEncoder, OneHotEncoder\n",
    "from sklearn.model_selection import train_test_split\n",
    "from sklearn.impute import SimpleImputer\n",
    "import xgboost as xgb\n",
    "from sklearn.preprocessing import OrdinalEncoder, OneHotEncoder\n",
    "import numpy as np\n",
    "from sklearn.metrics import mean_squared_error\n",
    "import mlflow\n",
    "import mlflow.xgboost\n",
    "import xgboost as xgb\n",
    "from sklearn.metrics import mean_absolute_error"
   ]
  },
  {
   "cell_type": "code",
   "execution_count": 22,
   "metadata": {},
   "outputs": [],
   "source": [
    "data = pd.read_csv(r'flats_to_buy_preproceesed.csv')\n",
    "\n",
    "\n",
    "data.dropna(subset=['ConstructionYear'], inplace=True)\n",
    "data.dropna(subset=['Object_price'], inplace=True)\n",
    "data.dropna(subset=['Rooms'], inplace=True)\n",
    "data.drop('Title', axis=1, inplace=True)\n",
    "data.drop('Object_currency', axis=1, inplace=True)\n",
    "data.drop('Url', axis=1, inplace=True)\n",
    "data.drop('EstateType', axis=1, inplace=True)\n",
    "data.drop('DistributionType', axis=1, inplace=True)\n",
    "data = data.reindex()\n",
    "data = data.reset_index(drop=True)\n",
    "\n",
    "y = data['Object_price']\n",
    "X = data.drop('Object_price', axis=1)"
   ]
  },
  {
   "cell_type": "code",
   "execution_count": 23,
   "metadata": {},
   "outputs": [],
   "source": [
    "train_X, test_X, train_y, test_y = train_test_split(X, y, \n",
    "                                                  train_size=0.8, \n",
    "                                                  random_state = 0)\n",
    "train_X, val_X, train_y, val_y = train_test_split(train_X, train_y, \n",
    "                                                  train_size=0.8, \n",
    "                                                  random_state = 0)\n",
    "\n",
    "num_cols = [col for col in train_X.columns if train_X[col].dtype == 'float64']\n",
    "cat_cols = [col for col in train_X.columns if train_X[col].dtype == 'object']\n",
    "bin_cols = [col for col in train_X.columns if train_X[col].dtype == 'int64']"
   ]
  },
  {
   "cell_type": "code",
   "execution_count": 24,
   "metadata": {},
   "outputs": [],
   "source": [
    "encoder = OneHotEncoder(handle_unknown='ignore')\n",
    "X_train_categorical_xgb = encoder.fit_transform(train_X[cat_cols]).toarray()\n",
    "X_valid_categorical_xgb = encoder.transform(val_X[cat_cols]).toarray()\n",
    "X_test_categorical_xgb = encoder.transform(test_X[cat_cols]).toarray()\n",
    "X_train_processed = np.concatenate([train_X[num_cols], X_train_categorical_xgb], axis=1)\n",
    "X_valid_processed = np.concatenate([val_X[num_cols], X_valid_categorical_xgb], axis=1)\n",
    "X_test_processed = np.concatenate([test_X[num_cols], X_test_categorical_xgb], axis=1)\n",
    "X_train_processed = np.concatenate([train_X[bin_cols], X_train_processed], axis=1)\n",
    "X_valid_processed = np.concatenate([val_X[bin_cols], X_valid_processed], axis=1)\n",
    "X_test_processed = np.concatenate([test_X[bin_cols], X_test_processed], axis=1)"
   ]
  },
  {
   "cell_type": "code",
   "execution_count": 25,
   "metadata": {},
   "outputs": [],
   "source": [
    "mlflow.set_tracking_uri(\"http://localhost:5000\")"
   ]
  },
  {
   "cell_type": "code",
   "execution_count": 26,
   "metadata": {},
   "outputs": [],
   "source": [
    "mlflow.end_run()\n"
   ]
  },
  {
   "cell_type": "markdown",
   "metadata": {},
   "source": [
    "# XGBoost"
   ]
  },
  {
   "cell_type": "code",
   "execution_count": 27,
   "metadata": {},
   "outputs": [
    {
     "name": "stderr",
     "output_type": "stream",
     "text": [
      "2023/07/05 18:22:03 WARNING mlflow.utils.autologging_utils: You are using an unsupported version of xgboost. If you encounter errors during autologging, try upgrading / downgrading xgboost to a supported version, or try upgrading MLflow.\n"
     ]
    },
    {
     "name": "stdout",
     "output_type": "stream",
     "text": [
      "[0]\tvalidation_0-rmse:377643.68046\tvalidation_0-mae:262610.76982\tvalidation_0-logloss:-16881964.40244\n",
      "[1]\tvalidation_0-rmse:315303.28482\tvalidation_0-mae:198007.32736\tvalidation_0-logloss:-17089572.53659\n",
      "[2]\tvalidation_0-rmse:273814.66459\tvalidation_0-mae:156059.12976\tvalidation_0-logloss:-17182301.21951\n",
      "[3]\tvalidation_0-rmse:247366.68043\tvalidation_0-mae:130843.66825\tvalidation_0-logloss:-17234962.23171\n",
      "[4]\tvalidation_0-rmse:227769.44017\tvalidation_0-mae:111355.84699\tvalidation_0-logloss:-17270074.64634\n",
      "[5]\tvalidation_0-rmse:218264.07826\tvalidation_0-mae:101177.79649\tvalidation_0-logloss:-17289771.14634\n",
      "[6]\tvalidation_0-rmse:213008.86382\tvalidation_0-mae:94187.91902\tvalidation_0-logloss:-17302643.80488\n",
      "[7]\tvalidation_0-rmse:208510.08491\tvalidation_0-mae:88551.81269\tvalidation_0-logloss:-17312736.74390\n",
      "[8]\tvalidation_0-rmse:205527.83342\tvalidation_0-mae:85034.76410\tvalidation_0-logloss:-17320453.50000\n",
      "[9]\tvalidation_0-rmse:199592.69830\tvalidation_0-mae:82180.19207\tvalidation_0-logloss:-17328410.80488\n",
      "[10]\tvalidation_0-rmse:197761.46761\tvalidation_0-mae:80659.57965\tvalidation_0-logloss:-17331833.10976\n",
      "[11]\tvalidation_0-rmse:195102.59977\tvalidation_0-mae:79670.42111\tvalidation_0-logloss:-17335028.36585\n",
      "[12]\tvalidation_0-rmse:193166.98161\tvalidation_0-mae:79049.88700\tvalidation_0-logloss:-17337756.96341\n",
      "[13]\tvalidation_0-rmse:190970.01320\tvalidation_0-mae:78111.36986\tvalidation_0-logloss:-17339931.67073\n",
      "[14]\tvalidation_0-rmse:190713.60367\tvalidation_0-mae:78035.53316\tvalidation_0-logloss:-17340750.07317\n",
      "[15]\tvalidation_0-rmse:189936.61009\tvalidation_0-mae:77785.20427\tvalidation_0-logloss:-17341903.15854\n",
      "[16]\tvalidation_0-rmse:189684.80499\tvalidation_0-mae:77838.37462\tvalidation_0-logloss:-17341951.53659\n",
      "[17]\tvalidation_0-rmse:189423.24872\tvalidation_0-mae:77845.84756\tvalidation_0-logloss:-17342158.63415\n",
      "[18]\tvalidation_0-rmse:189293.10650\tvalidation_0-mae:77994.06326\tvalidation_0-logloss:-17342201.82927\n",
      "[19]\tvalidation_0-rmse:189201.06279\tvalidation_0-mae:78055.98171\tvalidation_0-logloss:-17342458.13415\n",
      "[20]\tvalidation_0-rmse:189175.04366\tvalidation_0-mae:78063.16959\tvalidation_0-logloss:-17342591.85366\n",
      "[21]\tvalidation_0-rmse:189368.98513\tvalidation_0-mae:78047.47332\tvalidation_0-logloss:-17342580.63415\n",
      "[22]\tvalidation_0-rmse:189105.57437\tvalidation_0-mae:77987.29040\tvalidation_0-logloss:-17342755.35366\n",
      "[23]\tvalidation_0-rmse:189124.25291\tvalidation_0-mae:78054.11852\tvalidation_0-logloss:-17342759.48780\n",
      "[24]\tvalidation_0-rmse:189192.77572\tvalidation_0-mae:78050.15987\tvalidation_0-logloss:-17342701.48780\n",
      "[25]\tvalidation_0-rmse:189130.95849\tvalidation_0-mae:78051.32317\tvalidation_0-logloss:-17342818.47561\n",
      "[26]\tvalidation_0-rmse:189034.26758\tvalidation_0-mae:78070.09832\tvalidation_0-logloss:-17342934.89024\n",
      "[27]\tvalidation_0-rmse:189057.01046\tvalidation_0-mae:78066.80450\tvalidation_0-logloss:-17342855.54878\n",
      "[28]\tvalidation_0-rmse:189078.86279\tvalidation_0-mae:78213.53087\tvalidation_0-logloss:-17342854.13415\n",
      "[29]\tvalidation_0-rmse:189059.81103\tvalidation_0-mae:78220.77820\tvalidation_0-logloss:-17342780.01220\n",
      "[30]\tvalidation_0-rmse:189087.40704\tvalidation_0-mae:78349.33079\tvalidation_0-logloss:-17342772.59756\n",
      "[31]\tvalidation_0-rmse:189079.29949\tvalidation_0-mae:78402.51200\tvalidation_0-logloss:-17342927.25610\n",
      "[32]\tvalidation_0-rmse:188998.12257\tvalidation_0-mae:78431.79726\tvalidation_0-logloss:-17343023.50000\n",
      "[33]\tvalidation_0-rmse:188940.83113\tvalidation_0-mae:78562.38396\tvalidation_0-logloss:-17342898.50000\n",
      "[34]\tvalidation_0-rmse:188881.96661\tvalidation_0-mae:78429.93255\tvalidation_0-logloss:-17343123.37805\n",
      "[35]\tvalidation_0-rmse:188878.51268\tvalidation_0-mae:78483.09261\tvalidation_0-logloss:-17343111.81707\n",
      "[36]\tvalidation_0-rmse:188925.49073\tvalidation_0-mae:78615.53011\tvalidation_0-logloss:-17343083.08537\n",
      "[37]\tvalidation_0-rmse:188863.68458\tvalidation_0-mae:78625.00534\tvalidation_0-logloss:-17343110.30488\n",
      "[38]\tvalidation_0-rmse:188833.04290\tvalidation_0-mae:78567.92835\tvalidation_0-logloss:-17343186.10976\n",
      "[39]\tvalidation_0-rmse:188860.71891\tvalidation_0-mae:78664.38986\tvalidation_0-logloss:-17343137.54878\n",
      "[40]\tvalidation_0-rmse:188911.02413\tvalidation_0-mae:78775.54211\tvalidation_0-logloss:-17343088.54878\n",
      "[41]\tvalidation_0-rmse:188926.59382\tvalidation_0-mae:78767.16787\tvalidation_0-logloss:-17343138.60976\n",
      "[42]\tvalidation_0-rmse:188832.91578\tvalidation_0-mae:78806.82660\tvalidation_0-logloss:-17343147.71951\n",
      "[43]\tvalidation_0-rmse:188740.00276\tvalidation_0-mae:78768.22618\tvalidation_0-logloss:-17343208.04878\n",
      "[44]\tvalidation_0-rmse:188731.64631\tvalidation_0-mae:78740.86547\tvalidation_0-logloss:-17343180.23171\n",
      "[45]\tvalidation_0-rmse:188705.16031\tvalidation_0-mae:78757.42302\tvalidation_0-logloss:-17343171.78049\n",
      "[46]\tvalidation_0-rmse:188723.88632\tvalidation_0-mae:78764.71380\tvalidation_0-logloss:-17343070.91463\n",
      "[47]\tvalidation_0-rmse:188719.77165\tvalidation_0-mae:78761.19131\tvalidation_0-logloss:-17343068.29268\n",
      "[48]\tvalidation_0-rmse:188676.71405\tvalidation_0-mae:78758.53373\tvalidation_0-logloss:-17343092.62195\n",
      "[49]\tvalidation_0-rmse:188676.59436\tvalidation_0-mae:78753.27268\tvalidation_0-logloss:-17343071.82927\n",
      "[50]\tvalidation_0-rmse:188623.75253\tvalidation_0-mae:78729.17835\tvalidation_0-logloss:-17343111.14634\n",
      "[51]\tvalidation_0-rmse:188589.18562\tvalidation_0-mae:78750.76410\tvalidation_0-logloss:-17343114.13415\n",
      "[52]\tvalidation_0-rmse:188586.61818\tvalidation_0-mae:78748.92168\tvalidation_0-logloss:-17343129.96341\n",
      "[53]\tvalidation_0-rmse:188558.02848\tvalidation_0-mae:78745.11223\tvalidation_0-logloss:-17343133.62195\n",
      "[54]\tvalidation_0-rmse:188531.18244\tvalidation_0-mae:78736.43750\tvalidation_0-logloss:-17343148.32927\n",
      "[55]\tvalidation_0-rmse:188550.48205\tvalidation_0-mae:78746.61090\tvalidation_0-logloss:-17343127.46341\n",
      "[56]\tvalidation_0-rmse:188544.58353\tvalidation_0-mae:78750.62481\tvalidation_0-logloss:-17343123.18293\n",
      "[57]\tvalidation_0-rmse:188548.88679\tvalidation_0-mae:78762.99428\tvalidation_0-logloss:-17343111.12195\n",
      "[58]\tvalidation_0-rmse:188549.79705\tvalidation_0-mae:78761.11966\tvalidation_0-logloss:-17343109.25610\n",
      "[59]\tvalidation_0-rmse:188547.66768\tvalidation_0-mae:78762.78335\tvalidation_0-logloss:-17343106.02439\n",
      "[60]\tvalidation_0-rmse:188550.53645\tvalidation_0-mae:78764.04764\tvalidation_0-logloss:-17343095.48780\n",
      "[61]\tvalidation_0-rmse:188548.39197\tvalidation_0-mae:78764.27820\tvalidation_0-logloss:-17343097.43902\n",
      "[62]\tvalidation_0-rmse:188545.59273\tvalidation_0-mae:78762.64215\tvalidation_0-logloss:-17343106.53659\n",
      "[63]\tvalidation_0-rmse:188546.58410\tvalidation_0-mae:78765.06822\tvalidation_0-logloss:-17343106.80488\n",
      "[64]\tvalidation_0-rmse:188549.22141\tvalidation_0-mae:78778.10042\tvalidation_0-logloss:-17343103.04878\n",
      "[65]\tvalidation_0-rmse:188555.28573\tvalidation_0-mae:78789.16101\tvalidation_0-logloss:-17343093.93902\n",
      "[66]\tvalidation_0-rmse:188561.98411\tvalidation_0-mae:78791.85652\tvalidation_0-logloss:-17343089.00000\n",
      "[67]\tvalidation_0-rmse:188560.19149\tvalidation_0-mae:78789.29554\tvalidation_0-logloss:-17343090.58537\n",
      "[68]\tvalidation_0-rmse:188554.13767\tvalidation_0-mae:78782.43007\tvalidation_0-logloss:-17343095.54878\n",
      "[69]\tvalidation_0-rmse:188552.10287\tvalidation_0-mae:78776.61319\tvalidation_0-logloss:-17343101.68293\n",
      "[70]\tvalidation_0-rmse:188553.46239\tvalidation_0-mae:78779.97066\tvalidation_0-logloss:-17343101.65854\n",
      "[71]\tvalidation_0-rmse:188561.55737\tvalidation_0-mae:78783.72199\tvalidation_0-logloss:-17343089.30488\n",
      "[72]\tvalidation_0-rmse:188563.76325\tvalidation_0-mae:78785.48018\tvalidation_0-logloss:-17343083.98780\n",
      "[73]\tvalidation_0-rmse:188556.94181\tvalidation_0-mae:78785.69970\tvalidation_0-logloss:-17343084.20732\n",
      "[74]\tvalidation_0-rmse:188551.81656\tvalidation_0-mae:78782.89215\tvalidation_0-logloss:-17343082.82927\n",
      "[75]\tvalidation_0-rmse:188546.40996\tvalidation_0-mae:78781.25934\tvalidation_0-logloss:-17343082.08537\n",
      "[76]\tvalidation_0-rmse:188547.09907\tvalidation_0-mae:78781.32984\tvalidation_0-logloss:-17343077.51220\n",
      "[77]\tvalidation_0-rmse:188558.58327\tvalidation_0-mae:78790.08251\tvalidation_0-logloss:-17343068.76829\n",
      "[78]\tvalidation_0-rmse:188557.27071\tvalidation_0-mae:78787.62862\tvalidation_0-logloss:-17343067.90244\n",
      "[79]\tvalidation_0-rmse:188555.45395\tvalidation_0-mae:78785.09889\tvalidation_0-logloss:-17343070.74390\n",
      "[80]\tvalidation_0-rmse:188551.40891\tvalidation_0-mae:78784.14386\tvalidation_0-logloss:-17343075.48780\n",
      "[81]\tvalidation_0-rmse:188557.90621\tvalidation_0-mae:78789.60747\tvalidation_0-logloss:-17343067.75610\n",
      "[82]\tvalidation_0-rmse:188556.15106\tvalidation_0-mae:78789.71513\tvalidation_0-logloss:-17343069.84146\n"
     ]
    }
   ],
   "source": [
    "mlflow.xgboost.autolog()\n",
    "mlflow.start_run()\n",
    "model = xgb.XGBRegressor(eval_metric=['rmse', 'mae', 'logloss'], early_stopping_rounds=39)\n",
    "model.fit(X=X_train_processed, \n",
    "          y=train_y,\n",
    "          eval_set=[(X_valid_processed, val_y)],\n",
    "\n",
    "          verbose=True)\n",
    "\n",
    "mlflow.xgboost.log_model(model, \"xgboost-model\")\n",
    "\n",
    "preds = model.predict(X_test_processed)\n",
    "score = mean_absolute_error(test_y, preds)\n",
    "mlflow.end_run()"
   ]
  },
  {
   "cell_type": "markdown",
   "metadata": {},
   "source": [
    "## Linear Regression\n"
   ]
  },
  {
   "cell_type": "code",
   "execution_count": 29,
   "metadata": {},
   "outputs": [
    {
     "name": "stderr",
     "output_type": "stream",
     "text": [
      "2023/07/05 18:26:01 WARNING mlflow.sklearn: Failed to log training dataset information to MLflow Tracking. Reason: 'Series' object has no attribute 'flatten'\n"
     ]
    }
   ],
   "source": [
    "import mlflow\n",
    "import mlflow.sklearn\n",
    "from sklearn.linear_model import LinearRegression\n",
    "from sklearn.metrics import mean_absolute_error\n",
    "\n",
    "# Enable automatic logging\n",
    "mlflow.sklearn.autolog()\n",
    "\n",
    "# Start an MLflow run\n",
    "mlflow.start_run()\n",
    "\n",
    "# Train the Linear Regression model\n",
    "model = LinearRegression()\n",
    "model.fit(X_train_processed, train_y)\n",
    "\n",
    "# Log the model\n",
    "mlflow.sklearn.log_model(model, \"linear-regression-model\")\n",
    "\n",
    "# Make predictions on the test set\n",
    "preds = model.predict(X_test_processed)\n",
    "score = mean_absolute_error(test_y, preds)\n",
    "\n",
    "mlflow.end_run()"
   ]
  }
 ],
 "metadata": {
  "kernelspec": {
   "display_name": "Python 3",
   "language": "python",
   "name": "python3"
  },
  "language_info": {
   "codemirror_mode": {
    "name": "ipython",
    "version": 3
   },
   "file_extension": ".py",
   "mimetype": "text/x-python",
   "name": "python",
   "nbconvert_exporter": "python",
   "pygments_lexer": "ipython3",
   "version": "3.8.16"
  },
  "orig_nbformat": 4
 },
 "nbformat": 4,
 "nbformat_minor": 2
}
