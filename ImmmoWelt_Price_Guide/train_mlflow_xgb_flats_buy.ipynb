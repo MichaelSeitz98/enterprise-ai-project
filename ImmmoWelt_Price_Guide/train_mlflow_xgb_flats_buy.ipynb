{
 "cells": [
  {
   "cell_type": "code",
   "execution_count": 13,
   "metadata": {},
   "outputs": [],
   "source": [
    "import pandas as pd\n",
    "from sklearn.compose import ColumnTransformer\n",
    "from sklearn.pipeline import Pipeline\n",
    "from sklearn.preprocessing import OrdinalEncoder, OneHotEncoder\n",
    "from sklearn.model_selection import train_test_split\n",
    "from sklearn.impute import SimpleImputer\n",
    "import xgboost as xgb\n",
    "from sklearn.metrics import mean_absolute_error\n",
    "from sklearn.preprocessing import OrdinalEncoder, OneHotEncoder\n",
    "import numpy as np\n",
    "from sklearn.metrics import mean_squared_error"
   ]
  },
  {
   "cell_type": "code",
   "execution_count": 14,
   "metadata": {},
   "outputs": [
    {
     "name": "stdout",
     "output_type": "stream",
     "text": [
      "0    220000.0\n",
      "1    269000.0\n",
      "2    169000.0\n",
      "3    275000.0\n",
      "4    239000.0\n",
      "Name: Object_price, dtype: float64\n",
      "   LivingSpace  Rooms  ConstructionYear  ZipCode EstateTypeGerman  \\\n",
      "0        53.00    2.0            1971.0    97080          WOHNUNG   \n",
      "1        70.00    3.0            1968.0    97078          WOHNUNG   \n",
      "2        33.51    1.0            1983.0    97072          WOHNUNG   \n",
      "3        65.45    2.0            1958.0    97072          WOHNUNG   \n",
      "4        79.50    3.0            1977.0    97209          WOHNUNG   \n",
      "\n",
      "  DistributionTypeGerman  abstellraum  als_ferienimmobilie_geeignet  \\\n",
      "0               ZUM_KAUF            0                             0   \n",
      "1               ZUM_KAUF            0                             0   \n",
      "2               ZUM_KAUF            0                             0   \n",
      "3               ZUM_KAUF            0                             0   \n",
      "4               ZUM_KAUF            1                             0   \n",
      "\n",
      "   altbau_(bis_1945)  bad/wc_getrennt  ...  teppich  terrasse  tiefgarage  \\\n",
      "0                  0                0  ...        0         0           0   \n",
      "1                  0                0  ...        0         0           1   \n",
      "2                  0                0  ...        0         0           0   \n",
      "3                  0                0  ...        0         0           0   \n",
      "4                  0                0  ...        0         0           1   \n",
      "\n",
      "   vermietet  vollerschlossen  wanne  wasch_trockenraum  wg_geeignet  \\\n",
      "0          0                0      1                  0            0   \n",
      "1          1                0      1                  0            1   \n",
      "2          0                0      0                  1            0   \n",
      "3          0                0      0                  0            0   \n",
      "4          0                0      0                  0            0   \n",
      "\n",
      "   wintergarten  zentralheizung  \n",
      "0             0               1  \n",
      "1             0               1  \n",
      "2             0               0  \n",
      "3             0               0  \n",
      "4             0               1  \n",
      "\n",
      "[5 rows x 88 columns]\n",
      "0      0\n",
      "1      0\n",
      "2      0\n",
      "3      0\n",
      "4      0\n",
      "      ..\n",
      "249    0\n",
      "250    0\n",
      "251    0\n",
      "252    0\n",
      "253    0\n",
      "Name: als_ferienimmobilie_geeignet, Length: 254, dtype: int64\n"
     ]
    }
   ],
   "source": [
    "data = pd.read_csv(r'flats_to_buy_preproceesed.csv')\n",
    "\n",
    "\n",
    "data.dropna(subset=['ConstructionYear'], inplace=True)\n",
    "data.dropna(subset=['Object_price'], inplace=True)\n",
    "data.dropna(subset=['Rooms'], inplace=True)\n",
    "data.drop('Title', axis=1, inplace=True)\n",
    "data.drop('Object_currency', axis=1, inplace=True)\n",
    "data.drop('Url', axis=1, inplace=True)\n",
    "data.drop('EstateType', axis=1, inplace=True)\n",
    "data.drop('DistributionType', axis=1, inplace=True)\n",
    "data = data.reindex()\n",
    "data = data.reset_index(drop=True)\n",
    "\n",
    "y = data['Object_price']\n",
    "X = data.drop('Object_price', axis=1)\n",
    "print(y.head())\n",
    "print(X.head())\n",
    "\n",
    "print(data['als_ferienimmobilie_geeignet'])"
   ]
  },
  {
   "cell_type": "code",
   "execution_count": 15,
   "metadata": {},
   "outputs": [],
   "source": [
    "train_X, test_X, train_y, test_y = train_test_split(X, y, \n",
    "                                                  train_size=0.8, \n",
    "                                                  random_state = 0)\n",
    "train_X, val_X, train_y, val_y = train_test_split(train_X, train_y, \n",
    "                                                  train_size=0.8, \n",
    "                                                  random_state = 0)\n",
    "\n",
    "num_cols = [col for col in train_X.columns if train_X[col].dtype == 'float64']\n",
    "cat_cols = [col for col in train_X.columns if train_X[col].dtype == 'object']\n",
    "bin_cols = [col for col in train_X.columns if train_X[col].dtype == 'int64']"
   ]
  },
  {
   "cell_type": "code",
   "execution_count": 16,
   "metadata": {},
   "outputs": [
    {
     "name": "stdout",
     "output_type": "stream",
     "text": [
      "['ZipCode', 'abstellraum', 'als_ferienimmobilie_geeignet', 'altbau_(bis_1945)', 'bad/wc_getrennt', 'balkon', 'barriefrei', 'block', 'carport', 'dachgeschoss', 'denkmalgeschuetzt', 'dielen', 'dsl', 'duplex', 'dusche', 'einbauk\\\\u00fcche', 'elektro', 'erdgeschoss', 'erstbezug', 'estrich', 'etagenheizung', 'fenster', 'fern', 'ferne', 'fliesen', 'fluessiggas', 'frei', 'fu\\\\u00dfbodenheizung', 'gaestewc', 'garage', 'garten', 'gartennutzung', 'gas', 'gepflegt', 'haustiere_erlaubt', 'holzfenster', 'kable_sat_tv', 'kamera', 'kamin', 'kapitalanlage', 'kelleranteil', 'kfw40', 'kfw55', 'kfw70', 'kontrollierte_be-_und_entl\\\\u00fcftungsanlage', 'kunststoff', 'kunststofffenster', 'laminat', 'linoleum', 'loggia', 'luftwp', 'massivhaus', 'moebliert', 'neubau', 'neuwertig', 'oel', 'offene_k\\\\u00fcche', 'pantry', 'parkett', 'pellet', 'personenaufzug', 'provisionsfrei', 'reinigung', 'renoviert', 'renovierungsbed\\\\u00fcrftig', 'rollstuhlgerecht', 'sat', 'sauna', 'souterrain', 'speisekammer', 'stein', 'stellplatz', 'teilweise_m\\\\u00f6bliert', 'teppich', 'terrasse', 'tiefgarage', 'vermietet', 'vollerschlossen', 'wanne', 'wasch_trockenraum', 'wg_geeignet', 'wintergarten', 'zentralheizung']\n"
     ]
    }
   ],
   "source": [
    "print(bin_cols)"
   ]
  },
  {
   "cell_type": "code",
   "execution_count": 17,
   "metadata": {},
   "outputs": [],
   "source": [
    "encoder = OneHotEncoder(handle_unknown='ignore')\n",
    "X_train_categorical_xgb = encoder.fit_transform(train_X[cat_cols]).toarray()\n",
    "X_valid_categorical_xgb = encoder.transform(val_X[cat_cols]).toarray()\n",
    "X_test_categorical_xgb = encoder.transform(test_X[cat_cols]).toarray()\n",
    "X_train_processed = np.concatenate([train_X[num_cols], X_train_categorical_xgb], axis=1)\n",
    "X_valid_processed = np.concatenate([val_X[num_cols], X_valid_categorical_xgb], axis=1)\n",
    "X_test_processed = np.concatenate([test_X[num_cols], X_test_categorical_xgb], axis=1)\n",
    "X_train_processed = np.concatenate([train_X[bin_cols], X_train_processed], axis=1)\n",
    "X_valid_processed = np.concatenate([val_X[bin_cols], X_valid_processed], axis=1)\n",
    "X_test_processed = np.concatenate([test_X[bin_cols], X_test_processed], axis=1)"
   ]
  },
  {
   "cell_type": "code",
   "execution_count": 18,
   "metadata": {},
   "outputs": [
    {
     "data": {
      "text/plain": [
       "array([9.7076e+04, 0.0000e+00, 0.0000e+00, 0.0000e+00, 0.0000e+00,\n",
       "       1.0000e+00, 0.0000e+00, 0.0000e+00, 0.0000e+00, 0.0000e+00,\n",
       "       0.0000e+00, 0.0000e+00, 0.0000e+00, 0.0000e+00, 0.0000e+00,\n",
       "       0.0000e+00, 0.0000e+00, 0.0000e+00, 0.0000e+00, 0.0000e+00,\n",
       "       0.0000e+00, 0.0000e+00, 0.0000e+00, 0.0000e+00, 0.0000e+00,\n",
       "       0.0000e+00, 0.0000e+00, 0.0000e+00, 0.0000e+00, 0.0000e+00,\n",
       "       0.0000e+00, 0.0000e+00, 0.0000e+00, 0.0000e+00, 0.0000e+00,\n",
       "       0.0000e+00, 0.0000e+00, 0.0000e+00, 0.0000e+00, 0.0000e+00,\n",
       "       0.0000e+00, 0.0000e+00, 0.0000e+00, 0.0000e+00, 0.0000e+00,\n",
       "       0.0000e+00, 0.0000e+00, 0.0000e+00, 0.0000e+00, 0.0000e+00,\n",
       "       0.0000e+00, 0.0000e+00, 0.0000e+00, 0.0000e+00, 0.0000e+00,\n",
       "       0.0000e+00, 0.0000e+00, 0.0000e+00, 0.0000e+00, 0.0000e+00,\n",
       "       0.0000e+00, 0.0000e+00, 0.0000e+00, 0.0000e+00, 0.0000e+00,\n",
       "       0.0000e+00, 0.0000e+00, 0.0000e+00, 0.0000e+00, 0.0000e+00,\n",
       "       0.0000e+00, 0.0000e+00, 0.0000e+00, 0.0000e+00, 0.0000e+00,\n",
       "       0.0000e+00, 0.0000e+00, 0.0000e+00, 0.0000e+00, 0.0000e+00,\n",
       "       0.0000e+00, 0.0000e+00, 0.0000e+00, 2.7000e+01, 1.0000e+00,\n",
       "       1.9940e+03, 1.0000e+00, 1.0000e+00])"
      ]
     },
     "execution_count": 18,
     "metadata": {},
     "output_type": "execute_result"
    }
   ],
   "source": [
    "X_train_processed[0]"
   ]
  },
  {
   "cell_type": "code",
   "execution_count": 25,
   "metadata": {},
   "outputs": [],
   "source": [
    "mlflow.end_run()"
   ]
  },
  {
   "cell_type": "code",
   "execution_count": 26,
   "metadata": {},
   "outputs": [],
   "source": [
    "mlflow.set_tracking_uri(\"http://localhost:5000\")\n"
   ]
  },
  {
   "cell_type": "code",
   "execution_count": 27,
   "metadata": {},
   "outputs": [
    {
     "name": "stdout",
     "output_type": "stream",
     "text": [
      "[0]\tvalidation_0-rmse:377643.68046\tvalidation_0-mae:262610.76982\n",
      "[1]\tvalidation_0-rmse:315303.28482\tvalidation_0-mae:198007.32736\n",
      "[2]\tvalidation_0-rmse:273814.66459\tvalidation_0-mae:156059.12976\n",
      "[3]\tvalidation_0-rmse:247366.68043\tvalidation_0-mae:130843.66825\n",
      "[4]\tvalidation_0-rmse:227769.44017\tvalidation_0-mae:111355.84699\n",
      "[5]\tvalidation_0-rmse:218264.07826\tvalidation_0-mae:101177.79649\n",
      "[6]\tvalidation_0-rmse:213008.86382\tvalidation_0-mae:94187.91902\n",
      "[7]\tvalidation_0-rmse:208510.08491\tvalidation_0-mae:88551.81269\n",
      "[8]\tvalidation_0-rmse:205527.83342\tvalidation_0-mae:85034.76410\n",
      "[9]\tvalidation_0-rmse:199592.69830\tvalidation_0-mae:82180.19207\n",
      "[10]\tvalidation_0-rmse:197761.46761\tvalidation_0-mae:80659.57965\n",
      "[11]\tvalidation_0-rmse:195102.59977\tvalidation_0-mae:79670.42111\n",
      "[12]\tvalidation_0-rmse:193166.98161\tvalidation_0-mae:79049.88700\n",
      "[13]\tvalidation_0-rmse:190970.01320\tvalidation_0-mae:78111.36986\n",
      "[14]\tvalidation_0-rmse:190713.60367\tvalidation_0-mae:78035.53316\n",
      "[15]\tvalidation_0-rmse:189936.61009\tvalidation_0-mae:77785.20427\n",
      "[16]\tvalidation_0-rmse:189684.80499\tvalidation_0-mae:77838.37462\n",
      "[17]\tvalidation_0-rmse:189423.24872\tvalidation_0-mae:77845.84756\n",
      "[18]\tvalidation_0-rmse:189293.10650\tvalidation_0-mae:77994.06326\n",
      "[19]\tvalidation_0-rmse:189201.06279\tvalidation_0-mae:78055.98171\n",
      "[20]\tvalidation_0-rmse:189175.04366\tvalidation_0-mae:78063.16959\n",
      "[21]\tvalidation_0-rmse:189368.98513\tvalidation_0-mae:78047.47332\n",
      "[22]\tvalidation_0-rmse:189105.57437\tvalidation_0-mae:77987.29040\n",
      "[23]\tvalidation_0-rmse:189124.25291\tvalidation_0-mae:78054.11852\n",
      "[24]\tvalidation_0-rmse:189192.77572\tvalidation_0-mae:78050.15987\n",
      "[25]\tvalidation_0-rmse:189130.95849\tvalidation_0-mae:78051.32317\n",
      "[26]\tvalidation_0-rmse:189034.26758\tvalidation_0-mae:78070.09832\n",
      "[27]\tvalidation_0-rmse:189057.01046\tvalidation_0-mae:78066.80450\n",
      "[28]\tvalidation_0-rmse:189078.86279\tvalidation_0-mae:78213.53087\n",
      "[29]\tvalidation_0-rmse:189059.81103\tvalidation_0-mae:78220.77820\n",
      "[30]\tvalidation_0-rmse:189087.40704\tvalidation_0-mae:78349.33079\n"
     ]
    }
   ],
   "source": [
    "import mlflow\n",
    "import mlflow.xgboost\n",
    "import xgboost as xgb\n",
    "from sklearn.metrics import mean_absolute_error\n",
    "\n",
    "# Start an MLflow run\n",
    "mlflow.start_run()\n",
    "\n",
    "# Log the parameters\n",
    "mlflow.log_params({\n",
    "    \"eval_metric\": ['rmse', 'mae'],\n",
    "    \"early_stopping_rounds\": 15,\n",
    "\n",
    "})\n",
    "\n",
    "# Train the XGBoost model\n",
    "model = xgb.XGBRegressor(eval_metric=['rmse', 'mae'], early_stopping_rounds=15)\n",
    "model.fit(X=X_train_processed, \n",
    "          y=train_y,\n",
    "          eval_set=[(X_valid_processed, val_y)],\n",
    "          verbose=True)\n",
    "\n",
    "\n",
    "# Log the model\n",
    "mlflow.xgboost.log_model(model, \"xgboost-model\")\n",
    "\n",
    "# Make predictions on the test set\n",
    "preds = model.predict(X_test_processed)\n",
    "score = mean_absolute_error(test_y, preds)\n",
    "\n",
    "\n",
    "# End the MLflow run\n",
    "mlflow.end_run()\n"
   ]
  }
 ],
 "metadata": {
  "kernelspec": {
   "display_name": "Python 3",
   "language": "python",
   "name": "python3"
  },
  "language_info": {
   "codemirror_mode": {
    "name": "ipython",
    "version": 3
   },
   "file_extension": ".py",
   "mimetype": "text/x-python",
   "name": "python",
   "nbconvert_exporter": "python",
   "pygments_lexer": "ipython3",
   "version": "3.8.16"
  },
  "orig_nbformat": 4
 },
 "nbformat": 4,
 "nbformat_minor": 2
}
