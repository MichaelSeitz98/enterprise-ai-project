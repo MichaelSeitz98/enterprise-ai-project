{
 "cells": [
  {
   "cell_type": "code",
   "execution_count": null,
   "metadata": {},
   "outputs": [],
   "source": [
    "import pandas as pd\n",
    "from sklearn.compose import ColumnTransformer\n",
    "from sklearn.pipeline import Pipeline\n",
    "from sklearn.preprocessing import OrdinalEncoder, OneHotEncoder\n",
    "from sklearn.model_selection import train_test_split\n",
    "from sklearn.impute import SimpleImputer\n",
    "import xgboost as xgb\n",
    "from sklearn.preprocessing import OrdinalEncoder, OneHotEncoder\n",
    "import numpy as np\n",
    "from sklearn.metrics import mean_squared_error\n",
    "import mlflow\n",
    "import mlflow.xgboost\n",
    "import xgboost as xgb\n",
    "from sklearn.metrics import mean_absolute_error\n",
    "import matplotlib.pyplot as plt\n",
    "from sklearn.linear_model import Ridge"
   ]
  },
  {
   "cell_type": "code",
   "execution_count": null,
   "metadata": {},
   "outputs": [],
   "source": [
    "data = pd.read_excel(r'data\\flats_to_rent_wue_preprocessed_0407.xlsx')\n",
    "\n",
    "\n",
    "data.dropna(subset=['ConstructionYear'], inplace=True)\n",
    "data.dropna(subset=['Object_price'], inplace=True)\n",
    "data.dropna(subset=['Rooms'], inplace=True)\n",
    "# data.drop('Title', axis=1, inplace=True)\n",
    "# data.drop('Object_currency', axis=1, inplace=True)\n",
    "# data.drop('Url', axis=1, inplace=True)\n",
    "# data.drop('EstateType', axis=1, inplace=True)\n",
    "# data.drop('DistributionType', axis=1, inplace=True)\n",
    "data = data.reindex()\n",
    "data = data.reset_index(drop=True)\n",
    "\n",
    "y = data['Object_price']\n",
    "X = data.drop('Object_price', axis=1)"
   ]
  },
  {
   "cell_type": "code",
   "execution_count": null,
   "metadata": {},
   "outputs": [],
   "source": [
    "train_X, test_X, train_y, test_y = train_test_split(X, y, \n",
    "                                                  train_size=0.8, \n",
    "                                                  random_state = 0)\n",
    "train_X, val_X, train_y, val_y = train_test_split(train_X, train_y, \n",
    "                                                  train_size=0.8, \n",
    "                                                  random_state = 0)\n",
    "\n",
    "num_cols = [col for col in train_X.columns if train_X[col].dtype == 'float64']\n",
    "cat_cols = [col for col in train_X.columns if train_X[col].dtype == 'object']\n",
    "bin_cols = [col for col in train_X.columns if train_X[col].dtype == 'int64']"
   ]
  },
  {
   "cell_type": "code",
   "execution_count": null,
   "metadata": {},
   "outputs": [],
   "source": [
    "encoder = OneHotEncoder(handle_unknown='ignore')\n",
    "\n",
    "print (train_X[cat_cols])\n",
    "X_train_categorical_xgb = encoder.fit_transform(train_X[cat_cols]).toarray()\n",
    "X_valid_categorical_xgb = encoder.transform(val_X[cat_cols]).toarray()\n",
    "X_test_categorical_xgb = encoder.transform(test_X[cat_cols]).toarray()\n",
    "X_train_processed = np.concatenate([train_X[num_cols], X_train_categorical_xgb], axis=1)\n",
    "X_valid_processed = np.concatenate([val_X[num_cols], X_valid_categorical_xgb], axis=1)\n",
    "X_test_processed = np.concatenate([test_X[num_cols], X_test_categorical_xgb], axis=1)\n",
    "X_train_processed = np.concatenate([train_X[bin_cols], X_train_processed], axis=1)\n",
    "X_valid_processed = np.concatenate([val_X[bin_cols], X_valid_processed], axis=1)\n",
    "X_test_processed = np.concatenate([test_X[bin_cols], X_test_processed], axis=1)"
   ]
  },
  {
   "cell_type": "code",
   "execution_count": null,
   "metadata": {},
   "outputs": [],
   "source": [
    "mlflow.set_tracking_uri(\"http://localhost:5000\")"
   ]
  },
  {
   "cell_type": "code",
   "execution_count": null,
   "metadata": {},
   "outputs": [],
   "source": [
    "mlflow.end_run()"
   ]
  },
  {
   "cell_type": "markdown",
   "metadata": {},
   "source": [
    "# Basic Baseline\n"
   ]
  },
  {
   "cell_type": "code",
   "execution_count": null,
   "metadata": {},
   "outputs": [],
   "source": [
    "avg_price_per_sqm_buy = 4070.62\n",
    "avg_price_per_sqm_rent = 11.21\n",
    "\n",
    "\n",
    "import mlflow\n",
    "import mlflow.sklearn\n",
    "from sklearn.metrics import mean_absolute_error, mean_squared_error, r2_score\n",
    "\n",
    "# Prepare baseline prediction using the living room feature\n",
    "baseline_preds = X_valid_processed['living_room'] * avg_price_per_sqm_rent\n",
    "\n",
    "# Calculate evaluation metrics for the baseline prediction\n",
    "baseline_mae = mean_absolute_error(val_y, baseline_preds)\n",
    "baseline_r2 = r2_score(val_y, baseline_preds)\n",
    "baseline_mse = mean_squared_error(val_y, baseline_preds)\n",
    "\n",
    "# Log baseline metrics to MLflow\n",
    "with mlflow.start_run(run_name=\"baseline\"):\n",
    "    mlflow.log_metric(\"mse\", baseline_mse)\n",
    "    mlflow.log_metric(\"mae\", baseline_mae)\n",
    "    mlflow.log_metric(\"r2\", baseline_r2)\n",
    "\n",
    "print(f\"Baseline Mae: {baseline_mae}\")\n",
    "print(f\"Baseline R2 Score: {baseline_r2}\")\n"
   ]
  },
  {
   "cell_type": "markdown",
   "metadata": {},
   "source": [
    "# XGBoost"
   ]
  },
  {
   "cell_type": "code",
   "execution_count": null,
   "metadata": {},
   "outputs": [],
   "source": [
    "mlflow.xgboost.autolog()\n",
    "mlflow.start_run()\n",
    "model = xgb.XGBRegressor(eval_metric=['rmse', 'mae', 'logloss'], early_stopping_rounds=7)\n",
    "model.fit(X=X_train_processed, \n",
    "          y=train_y,\n",
    "          eval_set=[(X_valid_processed, val_y)],\n",
    "\n",
    "          verbose=True)\n",
    "mlflow.xgboost.log_model(model, \"xgboost\")\n",
    "preds = model.predict(X_test_processed)\n",
    "mae = mean_absolute_error(test_y, preds)\n",
    "mlflow.log_metric(\"mae\", mae)\n",
    "mlflow.end_run()"
   ]
  },
  {
   "cell_type": "markdown",
   "metadata": {},
   "source": [
    "## Linear Regression\n"
   ]
  },
  {
   "cell_type": "code",
   "execution_count": null,
   "metadata": {},
   "outputs": [],
   "source": [
    "# print all dtypes of the use object \n",
    "\n",
    "print (train_X.)\n"
   ]
  },
  {
   "cell_type": "code",
   "execution_count": null,
   "metadata": {},
   "outputs": [],
   "source": [
    "    import mlflow\n",
    "    import mlflow.sklearn\n",
    "    from sklearn.linear_model import LinearRegression\n",
    "    from sklearn.metrics import mean_absolute_error\n",
    "    from sklearn.metrics import r2_score\n",
    "\n",
    "    # convert all to \n",
    "\n",
    "    mlflow.end_run()\n",
    "  \n",
    "    mlflow.start_run(run_name=\"linear-regression\", description=\"Basic linear Regression with scikit-learn. All features used.\")\n",
    "    model = LinearRegression()\n",
    "    model.fit(X_train_processed, train_y)\n",
    "    mlflow.sklearn.log_model(model, \"linear-regression-model\")\n",
    "    preds = model.predict(X_valid_processed)\n",
    "\n",
    "    mae = mean_absolute_error(val_y, preds)\n",
    "    r2 = r2_score(val_y, preds)\n",
    "    mse = mean_squared_error(val_y, preds)\n",
    "\n",
    "    mlflow.log_metric(\"mse2\", mse)\n",
    "    mlflow.log_metric(\"mae2\", mae)\n",
    "    mlflow.log_metric(\"r2\", r2)\n",
    "\n",
    "    print(f\"Mae:{mae}\")\n",
    "    r2 = r2_score(val_y, preds)\n",
    "    score = mean_absolute_error(val_y, preds)\n",
    "    mlflow.end_run()"
   ]
  },
  {
   "cell_type": "code",
   "execution_count": null,
   "metadata": {},
   "outputs": [],
   "source": [
    "mlflow.end_run()"
   ]
  },
  {
   "cell_type": "code",
   "execution_count": null,
   "metadata": {},
   "outputs": [],
   "source": [
    "# Create a run object in the experiment\n",
    "model_save_path = \"model\"\n",
    "\n",
    "\n",
    "\n",
    "\n",
    "mlflow.sklearn.autolog()\n",
    "\n",
    "with mlflow.start_run() as run:\n",
    "    # Log the algorithm parameter alpha to the run\n",
    "    mlflow.log_metric('alpha', 0.03)\n",
    "    # Create, fit, and test the scikit-learn Ridge regression model\n",
    "\n",
    "    model = LinearRegression()\n",
    "    model.fit(X_train_processed, train_y)\n",
    "    model.fit(X_train_processed, train_y)\n",
    "    preds = model.predict(test_X)\n",
    "\n",
    "    # Log mean squared error\n",
    "    print('Mean Squared Error is', mean_squared_error(test_y, preds))\n",
    "    mlflow.log_metric('mse', mean_squared_error(test_y, preds))\n",
    "    \n",
    "    # Save the model to the outputs directory for capture\n",
    "    mlflow.sklearn.log_model(model,model_save_path)\n",
    "    \n",
    "    # Plot actuals vs predictions and save the plot within the run\n",
    "    fig = plt.figure(1)\n",
    "    idx = np.argsort(data['test']['y'])\n",
    "    plt.plot(test_y[idx],preds[idx])\n",
    "    fig.savefig(\"actuals_vs_predictions.png\")\n",
    "    mlflow.log_artifact(\"actuals_vs_predictions.png\") "
   ]
  }
 ],
 "metadata": {
  "kernelspec": {
   "display_name": "Python 3",
   "language": "python",
   "name": "python3"
  },
  "language_info": {
   "codemirror_mode": {
    "name": "ipython",
    "version": 3
   },
   "file_extension": ".py",
   "mimetype": "text/x-python",
   "name": "python",
   "nbconvert_exporter": "python",
   "pygments_lexer": "ipython3",
   "version": "3.8.16"
  },
  "orig_nbformat": 4
 },
 "nbformat": 4,
 "nbformat_minor": 2
}
