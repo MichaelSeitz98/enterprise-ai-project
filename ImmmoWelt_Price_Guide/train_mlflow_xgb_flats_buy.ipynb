{
 "cells": [
  {
   "cell_type": "code",
   "execution_count": 7,
   "metadata": {},
   "outputs": [],
   "source": [
    "import pandas as pd\n",
    "from sklearn.compose import ColumnTransformer\n",
    "from sklearn.pipeline import Pipeline\n",
    "from sklearn.preprocessing import OrdinalEncoder, OneHotEncoder\n",
    "from sklearn.model_selection import train_test_split\n",
    "from sklearn.impute import SimpleImputer\n",
    "import xgboost as xgb\n",
    "from sklearn.metrics import mean_absolute_error\n",
    "from sklearn.preprocessing import OrdinalEncoder, OneHotEncoder\n",
    "import numpy as np\n",
    "from sklearn.metrics import mean_squared_error\n",
    "import mlflow\n",
    "import mlflow.xgboost\n",
    "import xgboost as xgb\n",
    "from sklearn.metrics import mean_absolute_error"
   ]
  },
  {
   "cell_type": "code",
   "execution_count": 2,
   "metadata": {},
   "outputs": [],
   "source": [
    "data = pd.read_csv(r'flats_to_buy_preproceesed.csv')\n",
    "\n",
    "\n",
    "data.dropna(subset=['ConstructionYear'], inplace=True)\n",
    "data.dropna(subset=['Object_price'], inplace=True)\n",
    "data.dropna(subset=['Rooms'], inplace=True)\n",
    "data.drop('Title', axis=1, inplace=True)\n",
    "data.drop('Object_currency', axis=1, inplace=True)\n",
    "data.drop('Url', axis=1, inplace=True)\n",
    "data.drop('EstateType', axis=1, inplace=True)\n",
    "data.drop('DistributionType', axis=1, inplace=True)\n",
    "data = data.reindex()\n",
    "data = data.reset_index(drop=True)\n",
    "\n",
    "y = data['Object_price']\n",
    "X = data.drop('Object_price', axis=1)"
   ]
  },
  {
   "cell_type": "code",
   "execution_count": 3,
   "metadata": {},
   "outputs": [],
   "source": [
    "train_X, test_X, train_y, test_y = train_test_split(X, y, \n",
    "                                                  train_size=0.8, \n",
    "                                                  random_state = 0)\n",
    "train_X, val_X, train_y, val_y = train_test_split(train_X, train_y, \n",
    "                                                  train_size=0.8, \n",
    "                                                  random_state = 0)\n",
    "\n",
    "num_cols = [col for col in train_X.columns if train_X[col].dtype == 'float64']\n",
    "cat_cols = [col for col in train_X.columns if train_X[col].dtype == 'object']\n",
    "bin_cols = [col for col in train_X.columns if train_X[col].dtype == 'int64']"
   ]
  },
  {
   "cell_type": "code",
   "execution_count": 4,
   "metadata": {},
   "outputs": [],
   "source": [
    "encoder = OneHotEncoder(handle_unknown='ignore')\n",
    "X_train_categorical_xgb = encoder.fit_transform(train_X[cat_cols]).toarray()\n",
    "X_valid_categorical_xgb = encoder.transform(val_X[cat_cols]).toarray()\n",
    "X_test_categorical_xgb = encoder.transform(test_X[cat_cols]).toarray()\n",
    "X_train_processed = np.concatenate([train_X[num_cols], X_train_categorical_xgb], axis=1)\n",
    "X_valid_processed = np.concatenate([val_X[num_cols], X_valid_categorical_xgb], axis=1)\n",
    "X_test_processed = np.concatenate([test_X[num_cols], X_test_categorical_xgb], axis=1)\n",
    "X_train_processed = np.concatenate([train_X[bin_cols], X_train_processed], axis=1)\n",
    "X_valid_processed = np.concatenate([val_X[bin_cols], X_valid_processed], axis=1)\n",
    "X_test_processed = np.concatenate([test_X[bin_cols], X_test_processed], axis=1)"
   ]
  },
  {
   "cell_type": "code",
   "execution_count": 5,
   "metadata": {},
   "outputs": [
    {
     "ename": "NameError",
     "evalue": "name 'mlflow' is not defined",
     "output_type": "error",
     "traceback": [
      "\u001b[1;31m---------------------------------------------------------------------------\u001b[0m",
      "\u001b[1;31mNameError\u001b[0m                                 Traceback (most recent call last)",
      "Cell \u001b[1;32mIn[5], line 1\u001b[0m\n\u001b[1;32m----> 1\u001b[0m mlflow\u001b[39m.\u001b[39mset_tracking_uri(\u001b[39m\"\u001b[39m\u001b[39mhttp://localhost:5000\u001b[39m\u001b[39m\"\u001b[39m)\n",
      "\u001b[1;31mNameError\u001b[0m: name 'mlflow' is not defined"
     ]
    }
   ],
   "source": [
    "mlflow.set_tracking_uri(\"http://localhost:5000\")"
   ]
  },
  {
   "cell_type": "code",
   "execution_count": 6,
   "metadata": {},
   "outputs": [
    {
     "ename": "NameError",
     "evalue": "name 'mlflow' is not defined",
     "output_type": "error",
     "traceback": [
      "\u001b[1;31m---------------------------------------------------------------------------\u001b[0m",
      "\u001b[1;31mNameError\u001b[0m                                 Traceback (most recent call last)",
      "Cell \u001b[1;32mIn[6], line 1\u001b[0m\n\u001b[1;32m----> 1\u001b[0m mlflow\u001b[39m.\u001b[39mend_run()\n",
      "\u001b[1;31mNameError\u001b[0m: name 'mlflow' is not defined"
     ]
    }
   ],
   "source": [
    "mlflow.end_run()\n"
   ]
  },
  {
   "cell_type": "code",
   "execution_count": null,
   "metadata": {},
   "outputs": [
    {
     "name": "stderr",
     "output_type": "stream",
     "text": [
      "2023/07/05 18:05:17 WARNING mlflow.utils.autologging_utils: You are using an unsupported version of xgboost. If you encounter errors during autologging, try upgrading / downgrading xgboost to a supported version, or try upgrading MLflow.\n"
     ]
    },
    {
     "ename": "Exception",
     "evalue": "Run with UUID b2ea8904bd0941e6865ebaabbcf205b4 is already active. To start a new run, first end the current run with mlflow.end_run(). To start a nested run, call start_run with nested=True",
     "output_type": "error",
     "traceback": [
      "\u001b[1;31m---------------------------------------------------------------------------\u001b[0m",
      "\u001b[1;31mException\u001b[0m                                 Traceback (most recent call last)",
      "Cell \u001b[1;32mIn[9], line 9\u001b[0m\n\u001b[0;32m      6\u001b[0m mlflow\u001b[39m.\u001b[39mxgboost\u001b[39m.\u001b[39mautolog()\n\u001b[0;32m      8\u001b[0m \u001b[39m# Start an MLflow run\u001b[39;00m\n\u001b[1;32m----> 9\u001b[0m mlflow\u001b[39m.\u001b[39;49mstart_run()\n\u001b[0;32m     12\u001b[0m model \u001b[39m=\u001b[39m xgb\u001b[39m.\u001b[39mXGBRegressor(eval_metric\u001b[39m=\u001b[39m[\u001b[39m'\u001b[39m\u001b[39mrmse\u001b[39m\u001b[39m'\u001b[39m, \u001b[39m'\u001b[39m\u001b[39mmae\u001b[39m\u001b[39m'\u001b[39m], early_stopping_rounds\u001b[39m=\u001b[39m\u001b[39m59\u001b[39m)\n\u001b[0;32m     13\u001b[0m model\u001b[39m.\u001b[39mfit(X\u001b[39m=\u001b[39mX_train_processed, \n\u001b[0;32m     14\u001b[0m           y\u001b[39m=\u001b[39mtrain_y,\n\u001b[0;32m     15\u001b[0m           eval_set\u001b[39m=\u001b[39m[(X_valid_processed, val_y)],\n\u001b[0;32m     16\u001b[0m           verbose\u001b[39m=\u001b[39m\u001b[39mTrue\u001b[39;00m)\n",
      "File \u001b[1;32mc:\\Users\\michi\\Anaconda3\\envs\\enterpriseai2\\lib\\site-packages\\mlflow\\tracking\\fluent.py:284\u001b[0m, in \u001b[0;36mstart_run\u001b[1;34m(run_id, experiment_id, run_name, nested, tags, description)\u001b[0m\n\u001b[0;32m    282\u001b[0m experiment_id \u001b[39m=\u001b[39m \u001b[39mstr\u001b[39m(experiment_id) \u001b[39mif\u001b[39;00m \u001b[39misinstance\u001b[39m(experiment_id, \u001b[39mint\u001b[39m) \u001b[39melse\u001b[39;00m experiment_id\n\u001b[0;32m    283\u001b[0m \u001b[39mif\u001b[39;00m \u001b[39mlen\u001b[39m(_active_run_stack) \u001b[39m>\u001b[39m \u001b[39m0\u001b[39m \u001b[39mand\u001b[39;00m \u001b[39mnot\u001b[39;00m nested:\n\u001b[1;32m--> 284\u001b[0m     \u001b[39mraise\u001b[39;00m \u001b[39mException\u001b[39;00m(\n\u001b[0;32m    285\u001b[0m         (\n\u001b[0;32m    286\u001b[0m             \u001b[39m\"\u001b[39m\u001b[39mRun with UUID \u001b[39m\u001b[39m{}\u001b[39;00m\u001b[39m is already active. To start a new run, first end the \u001b[39m\u001b[39m\"\u001b[39m\n\u001b[0;32m    287\u001b[0m             \u001b[39m+\u001b[39m \u001b[39m\"\u001b[39m\u001b[39mcurrent run with mlflow.end_run(). To start a nested \u001b[39m\u001b[39m\"\u001b[39m\n\u001b[0;32m    288\u001b[0m             \u001b[39m+\u001b[39m \u001b[39m\"\u001b[39m\u001b[39mrun, call start_run with nested=True\u001b[39m\u001b[39m\"\u001b[39m\n\u001b[0;32m    289\u001b[0m         )\u001b[39m.\u001b[39mformat(_active_run_stack[\u001b[39m0\u001b[39m]\u001b[39m.\u001b[39minfo\u001b[39m.\u001b[39mrun_id)\n\u001b[0;32m    290\u001b[0m     )\n\u001b[0;32m    291\u001b[0m client \u001b[39m=\u001b[39m MlflowClient()\n\u001b[0;32m    292\u001b[0m \u001b[39mif\u001b[39;00m run_id:\n",
      "\u001b[1;31mException\u001b[0m: Run with UUID b2ea8904bd0941e6865ebaabbcf205b4 is already active. To start a new run, first end the current run with mlflow.end_run(). To start a nested run, call start_run with nested=True"
     ]
    }
   ],
   "source": [
    "\n",
    "\n",
    "mlflow.xgboost.autolog()\n",
    "\n",
    "# Start an MLflow run\n",
    "mlflow.start_run()\n",
    "\n",
    "\n",
    "model = xgb.XGBRegressor(eval_metric=['rmse', 'mae'], early_stopping_rounds=59)\n",
    "model.fit(X=X_train_processed, \n",
    "          y=train_y,\n",
    "          eval_set=[(X_valid_processed, val_y)],\n",
    "          verbose=True)\n",
    "\n",
    "mlflow.xgboost.log_model(model, \"xgboost-model\")\n",
    "\n",
    "preds = model.predict(X_test_processed)\n",
    "score = mean_absolute_error(test_y, preds)\n",
    "\n",
    "mlflow.end_run()\n"
   ]
  }
 ],
 "metadata": {
  "kernelspec": {
   "display_name": "Python 3",
   "language": "python",
   "name": "python3"
  },
  "language_info": {
   "codemirror_mode": {
    "name": "ipython",
    "version": 3
   },
   "file_extension": ".py",
   "mimetype": "text/x-python",
   "name": "python",
   "nbconvert_exporter": "python",
   "pygments_lexer": "ipython3",
   "version": "3.8.16"
  },
  "orig_nbformat": 4
 },
 "nbformat": 4,
 "nbformat_minor": 2
}
