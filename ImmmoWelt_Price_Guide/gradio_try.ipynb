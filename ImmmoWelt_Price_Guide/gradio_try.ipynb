{
 "cells": [
  {
   "cell_type": "code",
   "execution_count": 2,
   "metadata": {},
   "outputs": [],
   "source": [
    "import gradio as gr\n",
    "import pandas as pd\n",
    "import mlflow \n",
    "from pprint import pprint\n",
    "from mlflow import MlflowClient"
   ]
  },
  {
   "cell_type": "code",
   "execution_count": null,
   "metadata": {},
   "outputs": [],
   "source": [
    "mlflow.set_tracking_uri(\"http://localhost:5000\")"
   ]
  },
  {
   "cell_type": "code",
   "execution_count": null,
   "metadata": {},
   "outputs": [],
   "source": [
    "def load_model(model_name):\n",
    "    model_name = \"Michels_Super_XGBoost\"\n",
    "    model_version = 1\n",
    "    model = mlflow.pyfunc.load_model(model_uri=f\"models:/{model_name}/{model_version}\")\n",
    "    return model"
   ]
  },
  {
   "cell_type": "code",
   "execution_count": null,
   "metadata": {},
   "outputs": [],
   "source": [
    "model = load_model(\"Michels_Super_XGBoost\")\n",
    "print(\"Model loaded\")\n",
    "print(model)"
   ]
  },
  {
   "cell_type": "code",
   "execution_count": null,
   "metadata": {},
   "outputs": [],
   "source": [
    "client = MlflowClient()\n",
    "for rm in client.search_registered_models():\n",
    "    pprint(dict(rm), indent=4)"
   ]
  },
  {
   "cell_type": "code",
   "execution_count": null,
   "metadata": {},
   "outputs": [],
   "source": [
    "!mlflow models serve -m \"models:/Michels_Super_XGBoost/Production\""
   ]
  },
  {
   "cell_type": "code",
   "execution_count": null,
   "metadata": {},
   "outputs": [],
   "source": [
    "reg_model_name = \"Michels_Super_XGBoost\"\n",
    "model_uri = f\"models:/{reg_model_name}/1\"\n",
    "loaded_model = mlflow.xgboost.load_model(model_uri)\n",
    "print(\"--\")\n",
    "loaded_model"
   ]
  },
  {
   "cell_type": "code",
   "execution_count": null,
   "metadata": {},
   "outputs": [],
   "source": [
    "load_model(\"hallo\")"
   ]
  },
  {
   "cell_type": "code",
   "execution_count": null,
   "metadata": {},
   "outputs": [],
   "source": [
    "!export MLFLOW_TRACKING_URI=http://localhost:5000"
   ]
  },
  {
   "cell_type": "code",
   "execution_count": null,
   "metadata": {},
   "outputs": [],
   "source": [
    "# Serve the production model from the model registry\n",
    "!mlflow models serve -m \"models:/Michels_Super_XGBoost/Production\"\n"
   ]
  },
  {
   "cell_type": "code",
   "execution_count": null,
   "metadata": {},
   "outputs": [],
   "source": [
    "load_model(\"Michels_Super_XGBoost\")"
   ]
  },
  {
   "cell_type": "code",
   "execution_count": null,
   "metadata": {},
   "outputs": [],
   "source": [
    "def predict_price(rooms, area, floor, lift, year, heating, garage, garden, balcony, condition, district):\n",
    "    df = pd.DataFrame.from_dict({\n",
    "        'rooms': [rooms],\n",
    "        'area': [area],\n",
    "        'floor': [floor],\n",
    "        'lift': [lift],\n",
    "        'year': [year],\n",
    "        'heating': [heating],\n",
    "        'garage': [garage],\n",
    "        'garden': [garden],\n",
    "        'balcony': [balcony],\n",
    "        'condition': [condition],\n",
    "        'district': [district]\n",
    "    })\n",
    "    return model.predict(df)[0]"
   ]
  },
  {
   "cell_type": "markdown",
   "metadata": {},
   "source": [
    "## Gradio Layout"
   ]
  },
  {
   "cell_type": "code",
   "execution_count": null,
   "metadata": {},
   "outputs": [],
   "source": [
    "def load_model():\n",
    "     "
   ]
  },
  {
   "cell_type": "code",
   "execution_count": 18,
   "metadata": {},
   "outputs": [],
   "source": [
    "def getPrice(): \n",
    "    return 99\n",
    "    "
   ]
  },
  {
   "cell_type": "code",
   "execution_count": 39,
   "metadata": {},
   "outputs": [
    {
     "name": "stdout",
     "output_type": "stream",
     "text": [
      "Running on local URL:  http://127.0.0.1:7865\n",
      "\n",
      "To create a public link, set `share=True` in `launch()`.\n"
     ]
    },
    {
     "data": {
      "text/html": [
       "<div><iframe src=\"http://127.0.0.1:7865/\" width=\"100%\" height=\"500\" allow=\"autoplay; camera; microphone; clipboard-read; clipboard-write;\" frameborder=\"0\" allowfullscreen></iframe></div>"
      ],
      "text/plain": [
       "<IPython.core.display.HTML object>"
      ]
     },
     "metadata": {},
     "output_type": "display_data"
    }
   ],
   "source": [
    "with gr.Blocks() as demo:\n",
    "    with gr.Tab(\"User\"):\n",
    "        gr.HTML(\n",
    "            \"\"\"\n",
    "        <div style=\"text-align: center;\">\n",
    "            <img src=\"file/header_img.png\" alt=\"Header Image\" width=\"200\">\n",
    "        </div>\n",
    "        \"\"\"\n",
    "        )\n",
    "\n",
    "        gr.HTML(\"<h1> Estimate your price</h1>\")\n",
    "        gr.Text(label=\"Adress\", placeholder=\"Reisgrubengasse 11, 97070 Würzburg\")\n",
    "\n",
    "        table = gr.Dropdown(\n",
    "            [\n",
    "                \"New \",\n",
    "                \"Bachelor Information Systems\",\n",
    "                \"Bachelor Management\",\n",
    "            ],\n",
    "            label=\"Builing Style \",\n",
    "            value=\"Master Information Systems\",\n",
    "        )\n",
    "\n",
    "        with gr.Accordion(\"Advanced Options\", open=False):\n",
    "            with gr.Group():\n",
    "                model_selction = gr.Dropdown(\n",
    "                    [\n",
    "                        \"google/tapas-finetuned-wtq\",\n",
    "                        \"google/tapas-large-finetuned-wtq\",\n",
    "                    ],\n",
    "                    label=\"Select Model\",\n",
    "                    value=\"google/tapas-finetuned-wtq\",\n",
    "                )\n",
    "                view_as_table_or_text = gr.Checkbox(\n",
    "                    label=\"View detailed information as table\", value=False\n",
    "                )\n",
    "\n",
    "        ask_btn = gr.Button(\"Get your Price\")\n",
    "        gr.HTML(\"<hr>\")\n",
    "        inputs = []\n",
    "        output_question = gr.HTML(label=\"Answer\")\n",
    "        outout_full_module = gr.HTML(label=\"Detailed Description\")\n",
    "        outputs = [output_question, outout_full_module]\n",
    "        ask_btn.click(fn=getPrice, inputs=inputs, outputs=outputs, api_name=\"greet\")\n",
    "\n",
    "    with gr.Tab(\"Admin\"):\n",
    "        gr.Markdown(\"This is the admin site.\")\n",
    "        gr.Button(\"Retrain with fresh data\")\n",
    "        # plot = get_model_comparison_from_mlflow()\n",
    "        # make a sample barplot\n",
    "        gr.Plot(label=\"Model Comparison\")\n",
    "\n",
    "demo.launch(debug=True)"
   ]
  }
 ],
 "metadata": {
  "kernelspec": {
   "display_name": "enterpriseai2",
   "language": "python",
   "name": "python3"
  },
  "language_info": {
   "codemirror_mode": {
    "name": "ipython",
    "version": 3
   },
   "file_extension": ".py",
   "mimetype": "text/x-python",
   "name": "python",
   "nbconvert_exporter": "python",
   "pygments_lexer": "ipython3",
   "version": "3.8.16"
  },
  "orig_nbformat": 4
 },
 "nbformat": 4,
 "nbformat_minor": 2
}
