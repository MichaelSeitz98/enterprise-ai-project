{
 "cells": [
  {
   "cell_type": "code",
   "execution_count": 2,
   "metadata": {},
   "outputs": [],
   "source": [
    "import gradio as gr\n",
    "import pandas as pd\n",
    "import mlflow \n",
    "from pprint import pprint\n",
    "from mlflow import MlflowClient"
   ]
  },
  {
   "cell_type": "code",
   "execution_count": null,
   "metadata": {},
   "outputs": [],
   "source": [
    "mlflow.set_tracking_uri(\"http://localhost:5000\")"
   ]
  },
  {
   "cell_type": "code",
   "execution_count": null,
   "metadata": {},
   "outputs": [],
   "source": [
    "def load_model(model_name):\n",
    "    model_name = \"Michels_Super_XGBoost\"\n",
    "    model_version = 1\n",
    "    model = mlflow.pyfunc.load_model(model_uri=f\"models:/{model_name}/{model_version}\")\n",
    "    return model"
   ]
  },
  {
   "cell_type": "code",
   "execution_count": null,
   "metadata": {},
   "outputs": [],
   "source": [
    "model = load_model(\"Michels_Super_XGBoost\")\n",
    "print(\"Model loaded\")\n",
    "print(model)"
   ]
  },
  {
   "cell_type": "code",
   "execution_count": null,
   "metadata": {},
   "outputs": [],
   "source": [
    "client = MlflowClient()\n",
    "for rm in client.search_registered_models():\n",
    "    pprint(dict(rm), indent=4)"
   ]
  },
  {
   "cell_type": "code",
   "execution_count": null,
   "metadata": {},
   "outputs": [],
   "source": [
    "!mlflow models serve -m \"models:/Michels_Super_XGBoost/Production\""
   ]
  },
  {
   "cell_type": "code",
   "execution_count": null,
   "metadata": {},
   "outputs": [],
   "source": [
    "reg_model_name = \"Michels_Super_XGBoost\"\n",
    "model_uri = f\"models:/{reg_model_name}/1\"\n",
    "loaded_model = mlflow.xgboost.load_model(model_uri)\n",
    "print(\"--\")\n",
    "loaded_model"
   ]
  },
  {
   "cell_type": "code",
   "execution_count": null,
   "metadata": {},
   "outputs": [],
   "source": [
    "load_model(\"hallo\")"
   ]
  },
  {
   "cell_type": "code",
   "execution_count": null,
   "metadata": {},
   "outputs": [],
   "source": [
    "!export MLFLOW_TRACKING_URI=http://localhost:5000"
   ]
  },
  {
   "cell_type": "code",
   "execution_count": null,
   "metadata": {},
   "outputs": [],
   "source": [
    "# Serve the production model from the model registry\n",
    "!mlflow models serve -m \"models:/Michels_Super_XGBoost/Production\"\n"
   ]
  },
  {
   "cell_type": "code",
   "execution_count": null,
   "metadata": {},
   "outputs": [],
   "source": [
    "load_model(\"Michels_Super_XGBoost\")"
   ]
  },
  {
   "cell_type": "code",
   "execution_count": null,
   "metadata": {},
   "outputs": [],
   "source": [
    "def predict_price(rooms, area, floor, lift, year, heating, garage, garden, balcony, condition, district):\n",
    "    df = pd.DataFrame.from_dict({\n",
    "        'rooms': [rooms],\n",
    "        'area': [area],\n",
    "        'floor': [floor],\n",
    "        'lift': [lift],\n",
    "        'year': [year],\n",
    "        'heating': [heating],\n",
    "        'garage': [garage],\n",
    "        'garden': [garden],\n",
    "        'balcony': [balcony],\n",
    "        'condition': [condition],\n",
    "        'district': [district]\n",
    "    })\n",
    "    return model.predict(df)[0]"
   ]
  },
  {
   "attachments": {},
   "cell_type": "markdown",
   "metadata": {},
   "source": [
    "## Gradio Layout"
   ]
  },
  {
   "cell_type": "code",
   "execution_count": 4,
   "metadata": {},
   "outputs": [
    {
     "ename": "SyntaxError",
     "evalue": "incomplete input (3157610814.py, line 1)",
     "output_type": "error",
     "traceback": [
      "\u001b[1;36m  Cell \u001b[1;32mIn[4], line 1\u001b[1;36m\u001b[0m\n\u001b[1;33m    def load_model():\u001b[0m\n\u001b[1;37m                     ^\u001b[0m\n\u001b[1;31mSyntaxError\u001b[0m\u001b[1;31m:\u001b[0m incomplete input\n"
     ]
    }
   ],
   "source": [
    "def load_model():"
   ]
  },
  {
   "cell_type": "code",
   "execution_count": 6,
   "metadata": {},
   "outputs": [],
   "source": [
    "def getPrice(): \n",
    "    return 99\n",
    "    "
   ]
  },
  {
   "cell_type": "code",
   "execution_count": 7,
   "metadata": {},
   "outputs": [
    {
     "name": "stderr",
     "output_type": "stream",
     "text": [
      "c:\\Python311\\Lib\\site-packages\\gradio\\utils.py:835: UserWarning: Expected 0 arguments for function <function getPrice at 0x000001F83F8DB420>, received 2.\n",
      "  warnings.warn(\n",
      "c:\\Python311\\Lib\\site-packages\\gradio\\utils.py:843: UserWarning: Expected maximum 0 arguments for function <function getPrice at 0x000001F83F8DB420>, received 2.\n",
      "  warnings.warn(\n"
     ]
    },
    {
     "name": "stdout",
     "output_type": "stream",
     "text": [
      "Running on local URL:  http://127.0.0.1:7860\n",
      "\n",
      "To create a public link, set `share=True` in `launch()`.\n"
     ]
    },
    {
     "data": {
      "text/html": [
       "<div><iframe src=\"http://127.0.0.1:7860/\" width=\"100%\" height=\"500\" allow=\"autoplay; camera; microphone; clipboard-read; clipboard-write;\" frameborder=\"0\" allowfullscreen></iframe></div>"
      ],
      "text/plain": [
       "<IPython.core.display.HTML object>"
      ]
     },
     "metadata": {},
     "output_type": "display_data"
    },
    {
     "name": "stdout",
     "output_type": "stream",
     "text": [
      "Keyboard interruption in main thread... closing server.\n"
     ]
    },
    {
     "data": {
      "text/plain": []
     },
     "execution_count": 7,
     "metadata": {},
     "output_type": "execute_result"
    }
   ],
   "source": [
    "with gr.Blocks() as demo: \n",
    "    \n",
    "    with gr.Tab(\"User\"): \n",
    "        gr.HTML(\n",
    "            \"<h1> Estimate your price</h1>\"\n",
    "        )\n",
    "        gr.Text(label = \"Adress\", placeholder = \"Reisgrubengasse 11, 97070 Würzburg\")\n",
    "        \n",
    "        gr.HTML(\n",
    "        \"\"\"\n",
    "        <div style=\"text-align: center;\">\n",
    "            <img src=\"file/header_img.png\" alt=\"Header Image\" width=\"300\">\n",
    "        </div>\n",
    "        \"\"\"\n",
    "        )\n",
    "        \n",
    "        table = gr.Dropdown(\n",
    "            [\n",
    "                \"Master Information Systems\",\n",
    "                \"Bachelor Information Systems\",\n",
    "                \"Bachelor Management\",\n",
    "            ],\n",
    "            label=\"Select Module Guide\",\n",
    "            value=\"Master Information Systems\",\n",
    "        )\n",
    "\n",
    "        with gr.Accordion(\"Advanced Options\", open=False):\n",
    "            with gr.Group():\n",
    "                model_selction = gr.Dropdown(\n",
    "                    [\n",
    "                        \"google/tapas-finetuned-wtq\",\n",
    "                        \"google/tapas-large-finetuned-wtq\",\n",
    "                    ],\n",
    "                    label=\"Select Model\",\n",
    "                    value=\"google/tapas-finetuned-wtq\",\n",
    "                )\n",
    "                view_as_table_or_text = gr.Checkbox(\n",
    "                    label=\"View detailed information as table\", value=False\n",
    "                )\n",
    "\n",
    "        ask_btn = gr.Button(\"Get your Price\")\n",
    "        gr.HTML(\"<hr>\")\n",
    "        inputs = [table, model_selction]\n",
    "        output_question = gr.HTML(label=\"Answer\")\n",
    "        outout_full_module = gr.HTML(label=\"Detailed Description\")\n",
    "        outputs = [output_question, outout_full_module]\n",
    "        ask_btn.click(fn=getPrice, inputs=inputs, outputs=outputs, api_name=\"greet\")\n",
    "\n",
    "    with gr.Tab(\"Admin\"):\n",
    "        gr.Markdown (\"This is the admin site.\")\n",
    "        gr.Button(\"Retrain with fresh data\")\n",
    "        # plot = get_model_comparison_from_mlflow()\n",
    "        # make a sample barplot\n",
    "        gr.Plot(label=\"Model Comparison\")\n",
    "\n",
    "\n",
    "demo.launch(debug=True)"
   ]
  },
  {
   "cell_type": "code",
   "execution_count": 81,
   "metadata": {},
   "outputs": [],
   "source": [
    "def get_dataframe(feature_squrmeter, feature_rooms, features_ab, feature_wc):\n",
    "    data_list = [feature_squrmeter] + [feature_rooms] + [features_ab] + [feature_wc]\n",
    "    data = pd.DataFrame()\n",
    "    data = pd.DataFrame(columns=['Living Space', 'Romms', 'Bad/WC getrennt', 'Barrierefrei'])\n",
    "    data.loc[len(data)] = data_list\n",
    "    print(data)\n"
   ]
  },
  {
   "cell_type": "code",
   "execution_count": 82,
   "metadata": {},
   "outputs": [
    {
     "name": "stdout",
     "output_type": "stream",
     "text": [
      "\n",
      "Thanks for being a Gradio user! If you have questions or feedback, please join our Discord server and chat with us: https://discord.gg/feTf9x3ZSB\n",
      "Running on local URL:  http://127.0.0.1:7860\n",
      "\n",
      "To create a public link, set `share=True` in `launch()`.\n"
     ]
    },
    {
     "data": {
      "text/html": [
       "<div><iframe src=\"http://127.0.0.1:7860/\" width=\"100%\" height=\"500\" allow=\"autoplay; camera; microphone; clipboard-read; clipboard-write;\" frameborder=\"0\" allowfullscreen></iframe></div>"
      ],
      "text/plain": [
       "<IPython.core.display.HTML object>"
      ]
     },
     "metadata": {},
     "output_type": "display_data"
    },
    {
     "name": "stdout",
     "output_type": "stream",
     "text": [
      "   Living Space  Romms  Bad/WC getrennt  Barrierefrei\n",
      "0           0.0    0.0            False         False\n",
      "Keyboard interruption in main thread... closing server.\n"
     ]
    },
    {
     "data": {
      "text/plain": []
     },
     "execution_count": 82,
     "metadata": {},
     "output_type": "execute_result"
    }
   ],
   "source": [
    "with gr.Blocks() as demo:\n",
    "    gr.Markdown(\n",
    "    '''\n",
    "    # Gebe Sie hier an, wie viel qm und wie viele Zimmer ihre Immobilie besitzt 🏠\n",
    "    ''')\n",
    "\n",
    "    with gr.Row():\n",
    "        feature_squrmeter = gr.Number(label='Wohnfläche [qm]')\n",
    "    with gr.Row():\n",
    "        feature_rooms = gr.Number(label='Anzahl der Zimmer')\n",
    "    gr.Markdown(\n",
    "        '''\n",
    "        # Gebe Sie hier an, welche Voraussetzungen Ihre Immobilie erfüllt 🏠\n",
    "        ''')\n",
    "    with gr.Box():\n",
    "        with gr.Row():\n",
    "            features_ab = gr.Checkbox(label='Abstaellraum')\n",
    "            feature_wc = gr.Checkbox(label='Bad/WC getrennt')\n",
    "            feature_ba = gr.Checkbox(label='Barrierefrei')\n",
    "            feature_bi = gr.Checkbox(label='Bidet')\n",
    "        with gr.Row():\n",
    "            feature_kü = gr.Checkbox(label='Einbauküche')\n",
    "            feature_el = gr.Checkbox(label='Elektroheizung')\n",
    "            feature_ew = gr.Checkbox(label='Erdwärme')\n",
    "            feature_ew = gr.Checkbox(label='Pakett')\n",
    "    with gr.Row():\n",
    "        ask_btn = gr.Button(\"Get your Price\")\n",
    "        ask_btn.click(fn=get_dataframe, inputs=[feature_squrmeter, feature_rooms, features_ab, feature_wc])\n",
    "demo.launch(debug=True)\n"
   ]
  }
 ],
 "metadata": {
  "kernelspec": {
   "display_name": "enterpriseai2",
   "language": "python",
   "name": "python3"
  },
  "language_info": {
   "codemirror_mode": {
    "name": "ipython",
    "version": 3
   },
   "file_extension": ".py",
   "mimetype": "text/x-python",
   "name": "python",
   "nbconvert_exporter": "python",
   "pygments_lexer": "ipython3",
   "version": "3.11.3"
  },
  "orig_nbformat": 4
 },
 "nbformat": 4,
 "nbformat_minor": 2
}
