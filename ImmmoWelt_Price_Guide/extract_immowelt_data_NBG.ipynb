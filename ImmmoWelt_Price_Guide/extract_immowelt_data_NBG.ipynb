{
 "cells": [
  {
   "cell_type": "code",
   "execution_count": 1,
   "metadata": {},
   "outputs": [],
   "source": [
    "from apify_scrap import *\n",
    "from preprocessing_methods import *\n",
    "import pandas as pd"
   ]
  },
  {
   "cell_type": "code",
   "execution_count": 1,
   "metadata": {},
   "outputs": [],
   "source": [
    "# Get the data for Nürnberg from Apify\n",
    "houses_to_buy_nbg_url = \"https://www.immowelt.de/liste/nuernberg/haeuser/kaufen?d=true&pma=10000000&pmi=1&sd=DESC&sf=RELEVANCE&sp=1\"\n",
    "\n",
    "#houses_to_buy_nbg = get_dataset_items(houses_to_buy_nbg_url, 100)\n",
    "\n",
    "# Write the data to an Excel file\n",
    "#write_data_to_excel(houses_to_buy_nbg, \"houses_to_buy_nbg.xlsx\")"
   ]
  },
  {
   "cell_type": "code",
   "execution_count": 2,
   "metadata": {},
   "outputs": [],
   "source": [
    "df_houses_to_buy_nbg = pd.read_excel(\"houses_to_buy_nbg.xlsx\")\n",
    "\n",
    "houses_to_buy_nbg_preprocessed = preprocess_data(df_houses_to_buy_nbg)\n",
    "\n",
    "houses_to_buy_nbg_preprocessed.to_excel(\"houses_to_buy_nbg_preprocessed.xlsx\")\n"
   ]
  },
  {
   "cell_type": "code",
   "execution_count": null,
   "metadata": {},
   "outputs": [],
   "source": [
    "\n"
   ]
  }
 ],
 "metadata": {
  "kernelspec": {
   "display_name": "py38",
   "language": "python",
   "name": "python3"
  },
  "language_info": {
   "codemirror_mode": {
    "name": "ipython",
    "version": 3
   },
   "file_extension": ".py",
   "mimetype": "text/x-python",
   "name": "python",
   "nbconvert_exporter": "python",
   "pygments_lexer": "ipython3",
   "version": "3.8.16"
  },
  "orig_nbformat": 4
 },
 "nbformat": 4,
 "nbformat_minor": 2
}
