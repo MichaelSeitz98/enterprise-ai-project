{
 "cells": [
  {
   "cell_type": "code",
   "execution_count": 1,
   "metadata": {},
   "outputs": [],
   "source": [
    "from enum import Enum\n",
    "\n",
    "class ImmoWeltUrls(Enum):\n",
    "    BUY_FLATS_WUE_10km = \"https://www.immowelt.de/liste/wuerzburg/wohnungen/kaufen?d=true&r=10&sd=DESC&sf=RELEVANCE&sp=1\"\n",
    "    BUY_HOUSES_WUE_10km = \"https://www.immowelt.de/liste/wuerzburg/haeuser/kaufen?d=true&r=10&sd=DESC&sf=RELEVANCE&sp=1\"\n",
    "    RENT_FLATS_WUE_10km = \"https://www.immowelt.de/liste/wuerzburg/wohnungen/mieten?d=true&r=10&sd=DESC&sf=RELEVANCE&sp=1\"\n",
    "    RENT_HOUSES_WUE_10km = \"https://www.immowelt.de/liste/wuerzburg/haeuser/mieten?d=true&r=10&sd=DESC&sf=RELEVANCE&sp=1\"\n",
    "\n"
   ]
  },
  {
   "cell_type": "code",
   "execution_count": 2,
   "metadata": {},
   "outputs": [],
   "source": [
    "from apify_client import ApifyClient\n",
    "\n",
    "def get_dataset_items(url, limit):\n",
    "    # Initialize the ApifyClient with your API token\n",
    "    client = ApifyClient(\"apify_api_ODNYdzGzgsEyN9NGAQ3vyPyqTuj1jq34zPry\")\n",
    "\n",
    "    # Prepare the Actor input\n",
    "    run_input = {\n",
    "        \"startUrls\": [{ \"url\": url }],\n",
    "        \"limit\": limit,\n",
    "        \"proxyConfig\": { \"useApifyProxy\": True },\n",
    "    }\n",
    "\n",
    "    # Run the Actor and wait for it to finish\n",
    "    run = client.actor(\"b4d9dfcf9MzBnyW7z\").call(run_input=run_input)\n",
    "\n",
    "    # Get the output of the Actor run\n",
    "    dataset_items = []\n",
    "    for item in client.dataset(run[\"defaultDatasetId\"]).iterate_items():\n",
    "        dataset_items.append(item)\n",
    "\n",
    "    return dataset_items\n",
    "\n"
   ]
  },
  {
   "cell_type": "code",
   "execution_count": 8,
   "metadata": {},
   "outputs": [],
   "source": [
    "# get data \n",
    "flats_to_buy = get_dataset_items(ImmoWeltUrls.BUY_FLATS_WUE_10km.value, 50)\n",
    "houses_to_buy = get_dataset_items(ImmoWeltUrls.BUY_HOUSES_WUE_10km.value, 50)\n",
    "flats_to_rent = get_dataset_items(ImmoWeltUrls.RENT_FLATS_WUE_10km.value, 50)\n",
    "houses_to_rent = get_dataset_items(ImmoWeltUrls.RENT_HOUSES_WUE_10km.value, 50)"
   ]
  },
  {
   "cell_type": "code",
   "execution_count": 9,
   "metadata": {},
   "outputs": [
    {
     "name": "stdout",
     "output_type": "stream",
     "text": [
      "{'Url': 'https://www.immowelt.de/expose/2ahla55', 'TranactionType': {'EstateTypeGerman': 'HAUS', 'DistributionTypeGerman': 'ZUR_MIETE', 'EstateType': 'HOUSE', 'DistributionType': 'RENT'}, 'Title': 'Neugebautes, modernes TRAUMHAUS mit Weitblick in Gerbrunn - Erstbezug', 'Object_price': 3894, 'Object_currency': 'EUR', 'LivingSpace': 271.5, 'Rooms': 8, 'ConstructionYear': 2023, 'Object_features': ['Neubau', 'barriefrei', 'WANNE', 'gaestewc', 'unterkellert', 'LUFTWP', 'Fußbodenheizung', 'Garten', 'rollstuhlgerecht', 'Haustiere erlaubt', 'Terrasse'], 'Address': {'Country': 'Deutschland', 'City': 'Gerbrunn', 'ZipCode': '97218', 'Street': 'Helene-Wessel-Weg 5', 'LocationId': 12047, 'PublishStreet': True, 'FederalState': 'Bayern', 'FederalStateId': 2}, 'Price': {'AdditionalInformation': {'Deposit': {'StringValue': '3 Monatsmieten', 'Key': 'PRICE_DEPOSIT', 'Label': 'Kaution'}, 'MarketPricing': {'Heading': 'Hausmieten in Gerbrunn', 'Link': 'https://www.immowelt.de/immobilienpreise/gerbrunn/hausmieten'}}, 'DataTable': [{'NumberValue': 3894, 'Unit': 'EUR', 'Key': 'PRICE_RENT_COLD', 'Label': 'Kaltmiete', 'Comments': ['zzgl. Nebenkosten']}, {'StringValue': 'in Nebenkosten enthalten', 'Key': 'PRICE_HEATINGCOSTS', 'Label': 'Heizkosten'}]}, 'MediaItems': ['https://ms.immowelt.org/a72db752-2068-420e-bdc6-a71d887c166a/f40b1116-af07-4b75-be04-be9e6a745d7d', 'https://ms.immowelt.org/52279f97-4203-4dcc-b10e-6db9edab3657/62431085-df8a-44c4-ba73-86502d6f497f', 'https://ms.immowelt.org/56133955-0d62-46bf-8517-5d4d24bc0d1b/33161ccc-3892-4c75-91b5-9fb38f85ece2', 'https://ms.immowelt.org/5b76d90d-a832-49a8-91d3-35c44b9c6c86/b155eb1c-554b-4f5c-9bbb-604a9b0dd3b9', 'https://ms.immowelt.org/c351a15f-5687-4feb-89d5-b4050d5f8448/edad52ed-61a2-4338-8c9e-04ff5cb2b4ae', 'https://ms.immowelt.org/744dc88d-0dee-464a-abdc-a45d53fd9440/5c71a653-a092-4af4-b357-64f8dad84b74', 'https://ms.immowelt.org/f585887b-821f-4220-8fce-60baa61c2fe7/1d59caa7-ab39-44c6-b81a-231d80637b46'], 'BasicInfo': {'basicTranactionType': 'RENT', 'basicTitle': 'Neugebautes, modernes TRAUMHAUS mit Weitblick in Gerbrunn - Erstbezug', 'basicObjectPricEur': 3894, 'basicLivingSpace': 271.5, 'basicRooms': 8, 'basicConstructionYear': 2023, 'basicCity': 'Gerbrunn', 'basicStreet': 'Helene-Wessel-Weg 5', 'basicUrl': 'https://www.immowelt.de/expose/2ahla55', 'basicContactPhone': '', 'basicContactMobile': ''}}\n"
     ]
    }
   ],
   "source": [
    "print(houses_to_rent[0])"
   ]
  },
  {
   "cell_type": "code",
   "execution_count": 3,
   "metadata": {},
   "outputs": [],
   "source": [
    "import openpyxl\n",
    "import json\n",
    "\n",
    "def write_data_to_excel(data_objects, file_name):\n",
    "    # Create a new workbook and select the active sheet\n",
    "    workbook = openpyxl.Workbook()\n",
    "    sheet = workbook.active\n",
    "\n",
    "    # Write the headers\n",
    "    headers = list(data_objects[0].keys())\n",
    "    for col_num, header in enumerate(headers, 1):\n",
    "        sheet.cell(row=1, column=col_num).value = header\n",
    "\n",
    "    # Write the data rows\n",
    "    for row_num, data in enumerate(data_objects, 2):\n",
    "        for col_num, header in enumerate(headers, 1):\n",
    "            value = json.dumps(data.get(header, \"\"))  # Convert value to string, use empty string if key not found\n",
    "            sheet.cell(row=row_num, column=col_num).value = value\n",
    "\n",
    "    # Save the workbook\n",
    "    workbook.save(file_name)"
   ]
  },
  {
   "cell_type": "code",
   "execution_count": 16,
   "metadata": {},
   "outputs": [],
   "source": [
    "# write data to excel for each category\n",
    "write_data_to_excel(flats_to_buy, \"flats_to_buy.xlsx\")\n",
    "write_data_to_excel(houses_to_buy, \"houses_to_buy.xlsx\")\n",
    "write_data_to_excel(flats_to_rent, \"flats_to_rent.xlsx\")\n",
    "write_data_to_excel(houses_to_rent, \"houses_to_rent.xlsx\")\n"
   ]
  }
 ],
 "metadata": {
  "kernelspec": {
   "display_name": "py38",
   "language": "python",
   "name": "python3"
  },
  "language_info": {
   "codemirror_mode": {
    "name": "ipython",
    "version": 3
   },
   "file_extension": ".py",
   "mimetype": "text/x-python",
   "name": "python",
   "nbconvert_exporter": "python",
   "pygments_lexer": "ipython3",
   "version": "3.8.16"
  },
  "orig_nbformat": 4
 },
 "nbformat": 4,
 "nbformat_minor": 2
}
