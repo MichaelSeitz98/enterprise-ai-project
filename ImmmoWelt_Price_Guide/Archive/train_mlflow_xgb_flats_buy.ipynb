{
 "cells": [
  {
   "cell_type": "code",
   "execution_count": null,
   "metadata": {},
   "outputs": [],
   "source": [
    "import pandas as pd\n",
    "from sklearn.compose import ColumnTransformer\n",
    "from sklearn.pipeline import Pipeline\n",
    "from sklearn.preprocessing import OrdinalEncoder, OneHotEncoder\n",
    "from sklearn.model_selection import train_test_split\n",
    "from sklearn.impute import SimpleImputer\n",
    "import xgboost as xgb\n",
    "from sklearn.preprocessing import OrdinalEncoder, OneHotEncoder\n",
    "import numpy as np\n",
    "from sklearn.metrics import mean_squared_error\n",
    "import mlflow\n",
    "import mlflow.xgboost\n",
    "import xgboost as xgb\n",
    "from sklearn.metrics import mean_absolute_error, mean_squared_error, r2_score\n",
    "import matplotlib.pyplot as plt\n",
    "from sklearn.linear_model import Ridge, Lasso, ElasticNet"
   ]
  },
  {
   "cell_type": "code",
   "execution_count": null,
   "metadata": {},
   "outputs": [],
   "source": [
    "data = pd.read_excel(r'data\\flats_to_rent_wue_preprocessed_0407.xlsx')\n",
    "\n",
    "data.dropna(subset=['ConstructionYear'], inplace=True)\n",
    "data.dropna(subset=['Object_price'], inplace=True)\n",
    "data.dropna(subset=['Rooms'], inplace=True)\n",
    "# data.drop('Title', axis=1, inplace=True)\n",
    "# data.drop('Object_currency', axis=1, inplace=True)\n",
    "# data.drop('Url', axis=1, inplace=True)\n",
    "# data.drop('EstateType', axis=1, inplace=True)\n",
    "# data.drop('DistributionType', axis=1, inplace=True)\n",
    "data = data.reindex()\n",
    "data = data.reset_index(drop=True)\n",
    "\n",
    "y = data['Object_price']\n",
    "X = data.drop('Object_price', axis=1)"
   ]
  },
  {
   "cell_type": "code",
   "execution_count": null,
   "metadata": {},
   "outputs": [],
   "source": [
    "train_X, test_X, train_y, test_y = train_test_split(X, y, \n",
    "                                                  train_size=0.8, \n",
    "                                                  random_state = 0)\n",
    "train_X, val_X, train_y, val_y = train_test_split(train_X, train_y, \n",
    "                                                  train_size=0.8, \n",
    "                                                  random_state = 0)\n",
    "\n",
    "num_cols = [col for col in train_X.columns if train_X[col].dtype == 'float64']\n",
    "cat_cols = [col for col in train_X.columns if train_X[col].dtype == 'object']\n",
    "bin_cols = [col for col in train_X.columns if train_X[col].dtype == 'int64']"
   ]
  },
  {
   "cell_type": "code",
   "execution_count": null,
   "metadata": {},
   "outputs": [],
   "source": [
    "encoder = OneHotEncoder(handle_unknown='ignore')\n",
    "\n",
    "print (train_X[cat_cols])\n",
    "X_train_categorical_xgb = encoder.fit_transform(train_X[cat_cols]).toarray()\n",
    "X_valid_categorical_xgb = encoder.transform(val_X[cat_cols]).toarray()\n",
    "X_test_categorical_xgb = encoder.transform(test_X[cat_cols]).toarray()\n",
    "X_train_processed = np.concatenate([train_X[num_cols], X_train_categorical_xgb], axis=1)\n",
    "X_valid_processed = np.concatenate([val_X[num_cols], X_valid_categorical_xgb], axis=1)\n",
    "X_test_processed = np.concatenate([test_X[num_cols], X_test_categorical_xgb], axis=1)\n",
    "X_train_processed = np.concatenate([train_X[bin_cols], X_train_processed], axis=1)\n",
    "X_valid_processed = np.concatenate([val_X[bin_cols], X_valid_processed], axis=1)\n",
    "X_test_processed = np.concatenate([test_X[bin_cols], X_test_processed], axis=1)\n",
    "\n",
    "\n",
    "print (X_train_processed.shape)"
   ]
  },
  {
   "cell_type": "code",
   "execution_count": null,
   "metadata": {},
   "outputs": [],
   "source": [
    "mlflow.set_tracking_uri(\"http://localhost:5000\")"
   ]
  },
  {
   "cell_type": "markdown",
   "metadata": {},
   "source": [
    "# Basic Baseline\n"
   ]
  },
  {
   "cell_type": "markdown",
   "metadata": {},
   "source": [
    "Refresh Function for Baseline\n"
   ]
  },
  {
   "cell_type": "code",
   "execution_count": 86,
   "metadata": {},
   "outputs": [
    {
     "name": "stdout",
     "output_type": "stream",
     "text": [
      "The average rental price in Würzburg is: 11,21 €/m2\n",
      "11.21\n"
     ]
    },
    {
     "name": "stderr",
     "output_type": "stream",
     "text": [
      "C:\\Users\\michi\\AppData\\Local\\Temp\\ipykernel_8144\\44613023.py:12: DeprecationWarning: The 'text' argument to find()-type methods is deprecated. Use 'string' instead.\n",
      "  script_tag = soup.find('script', text=lambda text: 'pdfData' in text)\n"
     ]
    }
   ],
   "source": [
    "import requests\n",
    "from bs4 import BeautifulSoup\n",
    "\n",
    "def scrape_rental_prices():\n",
    "    url = \"https://www.wohnungsboerse.net/mietspiegel-Wuerzburg/2772\"\n",
    "    response = requests.get(url)\n",
    "\n",
    "    response.raise_for_status()\n",
    "    soup = BeautifulSoup(response.text, \"html.parser\")\n",
    "    script_tag = soup.find('script', text=lambda text: 'pdfData' in text)\n",
    "    rental_price = 0\n",
    "    if script_tag:\n",
    "        script_content = script_tag.string\n",
    "        start_index = script_content.find('avg_rent_price: ') + len('avg_rent_price: \\'')\n",
    "        end_index = script_content.find('\\',', start_index)\n",
    "        rental_price = script_content[start_index:end_index]\n",
    "        print('The average rental price in Würzburg is:', rental_price)\n",
    "        rental_price = rental_price.replace('€/m2', '').replace('.', '').replace(',', '.')\n",
    "        rental_price = rental_price.strip()\n",
    "        rental_price = float(rental_price)\n",
    "        print(f\"Extrcated rental price as float: {rental_price}\")\n",
    "    else:\n",
    "        print('The script tag containing the rental price was not found.')\n",
    "    return rental_price\n",
    "\n",
    "rental_price = scrape_rental_prices()\n",
    "print(rental_price)\n",
    "\n",
    "\n"
   ]
  },
  {
   "cell_type": "code",
   "execution_count": 87,
   "metadata": {},
   "outputs": [
    {
     "name": "stderr",
     "output_type": "stream",
     "text": [
      "C:\\Users\\michi\\AppData\\Local\\Temp\\ipykernel_8144\\44613023.py:12: DeprecationWarning: The 'text' argument to find()-type methods is deprecated. Use 'string' instead.\n",
      "  script_tag = soup.find('script', text=lambda text: 'pdfData' in text)\n"
     ]
    },
    {
     "name": "stdout",
     "output_type": "stream",
     "text": [
      "The average rental price in Würzburg is: 11,21 €/m2\n",
      "Baseline Mae: 295.6022818181818\n",
      "Baseline R2 Score: 0.3567048041389107\n"
     ]
    }
   ],
   "source": [
    "\n",
    "avg_price_per_sqm_buy = 4070.62\n",
    "avg_price_per_sqm_rent = scrape_rental_prices()\n",
    "\n",
    "mlflow.end_run()\n",
    "\n",
    "baseline_preds = val_X['LivingSpace'] * avg_price_per_sqm_rent\n",
    "baseline_mae = mean_absolute_error(val_y, baseline_preds)\n",
    "baseline_r2 = r2_score(val_y, baseline_preds)\n",
    "baseline_mse = mean_squared_error(val_y, baseline_preds)\n",
    "\n",
    "# Log baseline metrics to MLflow\n",
    "with mlflow.start_run(run_name=\"baseline_with_avg_price_per_sqm_rent\"):\n",
    "    mlflow.log_metric(\"mse\", baseline_mse)\n",
    "    mlflow.log_metric(\"mae\", baseline_mae)\n",
    "    mlflow.log_metric(\"r2\", baseline_r2)\n",
    "\n",
    "print(f\"Baseline Mae: {baseline_mae}\")\n",
    "print(f\"Baseline R2 Score: {baseline_r2}\")"
   ]
  },
  {
   "cell_type": "markdown",
   "metadata": {},
   "source": [
    "# XGBoost"
   ]
  },
  {
   "cell_type": "code",
   "execution_count": null,
   "metadata": {},
   "outputs": [],
   "source": [
    "mlflow.xgboost.autolog()\n",
    "mlflow.end_run()\n",
    "mlflow.start_run()\n",
    "\n",
    "early_stopping_rounds = 19\n",
    "mlflow.set_experiment(\"flats_to_rent\")\n",
    "mlflow.log_param(\"used_features\", \"all\")\n",
    "mlflow.log_param(\"early stopping rounds\", early_stopping_rounds)\n",
    "\n",
    "with mlflow.start_run(run_name=\"ridge-regression\", description=\"Basic ridge Regression with scikit-learn. All features used.\") as run:\n",
    "    model = xgb.XGBRegressor(eval_metric=['rmse', 'mae', 'logloss'], early_stopping_rounds=early_stopping_rounds)\n",
    "    model.fit(X=X_train_processed, \n",
    "            y=train_y,\n",
    "            eval_set=[(X_valid_processed, val_y)],\n",
    "            verbose=True)\n",
    "    mlflow.xgboost.log_model(model, \"xgboost\")\n",
    "    preds = model.predict(X_valid_processed)\n",
    "    mlflow.log_metric(\"mae\", mean_absolute_error(val_y, preds))\n",
    "    mlflow.log_metric(\"mse\", mean_squared_error(val_y , preds))\n",
    "    mlflow.end_run()"
   ]
  },
  {
   "cell_type": "markdown",
   "metadata": {},
   "source": [
    "## Linear Regression\n"
   ]
  },
  {
   "cell_type": "code",
   "execution_count": null,
   "metadata": {},
   "outputs": [],
   "source": [
    "import mlflow\n",
    "import mlflow.sklearn\n",
    "import mlflow.xgboost\n",
    "from sklearn.linear_model import Lasso\n",
    "from sklearn.metrics import mean_absolute_error, mean_squared_error, r2_score\n",
    "\n",
    "mlflow.end_run()\n",
    "mlflow.sklearn.autolog()\n",
    "mlflow.sklearn.autolog(disable=True)\n",
    "\n",
    "\n",
    "with mlflow.start_run(run_name=\"ridge-regression\", description=\"Basic ridge Regression with scikit-learn. All features used.\") as run:\n",
    "    model = Ridge(alpha=0.7)\n",
    "    model.fit(X_train_processed, train_y)\n",
    "    preds = model.predict(X_valid_processed)\n",
    "    mlflow.sklearn.log_model(model, \"ridge-regression-model\")\n",
    "    mlflow.log_metric(\"mse\",  mean_squared_error(val_y, preds) )\n",
    "    mlflow.log_metric(\"mae\",mean_absolute_error(val_y, preds))\n",
    "    mlflow.log_metric(\"r2\", r2_score(val_y, preds))\n",
    "\n",
    "\n",
    "# mlflow.log_metric(\"mse\",  mean_squared_error(val_y, preds) )\n",
    "# mlflow.log_metric(\"mae\",mean_absolute_error(val_y, preds))\n",
    "# mlflow.log_metric(\"r2\", r2_score(val_y, preds))\n",
    "\n",
    "mlflow.end_run()"
   ]
  }
 ],
 "metadata": {
  "kernelspec": {
   "display_name": "Python 3",
   "language": "python",
   "name": "python3"
  },
  "language_info": {
   "codemirror_mode": {
    "name": "ipython",
    "version": 3
   },
   "file_extension": ".py",
   "mimetype": "text/x-python",
   "name": "python",
   "nbconvert_exporter": "python",
   "pygments_lexer": "ipython3",
   "version": "3.8.16"
  },
  "orig_nbformat": 4
 },
 "nbformat": 4,
 "nbformat_minor": 2
}
