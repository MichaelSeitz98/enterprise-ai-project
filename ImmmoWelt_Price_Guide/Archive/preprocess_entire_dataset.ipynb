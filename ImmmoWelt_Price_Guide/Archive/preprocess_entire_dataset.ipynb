{
 "cells": [
  {
   "cell_type": "code",
   "execution_count": 1,
   "metadata": {},
   "outputs": [
    {
     "name": "stdout",
     "output_type": "stream",
     "text": [
      "Column structures do not match.\n",
      "Concatenated data saved to flats_complete.xlsx\n"
     ]
    }
   ],
   "source": [
    "import pandas as pd\n",
    "from preprocessing_methods import *\n",
    "\n",
    "# Put all xlsx together\n",
    "\n",
    "check_concat_xlsx(\"flats_to_buy.xlsx\", \"flats_to_rent.xlsx\", \"flats_complete.xlsx\")\n",
    "check_concat_xlsx(\"houses_to_buy1.xlsx\", \"houses_to_rent.xlsx\", \"houses_complete.xlsx\")\n",
    "check_concat_xlsx(\"flats_complete.xlsx\", \"houses_complete.xlsx\", \"all_objects_wue.xlsx\")"
   ]
  },
  {
   "cell_type": "code",
   "execution_count": 1,
   "metadata": {},
   "outputs": [
    {
     "name": "stdout",
     "output_type": "stream",
     "text": [
      "0    {\"Country\": \"Deutschland\", \"City\": \"Estenfeld\"...\n",
      "1    {\"Country\": \"Deutschland\", \"City\": \"Estenfeld\"...\n",
      "2    {\"Country\": \"Deutschland\", \"City\": \"W\\u00fcrzb...\n",
      "3    {\"Country\": \"Deutschland\", \"City\": \"Estenfeld\"...\n",
      "4    {\"Country\": \"Deutschland\", \"City\": \"W\\u00fcrzb...\n",
      "Name: Address, dtype: object\n"
     ]
    }
   ],
   "source": [
    "import pandas as pd\n",
    "from preprocessing_methods import *\n",
    "\n",
    "df_all_objects = pd.read_excel(\"all_objects_wue.xlsx\")\n",
    "\n",
    "print(df_all_objects['Address'].head())\n"
   ]
  },
  {
   "cell_type": "code",
   "execution_count": 2,
   "metadata": {},
   "outputs": [],
   "source": [
    "# replace umlauts in columns names\n",
    "rename_columns_with_umlauts(df_all_objects)\n",
    "\n",
    "# drop unnecessary columns\n",
    "df_all_objects.drop(['Url', 'Object_currency', 'Title', 'Price', 'MediaItems', 'BasicInfo'], axis=1, inplace=True)"
   ]
  },
  {
   "cell_type": "code",
   "execution_count": 3,
   "metadata": {},
   "outputs": [],
   "source": [
    "df_all_objects = extract_zipcode(df_all_objects)"
   ]
  },
  {
   "cell_type": "code",
   "execution_count": 4,
   "metadata": {},
   "outputs": [],
   "source": [
    "df_all_objects = extract_EstateDistribution_columns(df_all_objects)"
   ]
  },
  {
   "cell_type": "code",
   "execution_count": 6,
   "metadata": {},
   "outputs": [],
   "source": [
    "df_all_objects.dropna(subset=['Object_features'], inplace=True)\n",
    "\n",
    "df_all_objects = binarize_columns(df_all_objects, 'Object_features')"
   ]
  },
  {
   "cell_type": "code",
   "execution_count": 7,
   "metadata": {},
   "outputs": [],
   "source": [
    "df_all_objects.to_excel('all_objects_wue_preprocessed.xlsx')"
   ]
  }
 ],
 "metadata": {
  "kernelspec": {
   "display_name": "py38",
   "language": "python",
   "name": "python3"
  },
  "language_info": {
   "codemirror_mode": {
    "name": "ipython",
    "version": 3
   },
   "file_extension": ".py",
   "mimetype": "text/x-python",
   "name": "python",
   "nbconvert_exporter": "python",
   "pygments_lexer": "ipython3",
   "version": "3.8.16"
  },
  "orig_nbformat": 4
 },
 "nbformat": 4,
 "nbformat_minor": 2
}
