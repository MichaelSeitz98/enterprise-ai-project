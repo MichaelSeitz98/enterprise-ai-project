{
 "cells": [
  {
   "cell_type": "code",
   "execution_count": 32,
   "metadata": {},
   "outputs": [],
   "source": [
    "import pandas as pd\n",
    "from sklearn.compose import ColumnTransformer\n",
    "from sklearn.pipeline import Pipeline\n",
    "from sklearn.preprocessing import OrdinalEncoder, OneHotEncoder\n",
    "from sklearn.model_selection import train_test_split\n",
    "from sklearn.impute import SimpleImputer\n",
    "import xgboost as xgb\n",
    "from sklearn.metrics import mean_absolute_error\n",
    "from sklearn.preprocessing import OrdinalEncoder, OneHotEncoder\n",
    "import numpy as np\n",
    "from sklearn.metrics import mean_squared_error\n",
    "import lightgbm as lgb\n",
    "from sklearn.ensemble import RandomForestRegressor\n",
    "from matplotlib import pyplot as plt"
   ]
  },
  {
   "cell_type": "code",
   "execution_count": 33,
   "metadata": {},
   "outputs": [],
   "source": [
    "data = pd.read_excel('data/flats_to_rent_wue_preprocessed_0407.xlsx')"
   ]
  },
  {
   "cell_type": "code",
   "execution_count": 34,
   "metadata": {},
   "outputs": [],
   "source": [
    "data.replace('\"\"', np.nan, inplace=True)"
   ]
  },
  {
   "cell_type": "code",
   "execution_count": 35,
   "metadata": {},
   "outputs": [],
   "source": [
    "data['ZipCode']= data['ZipCode'].astype(str)\n",
    "data[\"LivingSpace\"] = pd.to_numeric(data[\"LivingSpace\"], errors=\"coerce\")\n",
    "data[\"Rooms\"] = pd.to_numeric(data[\"Rooms\"], errors=\"coerce\")\n",
    "data['LivingSpace']= data['LivingSpace'].astype(float)\n",
    "data['Rooms']= data['Rooms'].astype(float)\n",
    "\n",
    "data.drop('Unnamed: 0', axis=1, inplace=True)\n"
   ]
  },
  {
   "cell_type": "code",
   "execution_count": 36,
   "metadata": {},
   "outputs": [],
   "source": [
    "data.dropna(inplace=True)"
   ]
  },
  {
   "cell_type": "code",
   "execution_count": 37,
   "metadata": {},
   "outputs": [],
   "source": [
    "data = data.reindex()\n",
    "data = data.reset_index(drop=True)\n",
    "\n",
    "y = data['Object_price']\n",
    "X = data.drop('Object_price', axis=1)"
   ]
  },
  {
   "cell_type": "code",
   "execution_count": 38,
   "metadata": {},
   "outputs": [],
   "source": [
    "train_X, test_X, train_y, test_y = train_test_split(X, y, \n",
    "                                                  train_size=0.8, \n",
    "                                                  random_state = 0)\n",
    "train_X, val_X, train_y, val_y = train_test_split(train_X, train_y, \n",
    "                                                  train_size=0.8, \n",
    "                                                  random_state = 0)\n",
    "\n",
    "num_cols = [col for col in train_X.columns if train_X[col].dtype == 'float64']\n",
    "cat_cols = [col for col in train_X.columns if train_X[col].dtype == 'object']\n",
    "bin_cols = [col for col in train_X.columns if train_X[col].dtype == 'int64']"
   ]
  },
  {
   "cell_type": "code",
   "execution_count": 39,
   "metadata": {},
   "outputs": [
    {
     "name": "stdout",
     "output_type": "stream",
     "text": [
      "['ZipCode', 'EstateType', 'DistributionType']\n"
     ]
    }
   ],
   "source": [
    "print(cat_cols)"
   ]
  },
  {
   "cell_type": "code",
   "execution_count": 40,
   "metadata": {},
   "outputs": [],
   "source": [
    "encoder = OneHotEncoder(handle_unknown='ignore')\n",
    "X_train_categorical_xgb = encoder.fit_transform(train_X[cat_cols]).toarray()\n",
    "X_valid_categorical_xgb = encoder.transform(val_X[cat_cols]).toarray()\n",
    "X_test_categorical_xgb = encoder.transform(test_X[cat_cols]).toarray()\n",
    "X_train_processed = np.concatenate([train_X[num_cols], X_train_categorical_xgb], axis=1)\n",
    "X_valid_processed = np.concatenate([val_X[num_cols], X_valid_categorical_xgb], axis=1)\n",
    "X_test_processed = np.concatenate([test_X[num_cols], X_test_categorical_xgb], axis=1)\n",
    "X_train_processed = np.concatenate([train_X[bin_cols], X_train_processed], axis=1)\n",
    "X_valid_processed = np.concatenate([val_X[bin_cols], X_valid_processed], axis=1)\n",
    "X_test_processed = np.concatenate([test_X[bin_cols], X_test_processed], axis=1)"
   ]
  },
  {
   "cell_type": "code",
   "execution_count": 41,
   "metadata": {},
   "outputs": [
    {
     "name": "stdout",
     "output_type": "stream",
     "text": [
      "[0]\tvalidation_0-rmse:840.51828\tvalidation_0-mae:721.40019\n",
      "[1]\tvalidation_0-rmse:654.43103\tvalidation_0-mae:547.48827\n",
      "[2]\tvalidation_0-rmse:523.88695\tvalidation_0-mae:416.83377\n",
      "[3]\tvalidation_0-rmse:456.05197\tvalidation_0-mae:338.67250\n",
      "[4]\tvalidation_0-rmse:397.80292\tvalidation_0-mae:275.64428\n",
      "[5]\tvalidation_0-rmse:360.42472\tvalidation_0-mae:243.43076\n",
      "[6]\tvalidation_0-rmse:337.78332\tvalidation_0-mae:227.43111\n",
      "[7]\tvalidation_0-rmse:316.21329\tvalidation_0-mae:211.04030\n",
      "[8]\tvalidation_0-rmse:309.88608\tvalidation_0-mae:204.71773\n",
      "[9]\tvalidation_0-rmse:307.05221\tvalidation_0-mae:202.36452\n",
      "[10]\tvalidation_0-rmse:312.47071\tvalidation_0-mae:208.32134\n",
      "[11]\tvalidation_0-rmse:307.04199\tvalidation_0-mae:204.40209\n",
      "[12]\tvalidation_0-rmse:310.10258\tvalidation_0-mae:208.17123\n",
      "[13]\tvalidation_0-rmse:307.65755\tvalidation_0-mae:208.55877\n",
      "[14]\tvalidation_0-rmse:305.80781\tvalidation_0-mae:207.57024\n",
      "[15]\tvalidation_0-rmse:305.27005\tvalidation_0-mae:207.77153\n",
      "[16]\tvalidation_0-rmse:304.69467\tvalidation_0-mae:206.48823\n",
      "[17]\tvalidation_0-rmse:304.91198\tvalidation_0-mae:206.53615\n",
      "[18]\tvalidation_0-rmse:305.07053\tvalidation_0-mae:205.56547\n",
      "[19]\tvalidation_0-rmse:303.86899\tvalidation_0-mae:205.22780\n",
      "[20]\tvalidation_0-rmse:301.93230\tvalidation_0-mae:203.58917\n",
      "[21]\tvalidation_0-rmse:301.86602\tvalidation_0-mae:203.95336\n",
      "[22]\tvalidation_0-rmse:301.24634\tvalidation_0-mae:203.40136\n",
      "[23]\tvalidation_0-rmse:300.85230\tvalidation_0-mae:203.17694\n",
      "[24]\tvalidation_0-rmse:300.55382\tvalidation_0-mae:203.14183\n",
      "[25]\tvalidation_0-rmse:300.36898\tvalidation_0-mae:203.16124\n",
      "[26]\tvalidation_0-rmse:299.83285\tvalidation_0-mae:202.85229\n",
      "[27]\tvalidation_0-rmse:299.48602\tvalidation_0-mae:202.51717\n",
      "[28]\tvalidation_0-rmse:299.80753\tvalidation_0-mae:202.83794\n",
      "[29]\tvalidation_0-rmse:299.77223\tvalidation_0-mae:202.70534\n",
      "[30]\tvalidation_0-rmse:299.65733\tvalidation_0-mae:202.72349\n",
      "[31]\tvalidation_0-rmse:299.40638\tvalidation_0-mae:202.59396\n",
      "[32]\tvalidation_0-rmse:299.38266\tvalidation_0-mae:202.30549\n",
      "[33]\tvalidation_0-rmse:299.31222\tvalidation_0-mae:202.18756\n",
      "[34]\tvalidation_0-rmse:299.41186\tvalidation_0-mae:202.13942\n",
      "[35]\tvalidation_0-rmse:299.40878\tvalidation_0-mae:202.42575\n",
      "[36]\tvalidation_0-rmse:298.96682\tvalidation_0-mae:202.24450\n",
      "[37]\tvalidation_0-rmse:298.98064\tvalidation_0-mae:202.36767\n",
      "[38]\tvalidation_0-rmse:298.81939\tvalidation_0-mae:202.24806\n",
      "[39]\tvalidation_0-rmse:298.77153\tvalidation_0-mae:202.21689\n",
      "[40]\tvalidation_0-rmse:298.36703\tvalidation_0-mae:201.86930\n",
      "[41]\tvalidation_0-rmse:298.16580\tvalidation_0-mae:201.76988\n",
      "[42]\tvalidation_0-rmse:298.09830\tvalidation_0-mae:201.63074\n",
      "[43]\tvalidation_0-rmse:297.62713\tvalidation_0-mae:201.52346\n",
      "[44]\tvalidation_0-rmse:297.52222\tvalidation_0-mae:201.27642\n",
      "[45]\tvalidation_0-rmse:297.27499\tvalidation_0-mae:201.09702\n",
      "[46]\tvalidation_0-rmse:297.22537\tvalidation_0-mae:201.01464\n",
      "[47]\tvalidation_0-rmse:297.16295\tvalidation_0-mae:200.99539\n",
      "[48]\tvalidation_0-rmse:297.13476\tvalidation_0-mae:200.95519\n",
      "[49]\tvalidation_0-rmse:297.14018\tvalidation_0-mae:200.90484\n",
      "[50]\tvalidation_0-rmse:296.99859\tvalidation_0-mae:200.70376\n",
      "[51]\tvalidation_0-rmse:297.00660\tvalidation_0-mae:200.72316\n",
      "[52]\tvalidation_0-rmse:296.99153\tvalidation_0-mae:200.65348\n",
      "[53]\tvalidation_0-rmse:296.99661\tvalidation_0-mae:200.65170\n",
      "[54]\tvalidation_0-rmse:296.88831\tvalidation_0-mae:200.58962\n",
      "[55]\tvalidation_0-rmse:296.90696\tvalidation_0-mae:200.60458\n",
      "[56]\tvalidation_0-rmse:296.85276\tvalidation_0-mae:200.50277\n",
      "[57]\tvalidation_0-rmse:296.84585\tvalidation_0-mae:200.49565\n",
      "[58]\tvalidation_0-rmse:296.80340\tvalidation_0-mae:200.48690\n",
      "[59]\tvalidation_0-rmse:296.78294\tvalidation_0-mae:200.46732\n",
      "[60]\tvalidation_0-rmse:296.76901\tvalidation_0-mae:200.46334\n",
      "[61]\tvalidation_0-rmse:296.77541\tvalidation_0-mae:200.46476\n",
      "[62]\tvalidation_0-rmse:296.76374\tvalidation_0-mae:200.45167\n",
      "[63]\tvalidation_0-rmse:296.74759\tvalidation_0-mae:200.43729\n",
      "[64]\tvalidation_0-rmse:296.74306\tvalidation_0-mae:200.43634\n",
      "[65]\tvalidation_0-rmse:296.72948\tvalidation_0-mae:200.44038\n",
      "[66]\tvalidation_0-rmse:296.71481\tvalidation_0-mae:200.42959\n",
      "[67]\tvalidation_0-rmse:296.70871\tvalidation_0-mae:200.44091\n",
      "[68]\tvalidation_0-rmse:296.68102\tvalidation_0-mae:200.43144\n",
      "[69]\tvalidation_0-rmse:296.66527\tvalidation_0-mae:200.42290\n",
      "[70]\tvalidation_0-rmse:296.60237\tvalidation_0-mae:200.40063\n",
      "[71]\tvalidation_0-rmse:296.60972\tvalidation_0-mae:200.40675\n",
      "[72]\tvalidation_0-rmse:296.57572\tvalidation_0-mae:200.37877\n",
      "[73]\tvalidation_0-rmse:296.56473\tvalidation_0-mae:200.37286\n",
      "[74]\tvalidation_0-rmse:296.57085\tvalidation_0-mae:200.37144\n",
      "[75]\tvalidation_0-rmse:296.57817\tvalidation_0-mae:200.37440\n",
      "[76]\tvalidation_0-rmse:296.53577\tvalidation_0-mae:200.35815\n",
      "[77]\tvalidation_0-rmse:296.54267\tvalidation_0-mae:200.35753\n",
      "[78]\tvalidation_0-rmse:296.54572\tvalidation_0-mae:200.35694\n",
      "[79]\tvalidation_0-rmse:296.51776\tvalidation_0-mae:200.33049\n",
      "[80]\tvalidation_0-rmse:296.49425\tvalidation_0-mae:200.31351\n",
      "[81]\tvalidation_0-rmse:296.49302\tvalidation_0-mae:200.31465\n",
      "[82]\tvalidation_0-rmse:296.49694\tvalidation_0-mae:200.31965\n",
      "[83]\tvalidation_0-rmse:296.50579\tvalidation_0-mae:200.32780\n",
      "[84]\tvalidation_0-rmse:296.49519\tvalidation_0-mae:200.32190\n",
      "[85]\tvalidation_0-rmse:296.49795\tvalidation_0-mae:200.32549\n",
      "[86]\tvalidation_0-rmse:296.49633\tvalidation_0-mae:200.32277\n",
      "[87]\tvalidation_0-rmse:296.49528\tvalidation_0-mae:200.32301\n",
      "[88]\tvalidation_0-rmse:296.49711\tvalidation_0-mae:200.32345\n",
      "[89]\tvalidation_0-rmse:296.49403\tvalidation_0-mae:200.31765\n",
      "[90]\tvalidation_0-rmse:296.49357\tvalidation_0-mae:200.31618\n",
      "[91]\tvalidation_0-rmse:296.49257\tvalidation_0-mae:200.31779\n",
      "[92]\tvalidation_0-rmse:296.49162\tvalidation_0-mae:200.31678\n",
      "[93]\tvalidation_0-rmse:296.48813\tvalidation_0-mae:200.31731\n",
      "[94]\tvalidation_0-rmse:296.48759\tvalidation_0-mae:200.31906\n",
      "[95]\tvalidation_0-rmse:296.48757\tvalidation_0-mae:200.32124\n",
      "[96]\tvalidation_0-rmse:296.48467\tvalidation_0-mae:200.31576\n",
      "[97]\tvalidation_0-rmse:296.48637\tvalidation_0-mae:200.31794\n",
      "[98]\tvalidation_0-rmse:296.48794\tvalidation_0-mae:200.32104\n",
      "[99]\tvalidation_0-rmse:296.48873\tvalidation_0-mae:200.32219\n",
      "MAE Flat Rent price: 130.73534524100165\n"
     ]
    }
   ],
   "source": [
    "model = xgb.XGBRegressor(eval_metric=['rmse', 'mae'], early_stopping_rounds=30)\n",
    "model.fit(X=X_train_processed, \n",
    "          y=train_y,\n",
    "          eval_set=[(X_valid_processed, val_y)],  # Liste mit Validierungsdaten und Zielvariablen\n",
    "          verbose=True\n",
    ")\n",
    "\n",
    "preds= model.predict(X_test_processed)\n",
    "\n",
    "score_House = mean_absolute_error(test_y, preds)\n",
    "print(\"MAE Flat Rent price: {}\".format(score_House))\n"
   ]
  },
  {
   "cell_type": "code",
   "execution_count": 42,
   "metadata": {},
   "outputs": [
    {
     "name": "stdout",
     "output_type": "stream",
     "text": [
      "[LightGBM] [Warning] early_stopping_round is set=30, early_stopping_rounds=30 will be ignored. Current value: early_stopping_round=30\n",
      "[1]\tvalid_0's rmse: 490.359\tvalid_0's l1: 336.881\n",
      "[2]\tvalid_0's rmse: 469.541\tvalid_0's l1: 317.102\n",
      "[3]\tvalid_0's rmse: 454.514\tvalid_0's l1: 304.496\n",
      "[4]\tvalid_0's rmse: 443.833\tvalid_0's l1: 298.483\n",
      "[5]\tvalid_0's rmse: 436.122\tvalid_0's l1: 296.878\n",
      "[6]\tvalid_0's rmse: 436.064\tvalid_0's l1: 293.63\n",
      "[7]\tvalid_0's rmse: 428.69\tvalid_0's l1: 290.688\n",
      "[8]\tvalid_0's rmse: 423.351\tvalid_0's l1: 280.909\n",
      "[9]\tvalid_0's rmse: 418.479\tvalid_0's l1: 282.773\n",
      "[10]\tvalid_0's rmse: 414.512\tvalid_0's l1: 276.47\n",
      "[11]\tvalid_0's rmse: 412.12\tvalid_0's l1: 278.738\n",
      "[12]\tvalid_0's rmse: 413.312\tvalid_0's l1: 274.401\n",
      "[13]\tvalid_0's rmse: 413.725\tvalid_0's l1: 270.05\n",
      "[14]\tvalid_0's rmse: 411.559\tvalid_0's l1: 271.238\n",
      "[15]\tvalid_0's rmse: 407.049\tvalid_0's l1: 267.837\n",
      "[16]\tvalid_0's rmse: 404.501\tvalid_0's l1: 264.295\n",
      "[17]\tvalid_0's rmse: 406.046\tvalid_0's l1: 259.266\n",
      "[18]\tvalid_0's rmse: 405.155\tvalid_0's l1: 262.896\n",
      "[19]\tvalid_0's rmse: 401.888\tvalid_0's l1: 260.076\n",
      "[20]\tvalid_0's rmse: 401.274\tvalid_0's l1: 262.076\n",
      "[21]\tvalid_0's rmse: 402.684\tvalid_0's l1: 258.738\n",
      "[22]\tvalid_0's rmse: 400.897\tvalid_0's l1: 256.905\n",
      "[23]\tvalid_0's rmse: 398.441\tvalid_0's l1: 255.511\n",
      "[24]\tvalid_0's rmse: 398.151\tvalid_0's l1: 257.963\n",
      "[25]\tvalid_0's rmse: 402.423\tvalid_0's l1: 262.058\n",
      "[26]\tvalid_0's rmse: 403.667\tvalid_0's l1: 259.85\n",
      "[27]\tvalid_0's rmse: 402.607\tvalid_0's l1: 258.49\n",
      "[28]\tvalid_0's rmse: 400.842\tvalid_0's l1: 257.341\n",
      "[29]\tvalid_0's rmse: 400.895\tvalid_0's l1: 259.585\n",
      "[30]\tvalid_0's rmse: 402.414\tvalid_0's l1: 261.362\n",
      "[31]\tvalid_0's rmse: 403.493\tvalid_0's l1: 259.014\n",
      "[32]\tvalid_0's rmse: 405.043\tvalid_0's l1: 259.77\n",
      "[33]\tvalid_0's rmse: 403.573\tvalid_0's l1: 258.691\n",
      "[34]\tvalid_0's rmse: 403.853\tvalid_0's l1: 260.692\n",
      "[35]\tvalid_0's rmse: 403.97\tvalid_0's l1: 257.304\n",
      "[36]\tvalid_0's rmse: 407.102\tvalid_0's l1: 260.079\n",
      "[37]\tvalid_0's rmse: 408.574\tvalid_0's l1: 260.834\n",
      "[38]\tvalid_0's rmse: 407.377\tvalid_0's l1: 259.853\n",
      "[39]\tvalid_0's rmse: 407.783\tvalid_0's l1: 261.65\n",
      "[40]\tvalid_0's rmse: 408.719\tvalid_0's l1: 259.922\n",
      "[41]\tvalid_0's rmse: 409.509\tvalid_0's l1: 259.243\n",
      "[42]\tvalid_0's rmse: 409.933\tvalid_0's l1: 260.917\n",
      "[43]\tvalid_0's rmse: 409.578\tvalid_0's l1: 261.826\n",
      "[44]\tvalid_0's rmse: 411.191\tvalid_0's l1: 262.422\n",
      "[45]\tvalid_0's rmse: 410.412\tvalid_0's l1: 260.321\n",
      "[46]\tvalid_0's rmse: 409.493\tvalid_0's l1: 259.789\n",
      "[47]\tvalid_0's rmse: 409.939\tvalid_0's l1: 261.324\n",
      "[48]\tvalid_0's rmse: 411.445\tvalid_0's l1: 262.334\n",
      "[49]\tvalid_0's rmse: 410.583\tvalid_0's l1: 261.92\n",
      "[50]\tvalid_0's rmse: 411.018\tvalid_0's l1: 263.901\n",
      "[51]\tvalid_0's rmse: 411.805\tvalid_0's l1: 263.994\n",
      "[52]\tvalid_0's rmse: 410.187\tvalid_0's l1: 264.478\n",
      "[53]\tvalid_0's rmse: 410.191\tvalid_0's l1: 265.531\n",
      "MAE: 251.64915225113108\n"
     ]
    },
    {
     "name": "stderr",
     "output_type": "stream",
     "text": [
      "c:\\Users\\FelixNeubauer\\anaconda3\\envs\\py38\\lib\\site-packages\\lightgbm\\sklearn.py:736: UserWarning: 'verbose' argument is deprecated and will be removed in a future release of LightGBM. Pass 'log_evaluation()' callback via 'callbacks' argument instead.\n",
      "  _log_warning(\"'verbose' argument is deprecated and will be removed in a future release of LightGBM. \"\n"
     ]
    }
   ],
   "source": [
    "model2 = lgb.LGBMRegressor(metric=['rmse', 'mae'], early_stopping_rounds=30)\n",
    "model2.fit(X=X_train_processed, \n",
    "          y=train_y,\n",
    "          eval_set=[(X_valid_processed, val_y)], \n",
    "          verbose=True\n",
    ")\n",
    "\n",
    "preds= model2.predict(X_test_processed)\n",
    "score = mean_absolute_error(test_y, preds)\n",
    "\n",
    "print(\"MAE: {}\".format(score))"
   ]
  },
  {
   "cell_type": "code",
   "execution_count": 52,
   "metadata": {},
   "outputs": [
    {
     "ename": "ValueError",
     "evalue": "Feature shape mismatch, expected: 104, got 85",
     "output_type": "error",
     "traceback": [
      "\u001b[1;31m---------------------------------------------------------------------------\u001b[0m",
      "\u001b[1;31mValueError\u001b[0m                                Traceback (most recent call last)",
      "\u001b[1;32m~\\AppData\\Local\\Temp\\ipykernel_30032\\2270810520.py\u001b[0m in \u001b[0;36m<cell line: 1>\u001b[1;34m()\u001b[0m\n\u001b[1;32m----> 1\u001b[1;33m \u001b[0mprediction1\u001b[0m \u001b[1;33m=\u001b[0m \u001b[0mmodel\u001b[0m\u001b[1;33m.\u001b[0m\u001b[0mpredict\u001b[0m\u001b[1;33m(\u001b[0m\u001b[0mtest_X\u001b[0m\u001b[1;33m.\u001b[0m\u001b[0miloc\u001b[0m\u001b[1;33m[\u001b[0m\u001b[1;33m[\u001b[0m\u001b[1;36m0\u001b[0m\u001b[1;33m]\u001b[0m\u001b[1;33m]\u001b[0m\u001b[1;33m)\u001b[0m\u001b[1;33m\u001b[0m\u001b[1;33m\u001b[0m\u001b[0m\n\u001b[0m\u001b[0;32m      2\u001b[0m \u001b[0mprint\u001b[0m\u001b[1;33m(\u001b[0m\u001b[1;34m\"Prediction: {}\"\u001b[0m\u001b[1;33m.\u001b[0m\u001b[0mformat\u001b[0m\u001b[1;33m(\u001b[0m\u001b[0mprediction1\u001b[0m\u001b[1;33m)\u001b[0m\u001b[1;33m)\u001b[0m\u001b[1;33m\u001b[0m\u001b[1;33m\u001b[0m\u001b[0m\n",
      "\u001b[1;32mc:\\Users\\FelixNeubauer\\anaconda3\\envs\\py38\\lib\\site-packages\\xgboost\\sklearn.py\u001b[0m in \u001b[0;36mpredict\u001b[1;34m(self, X, output_margin, ntree_limit, validate_features, base_margin, iteration_range)\u001b[0m\n\u001b[0;32m   1112\u001b[0m             \u001b[1;32mif\u001b[0m \u001b[0mself\u001b[0m\u001b[1;33m.\u001b[0m\u001b[0m_can_use_inplace_predict\u001b[0m\u001b[1;33m(\u001b[0m\u001b[1;33m)\u001b[0m\u001b[1;33m:\u001b[0m\u001b[1;33m\u001b[0m\u001b[1;33m\u001b[0m\u001b[0m\n\u001b[0;32m   1113\u001b[0m                 \u001b[1;32mtry\u001b[0m\u001b[1;33m:\u001b[0m\u001b[1;33m\u001b[0m\u001b[1;33m\u001b[0m\u001b[0m\n\u001b[1;32m-> 1114\u001b[1;33m                     predts = self.get_booster().inplace_predict(\n\u001b[0m\u001b[0;32m   1115\u001b[0m                         \u001b[0mdata\u001b[0m\u001b[1;33m=\u001b[0m\u001b[0mX\u001b[0m\u001b[1;33m,\u001b[0m\u001b[1;33m\u001b[0m\u001b[1;33m\u001b[0m\u001b[0m\n\u001b[0;32m   1116\u001b[0m                         \u001b[0miteration_range\u001b[0m\u001b[1;33m=\u001b[0m\u001b[0miteration_range\u001b[0m\u001b[1;33m,\u001b[0m\u001b[1;33m\u001b[0m\u001b[1;33m\u001b[0m\u001b[0m\n",
      "\u001b[1;32mc:\\Users\\FelixNeubauer\\anaconda3\\envs\\py38\\lib\\site-packages\\xgboost\\core.py\u001b[0m in \u001b[0;36minplace_predict\u001b[1;34m(self, data, iteration_range, predict_type, missing, validate_features, base_margin, strict_shape)\u001b[0m\n\u001b[0;32m   2267\u001b[0m                 )\n\u001b[0;32m   2268\u001b[0m             \u001b[1;32mif\u001b[0m \u001b[0mlen\u001b[0m\u001b[1;33m(\u001b[0m\u001b[0mdata\u001b[0m\u001b[1;33m.\u001b[0m\u001b[0mshape\u001b[0m\u001b[1;33m)\u001b[0m \u001b[1;33m!=\u001b[0m \u001b[1;36m1\u001b[0m \u001b[1;32mand\u001b[0m \u001b[0mself\u001b[0m\u001b[1;33m.\u001b[0m\u001b[0mnum_features\u001b[0m\u001b[1;33m(\u001b[0m\u001b[1;33m)\u001b[0m \u001b[1;33m!=\u001b[0m \u001b[0mdata\u001b[0m\u001b[1;33m.\u001b[0m\u001b[0mshape\u001b[0m\u001b[1;33m[\u001b[0m\u001b[1;36m1\u001b[0m\u001b[1;33m]\u001b[0m\u001b[1;33m:\u001b[0m\u001b[1;33m\u001b[0m\u001b[1;33m\u001b[0m\u001b[0m\n\u001b[1;32m-> 2269\u001b[1;33m                 raise ValueError(\n\u001b[0m\u001b[0;32m   2270\u001b[0m                     \u001b[1;34mf\"Feature shape mismatch, expected: {self.num_features()}, \"\u001b[0m\u001b[1;33m\u001b[0m\u001b[1;33m\u001b[0m\u001b[0m\n\u001b[0;32m   2271\u001b[0m                     \u001b[1;34mf\"got {data.shape[1]}\"\u001b[0m\u001b[1;33m\u001b[0m\u001b[1;33m\u001b[0m\u001b[0m\n",
      "\u001b[1;31mValueError\u001b[0m: Feature shape mismatch, expected: 104, got 85"
     ]
    }
   ],
   "source": [
    "prediction1 = model.predict(test_X.iloc[[0]])\n",
    "print(\"Prediction: {}\".format(prediction1))"
   ]
  },
  {
   "cell_type": "code",
   "execution_count": null,
   "metadata": {},
   "outputs": [],
   "source": []
  }
 ],
 "metadata": {
  "kernelspec": {
   "display_name": "py38",
   "language": "python",
   "name": "python3"
  },
  "language_info": {
   "codemirror_mode": {
    "name": "ipython",
    "version": 3
   },
   "file_extension": ".py",
   "mimetype": "text/x-python",
   "name": "python",
   "nbconvert_exporter": "python",
   "pygments_lexer": "ipython3",
   "version": "3.8.16"
  },
  "orig_nbformat": 4
 },
 "nbformat": 4,
 "nbformat_minor": 2
}
