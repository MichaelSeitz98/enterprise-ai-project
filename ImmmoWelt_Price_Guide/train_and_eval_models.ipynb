{
 "cells": [
  {
   "cell_type": "code",
   "execution_count": 1,
   "metadata": {},
   "outputs": [],
   "source": [
    "import pandas as pd\n",
    "import requests\n",
    "from bs4 import BeautifulSoup\n",
    "import re\n",
    "import numpy as np\n",
    "import lightgbm as lgb\n",
    "from matplotlib import pyplot as plt\n",
    "import seaborn as sns\n",
    "from ydata_profiling import ProfileReport\n",
    "\n",
    "from sklearn.compose import ColumnTransformer\n",
    "from sklearn.pipeline import Pipeline\n",
    "from sklearn.preprocessing import OrdinalEncoder, OneHotEncoder\n",
    "from sklearn.model_selection import train_test_split\n",
    "from sklearn.impute import SimpleImputer\n",
    "from sklearn.metrics import mean_absolute_error, mean_squared_error, r2_score\n",
    "from sklearn.preprocessing import OrdinalEncoder, OneHotEncoder\n",
    "from sklearn.linear_model import Lasso, Ridge, LinearRegression, ElasticNet\n",
    "from sklearn.model_selection import KFold\n",
    "from sklearn.ensemble import RandomForestRegressor\n",
    "\n",
    "import xgboost as xgb\n",
    "import mlflow\n",
    "import mlflow.sklearn\n",
    "import mlflow.xgboost\n",
    "\n",
    "mlflow.set_tracking_uri(\"http://localhost:5000\")"
   ]
  },
  {
   "attachments": {},
   "cell_type": "markdown",
   "metadata": {},
   "source": [
    "# Explorative Data Analysis"
   ]
  },
  {
   "cell_type": "code",
   "execution_count": 54,
   "metadata": {},
   "outputs": [],
   "source": [
    "# df = pd.read_excel(r'data\\flats_to_rent_wue_preprocessed_combined.xlsx')\n",
    "# profile = ProfileReport(df, title=\"Flats -  Würzburg - Rent - Overview\", explorative=True)\n",
    "# profile.to_file(\"eda-wue-rent-all.html\")"
   ]
  },
  {
   "cell_type": "code",
   "execution_count": 55,
   "metadata": {},
   "outputs": [],
   "source": [
    "# df = pd.read_excel(r'data\\houses_to_buy_wue_preprocessed_1207.xlsx')\n",
    "# profile = ProfileReport(df, title=\"Houses -  Würzburg - Buy - Overview\", explorative=True)\n",
    "# profile.to_file(\"eda-wue-houses.html\")"
   ]
  },
  {
   "attachments": {},
   "cell_type": "markdown",
   "metadata": {},
   "source": [
    "# Preprocessing & Feature Engineering\n"
   ]
  },
  {
   "cell_type": "code",
   "execution_count": 20,
   "metadata": {},
   "outputs": [],
   "source": [
    "def determineHighCorrCols(df):\n",
    "\n",
    "    df.columns = [re.sub(r\"\\\\u([0-9a-fA-F]{4})\", lambda m: chr(int(m.group(1), 16)), col) for col in df.columns]\n",
    "    df.columns = [col.replace(\"ö\", \"oe\").replace(\"ä\", \"ae\").replace(\"ü\", \"ue\").replace(\"ß\", \"ss\") for col in df.columns]\n",
    "    important_num_cols = list(df.corr()[\"Object_price\"][(df.corr()[\"Object_price\"]>0.20) | (df.corr()[\"Object_price\"]<-0.20)].index)\n",
    "    cat_cols = [col for col in df.columns if df[col].dtype == 'object']\n",
    "    important_cols = important_num_cols + cat_cols +   [\"ConstructionYear\"] + [\"ZipCode\"]\n",
    "#    df = df[important_cols]\n",
    "    print(important_cols)\n",
    "    return important_cols"
   ]
  },
  {
   "cell_type": "code",
   "execution_count": 4,
   "metadata": {},
   "outputs": [],
   "source": [
    "def preprocess_data (df, feature_set): \n",
    "    print(f\"Used feature set for preprocessing:{feature_set}\")\n",
    "    # renma cols to German Umlauts via Decoding\n",
    "    df.columns = [re.sub(r\"\\\\u([0-9a-fA-F]{4})\", lambda m: chr(int(m.group(1), 16)), col) for col in df.columns]\n",
    "    df.columns = [col.replace(\"ö\", \"oe\").replace(\"ä\", \"ae\").replace(\"ü\", \"ue\").replace(\"ß\", \"ss\") for col in df.columns]\n",
    "    \n",
    "    \n",
    "    df = df.replace('\"\"', np.nan)\n",
    "    df = df.dropna()\n",
    "    df['LivingSpace'] = df['LivingSpace'].astype(float)\n",
    "    df['Rooms'] = df['Rooms'].astype(float)\n",
    "    df = df.dropna(subset=['ConstructionYear'])\n",
    "    df = df.dropna(subset=['Object_price'])\n",
    "    df = df.dropna(subset=['Rooms'])\n",
    "    df = df.dropna(subset=['LivingSpace'])\n",
    "    df['ZipCode']= df['ZipCode'].astype(str)\n",
    "    df['LivingSpace']= df['LivingSpace'].astype(float)\n",
    "    df = df[feature_set]\n",
    "    df = df.reindex()\n",
    "    df = df.reset_index(drop=True)\n",
    "\n",
    "    # one-hot encoding\n",
    "    cat_cols = [col for col in df.columns if df[col].dtype == 'object']\n",
    "    y = df['Object_price']\n",
    "    X = df.drop('Object_price', axis=1)\n",
    "    X = pd.get_dummies(X, columns=cat_cols)\n",
    "\n",
    "    return X, y"
   ]
  },
  {
   "attachments": {},
   "cell_type": "markdown",
   "metadata": {},
   "source": [
    "# Data Split\n"
   ]
  },
  {
   "cell_type": "code",
   "execution_count": 5,
   "metadata": {},
   "outputs": [],
   "source": [
    "def data_split(X, y, train_size=0.8, random_state=42):\n",
    "    X_train, X_test, y_train, y_test = train_test_split(X, y, \n",
    "                                                  train_size=train_size, \n",
    "                                                  random_state = random_state)\n",
    "    X_train, X_val, y_train, y_val = train_test_split(X_train, y_train, \n",
    "                                                  train_size=train_size, \n",
    "                                                  random_state = random_state)\n",
    "    return X_train, y_train, X_val, y_val, X_test, y_test"
   ]
  },
  {
   "attachments": {},
   "cell_type": "markdown",
   "metadata": {},
   "source": [
    "# Training, Evaluation and Logging Of Models"
   ]
  },
  {
   "attachments": {},
   "cell_type": "markdown",
   "metadata": {},
   "source": [
    "## Baseline "
   ]
  },
  {
   "cell_type": "code",
   "execution_count": 6,
   "metadata": {},
   "outputs": [],
   "source": [
    "def scrape_avg_rental_prices():\n",
    "    url = \"https://www.wohnungsboerse.net/mietspiegel-Wuerzburg/2772\"\n",
    "    response = requests.get(url)\n",
    "    response.raise_for_status()\n",
    "    soup = BeautifulSoup(response.text, \"html.parser\")\n",
    "    script_tag = soup.find(\"script\", string=lambda text: \"pdfData\" in text)\n",
    "    rental_price = 0\n",
    "    if script_tag:\n",
    "        script_content = script_tag.string\n",
    "        start_index = script_content.find(\"avg_rent_price: \") + len(\"avg_rent_price: '\")\n",
    "        end_index = script_content.find(\"',\", start_index)\n",
    "        rental_price = script_content[start_index:end_index]\n",
    "        rental_price = (\n",
    "            rental_price.replace(\"€/m2\", \"\").replace(\".\", \"\").replace(\",\", \".\")\n",
    "        )\n",
    "        rental_price = rental_price.strip()\n",
    "        rental_price = float(rental_price)\n",
    "        print(f\"Extrcated rental price per square meter via scraper: {rental_price}\")\n",
    "    else:\n",
    "        print(\"The script tag containing the rental price was not found.\")\n",
    "    return rental_price"
   ]
  },
  {
   "cell_type": "code",
   "execution_count": 7,
   "metadata": {},
   "outputs": [],
   "source": [
    "def scrape_avg_buy_prices():\n",
    "    url = \"https://www.wohnungsboerse.net/immobilienpreise-Wuerzburg/2772\"\n",
    "    response = requests.get(url)\n",
    "    response.raise_for_status()\n",
    "    soup = BeautifulSoup(response.text, \"html.parser\")\n",
    "    p_element = soup.find(\"p\", class_=\"mb-8\")\n",
    "    buy_price = 0\n",
    "    if p_element:\n",
    "        pattern = r\"\\d{1,3}(?:\\.\\d{3})*(?:,\\d{2})?€/m²\"\n",
    "        match = re.search(pattern, p_element.text)\n",
    "        if match:\n",
    "            buy_price = match.group()\n",
    "            buy_price = buy_price.replace(\"€/m²\", \"\").replace(\".\", \"\").replace(\",\", \".\")\n",
    "            print(f\"Extrcated buy price per square meter via scraper: {buy_price}\")\n",
    "        else:\n",
    "            print(\"Price not found\")\n",
    "    else:\n",
    "        print(\"The element ontaining the buy price was not found.\")\n",
    "    return buy_price"
   ]
  },
  {
   "cell_type": "code",
   "execution_count": 8,
   "metadata": {},
   "outputs": [],
   "source": [
    "def baseline_rent(val_X, val_y, runname=\"baseline_rent\"):\n",
    "    avg_price_per_sqm_rent = scrape_avg_rental_prices()\n",
    "    print(f\"Average rental price per sqm: {avg_price_per_sqm_rent}\")\n",
    "    baseline_preds = val_X['LivingSpace'] * avg_price_per_sqm_rent\n",
    "    baseline_mae = mean_absolute_error(val_y, baseline_preds)\n",
    "    baseline_r2 = r2_score(val_y, baseline_preds)\n",
    "    baseline_mse = mean_squared_error(val_y, baseline_preds)\n",
    "\n",
    "    with mlflow.start_run(run_name=runname):\n",
    "        mlflow.log_metric(\"mse\", baseline_mse)\n",
    "        mlflow.log_metric(\"mae\", baseline_mae)\n",
    "        mlflow.log_metric(\"r2\", baseline_r2)\n",
    "\n",
    "    print(f\"Baseline Mae: {baseline_mae}\")\n",
    "    print(f\"Baseline MSE: {baseline_mse}\")    \n",
    "    print(f\"Baseline R2 Score: {baseline_r2}\")\n",
    "    return avg_price_per_sqm_rent, baseline_mae, baseline_mse, baseline_r2"
   ]
  },
  {
   "cell_type": "code",
   "execution_count": 9,
   "metadata": {},
   "outputs": [],
   "source": [
    "def baseline_buy(X_val, y_val, runname=\"baseline_buy\"):\n",
    "    avg_price_per_sqm_buy = scrape_avg_buy_prices()\n",
    "    print(f\"Average rental price per sqm: {avg_price_per_sqm_buy}\")\n",
    "    \n",
    "    baseline_preds = X_val['LivingSpace'] * avg_price_per_sqm_buy\n",
    "    baseline_mae = mean_absolute_error(y_val, baseline_preds)\n",
    "    baseline_r2 = r2_score(y_val, baseline_preds)\n",
    "    baseline_mse = mean_squared_error(y_val, baseline_preds)\n",
    "\n",
    "    with mlflow.start_run(run_name=runname):\n",
    "        mlflow.log_metric(\"mse\", baseline_mse)\n",
    "        mlflow.log_metric(\"mae\", baseline_mae)\n",
    "        mlflow.log_metric(\"r2\", baseline_r2)\n",
    "\n",
    "    print(f\"Baseline Mae: {baseline_mae}\")\n",
    "    print(f\"Baseline MSE: {baseline_mse}\")    \n",
    "    print(f\"Baseline R2 Score: {baseline_r2}\")\n",
    "\n",
    "    return avg_price_per_sqm_buy, baseline_mae, baseline_mse, baseline_r2"
   ]
  },
  {
   "attachments": {},
   "cell_type": "markdown",
   "metadata": {},
   "source": [
    "## Linear Regression"
   ]
  },
  {
   "cell_type": "code",
   "execution_count": 10,
   "metadata": {},
   "outputs": [],
   "source": [
    "def train_and_eval_linear(X_train, y_train, X_val, y_val, runname =\"linear-regression\"):\n",
    "    mlflow.sklearn.autolog()\n",
    "    with mlflow.start_run(run_name=runname):\n",
    "        model = LinearRegression()\n",
    "        model.fit(X_train, y_train)\n",
    "        \n",
    "        pred_train = model.predict(X_train)\n",
    "        mae_train = mean_absolute_error(y_train, pred_train)\n",
    "        mse_train = mean_squared_error(y_train, pred_train)\n",
    "        r2_train = r2_score(y_train, pred_train)\n",
    "        mlflow.log_metric(\"mae_train\", mae_train)\n",
    "        mlflow.log_metric(\"mse_train\", mse_train)\n",
    "        mlflow.log_metric(\"r2_train\", r2_train)\n",
    "        \n",
    "        y_pred = model.predict(X_val)\n",
    "        mae = mean_absolute_error(y_val, y_pred)\n",
    "        mse = mean_squared_error(y_val, y_pred)\n",
    "        r2 = r2_score(y_val, y_pred)\n",
    "        mlflow.log_metric(\"mae\", mae_train)\n",
    "        mlflow.log_metric(\"mse\", mse_train)\n",
    "        mlflow.log_metric(\"r2\", r2_train)\n",
    "    return model, mae, mse, r2, mae_train, mse_train, r2_train"
   ]
  },
  {
   "attachments": {},
   "cell_type": "markdown",
   "metadata": {},
   "source": [
    "## Lasso Regression"
   ]
  },
  {
   "cell_type": "code",
   "execution_count": 11,
   "metadata": {},
   "outputs": [],
   "source": [
    "def train_and_eval_lasso(X_train, y_train, X_val, y_val, runname =\"lasso-regression\"):\n",
    "    mlflow.sklearn.autolog()\n",
    "    with mlflow.start_run(run_name=runname):\n",
    "        model = Lasso()\n",
    "        model.fit(X_train, y_train)\n",
    "        \n",
    "        pred_train = model.predict(X_train)\n",
    "        mae_train = mean_absolute_error(y_train, pred_train)\n",
    "        mse_train = mean_squared_error(y_train, pred_train)\n",
    "        r2_train = r2_score(y_train, pred_train)\n",
    "        mlflow.log_metric(\"mae_train\", mae_train)\n",
    "        mlflow.log_metric(\"mse_train\", mse_train)\n",
    "        mlflow.log_metric(\"r2_train\", r2_train)\n",
    "        \n",
    "        y_pred = model.predict(X_val)\n",
    "        mae = mean_absolute_error(y_val, y_pred)\n",
    "        mse = mean_squared_error(y_val, y_pred)\n",
    "        r2 = r2_score(y_val, y_pred)\n",
    "        mlflow.log_metric(\"mae\", mae_train)\n",
    "        mlflow.log_metric(\"mse\", mse_train)\n",
    "        mlflow.log_metric(\"r2\", r2_train)\n",
    "    return model, mae, mse, r2, mae_train, mse_train, r2_train"
   ]
  },
  {
   "attachments": {},
   "cell_type": "markdown",
   "metadata": {},
   "source": [
    "## Ridge Regression"
   ]
  },
  {
   "cell_type": "code",
   "execution_count": 12,
   "metadata": {},
   "outputs": [],
   "source": [
    "def train_and_eval_ridge(X_train, y_train, X_val, y_val, runname =\"ridge-regression\"):\n",
    "    mlflow.sklearn.autolog()\n",
    "    with mlflow.start_run(run_name=runname):\n",
    "        model = Ridge()\n",
    "        model.fit(X_train, y_train)\n",
    "        \n",
    "        pred_train = model.predict(X_train)\n",
    "        mae_train = mean_absolute_error(y_train, pred_train)\n",
    "        mse_train = mean_squared_error(y_train, pred_train)\n",
    "        r2_train = r2_score(y_train, pred_train)\n",
    "        mlflow.log_metric(\"mae_train\", mae_train)\n",
    "        mlflow.log_metric(\"mse_train\", mse_train)\n",
    "        mlflow.log_metric(\"r2_train\", r2_train)\n",
    "        \n",
    "        y_pred = model.predict(X_val)\n",
    "        mae = mean_absolute_error(y_val, y_pred)\n",
    "        mse = mean_squared_error(y_val, y_pred)\n",
    "        r2 = r2_score(y_val, y_pred)\n",
    "        mlflow.log_metric(\"mae\", mae_train)\n",
    "        mlflow.log_metric(\"mse\", mse_train)\n",
    "        mlflow.log_metric(\"r2\", r2_train)\n",
    "    return model, mae, mse, r2, mae_train, mse_train, r2_train"
   ]
  },
  {
   "attachments": {},
   "cell_type": "markdown",
   "metadata": {},
   "source": [
    "## Random Forest"
   ]
  },
  {
   "cell_type": "code",
   "execution_count": 13,
   "metadata": {},
   "outputs": [],
   "source": [
    "def train_and_eval_rf(X_train, y_train, X_val, y_val, n_estimators=50, random_state=0, run_name=\"random-forest\"):\n",
    "    mlflow.sklearn.autolog()\n",
    "    with mlflow.start_run(run_name=run_name):\n",
    "        model = RandomForestRegressor(n_estimators=n_estimators, random_state=random_state)\n",
    "        model.fit(X_train, y_train)\n",
    "        pred_train = model.predict(X_train)\n",
    "        mae_train = mean_absolute_error(y_train, pred_train)\n",
    "        mse_train = mean_squared_error(y_train, pred_train)\n",
    "        r2_train = r2_score(y_train, pred_train)\n",
    "        preds= model.predict(X_val)\n",
    "        mae = mean_absolute_error(y_val, preds)\n",
    "        mse = mean_squared_error(y_val, preds)\n",
    "        r2 = r2_score(y_val, preds)\n",
    "        mlflow.log_metric(\"mae\", mae)\n",
    "        mlflow.log_metric(\"mse\", mse)\n",
    "        mlflow.log_metric(\"r2\", r2)\n",
    "        mlflow.log_metric(\"mae_train\", mae_train)\n",
    "        mlflow.log_metric(\"mse_train\", mse_train)\n",
    "        mlflow.log_metric(\"r2_train\", r2_train)\n",
    "        return model, mae, mse, r2, mae_train, mse_train, r2_train"
   ]
  },
  {
   "attachments": {},
   "cell_type": "markdown",
   "metadata": {},
   "source": [
    "## XGBRegressor\n"
   ]
  },
  {
   "cell_type": "code",
   "execution_count": 14,
   "metadata": {},
   "outputs": [],
   "source": [
    "def train_and_eval_xgb(X_train, y_train, X_val, y_val, run_name=\"xgb\", early_stopping_rounds=30, max_depth=6, n_estimators=1000):\n",
    "    mlflow.xgboost.autolog()\n",
    "    with mlflow.start_run(run_name=run_name):\n",
    "        model = xgb.XGBRegressor(eval_metric=['rmse', 'mae'], early_stopping_rounds=early_stopping_rounds, random_state=42, max_depth=max_depth, n_estimators=n_estimators)\n",
    "        mlflow.log_param(\"early_stopping_rounds\", early_stopping_rounds)\n",
    "        mlflow.log_param(\"max_depth\", max_depth)\n",
    "        mlflow.log_param(\"n_estimators\", n_estimators)\n",
    "        model.fit(X=X_train, \n",
    "                  y=y_train,\n",
    "                  eval_set=[(X_val, y_val)],\n",
    "                  verbose=True\n",
    "        )\n",
    "        pred_train = model.predict(X_train)\n",
    "        mae_train = mean_absolute_error(y_train, pred_train)\n",
    "        mse_train = mean_squared_error(y_train, pred_train)\n",
    "        r2_train = r2_score(y_train, pred_train)\n",
    "        mlflow.log_metric(\"mae_train\", mae_train)\n",
    "        mlflow.log_metric(\"mse_train\", mse_train)\n",
    "        mlflow.log_metric(\"r2_train\", r2_train)\n",
    "        preds= model.predict(X_val)\n",
    "        mae = mean_absolute_error(y_val, preds)\n",
    "        mse = mean_squared_error(y_val, preds)\n",
    "        r2 = r2_score(y_val, preds)\n",
    "        mlflow.log_metric(\"mae\", mae)\n",
    "        mlflow.log_metric(\"mse\", mse)\n",
    "        mlflow.log_metric(\"r2\", r2)        \n",
    "        return model, mae, mse, r2, mae_train, mse_train, r2_train"
   ]
  },
  {
   "attachments": {},
   "cell_type": "markdown",
   "metadata": {},
   "source": [
    "## ElasticNet"
   ]
  },
  {
   "cell_type": "code",
   "execution_count": 15,
   "metadata": {},
   "outputs": [],
   "source": [
    "def train_and_eval_elasticnet(X_train, y_train, X_val, y_val, runname=\"elasticNet\"):\n",
    "    mlflow.sklearn.autolog()\n",
    "    with mlflow.start_run(run_name=runname):\n",
    "        model = ElasticNet()\n",
    "        model.fit(X_train, y_train)\n",
    "        pred_train = model.predict(X_train)\n",
    "        mae_train = mean_absolute_error(y_train, pred_train)\n",
    "        mse_train = mean_squared_error(y_train, pred_train)\n",
    "        r2_train = r2_score(y_train, pred_train)\n",
    "        preds= model.predict(X_val)\n",
    "        mae = mean_absolute_error(y_val, preds)\n",
    "        mse = mean_squared_error(y_val, preds)\n",
    "        r2 = r2_score(y_val, preds)\n",
    "        mlflow.log_metric(\"mae\", mae)\n",
    "        mlflow.log_metric(\"mse\", mse)\n",
    "        mlflow.log_metric(\"r2\", r2)\n",
    "        mlflow.log_metric(\"mae_train\", mae_train)\n",
    "        mlflow.log_metric(\"mse_train\", mse_train)\n",
    "        mlflow.log_metric(\"r2_train\", r2_train)\n",
    "        return model, mae, mse, r2, mae_train, mse_train, r2_train"
   ]
  },
  {
   "attachments": {},
   "cell_type": "markdown",
   "metadata": {},
   "source": [
    "# Complete Pipeline"
   ]
  },
  {
   "cell_type": "code",
   "execution_count": 16,
   "metadata": {},
   "outputs": [],
   "source": [
    "def pipeline_from_extracted(df, feature_set, model_name=\"lasso\"):\n",
    "    \n",
    "    X, y = preprocess_data(df, feature_set)\n",
    "    print(\"Done with preprocessing\")\n",
    "    X_train, y_train, X_val, y_val, test_X, test_y = data_split(X,y)\n",
    "    print(\"Done with data split\")\n",
    "\n",
    "    model, mae, mse, r2, mae_train, mse_train, r2_train = None, None, None, None, None, None, None\n",
    "\n",
    "    if model_name == \"lasso\":\n",
    "        model, mae, mse, r2, mae_train, mse_train, r2_train = train_and_eval_lasso(X_train, y_train, X_val, y_val)\n",
    "    elif model_name == \"ridge\":\n",
    "        model, mae, mse, r2, mae_train, mse_train, r2_train = train_and_eval_ridge(X_train, y_train, X_val, y_val)\n",
    "    elif model_name == \"rf\":\n",
    "        model, mae, mse, r2, mae_train, mse_train, r2_train = train_and_eval_rf(X_train, y_train, X_val, y_val)\n",
    "    elif model_name == \"xgb\":\n",
    "        model, mae, mse, r2, mae_train, mse_train, r2_train = train_and_eval_xgb(X_train, y_train, X_val, y_val)\n",
    "    elif model_name == \"elasticnet\":\n",
    "        model, mae, mse, r2, mae_train, mse_train, r2_train = train_and_eval_elasticnet(X_train, y_train, X_val, y_val)\n",
    "    elif model_name == \"linear\":\n",
    "        model, mae, mse, r2, mae_train, mse_train, r2_train = train_and_eval_linear(X_train, y_train, X_val, y_val)\n",
    "    elif model_name ==\"baseline-rent\":\n",
    "        avg_price, mae, mse, r2 = baseline_rent(X_val, y_val)\n",
    "    else:\n",
    "        print(\"Model not found. Model_name must be 'lasso', 'ridge', 'rf', 'xgb', 'elasticnet', 'linear', 'baseline_buy' or 'baseline_rent'\")\n",
    "    print(\"Done with train\")\n",
    "    return model, mae, mse, r2, mae_train, mse_train, r2_train"
   ]
  },
  {
   "attachments": {},
   "cell_type": "markdown",
   "metadata": {},
   "source": [
    "# Execute all models on same data and log to MLFlow"
   ]
  },
  {
   "cell_type": "code",
   "execution_count": 19,
   "metadata": {},
   "outputs": [
    {
     "name": "stdout",
     "output_type": "stream",
     "text": [
      "['Object_price', 'LivingSpace', 'Rooms', 'abstellraum', 'bad/wc_getrennt', 'barriefrei', 'dusche', 'elektro', 'erdwaerme', 'fenster', 'ferne', 'fliesen', 'frei', 'fussbodenheizung', 'gaestewc', 'garage', 'kable_sat_tv', 'kontrollierte_be-_und_entlueftungsanlage', 'kunststofffenster', 'luftwp', 'parkett', 'personenaufzug', 'reinigung', 'rollstuhlgerecht', 'speisekammer', 'terrasse', 'wanne', 'zentralheizung', 'EstateType', 'DistributionType']\n",
      "['Object_price', 'LivingSpace', 'Rooms', 'abstellraum', 'bad/wc_getrennt', 'barriefrei', 'dusche', 'elektro', 'erdwaerme', 'fenster', 'ferne', 'fliesen', 'frei', 'fussbodenheizung', 'gaestewc', 'garage', 'kable_sat_tv', 'kontrollierte_be-_und_entlueftungsanlage', 'kunststofffenster', 'luftwp', 'parkett', 'personenaufzug', 'reinigung', 'rollstuhlgerecht', 'speisekammer', 'terrasse', 'wanne', 'zentralheizung', 'EstateType', 'DistributionType', 'ConstructionYear', 'ZipCode']\n"
     ]
    },
    {
     "name": "stderr",
     "output_type": "stream",
     "text": [
      "C:\\Users\\michi\\AppData\\Local\\Temp\\ipykernel_8100\\2452901690.py:5: FutureWarning: The default value of numeric_only in DataFrame.corr is deprecated. In a future version, it will default to False. Select only valid columns or specify the value of numeric_only to silence this warning.\n",
      "  important_num_cols = list(df.corr()[\"Object_price\"][(df.corr()[\"Object_price\"]>0.20) | (df.corr()[\"Object_price\"]<-0.20)].index)\n"
     ]
    }
   ],
   "source": [
    "df = pd.read_excel(r'data\\flats_to_rent_wue_preprocessed_combined.xlsx')\n",
    "feature_set_high_corr = determineHighCorrCols(df) + [\"ConstructionYear\"] + [\"ZipCode\"]\n",
    "print(feature_set_high_corr)\n",
    "feature_set_selected = [\n",
    "    \"Object_price\",\n",
    "    \"ConstructionYear\",\n",
    "    \"LivingSpace\",\n",
    "    \"ZipCode\",\n",
    "    \"Rooms\",\n",
    "    \"altbau_(bis_1945)\",\n",
    "    \"balkon\",\n",
    "    \"barriefrei\",\n",
    "    \"dachgeschoss\",\n",
    "    \"erstbezug\",\n",
    "    \"einbaukueche\",\n",
    "    \"fliesen\",\n",
    "    \"neubau\",\n",
    "    \"parkett\",\n",
    "    \"stellplatz\",\n",
    "    \"wg_geeignet\",\n",
    "    \"bad/wc_getrennt\",\n",
    "    \"kamin\",\n",
    "    \"personenaufzug\",\n",
    "    \"garten\", \n",
    "    \"garage\", \n",
    "    \"moebliert\", \n",
    "    \"renoviert\", \n",
    "    \"terrasse\",\n",
    "    \"wanne\", \n",
    "    \"zentralheizung\"\n",
    "]"
   ]
  },
  {
   "cell_type": "code",
   "execution_count": 21,
   "metadata": {},
   "outputs": [
    {
     "name": "stderr",
     "output_type": "stream",
     "text": [
      "C:\\Users\\michi\\AppData\\Local\\Temp\\ipykernel_8100\\4053851449.py:5: FutureWarning: The default value of numeric_only in DataFrame.corr is deprecated. In a future version, it will default to False. Select only valid columns or specify the value of numeric_only to silence this warning.\n",
      "  important_num_cols = list(df.corr()[\"Object_price\"][(df.corr()[\"Object_price\"]>0.20) | (df.corr()[\"Object_price\"]<-0.20)].index)\n"
     ]
    },
    {
     "name": "stdout",
     "output_type": "stream",
     "text": [
      "['Object_price', 'LivingSpace', 'Rooms', 'abstellraum', 'bad/wc_getrennt', 'barriefrei', 'dusche', 'elektro', 'erdwaerme', 'fenster', 'ferne', 'fliesen', 'frei', 'fussbodenheizung', 'gaestewc', 'garage', 'kable_sat_tv', 'kontrollierte_be-_und_entlueftungsanlage', 'kunststofffenster', 'luftwp', 'parkett', 'personenaufzug', 'reinigung', 'rollstuhlgerecht', 'speisekammer', 'terrasse', 'wanne', 'zentralheizung', 'EstateType', 'DistributionType', 'ConstructionYear', 'ZipCode']\n",
      "Done\n",
      "Index(['Unnamed: 0', 'Object_price', 'LivingSpace', 'Rooms',\n",
      "       'ConstructionYear', 'ZipCode', 'EstateType', 'DistributionType',\n",
      "       'abstellraum', 'als_ferienimmobilie_geeignet', 'altbau_(bis_1945)',\n",
      "       'bad/wc_getrennt', 'balkon', 'barriefrei', 'bidet', 'carport',\n",
      "       'dachgeschoss', 'dielen', 'dsl', 'duplex', 'dusche', 'einbauk\\u00fcche',\n",
      "       'elektro', 'erdgeschoss', 'erdwaerme', 'erstbezug', 'estrich',\n",
      "       'etagenheizung', 'fenster', 'fern', 'ferne', 'fliesen', 'frei',\n",
      "       'fu\\u00dfbodenheizung', 'gaestewc', 'garage', 'garten', 'gartennutzung',\n",
      "       'gas', 'gepflegt', 'haustiere_erlaubt', 'holzfenster', 'kable_sat_tv',\n",
      "       'kamera', 'kamin', 'kelleranteil', 'kfw40', 'kfw55', 'klimatisiert',\n",
      "       'kontrollierte_be-_und_entl\\u00fcftungsanlage', 'kunststoff',\n",
      "       'kunststofffenster', 'laminat', 'linoleum', 'loggia', 'luftwp',\n",
      "       'marmor', 'massivhaus', 'moebliert', 'neubau', 'neuwertig', 'oel',\n",
      "       'ofenheizung', 'offene_k\\u00fcche', 'pantry', 'parkett', 'pellet',\n",
      "       'personenaufzug', 'reinigung', 'renoviert', 'rollstuhlgerecht', 'sat',\n",
      "       'speisekammer', 'stein', 'stellplatz', 'teilweise_m\\u00f6bliert',\n",
      "       'teppich', 'terrasse', 'tiefgarage', 'vermietet', 'wanne',\n",
      "       'wasch_trockenraum', 'wg_geeignet', 'wintergarten',\n",
      "       'wohnberechtigungsschein', 'zentralheizung'],\n",
      "      dtype='object')\n",
      "Starting with model:  lasso\n",
      "Used feature set for preprocessing:['Object_price', 'LivingSpace', 'Rooms', 'abstellraum', 'bad/wc_getrennt', 'barriefrei', 'dusche', 'elektro', 'erdwaerme', 'fenster', 'ferne', 'fliesen', 'frei', 'fussbodenheizung', 'gaestewc', 'garage', 'kable_sat_tv', 'kontrollierte_be-_und_entlueftungsanlage', 'kunststofffenster', 'luftwp', 'parkett', 'personenaufzug', 'reinigung', 'rollstuhlgerecht', 'speisekammer', 'terrasse', 'wanne', 'zentralheizung', 'EstateType', 'DistributionType', 'ConstructionYear', 'ZipCode']\n",
      "Done with preprocessing\n",
      "Done with data split\n"
     ]
    },
    {
     "name": "stderr",
     "output_type": "stream",
     "text": [
      "2023/07/12 17:32:16 WARNING mlflow.utils.autologging_utils: MLflow autologging encountered a warning: \"c:\\Users\\michi\\Anaconda3\\envs\\enterpriseai2\\lib\\site-packages\\mlflow\\data\\pandas_dataset.py:116: UserWarning: Hint: Inferred schema contains integer column(s). Integer columns in Python cannot represent missing values. If your input data contains missing values at inference time, it will be encoded as floats and will cause a schema enforcement error. The best way to avoid this problem is to infer the model schema based on a realistic data sample (training dataset) that includes missing values. Alternatively, you can declare integer columns as doubles (float64) whenever these columns may have missing values. See `Handling Integers With Missing Values <https://www.mlflow.org/docs/latest/models.html#handling-integers-with-missing-values>`_ for more details.\"\n",
      "2023/07/12 17:32:20 WARNING mlflow.utils.autologging_utils: MLflow autologging encountered a warning: \"c:\\Users\\michi\\Anaconda3\\envs\\enterpriseai2\\lib\\site-packages\\mlflow\\models\\signature.py:144: UserWarning: Hint: Inferred schema contains integer column(s). Integer columns in Python cannot represent missing values. If your input data contains missing values at inference time, it will be encoded as floats and will cause a schema enforcement error. The best way to avoid this problem is to infer the model schema based on a realistic data sample (training dataset) that includes missing values. Alternatively, you can declare integer columns as doubles (float64) whenever these columns may have missing values. See `Handling Integers With Missing Values <https://www.mlflow.org/docs/latest/models.html#handling-integers-with-missing-values>`_ for more details.\"\n",
      "2023/07/12 17:32:28 WARNING mlflow.utils.autologging_utils: MLflow autologging encountered a warning: \"c:\\Users\\michi\\Anaconda3\\envs\\enterpriseai2\\lib\\site-packages\\_distutils_hack\\__init__.py:33: UserWarning: Setuptools is replacing distutils.\"\n",
      "2023/07/12 17:32:43 WARNING mlflow.utils.autologging_utils: MLflow autologging encountered a warning: \"c:\\Users\\michi\\Anaconda3\\envs\\enterpriseai2\\lib\\site-packages\\mlflow\\data\\pandas_dataset.py:116: UserWarning: Hint: Inferred schema contains integer column(s). Integer columns in Python cannot represent missing values. If your input data contains missing values at inference time, it will be encoded as floats and will cause a schema enforcement error. The best way to avoid this problem is to infer the model schema based on a realistic data sample (training dataset) that includes missing values. Alternatively, you can declare integer columns as doubles (float64) whenever these columns may have missing values. See `Handling Integers With Missing Values <https://www.mlflow.org/docs/latest/models.html#handling-integers-with-missing-values>`_ for more details.\"\n",
      "2023/07/12 17:32:51 WARNING mlflow.utils.autologging_utils: MLflow autologging encountered a warning: \"c:\\Users\\michi\\Anaconda3\\envs\\enterpriseai2\\lib\\site-packages\\mlflow\\data\\pandas_dataset.py:116: UserWarning: Hint: Inferred schema contains integer column(s). Integer columns in Python cannot represent missing values. If your input data contains missing values at inference time, it will be encoded as floats and will cause a schema enforcement error. The best way to avoid this problem is to infer the model schema based on a realistic data sample (training dataset) that includes missing values. Alternatively, you can declare integer columns as doubles (float64) whenever these columns may have missing values. See `Handling Integers With Missing Values <https://www.mlflow.org/docs/latest/models.html#handling-integers-with-missing-values>`_ for more details.\"\n"
     ]
    },
    {
     "name": "stdout",
     "output_type": "stream",
     "text": [
      "Done with train\n",
      "Index(['Unnamed: 0', 'Object_price', 'LivingSpace', 'Rooms',\n",
      "       'ConstructionYear', 'ZipCode', 'EstateType', 'DistributionType',\n",
      "       'abstellraum', 'als_ferienimmobilie_geeignet', 'altbau_(bis_1945)',\n",
      "       'bad/wc_getrennt', 'balkon', 'barriefrei', 'bidet', 'carport',\n",
      "       'dachgeschoss', 'dielen', 'dsl', 'duplex', 'dusche', 'einbauk\\u00fcche',\n",
      "       'elektro', 'erdgeschoss', 'erdwaerme', 'erstbezug', 'estrich',\n",
      "       'etagenheizung', 'fenster', 'fern', 'ferne', 'fliesen', 'frei',\n",
      "       'fu\\u00dfbodenheizung', 'gaestewc', 'garage', 'garten', 'gartennutzung',\n",
      "       'gas', 'gepflegt', 'haustiere_erlaubt', 'holzfenster', 'kable_sat_tv',\n",
      "       'kamera', 'kamin', 'kelleranteil', 'kfw40', 'kfw55', 'klimatisiert',\n",
      "       'kontrollierte_be-_und_entl\\u00fcftungsanlage', 'kunststoff',\n",
      "       'kunststofffenster', 'laminat', 'linoleum', 'loggia', 'luftwp',\n",
      "       'marmor', 'massivhaus', 'moebliert', 'neubau', 'neuwertig', 'oel',\n",
      "       'ofenheizung', 'offene_k\\u00fcche', 'pantry', 'parkett', 'pellet',\n",
      "       'personenaufzug', 'reinigung', 'renoviert', 'rollstuhlgerecht', 'sat',\n",
      "       'speisekammer', 'stein', 'stellplatz', 'teilweise_m\\u00f6bliert',\n",
      "       'teppich', 'terrasse', 'tiefgarage', 'vermietet', 'wanne',\n",
      "       'wasch_trockenraum', 'wg_geeignet', 'wintergarten',\n",
      "       'wohnberechtigungsschein', 'zentralheizung'],\n",
      "      dtype='object')\n",
      "Starting with model:  ridge\n",
      "Used feature set for preprocessing:['Object_price', 'LivingSpace', 'Rooms', 'abstellraum', 'bad/wc_getrennt', 'barriefrei', 'dusche', 'elektro', 'erdwaerme', 'fenster', 'ferne', 'fliesen', 'frei', 'fussbodenheizung', 'gaestewc', 'garage', 'kable_sat_tv', 'kontrollierte_be-_und_entlueftungsanlage', 'kunststofffenster', 'luftwp', 'parkett', 'personenaufzug', 'reinigung', 'rollstuhlgerecht', 'speisekammer', 'terrasse', 'wanne', 'zentralheizung', 'EstateType', 'DistributionType', 'ConstructionYear', 'ZipCode']\n",
      "Done with preprocessing\n",
      "Done with data split\n"
     ]
    },
    {
     "name": "stderr",
     "output_type": "stream",
     "text": [
      "2023/07/12 17:33:04 WARNING mlflow.utils.autologging_utils: MLflow autologging encountered a warning: \"c:\\Users\\michi\\Anaconda3\\envs\\enterpriseai2\\lib\\site-packages\\mlflow\\data\\pandas_dataset.py:116: UserWarning: Hint: Inferred schema contains integer column(s). Integer columns in Python cannot represent missing values. If your input data contains missing values at inference time, it will be encoded as floats and will cause a schema enforcement error. The best way to avoid this problem is to infer the model schema based on a realistic data sample (training dataset) that includes missing values. Alternatively, you can declare integer columns as doubles (float64) whenever these columns may have missing values. See `Handling Integers With Missing Values <https://www.mlflow.org/docs/latest/models.html#handling-integers-with-missing-values>`_ for more details.\"\n",
      "2023/07/12 17:33:08 WARNING mlflow.utils.autologging_utils: MLflow autologging encountered a warning: \"c:\\Users\\michi\\Anaconda3\\envs\\enterpriseai2\\lib\\site-packages\\mlflow\\models\\signature.py:144: UserWarning: Hint: Inferred schema contains integer column(s). Integer columns in Python cannot represent missing values. If your input data contains missing values at inference time, it will be encoded as floats and will cause a schema enforcement error. The best way to avoid this problem is to infer the model schema based on a realistic data sample (training dataset) that includes missing values. Alternatively, you can declare integer columns as doubles (float64) whenever these columns may have missing values. See `Handling Integers With Missing Values <https://www.mlflow.org/docs/latest/models.html#handling-integers-with-missing-values>`_ for more details.\"\n",
      "2023/07/12 17:33:28 WARNING mlflow.utils.autologging_utils: MLflow autologging encountered a warning: \"c:\\Users\\michi\\Anaconda3\\envs\\enterpriseai2\\lib\\site-packages\\mlflow\\data\\pandas_dataset.py:116: UserWarning: Hint: Inferred schema contains integer column(s). Integer columns in Python cannot represent missing values. If your input data contains missing values at inference time, it will be encoded as floats and will cause a schema enforcement error. The best way to avoid this problem is to infer the model schema based on a realistic data sample (training dataset) that includes missing values. Alternatively, you can declare integer columns as doubles (float64) whenever these columns may have missing values. See `Handling Integers With Missing Values <https://www.mlflow.org/docs/latest/models.html#handling-integers-with-missing-values>`_ for more details.\"\n",
      "2023/07/12 17:33:37 WARNING mlflow.utils.autologging_utils: MLflow autologging encountered a warning: \"c:\\Users\\michi\\Anaconda3\\envs\\enterpriseai2\\lib\\site-packages\\mlflow\\data\\pandas_dataset.py:116: UserWarning: Hint: Inferred schema contains integer column(s). Integer columns in Python cannot represent missing values. If your input data contains missing values at inference time, it will be encoded as floats and will cause a schema enforcement error. The best way to avoid this problem is to infer the model schema based on a realistic data sample (training dataset) that includes missing values. Alternatively, you can declare integer columns as doubles (float64) whenever these columns may have missing values. See `Handling Integers With Missing Values <https://www.mlflow.org/docs/latest/models.html#handling-integers-with-missing-values>`_ for more details.\"\n"
     ]
    },
    {
     "name": "stdout",
     "output_type": "stream",
     "text": [
      "Done with train\n",
      "Index(['Unnamed: 0', 'Object_price', 'LivingSpace', 'Rooms',\n",
      "       'ConstructionYear', 'ZipCode', 'EstateType', 'DistributionType',\n",
      "       'abstellraum', 'als_ferienimmobilie_geeignet', 'altbau_(bis_1945)',\n",
      "       'bad/wc_getrennt', 'balkon', 'barriefrei', 'bidet', 'carport',\n",
      "       'dachgeschoss', 'dielen', 'dsl', 'duplex', 'dusche', 'einbauk\\u00fcche',\n",
      "       'elektro', 'erdgeschoss', 'erdwaerme', 'erstbezug', 'estrich',\n",
      "       'etagenheizung', 'fenster', 'fern', 'ferne', 'fliesen', 'frei',\n",
      "       'fu\\u00dfbodenheizung', 'gaestewc', 'garage', 'garten', 'gartennutzung',\n",
      "       'gas', 'gepflegt', 'haustiere_erlaubt', 'holzfenster', 'kable_sat_tv',\n",
      "       'kamera', 'kamin', 'kelleranteil', 'kfw40', 'kfw55', 'klimatisiert',\n",
      "       'kontrollierte_be-_und_entl\\u00fcftungsanlage', 'kunststoff',\n",
      "       'kunststofffenster', 'laminat', 'linoleum', 'loggia', 'luftwp',\n",
      "       'marmor', 'massivhaus', 'moebliert', 'neubau', 'neuwertig', 'oel',\n",
      "       'ofenheizung', 'offene_k\\u00fcche', 'pantry', 'parkett', 'pellet',\n",
      "       'personenaufzug', 'reinigung', 'renoviert', 'rollstuhlgerecht', 'sat',\n",
      "       'speisekammer', 'stein', 'stellplatz', 'teilweise_m\\u00f6bliert',\n",
      "       'teppich', 'terrasse', 'tiefgarage', 'vermietet', 'wanne',\n",
      "       'wasch_trockenraum', 'wg_geeignet', 'wintergarten',\n",
      "       'wohnberechtigungsschein', 'zentralheizung'],\n",
      "      dtype='object')\n",
      "Starting with model:  rf\n",
      "Used feature set for preprocessing:['Object_price', 'LivingSpace', 'Rooms', 'abstellraum', 'bad/wc_getrennt', 'barriefrei', 'dusche', 'elektro', 'erdwaerme', 'fenster', 'ferne', 'fliesen', 'frei', 'fussbodenheizung', 'gaestewc', 'garage', 'kable_sat_tv', 'kontrollierte_be-_und_entlueftungsanlage', 'kunststofffenster', 'luftwp', 'parkett', 'personenaufzug', 'reinigung', 'rollstuhlgerecht', 'speisekammer', 'terrasse', 'wanne', 'zentralheizung', 'EstateType', 'DistributionType', 'ConstructionYear', 'ZipCode']\n",
      "Done with preprocessing\n",
      "Done with data split\n"
     ]
    },
    {
     "name": "stderr",
     "output_type": "stream",
     "text": [
      "2023/07/12 17:33:50 WARNING mlflow.utils.autologging_utils: MLflow autologging encountered a warning: \"c:\\Users\\michi\\Anaconda3\\envs\\enterpriseai2\\lib\\site-packages\\mlflow\\data\\pandas_dataset.py:116: UserWarning: Hint: Inferred schema contains integer column(s). Integer columns in Python cannot represent missing values. If your input data contains missing values at inference time, it will be encoded as floats and will cause a schema enforcement error. The best way to avoid this problem is to infer the model schema based on a realistic data sample (training dataset) that includes missing values. Alternatively, you can declare integer columns as doubles (float64) whenever these columns may have missing values. See `Handling Integers With Missing Values <https://www.mlflow.org/docs/latest/models.html#handling-integers-with-missing-values>`_ for more details.\"\n",
      "2023/07/12 17:33:54 WARNING mlflow.utils.autologging_utils: MLflow autologging encountered a warning: \"c:\\Users\\michi\\Anaconda3\\envs\\enterpriseai2\\lib\\site-packages\\mlflow\\models\\signature.py:144: UserWarning: Hint: Inferred schema contains integer column(s). Integer columns in Python cannot represent missing values. If your input data contains missing values at inference time, it will be encoded as floats and will cause a schema enforcement error. The best way to avoid this problem is to infer the model schema based on a realistic data sample (training dataset) that includes missing values. Alternatively, you can declare integer columns as doubles (float64) whenever these columns may have missing values. See `Handling Integers With Missing Values <https://www.mlflow.org/docs/latest/models.html#handling-integers-with-missing-values>`_ for more details.\"\n",
      "2023/07/12 17:34:15 WARNING mlflow.utils.autologging_utils: MLflow autologging encountered a warning: \"c:\\Users\\michi\\Anaconda3\\envs\\enterpriseai2\\lib\\site-packages\\mlflow\\data\\pandas_dataset.py:116: UserWarning: Hint: Inferred schema contains integer column(s). Integer columns in Python cannot represent missing values. If your input data contains missing values at inference time, it will be encoded as floats and will cause a schema enforcement error. The best way to avoid this problem is to infer the model schema based on a realistic data sample (training dataset) that includes missing values. Alternatively, you can declare integer columns as doubles (float64) whenever these columns may have missing values. See `Handling Integers With Missing Values <https://www.mlflow.org/docs/latest/models.html#handling-integers-with-missing-values>`_ for more details.\"\n",
      "2023/07/12 17:34:17 WARNING mlflow.utils.autologging_utils: MLflow autologging encountered a warning: \"c:\\Users\\michi\\Anaconda3\\envs\\enterpriseai2\\lib\\site-packages\\mlflow\\data\\pandas_dataset.py:116: UserWarning: Hint: Inferred schema contains integer column(s). Integer columns in Python cannot represent missing values. If your input data contains missing values at inference time, it will be encoded as floats and will cause a schema enforcement error. The best way to avoid this problem is to infer the model schema based on a realistic data sample (training dataset) that includes missing values. Alternatively, you can declare integer columns as doubles (float64) whenever these columns may have missing values. See `Handling Integers With Missing Values <https://www.mlflow.org/docs/latest/models.html#handling-integers-with-missing-values>`_ for more details.\"\n"
     ]
    },
    {
     "name": "stdout",
     "output_type": "stream",
     "text": [
      "Done with train\n",
      "Index(['Unnamed: 0', 'Object_price', 'LivingSpace', 'Rooms',\n",
      "       'ConstructionYear', 'ZipCode', 'EstateType', 'DistributionType',\n",
      "       'abstellraum', 'als_ferienimmobilie_geeignet', 'altbau_(bis_1945)',\n",
      "       'bad/wc_getrennt', 'balkon', 'barriefrei', 'bidet', 'carport',\n",
      "       'dachgeschoss', 'dielen', 'dsl', 'duplex', 'dusche', 'einbauk\\u00fcche',\n",
      "       'elektro', 'erdgeschoss', 'erdwaerme', 'erstbezug', 'estrich',\n",
      "       'etagenheizung', 'fenster', 'fern', 'ferne', 'fliesen', 'frei',\n",
      "       'fu\\u00dfbodenheizung', 'gaestewc', 'garage', 'garten', 'gartennutzung',\n",
      "       'gas', 'gepflegt', 'haustiere_erlaubt', 'holzfenster', 'kable_sat_tv',\n",
      "       'kamera', 'kamin', 'kelleranteil', 'kfw40', 'kfw55', 'klimatisiert',\n",
      "       'kontrollierte_be-_und_entl\\u00fcftungsanlage', 'kunststoff',\n",
      "       'kunststofffenster', 'laminat', 'linoleum', 'loggia', 'luftwp',\n",
      "       'marmor', 'massivhaus', 'moebliert', 'neubau', 'neuwertig', 'oel',\n",
      "       'ofenheizung', 'offene_k\\u00fcche', 'pantry', 'parkett', 'pellet',\n",
      "       'personenaufzug', 'reinigung', 'renoviert', 'rollstuhlgerecht', 'sat',\n",
      "       'speisekammer', 'stein', 'stellplatz', 'teilweise_m\\u00f6bliert',\n",
      "       'teppich', 'terrasse', 'tiefgarage', 'vermietet', 'wanne',\n",
      "       'wasch_trockenraum', 'wg_geeignet', 'wintergarten',\n",
      "       'wohnberechtigungsschein', 'zentralheizung'],\n",
      "      dtype='object')\n",
      "Starting with model:  xgb\n",
      "Used feature set for preprocessing:['Object_price', 'LivingSpace', 'Rooms', 'abstellraum', 'bad/wc_getrennt', 'barriefrei', 'dusche', 'elektro', 'erdwaerme', 'fenster', 'ferne', 'fliesen', 'frei', 'fussbodenheizung', 'gaestewc', 'garage', 'kable_sat_tv', 'kontrollierte_be-_und_entlueftungsanlage', 'kunststofffenster', 'luftwp', 'parkett', 'personenaufzug', 'reinigung', 'rollstuhlgerecht', 'speisekammer', 'terrasse', 'wanne', 'zentralheizung', 'EstateType', 'DistributionType', 'ConstructionYear', 'ZipCode']\n",
      "Done with preprocessing\n",
      "Done with data split\n",
      "[0]\tvalidation_0-rmse:975.49976\tvalidation_0-mae:845.57492\n",
      "[1]\tvalidation_0-rmse:747.84826\tvalidation_0-mae:618.13323\n",
      "[2]\tvalidation_0-rmse:592.63745\tvalidation_0-mae:463.14861\n",
      "[3]\tvalidation_0-rmse:488.65342\tvalidation_0-mae:366.36262\n",
      "[4]\tvalidation_0-rmse:422.27119\tvalidation_0-mae:310.91724\n",
      "[5]\tvalidation_0-rmse:368.72001\tvalidation_0-mae:268.91895\n",
      "[6]\tvalidation_0-rmse:335.74284\tvalidation_0-mae:251.59456\n",
      "[7]\tvalidation_0-rmse:316.11995\tvalidation_0-mae:246.63546\n",
      "[8]\tvalidation_0-rmse:307.30181\tvalidation_0-mae:241.96073\n",
      "[9]\tvalidation_0-rmse:298.36256\tvalidation_0-mae:234.73016\n",
      "[10]\tvalidation_0-rmse:293.86950\tvalidation_0-mae:232.53542\n",
      "[11]\tvalidation_0-rmse:291.63749\tvalidation_0-mae:231.15856\n",
      "[12]\tvalidation_0-rmse:295.39400\tvalidation_0-mae:234.11383\n",
      "[13]\tvalidation_0-rmse:293.49069\tvalidation_0-mae:233.20949\n",
      "[14]\tvalidation_0-rmse:291.68012\tvalidation_0-mae:232.73510\n",
      "[15]\tvalidation_0-rmse:290.84518\tvalidation_0-mae:232.52523\n",
      "[16]\tvalidation_0-rmse:292.06903\tvalidation_0-mae:233.07454\n",
      "[17]\tvalidation_0-rmse:293.14595\tvalidation_0-mae:234.06449\n",
      "[18]\tvalidation_0-rmse:294.48570\tvalidation_0-mae:235.55181\n",
      "[19]\tvalidation_0-rmse:295.51751\tvalidation_0-mae:236.05530\n",
      "[20]\tvalidation_0-rmse:295.21791\tvalidation_0-mae:235.62840\n",
      "[21]\tvalidation_0-rmse:295.27775\tvalidation_0-mae:235.91102\n",
      "[22]\tvalidation_0-rmse:294.85524\tvalidation_0-mae:235.81163\n",
      "[23]\tvalidation_0-rmse:294.70540\tvalidation_0-mae:235.80884\n",
      "[24]\tvalidation_0-rmse:295.90044\tvalidation_0-mae:237.25919\n",
      "[25]\tvalidation_0-rmse:295.63064\tvalidation_0-mae:237.02683\n",
      "[26]\tvalidation_0-rmse:295.75867\tvalidation_0-mae:236.88316\n",
      "[27]\tvalidation_0-rmse:296.78810\tvalidation_0-mae:237.81043\n",
      "[28]\tvalidation_0-rmse:296.91568\tvalidation_0-mae:238.11529\n",
      "[29]\tvalidation_0-rmse:297.37852\tvalidation_0-mae:238.40510\n",
      "[30]\tvalidation_0-rmse:297.19717\tvalidation_0-mae:238.63590\n",
      "[31]\tvalidation_0-rmse:297.46924\tvalidation_0-mae:238.98138\n",
      "[32]\tvalidation_0-rmse:297.82351\tvalidation_0-mae:239.41929\n",
      "[33]\tvalidation_0-rmse:298.45023\tvalidation_0-mae:239.93331\n",
      "[34]\tvalidation_0-rmse:298.65123\tvalidation_0-mae:240.01098\n",
      "[35]\tvalidation_0-rmse:298.77962\tvalidation_0-mae:239.96628\n",
      "[36]\tvalidation_0-rmse:298.79790\tvalidation_0-mae:240.18655\n",
      "[37]\tvalidation_0-rmse:298.78324\tvalidation_0-mae:240.03809\n",
      "[38]\tvalidation_0-rmse:299.11115\tvalidation_0-mae:240.42167\n",
      "[39]\tvalidation_0-rmse:299.43425\tvalidation_0-mae:240.80215\n",
      "[40]\tvalidation_0-rmse:299.72685\tvalidation_0-mae:241.10404\n"
     ]
    },
    {
     "name": "stderr",
     "output_type": "stream",
     "text": [
      "2023/07/12 17:34:56 WARNING mlflow.utils.autologging_utils: MLflow autologging encountered a warning: \"c:\\Users\\michi\\Anaconda3\\envs\\enterpriseai2\\lib\\site-packages\\mlflow\\models\\signature.py:144: UserWarning: Hint: Inferred schema contains integer column(s). Integer columns in Python cannot represent missing values. If your input data contains missing values at inference time, it will be encoded as floats and will cause a schema enforcement error. The best way to avoid this problem is to infer the model schema based on a realistic data sample (training dataset) that includes missing values. Alternatively, you can declare integer columns as doubles (float64) whenever these columns may have missing values. See `Handling Integers With Missing Values <https://www.mlflow.org/docs/latest/models.html#handling-integers-with-missing-values>`_ for more details.\"\n",
      "2023/07/12 17:35:14 WARNING mlflow.utils.autologging_utils: MLflow autologging encountered a warning: \"c:\\Users\\michi\\Anaconda3\\envs\\enterpriseai2\\lib\\site-packages\\mlflow\\data\\pandas_dataset.py:116: UserWarning: Hint: Inferred schema contains integer column(s). Integer columns in Python cannot represent missing values. If your input data contains missing values at inference time, it will be encoded as floats and will cause a schema enforcement error. The best way to avoid this problem is to infer the model schema based on a realistic data sample (training dataset) that includes missing values. Alternatively, you can declare integer columns as doubles (float64) whenever these columns may have missing values. See `Handling Integers With Missing Values <https://www.mlflow.org/docs/latest/models.html#handling-integers-with-missing-values>`_ for more details.\"\n",
      "2023/07/12 17:35:22 WARNING mlflow.utils.autologging_utils: MLflow autologging encountered a warning: \"c:\\Users\\michi\\Anaconda3\\envs\\enterpriseai2\\lib\\site-packages\\mlflow\\data\\pandas_dataset.py:116: UserWarning: Hint: Inferred schema contains integer column(s). Integer columns in Python cannot represent missing values. If your input data contains missing values at inference time, it will be encoded as floats and will cause a schema enforcement error. The best way to avoid this problem is to infer the model schema based on a realistic data sample (training dataset) that includes missing values. Alternatively, you can declare integer columns as doubles (float64) whenever these columns may have missing values. See `Handling Integers With Missing Values <https://www.mlflow.org/docs/latest/models.html#handling-integers-with-missing-values>`_ for more details.\"\n"
     ]
    },
    {
     "name": "stdout",
     "output_type": "stream",
     "text": [
      "Done with train\n",
      "Index(['Unnamed: 0', 'Object_price', 'LivingSpace', 'Rooms',\n",
      "       'ConstructionYear', 'ZipCode', 'EstateType', 'DistributionType',\n",
      "       'abstellraum', 'als_ferienimmobilie_geeignet', 'altbau_(bis_1945)',\n",
      "       'bad/wc_getrennt', 'balkon', 'barriefrei', 'bidet', 'carport',\n",
      "       'dachgeschoss', 'dielen', 'dsl', 'duplex', 'dusche', 'einbauk\\u00fcche',\n",
      "       'elektro', 'erdgeschoss', 'erdwaerme', 'erstbezug', 'estrich',\n",
      "       'etagenheizung', 'fenster', 'fern', 'ferne', 'fliesen', 'frei',\n",
      "       'fu\\u00dfbodenheizung', 'gaestewc', 'garage', 'garten', 'gartennutzung',\n",
      "       'gas', 'gepflegt', 'haustiere_erlaubt', 'holzfenster', 'kable_sat_tv',\n",
      "       'kamera', 'kamin', 'kelleranteil', 'kfw40', 'kfw55', 'klimatisiert',\n",
      "       'kontrollierte_be-_und_entl\\u00fcftungsanlage', 'kunststoff',\n",
      "       'kunststofffenster', 'laminat', 'linoleum', 'loggia', 'luftwp',\n",
      "       'marmor', 'massivhaus', 'moebliert', 'neubau', 'neuwertig', 'oel',\n",
      "       'ofenheizung', 'offene_k\\u00fcche', 'pantry', 'parkett', 'pellet',\n",
      "       'personenaufzug', 'reinigung', 'renoviert', 'rollstuhlgerecht', 'sat',\n",
      "       'speisekammer', 'stein', 'stellplatz', 'teilweise_m\\u00f6bliert',\n",
      "       'teppich', 'terrasse', 'tiefgarage', 'vermietet', 'wanne',\n",
      "       'wasch_trockenraum', 'wg_geeignet', 'wintergarten',\n",
      "       'wohnberechtigungsschein', 'zentralheizung'],\n",
      "      dtype='object')\n",
      "Starting with model:  elasticnet\n",
      "Used feature set for preprocessing:['Object_price', 'LivingSpace', 'Rooms', 'abstellraum', 'bad/wc_getrennt', 'barriefrei', 'dusche', 'elektro', 'erdwaerme', 'fenster', 'ferne', 'fliesen', 'frei', 'fussbodenheizung', 'gaestewc', 'garage', 'kable_sat_tv', 'kontrollierte_be-_und_entlueftungsanlage', 'kunststofffenster', 'luftwp', 'parkett', 'personenaufzug', 'reinigung', 'rollstuhlgerecht', 'speisekammer', 'terrasse', 'wanne', 'zentralheizung', 'EstateType', 'DistributionType', 'ConstructionYear', 'ZipCode']\n",
      "Done with preprocessing\n",
      "Done with data split\n"
     ]
    },
    {
     "name": "stderr",
     "output_type": "stream",
     "text": [
      "2023/07/12 17:35:35 WARNING mlflow.utils.autologging_utils: MLflow autologging encountered a warning: \"c:\\Users\\michi\\Anaconda3\\envs\\enterpriseai2\\lib\\site-packages\\mlflow\\data\\pandas_dataset.py:116: UserWarning: Hint: Inferred schema contains integer column(s). Integer columns in Python cannot represent missing values. If your input data contains missing values at inference time, it will be encoded as floats and will cause a schema enforcement error. The best way to avoid this problem is to infer the model schema based on a realistic data sample (training dataset) that includes missing values. Alternatively, you can declare integer columns as doubles (float64) whenever these columns may have missing values. See `Handling Integers With Missing Values <https://www.mlflow.org/docs/latest/models.html#handling-integers-with-missing-values>`_ for more details.\"\n",
      "2023/07/12 17:35:39 WARNING mlflow.utils.autologging_utils: MLflow autologging encountered a warning: \"c:\\Users\\michi\\Anaconda3\\envs\\enterpriseai2\\lib\\site-packages\\mlflow\\models\\signature.py:144: UserWarning: Hint: Inferred schema contains integer column(s). Integer columns in Python cannot represent missing values. If your input data contains missing values at inference time, it will be encoded as floats and will cause a schema enforcement error. The best way to avoid this problem is to infer the model schema based on a realistic data sample (training dataset) that includes missing values. Alternatively, you can declare integer columns as doubles (float64) whenever these columns may have missing values. See `Handling Integers With Missing Values <https://www.mlflow.org/docs/latest/models.html#handling-integers-with-missing-values>`_ for more details.\"\n",
      "2023/07/12 17:36:00 WARNING mlflow.utils.autologging_utils: MLflow autologging encountered a warning: \"c:\\Users\\michi\\Anaconda3\\envs\\enterpriseai2\\lib\\site-packages\\mlflow\\data\\pandas_dataset.py:116: UserWarning: Hint: Inferred schema contains integer column(s). Integer columns in Python cannot represent missing values. If your input data contains missing values at inference time, it will be encoded as floats and will cause a schema enforcement error. The best way to avoid this problem is to infer the model schema based on a realistic data sample (training dataset) that includes missing values. Alternatively, you can declare integer columns as doubles (float64) whenever these columns may have missing values. See `Handling Integers With Missing Values <https://www.mlflow.org/docs/latest/models.html#handling-integers-with-missing-values>`_ for more details.\"\n",
      "2023/07/12 17:36:02 WARNING mlflow.utils.autologging_utils: MLflow autologging encountered a warning: \"c:\\Users\\michi\\Anaconda3\\envs\\enterpriseai2\\lib\\site-packages\\mlflow\\data\\pandas_dataset.py:116: UserWarning: Hint: Inferred schema contains integer column(s). Integer columns in Python cannot represent missing values. If your input data contains missing values at inference time, it will be encoded as floats and will cause a schema enforcement error. The best way to avoid this problem is to infer the model schema based on a realistic data sample (training dataset) that includes missing values. Alternatively, you can declare integer columns as doubles (float64) whenever these columns may have missing values. See `Handling Integers With Missing Values <https://www.mlflow.org/docs/latest/models.html#handling-integers-with-missing-values>`_ for more details.\"\n"
     ]
    },
    {
     "name": "stdout",
     "output_type": "stream",
     "text": [
      "Done with train\n",
      "Index(['Unnamed: 0', 'Object_price', 'LivingSpace', 'Rooms',\n",
      "       'ConstructionYear', 'ZipCode', 'EstateType', 'DistributionType',\n",
      "       'abstellraum', 'als_ferienimmobilie_geeignet', 'altbau_(bis_1945)',\n",
      "       'bad/wc_getrennt', 'balkon', 'barriefrei', 'bidet', 'carport',\n",
      "       'dachgeschoss', 'dielen', 'dsl', 'duplex', 'dusche', 'einbauk\\u00fcche',\n",
      "       'elektro', 'erdgeschoss', 'erdwaerme', 'erstbezug', 'estrich',\n",
      "       'etagenheizung', 'fenster', 'fern', 'ferne', 'fliesen', 'frei',\n",
      "       'fu\\u00dfbodenheizung', 'gaestewc', 'garage', 'garten', 'gartennutzung',\n",
      "       'gas', 'gepflegt', 'haustiere_erlaubt', 'holzfenster', 'kable_sat_tv',\n",
      "       'kamera', 'kamin', 'kelleranteil', 'kfw40', 'kfw55', 'klimatisiert',\n",
      "       'kontrollierte_be-_und_entl\\u00fcftungsanlage', 'kunststoff',\n",
      "       'kunststofffenster', 'laminat', 'linoleum', 'loggia', 'luftwp',\n",
      "       'marmor', 'massivhaus', 'moebliert', 'neubau', 'neuwertig', 'oel',\n",
      "       'ofenheizung', 'offene_k\\u00fcche', 'pantry', 'parkett', 'pellet',\n",
      "       'personenaufzug', 'reinigung', 'renoviert', 'rollstuhlgerecht', 'sat',\n",
      "       'speisekammer', 'stein', 'stellplatz', 'teilweise_m\\u00f6bliert',\n",
      "       'teppich', 'terrasse', 'tiefgarage', 'vermietet', 'wanne',\n",
      "       'wasch_trockenraum', 'wg_geeignet', 'wintergarten',\n",
      "       'wohnberechtigungsschein', 'zentralheizung'],\n",
      "      dtype='object')\n",
      "Starting with model:  linear\n",
      "Used feature set for preprocessing:['Object_price', 'LivingSpace', 'Rooms', 'abstellraum', 'bad/wc_getrennt', 'barriefrei', 'dusche', 'elektro', 'erdwaerme', 'fenster', 'ferne', 'fliesen', 'frei', 'fussbodenheizung', 'gaestewc', 'garage', 'kable_sat_tv', 'kontrollierte_be-_und_entlueftungsanlage', 'kunststofffenster', 'luftwp', 'parkett', 'personenaufzug', 'reinigung', 'rollstuhlgerecht', 'speisekammer', 'terrasse', 'wanne', 'zentralheizung', 'EstateType', 'DistributionType', 'ConstructionYear', 'ZipCode']\n",
      "Done with preprocessing\n",
      "Done with data split\n"
     ]
    },
    {
     "name": "stderr",
     "output_type": "stream",
     "text": [
      "2023/07/12 17:36:22 WARNING mlflow.utils.autologging_utils: MLflow autologging encountered a warning: \"c:\\Users\\michi\\Anaconda3\\envs\\enterpriseai2\\lib\\site-packages\\mlflow\\data\\pandas_dataset.py:116: UserWarning: Hint: Inferred schema contains integer column(s). Integer columns in Python cannot represent missing values. If your input data contains missing values at inference time, it will be encoded as floats and will cause a schema enforcement error. The best way to avoid this problem is to infer the model schema based on a realistic data sample (training dataset) that includes missing values. Alternatively, you can declare integer columns as doubles (float64) whenever these columns may have missing values. See `Handling Integers With Missing Values <https://www.mlflow.org/docs/latest/models.html#handling-integers-with-missing-values>`_ for more details.\"\n",
      "2023/07/12 17:36:26 WARNING mlflow.utils.autologging_utils: MLflow autologging encountered a warning: \"c:\\Users\\michi\\Anaconda3\\envs\\enterpriseai2\\lib\\site-packages\\mlflow\\models\\signature.py:144: UserWarning: Hint: Inferred schema contains integer column(s). Integer columns in Python cannot represent missing values. If your input data contains missing values at inference time, it will be encoded as floats and will cause a schema enforcement error. The best way to avoid this problem is to infer the model schema based on a realistic data sample (training dataset) that includes missing values. Alternatively, you can declare integer columns as doubles (float64) whenever these columns may have missing values. See `Handling Integers With Missing Values <https://www.mlflow.org/docs/latest/models.html#handling-integers-with-missing-values>`_ for more details.\"\n",
      "2023/07/12 17:36:45 WARNING mlflow.utils.autologging_utils: MLflow autologging encountered a warning: \"c:\\Users\\michi\\Anaconda3\\envs\\enterpriseai2\\lib\\site-packages\\mlflow\\data\\pandas_dataset.py:116: UserWarning: Hint: Inferred schema contains integer column(s). Integer columns in Python cannot represent missing values. If your input data contains missing values at inference time, it will be encoded as floats and will cause a schema enforcement error. The best way to avoid this problem is to infer the model schema based on a realistic data sample (training dataset) that includes missing values. Alternatively, you can declare integer columns as doubles (float64) whenever these columns may have missing values. See `Handling Integers With Missing Values <https://www.mlflow.org/docs/latest/models.html#handling-integers-with-missing-values>`_ for more details.\"\n",
      "2023/07/12 17:36:54 WARNING mlflow.utils.autologging_utils: MLflow autologging encountered a warning: \"c:\\Users\\michi\\Anaconda3\\envs\\enterpriseai2\\lib\\site-packages\\mlflow\\data\\pandas_dataset.py:116: UserWarning: Hint: Inferred schema contains integer column(s). Integer columns in Python cannot represent missing values. If your input data contains missing values at inference time, it will be encoded as floats and will cause a schema enforcement error. The best way to avoid this problem is to infer the model schema based on a realistic data sample (training dataset) that includes missing values. Alternatively, you can declare integer columns as doubles (float64) whenever these columns may have missing values. See `Handling Integers With Missing Values <https://www.mlflow.org/docs/latest/models.html#handling-integers-with-missing-values>`_ for more details.\"\n"
     ]
    },
    {
     "name": "stdout",
     "output_type": "stream",
     "text": [
      "Done with train\n",
      "Index(['Unnamed: 0', 'Object_price', 'LivingSpace', 'Rooms',\n",
      "       'ConstructionYear', 'ZipCode', 'EstateType', 'DistributionType',\n",
      "       'abstellraum', 'als_ferienimmobilie_geeignet', 'altbau_(bis_1945)',\n",
      "       'bad/wc_getrennt', 'balkon', 'barriefrei', 'bidet', 'carport',\n",
      "       'dachgeschoss', 'dielen', 'dsl', 'duplex', 'dusche', 'einbauk\\u00fcche',\n",
      "       'elektro', 'erdgeschoss', 'erdwaerme', 'erstbezug', 'estrich',\n",
      "       'etagenheizung', 'fenster', 'fern', 'ferne', 'fliesen', 'frei',\n",
      "       'fu\\u00dfbodenheizung', 'gaestewc', 'garage', 'garten', 'gartennutzung',\n",
      "       'gas', 'gepflegt', 'haustiere_erlaubt', 'holzfenster', 'kable_sat_tv',\n",
      "       'kamera', 'kamin', 'kelleranteil', 'kfw40', 'kfw55', 'klimatisiert',\n",
      "       'kontrollierte_be-_und_entl\\u00fcftungsanlage', 'kunststoff',\n",
      "       'kunststofffenster', 'laminat', 'linoleum', 'loggia', 'luftwp',\n",
      "       'marmor', 'massivhaus', 'moebliert', 'neubau', 'neuwertig', 'oel',\n",
      "       'ofenheizung', 'offene_k\\u00fcche', 'pantry', 'parkett', 'pellet',\n",
      "       'personenaufzug', 'reinigung', 'renoviert', 'rollstuhlgerecht', 'sat',\n",
      "       'speisekammer', 'stein', 'stellplatz', 'teilweise_m\\u00f6bliert',\n",
      "       'teppich', 'terrasse', 'tiefgarage', 'vermietet', 'wanne',\n",
      "       'wasch_trockenraum', 'wg_geeignet', 'wintergarten',\n",
      "       'wohnberechtigungsschein', 'zentralheizung'],\n",
      "      dtype='object')\n",
      "Starting with model:  baseline-rent\n",
      "Used feature set for preprocessing:['Object_price', 'LivingSpace', 'Rooms', 'abstellraum', 'bad/wc_getrennt', 'barriefrei', 'dusche', 'elektro', 'erdwaerme', 'fenster', 'ferne', 'fliesen', 'frei', 'fussbodenheizung', 'gaestewc', 'garage', 'kable_sat_tv', 'kontrollierte_be-_und_entlueftungsanlage', 'kunststofffenster', 'luftwp', 'parkett', 'personenaufzug', 'reinigung', 'rollstuhlgerecht', 'speisekammer', 'terrasse', 'wanne', 'zentralheizung', 'EstateType', 'DistributionType', 'ConstructionYear', 'ZipCode']\n",
      "Done with preprocessing\n",
      "Done with data split\n",
      "Extrcated rental price per square meter via scraper: 11.21\n",
      "Average rental price per sqm: 11.21\n",
      "Baseline Mae: 285.5564\n",
      "Baseline MSE: 140135.41872988813\n",
      "Baseline R2 Score: 0.5802888162379594\n",
      "Done with train\n"
     ]
    }
   ],
   "source": [
    "model_names = ['lasso', 'ridge', 'rf', 'xgb', 'elasticnet', 'linear', 'baseline-rent']\n",
    "mlflow.set_experiment(\"wue-rent-high-corr-features-comparison\")\n",
    "\n",
    "df = pd.read_excel(r'data\\flats_to_rent_wue_preprocessed_combined.xlsx')\n",
    "feature_set_high_corr = determineHighCorrCols(df)\n",
    "    \n",
    "for model_name in model_names:\n",
    "    df = pd.read_excel(r'data\\flats_to_rent_wue_preprocessed_combined.xlsx')\n",
    "    print(\"Starting with model: \", model_name)\n",
    "    pipeline_from_extracted(df, model_name=model_name, feature_set=feature_set_high_corr)\n",
    "    print(\"Done with model: \", model_name)\n",
    "    print(\"--------------------------------------------------\")\n"
   ]
  }
 ],
 "metadata": {
  "kernelspec": {
   "display_name": "Python 3",
   "language": "python",
   "name": "python3"
  },
  "language_info": {
   "codemirror_mode": {
    "name": "ipython",
    "version": 3
   },
   "file_extension": ".py",
   "mimetype": "text/x-python",
   "name": "python",
   "nbconvert_exporter": "python",
   "pygments_lexer": "ipython3",
   "version": "3.8.16"
  },
  "orig_nbformat": 4
 },
 "nbformat": 4,
 "nbformat_minor": 2
}
