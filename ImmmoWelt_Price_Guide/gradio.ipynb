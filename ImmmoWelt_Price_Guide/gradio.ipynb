{
 "cells": [
  {
   "cell_type": "code",
   "execution_count": 1,
   "metadata": {},
   "outputs": [],
   "source": [
    "import gradio as gr\n",
    "import pandas as pd"
   ]
  },
  {
   "cell_type": "code",
   "execution_count": 2,
   "metadata": {},
   "outputs": [],
   "source": [
    "def get_dataframe(feature_squrmeter, feature_rooms, features_ab, feature_wc):\n",
    "    data_list = [feature_squrmeter] + [feature_rooms] + [features_ab] + [feature_wc]\n",
    "    data = pd.DataFrame()\n",
    "    data = pd.DataFrame(columns=['Living Space', 'Romms', 'Bad/WC getrennt', 'Barrierefrei'])\n",
    "    data.loc[len(data)] = data_list\n",
    "    print(data)"
   ]
  },
  {
   "cell_type": "code",
   "execution_count": 5,
   "metadata": {},
   "outputs": [
    {
     "name": "stdout",
     "output_type": "stream",
     "text": [
      "Running on local URL:  http://127.0.0.1:7860\n",
      "\n",
      "To create a public link, set `share=True` in `launch()`.\n"
     ]
    },
    {
     "data": {
      "text/html": [
       "<div><iframe src=\"http://127.0.0.1:7860/\" width=\"100%\" height=\"500\" allow=\"autoplay; camera; microphone; clipboard-read; clipboard-write;\" frameborder=\"0\" allowfullscreen></iframe></div>"
      ],
      "text/plain": [
       "<IPython.core.display.HTML object>"
      ]
     },
     "metadata": {},
     "output_type": "display_data"
    },
    {
     "name": "stdout",
     "output_type": "stream",
     "text": [
      "Keyboard interruption in main thread... closing server.\n"
     ]
    },
    {
     "data": {
      "text/plain": []
     },
     "execution_count": 5,
     "metadata": {},
     "output_type": "execute_result"
    }
   ],
   "source": [
    "with gr.Blocks() as demo:\n",
    "\n",
    "    gr.Markdown(\n",
    "    '''\n",
    "    # Gebe Sie hier an, wie viel qm und wie viele Zimmer ihre Immobilie besitzt 🏠,\n",
    "    '''\n",
    "    )\n",
    "    \n",
    "    with gr.Row():\n",
    "        feature_squrmeter = gr.Number(label='Wohnfläche [qm]')\n",
    "    with gr.Row():\n",
    "        feature_rooms = gr.Number(label='Anzahl der Zimmer')\n",
    "    gr.Markdown(\n",
    "    '''\n",
    "    # Gebe Sie hier an, welche Voraussetzungen Ihre Immobilie erfüllt 🏠\",\n",
    "    ''')\n",
    "    with gr.Box():\n",
    "        with gr.Row():\n",
    "            features_ab = gr.Checkbox(label='Abstaellraum')\n",
    "            feature_wc = gr.Checkbox(label='Bad/WC getrennt')\n",
    "            feature_ba = gr.Checkbox(label='Barrierefrei')\n",
    "            feature_bi = gr.Checkbox(label='Bidet')\n",
    "        with gr.Row():\n",
    "            feature_kü = gr.Checkbox(label='Einbauküche')\n",
    "            feature_el = gr.Checkbox(label='Elektroheizung')\n",
    "            feature_ew = gr.Checkbox(label='Erdwärme')\n",
    "            feature_ew = gr.Checkbox(label='Pakett')\n",
    "    with gr.Row():\n",
    "        ask_btn = gr.Button(\"Get your Price\")\n",
    "        ask_btn.click(fn=get_dataframe, inputs=[feature_squrmeter, feature_rooms, features_ab, feature_wc])\n",
    "\n",
    "demo.launch(debug=True)"
   ]
  }
 ],
 "metadata": {
  "kernelspec": {
   "display_name": "Python 3",
   "language": "python",
   "name": "python3"
  },
  "language_info": {
   "codemirror_mode": {
    "name": "ipython",
    "version": 3
   },
   "file_extension": ".py",
   "mimetype": "text/x-python",
   "name": "python",
   "nbconvert_exporter": "python",
   "pygments_lexer": "ipython3",
   "version": "3.11.3"
  },
  "orig_nbformat": 4
 },
 "nbformat": 4,
 "nbformat_minor": 2
}
