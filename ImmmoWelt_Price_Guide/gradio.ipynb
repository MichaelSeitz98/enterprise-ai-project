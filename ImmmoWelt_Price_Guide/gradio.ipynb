{
 "cells": [
  {
   "cell_type": "code",
   "execution_count": 1,
   "metadata": {},
   "outputs": [],
   "source": [
    "import gradio as gr\n",
    "import pandas as pd\n",
    "import mlflow"
   ]
  },
  {
   "cell_type": "code",
   "execution_count": 17,
   "metadata": {},
   "outputs": [],
   "source": [
    "mlflow.set_tracking_uri(\"http://localhost:5000\")"
   ]
  },
  {
   "cell_type": "code",
   "execution_count": 9,
   "metadata": {},
   "outputs": [],
   "source": [
    "def get_dataframe(feature_zip,feature_squrmeter, feature_rooms, features_ab, feature_wc, feature_ba, feature_bi, feature_frei,\n",
    "        feature_fh,\n",
    "        feature_gaeste,\n",
    "        feature_garage,\n",
    "        feature_sat,\n",
    "        feature_lueftung,\n",
    "        feature_fenster,\n",
    "        feature_luftwp,\n",
    "        feature_parkett,\n",
    "        feature_aufzug,\n",
    "        feature_reinigung,\n",
    "        feature_rollstuhl,\n",
    "        feature_wanne,\n",
    "        feature_wasch,\n",
    "        feature_einbaukueche,\n",
    "        feature_elektro,\n",
    "        feature_erdwaerme,\n",
    "        feature_zentral):\n",
    "    data_list = [feature_zip]+[feature_squrmeter] +[feature_rooms]+ [features_ab] +[feature_wc] + [feature_ba]+[feature_bi]+ [feature_einbaukueche]+ [feature_elektro]+[feature_erdwaerme]+[feature_frei] +[feature_fh]+[feature_gaeste]+[feature_garage]+[feature_sat]+[feature_lueftung]+ [feature_fenster] + [feature_luftwp] + [feature_parkett]+ [feature_aufzug] + [feature_reinigung] + [feature_rollstuhl] + [feature_wanne] +[feature_wasch]+ [feature_zentral]+ ['APARTMENT'] + ['RENT']\n",
    "    data = pd.DataFrame()\n",
    "    data = pd.DataFrame(columns=['ZipCode','LivingSpace','Rooms', 'abstellraum', 'bad/wc_getrennt', 'barriefrei', 'bidet', 'einbauk\\u00fcche', 'elektro', 'erdwaerme',\n",
    "                                 'frei', 'fu\\u00dfbodenheizung', 'gaestewc', 'garage', 'kable_sat_tv', 'kontrollierte_be-_und_entl\\u00fcftungsanlage', 'kunststofffenster',\n",
    "                                 'luftwp', 'parkett', 'personenaufzug', 'reinigung', 'rollstuhlgerecht', 'wanne', 'wasch_trockenraum','zentralheizung','EstateType_APARTMENT', 'DistributionType_RENT'])\n",
    "    data.loc[len(data)] = data_list\n",
    "    print(data)"
   ]
  },
  {
   "cell_type": "code",
   "execution_count": 3,
   "metadata": {},
   "outputs": [],
   "source": [
    "def load_model(model_name):\n",
    "    model_name = \"rigde-rent-wue\"\n",
    "    model_version = 1\n",
    "    model = mlflow.pyfunc.load_model(model_uri=f\"models:/{model_name}/{model_version}\")\n",
    "    return model"
   ]
  },
  {
   "cell_type": "code",
   "execution_count": 20,
   "metadata": {},
   "outputs": [
    {
     "name": "stderr",
     "output_type": "stream",
     "text": [
      "2023/07/11 15:57:39 WARNING mlflow.pyfunc: Encountered an unexpected error (AttributeError(\"module 'configparser' has no attribute '__version__'\")) while detecting model dependency mismatches. Set logging level to DEBUG to see the full traceback.\n",
      "2023/07/11 15:57:39 WARNING mlflow.pyfunc: The version of Python that the model was saved in, `Python 3.8.16`, differs from the version of Python that is currently running, `Python 3.11.3`, and may be incompatible\n"
     ]
    }
   ],
   "source": [
    "x = load_model(\"ridge-rent-wue\")"
   ]
  },
  {
   "cell_type": "code",
   "execution_count": 21,
   "metadata": {},
   "outputs": [
    {
     "data": {
      "text/plain": [
       "mlflow.pyfunc.loaded_model:\n",
       "  artifact_path: model\n",
       "  flavor: mlflow.sklearn\n",
       "  run_id: e654ce9d65a34446aa4640f6e50a8cbe"
      ]
     },
     "execution_count": 21,
     "metadata": {},
     "output_type": "execute_result"
    }
   ],
   "source": [
    "x"
   ]
  },
  {
   "cell_type": "code",
   "execution_count": 10,
   "metadata": {},
   "outputs": [
    {
     "name": "stdout",
     "output_type": "stream",
     "text": [
      "Running on local URL:  http://127.0.0.1:7863\n",
      "\n",
      "To create a public link, set `share=True` in `launch()`.\n"
     ]
    },
    {
     "data": {
      "text/html": [
       "<div><iframe src=\"http://127.0.0.1:7863/\" width=\"100%\" height=\"500\" allow=\"autoplay; camera; microphone; clipboard-read; clipboard-write;\" frameborder=\"0\" allowfullscreen></iframe></div>"
      ],
      "text/plain": [
       "<IPython.core.display.HTML object>"
      ]
     },
     "metadata": {},
     "output_type": "display_data"
    },
    {
     "data": {
      "text/plain": []
     },
     "execution_count": 10,
     "metadata": {},
     "output_type": "execute_result"
    },
    {
     "name": "stdout",
     "output_type": "stream",
     "text": [
      "   ZipCode  LivingSpace  Rooms  abstellraum  bad/wc_getrennt  barriefrei  \\\n",
      "0  5589655          0.0    0.0        False            False       False   \n",
      "\n",
      "   bidet  einbauküche  elektro  erdwaerme  ...  luftwp  parkett  \\\n",
      "0  False        False    False      False  ...   False    False   \n",
      "\n",
      "   personenaufzug  reinigung  rollstuhlgerecht  wanne  wasch_trockenraum  \\\n",
      "0           False      False             False  False              False   \n",
      "\n",
      "   zentralheizung  EstateType_APARTMENT  DistributionType_RENT  \n",
      "0           False             APARTMENT                   RENT  \n",
      "\n",
      "[1 rows x 27 columns]\n"
     ]
    }
   ],
   "source": [
    "with gr.Blocks() as demo:\n",
    "\n",
    "    gr.Markdown(\n",
    "    '''\n",
    "    # Gebe Sie hier an, wie viel qm und wie viele Zimmer ihre Immobilie besitzt 🏠,\n",
    "    '''\n",
    "    )\n",
    "    with gr.Row():\n",
    "        feature_zip = gr.Textbox(label='Postleitzahl')\n",
    "    with gr.Row():\n",
    "        feature_squrmeter = gr.Number(label='Wohnfläche [qm]')\n",
    "    with gr.Row():\n",
    "        feature_rooms = gr.Number(label='Anzahl der Zimmer')\n",
    "    gr.Markdown(\n",
    "    '''\n",
    "    # Gebe Sie hier an, welche Voraussetzungen Ihre Immobilie erfüllt 🏠\",\n",
    "    ''')\n",
    "    \n",
    "    with gr.Row():\n",
    "        features_ab = gr.Checkbox(label='Abstellraum')\n",
    "        feature_wc = gr.Checkbox(label='Bad/WC getrennt')\n",
    "        feature_ba = gr.Checkbox(label='Barrierefrei')\n",
    "        feature_bi = gr.Checkbox(label='Bidet')\n",
    "        feature_frei = gr.Checkbox(label='Frei')\n",
    "        feature_fh = gr.Checkbox(label='Fußbodenheizung')\n",
    "        feature_gaeste = gr.Checkbox(label='Gäste-WC')\n",
    "        feature_garage = gr.Checkbox(label='Garage')\n",
    "        feature_sat = gr.Checkbox(label='Kabel/Sat-TV')\n",
    "        feature_lueftung = gr.Checkbox(label='Kontrollierte Be- und Entlüftungsanlage')\n",
    "        feature_fenster = gr.Checkbox(label='Kunststofffenster')\n",
    "        feature_luftwp = gr.Checkbox(label='Luft-WP')\n",
    "        feature_parkett = gr.Checkbox(label='Parkett')\n",
    "        feature_aufzug = gr.Checkbox(label='Personenaufzug')\n",
    "        feature_reinigung = gr.Checkbox(label='Reinigung')\n",
    "        feature_rollstuhl = gr.Checkbox(label='Rollstuhlgerecht')\n",
    "        feature_wanne = gr.Checkbox(label='Wanne')\n",
    "        feature_wasch = gr.Checkbox(label='Wasch-/Trockenraum')\n",
    "        feature_einbaukueche = gr.Checkbox(label='Einbauküche')\n",
    "        feature_elektro = gr.Checkbox(label='Elektro')\n",
    "        feature_erdwaerme = gr.Checkbox(label='Erdwärme')\n",
    "        feature_zentral = gr.Checkbox(label='Zentralheizung')\n",
    "    btn = gr.Button('hier')\n",
    "    btn.click(fn=get_dataframe, inputs=[feature_zip,feature_squrmeter, feature_rooms, features_ab, feature_wc, feature_ba, feature_bi, feature_frei,\n",
    "            feature_fh,\n",
    "            feature_gaeste,\n",
    "            feature_garage,\n",
    "            feature_sat,\n",
    "            feature_lueftung,\n",
    "            feature_fenster,\n",
    "            feature_luftwp,\n",
    "            feature_parkett,\n",
    "            feature_aufzug,\n",
    "            feature_reinigung,\n",
    "            feature_rollstuhl,\n",
    "            feature_wanne,\n",
    "            feature_wasch,\n",
    "            feature_einbaukueche,\n",
    "            feature_elektro,\n",
    "            feature_erdwaerme,\n",
    "            feature_zentral])\n",
    "demo.launch()\n"
   ]
  }
 ],
 "metadata": {
  "kernelspec": {
   "display_name": "Python 3",
   "language": "python",
   "name": "python3"
  },
  "language_info": {
   "codemirror_mode": {
    "name": "ipython",
    "version": 3
   },
   "file_extension": ".py",
   "mimetype": "text/x-python",
   "name": "python",
   "nbconvert_exporter": "python",
   "pygments_lexer": "ipython3",
   "version": "3.11.3"
  },
  "orig_nbformat": 4
 },
 "nbformat": 4,
 "nbformat_minor": 2
}
