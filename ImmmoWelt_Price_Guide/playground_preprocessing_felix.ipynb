{
 "cells": [
  {
   "cell_type": "code",
   "execution_count": 1,
   "metadata": {},
   "outputs": [
    {
     "name": "stdout",
     "output_type": "stream",
     "text": [
      "Index(['Url', 'TranactionType', 'Title', 'Object_price', 'Object_currency',\n",
      "       'LivingSpace', 'Rooms', 'ConstructionYear', 'Object_features',\n",
      "       'Address', 'Price', 'MediaItems', 'ContactData', 'BasicInfo'],\n",
      "      dtype='object')\n"
     ]
    }
   ],
   "source": [
    "import pandas as pd\n",
    "import re\n",
    "\n",
    "df_flats_to_buy = pd.read_excel('flats_to_buy.xlsx')\n",
    "\n",
    "print(df_flats_to_buy.columns)\n"
   ]
  },
  {
   "cell_type": "code",
   "execution_count": 2,
   "metadata": {},
   "outputs": [
    {
     "name": "stdout",
     "output_type": "stream",
     "text": [
      "Index(['Url', 'Title', 'Object_price', 'Object_currency', 'LivingSpace',\n",
      "       'Rooms', 'ConstructionYear', 'Object_features', 'Address', 'Price',\n",
      "       'MediaItems', 'ContactData', 'BasicInfo', 'EstateTypeGerman',\n",
      "       'DistributionTypeGerman', 'EstateType', 'DistributionType'],\n",
      "      dtype='object')\n"
     ]
    }
   ],
   "source": [
    "from preprocessing_methods import extract_TranactionType_columns\n",
    "df_flats_to_buy = extract_TranactionType_columns(df_flats_to_buy)\n",
    "\n",
    "print(df_flats_to_buy.columns)"
   ]
  },
  {
   "cell_type": "code",
   "execution_count": 3,
   "metadata": {},
   "outputs": [
    {
     "name": "stdout",
     "output_type": "stream",
     "text": [
      "Index(['Url', 'Title', 'Object_price', 'Object_currency', 'LivingSpace',\n",
      "       'Rooms', 'ConstructionYear', 'Address', 'Price', 'MediaItems',\n",
      "       'ContactData', 'BasicInfo', 'EstateTypeGerman',\n",
      "       'DistributionTypeGerman', 'EstateType', 'DistributionType',\n",
      "       'abstellraum', 'als_ferienimmobilie_geeignet', 'altbau_(bis_1945)',\n",
      "       'bad/wc_getrennt', 'balkon', 'barriefrei', 'block', 'carport',\n",
      "       'dachgeschoss', 'denkmalgeschuetzt', 'dielen', 'dsl', 'duplex',\n",
      "       'dusche', 'einbauk\\u00fcche', 'elektro', 'erdgeschoss', 'erstbezug',\n",
      "       'estrich', 'etagenheizung', 'fenster', 'fern', 'ferne', 'fliesen',\n",
      "       'fluessiggas', 'frei', 'fu\\u00dfbodenheizung', 'gaestewc', 'garage',\n",
      "       'garten', 'gartennutzung', 'gas', 'gepflegt', 'haustiere_erlaubt',\n",
      "       'holzfenster', 'kable_sat_tv', 'kamera', 'kamin', 'kapitalanlage',\n",
      "       'kelleranteil', 'kfw40', 'kfw55', 'kfw70',\n",
      "       'kontrollierte_be-_und_entl\\u00fcftungsanlage', 'kunststoff',\n",
      "       'kunststofffenster', 'laminat', 'linoleum', 'loggia', 'luftwp',\n",
      "       'massivhaus', 'moebliert', 'neubau', 'neuwertig', 'oel',\n",
      "       'offene_k\\u00fcche', 'pantry', 'parkett', 'pellet', 'personenaufzug',\n",
      "       'provisionsfrei', 'reinigung', 'renoviert',\n",
      "       'renovierungsbed\\u00fcrftig', 'rollstuhlgerecht', 'sat', 'sauna',\n",
      "       'souterrain', 'speisekammer', 'stein', 'stellplatz',\n",
      "       'teilweise_m\\u00f6bliert', 'teppich', 'terrasse', 'tiefgarage',\n",
      "       'vermietet', 'vollerschlossen', 'wanne', 'wasch_trockenraum',\n",
      "       'wg_geeignet', 'wintergarten', 'zentralheizung'],\n",
      "      dtype='object')\n"
     ]
    }
   ],
   "source": [
    "from preprocessing_methods import binarize_columns\n",
    "df_flats_to_buy = binarize_columns(df_flats_to_buy, 'Object_features')\n",
    "\n",
    "print(df_flats_to_buy.columns)"
   ]
  },
  {
   "cell_type": "code",
   "execution_count": 4,
   "metadata": {},
   "outputs": [],
   "source": [
    "# Create new excel to have a look at the data\n",
    "df_flats_to_buy.to_excel('flats_to_buy_preprocessed.xlsx')"
   ]
  }
 ],
 "metadata": {
  "kernelspec": {
   "display_name": "py38",
   "language": "python",
   "name": "python3"
  },
  "language_info": {
   "codemirror_mode": {
    "name": "ipython",
    "version": 3
   },
   "file_extension": ".py",
   "mimetype": "text/x-python",
   "name": "python",
   "nbconvert_exporter": "python",
   "pygments_lexer": "ipython3",
   "version": "3.8.16"
  },
  "orig_nbformat": 4
 },
 "nbformat": 4,
 "nbformat_minor": 2
}
