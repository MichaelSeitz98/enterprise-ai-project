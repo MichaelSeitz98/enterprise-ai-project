{
 "cells": [
  {
   "cell_type": "code",
   "execution_count": 1,
   "metadata": {},
   "outputs": [
    {
     "name": "stdout",
     "output_type": "stream",
     "text": [
      "Index(['Url', 'TranactionType', 'Title', 'Object_price', 'Object_currency',\n",
      "       'LivingSpace', 'Rooms', 'ConstructionYear', 'Object_features',\n",
      "       'Address', 'Price', 'MediaItems', 'ContactData', 'BasicInfo'],\n",
      "      dtype='object')\n"
     ]
    }
   ],
   "source": [
    "import pandas as pd\n",
    "import json\n",
    "\n",
    "df_flats_to_buy = pd.read_excel('flats_to_buy.xlsx')\n",
    "\n",
    "print(df_flats_to_buy.columns)\n"
   ]
  },
  {
   "cell_type": "code",
   "execution_count": 12,
   "metadata": {},
   "outputs": [
    {
     "name": "stdout",
     "output_type": "stream",
     "text": [
      "{\"EstateTypeGerman\": \"WOHNUNG\", \"DistributionTypeGerman\": \"ZUM_KAUF\", \"EstateType\": \"APARTMENT\", \"DistributionType\": \"BUY\"}\n"
     ]
    }
   ],
   "source": [
    "\n",
    "first_transaction_type = df_flats_to_buy['TranactionType'].iloc[0]\n",
    "print(first_transaction_type)"
   ]
  },
  {
   "cell_type": "code",
   "execution_count": 2,
   "metadata": {},
   "outputs": [
    {
     "name": "stdout",
     "output_type": "stream",
     "text": [
      "Index(['Url', 'Title', 'Object_price', 'Object_currency', 'LivingSpace',\n",
      "       'Rooms', 'ConstructionYear', 'Object_features', 'Address', 'Price',\n",
      "       'MediaItems', 'ContactData', 'BasicInfo', 'EstateTypeGerman',\n",
      "       'DistributionTypeGerman', 'EstateType', 'DistributionType'],\n",
      "      dtype='object')\n"
     ]
    }
   ],
   "source": [
    "import preprocessing_methods as pm\n",
    "\n",
    "df_flats_to_buy = pm.extract_TranactionType_columns(df_flats_to_buy)\n",
    "\n",
    "print(df_flats_to_buy.columns)"
   ]
  },
  {
   "cell_type": "code",
   "execution_count": 5,
   "metadata": {},
   "outputs": [],
   "source": [
    "from sklearn.feature_extraction.text import CountVectorizer\n",
    "\n",
    "# Create an instance of CountVectorizer\n",
    "vectorizer = CountVectorizer(binary=True)\n",
    "\n",
    "# Fit the vectorizer on your data\n",
    "corpus = df_flats_to_buy['Object_features'].tolist()\n",
    "X = vectorizer.fit_transform(corpus)\n",
    "\n",
    "# Convert the sparse matrix to an array\n",
    "X = X.toarray()\n",
    "\n",
    "# Get the feature names from the fitted CountVectorizer object\n",
    "feature_names = vectorizer.get_feature_names_out()\n",
    "\n",
    "# Create a DataFrame with the BoW representation\n",
    "bow_df = pd.DataFrame(X, columns=feature_names)\n"
   ]
  },
  {
   "cell_type": "code",
   "execution_count": 7,
   "metadata": {},
   "outputs": [
    {
     "name": "stdout",
     "output_type": "stream",
     "text": [
      "Index(['1945', 'abstellraum', 'als', 'altbau', 'bad', 'balkon', 'barriefrei',\n",
      "       'be', 'bis', 'block', 'carport', 'dachgeschoss', 'denkmalgeschuetzt',\n",
      "       'dielen', 'dsl', 'duplex', 'dusche', 'einbauk', 'elektro', 'entl',\n",
      "       'erdgeschoss', 'erlaubt', 'erstbezug', 'estrich', 'etagenheizung',\n",
      "       'fenster', 'ferienimmobilie', 'fern', 'ferne', 'fliesen', 'fluessiggas',\n",
      "       'frei', 'fu', 'gaestewc', 'garage', 'garten', 'gartennutzung', 'gas',\n",
      "       'geeignet', 'gepflegt', 'getrennt', 'haustiere', 'holzfenster',\n",
      "       'kable_sat_tv', 'kamera', 'kamin', 'kapitalanlage', 'kelleranteil',\n",
      "       'kfw40', 'kfw55', 'kfw70', 'kontrollierte', 'kunststoff',\n",
      "       'kunststofffenster', 'laminat', 'linoleum', 'loggia', 'luftwp',\n",
      "       'massivhaus', 'moebliert', 'neubau', 'neuwertig', 'oel', 'offene',\n",
      "       'pantry', 'parkett', 'pellet', 'personenaufzug', 'provisionsfrei',\n",
      "       'reinigung', 'renoviert', 'renovierungsbed', 'rollstuhlgerecht', 'sat',\n",
      "       'sauna', 'souterrain', 'speisekammer', 'stein', 'stellplatz',\n",
      "       'teilweise', 'teppich', 'terrasse', 'tiefgarage', 'u00dfbodenheizung',\n",
      "       'u00f6bliert', 'u00fcche', 'u00fcftungsanlage', 'u00fcrftig', 'und',\n",
      "       'vermietet', 'vollerschlossen', 'wanne', 'wasch_trockenraum', 'wc',\n",
      "       'wg_geeignet', 'wintergarten', 'zentralheizung'],\n",
      "      dtype='object')\n"
     ]
    }
   ],
   "source": [
    "print(bow_df.columns)"
   ]
  },
  {
   "cell_type": "code",
   "execution_count": 11,
   "metadata": {},
   "outputs": [
    {
     "name": "stdout",
     "output_type": "stream",
     "text": [
      "['C', 'R', 'f', 'S', 'O', 'G', 'n', '4', 'e', '\"', 'W', '\\\\', 'I', 'y', 'g', 't', 'p', 'd', 'r', ' ', ',', '(', 'K', '-', 'u', '9', 'v', 'Z', 'l', 'B', 'L', 'b', 'A', '5', 'D', ']', '[', '6', 'o', ')', 'E', 'i', 'w', '0', 'N', '/', 'H', '1', 'x', 'V', 'c', 'T', 'U', 'h', 'a', 'z', 'k', '_', '7', 's', 'F', 'm', 'M', 'P']\n"
     ]
    }
   ],
   "source": [
    "\n",
    "# Get the unique tokens from the \"Object_features\" column\n",
    "vocabulary = set()\n",
    "for entry in df_flats_to_buy['Object_features']:\n",
    "    vocabulary.update(entry)\n",
    "\n",
    "# Convert the vocabulary set to a list\n",
    "vocabulary = list(vocabulary)\n",
    "\n",
    "# Print the vocabulary\n",
    "print(vocabulary)"
   ]
  }
 ],
 "metadata": {
  "kernelspec": {
   "display_name": "py38",
   "language": "python",
   "name": "python3"
  },
  "language_info": {
   "codemirror_mode": {
    "name": "ipython",
    "version": 3
   },
   "file_extension": ".py",
   "mimetype": "text/x-python",
   "name": "python",
   "nbconvert_exporter": "python",
   "pygments_lexer": "ipython3",
   "version": "3.8.16"
  },
  "orig_nbformat": 4
 },
 "nbformat": 4,
 "nbformat_minor": 2
}
