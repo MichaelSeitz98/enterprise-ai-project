{
 "cells": [
  {
   "cell_type": "code",
   "execution_count": 2,
   "metadata": {},
   "outputs": [
    {
     "name": "stderr",
     "output_type": "stream",
     "text": [
      "c:\\Users\\michi\\Anaconda3\\envs\\enterpriseai2\\lib\\site-packages\\tqdm\\auto.py:21: TqdmWarning: IProgress not found. Please update jupyter and ipywidgets. See https://ipywidgets.readthedocs.io/en/stable/user_install.html\n",
      "  from .autonotebook import tqdm as notebook_tqdm\n"
     ]
    }
   ],
   "source": [
    "import gradio as gr\n",
    "import pandas as pd\n",
    "from transformers import TapasTokenizer, TapasForQuestionAnswering\n",
    "from transformers import AutoTokenizer, AutoModelForTableQuestionAnswering\n",
    "from transformers import pipeline"
   ]
  },
  {
   "cell_type": "code",
   "execution_count": 3,
   "metadata": {},
   "outputs": [
    {
     "name": "stdout",
     "output_type": "stream",
     "text": [
      "Index(['Module title', 'Abbreviation', 'Module coordinator',\n",
      "       'Module offered by', 'ETCS', 'Method of grading', 'Duration',\n",
      "       'Module level', 'Contents', 'Intended learning outcomes', 'Courses',\n",
      "       'Method of assessment', 'Allocation of places',\n",
      "       'Additional information', 'Workload', 'Teaching cycle',\n",
      "       'Referred to in LPO I'],\n",
      "      dtype='object')\n",
      "Module title                  object\n",
      "Abbreviation                  object\n",
      "Module coordinator            object\n",
      "Module offered by             object\n",
      "ETCS                           int64\n",
      "Method of grading             object\n",
      "Duration                      object\n",
      "Module level                  object\n",
      "Contents                      object\n",
      "Intended learning outcomes    object\n",
      "Courses                       object\n",
      "Method of assessment          object\n",
      "Allocation of places          object\n",
      "Additional information        object\n",
      "Workload                      object\n",
      "Teaching cycle                object\n",
      "Referred to in LPO I          object\n",
      "dtype: object\n"
     ]
    }
   ],
   "source": [
    "df = pd.read_excel(\"C:/Users/michi/enterpriseAI_michi/enterprise-ai-project/module_guide_tableQA/extracted_final_modules/MS_IS_all_modules.xlsx\")\n",
    "\n",
    "print(df.columns)\n",
    "print(df.dtypes)"
   ]
  },
  {
   "cell_type": "code",
   "execution_count": 24,
   "metadata": {},
   "outputs": [
    {
     "name": "stdout",
     "output_type": "stream",
     "text": [
      "Running on local URL:  http://127.0.0.1:7877\n",
      "\n",
      "To create a public link, set `share=True` in `launch()`.\n"
     ]
    },
    {
     "data": {
      "text/html": [
       "<div><iframe src=\"http://127.0.0.1:7877/\" width=\"100%\" height=\"500\" allow=\"autoplay; camera; microphone; clipboard-read; clipboard-write;\" frameborder=\"0\" allowfullscreen></iframe></div>"
      ],
      "text/plain": [
       "<IPython.core.display.HTML object>"
      ]
     },
     "metadata": {},
     "output_type": "display_data"
    },
    {
     "data": {
      "text/plain": []
     },
     "execution_count": 24,
     "metadata": {},
     "output_type": "execute_result"
    },
    {
     "name": "stdout",
     "output_type": "stream",
     "text": [
      "How many ECTS credits does the project seminar have?\n",
      "(15, 17)\n",
      "{'answer': 'COUNT > 15', 'coordinates': [(2, 4)], 'cells': ['15'], 'aggregator': 'COUNT'}\n",
      "15\n",
      "{'answer': 'COUNT > 15', 'coordinates': [(2, 4)], 'cells': ['15'], 'aggregator': 'COUNT'}\n"
     ]
    }
   ],
   "source": [
    "import pandas as pd\n",
    "\n",
    "def get_answer(dropdown, question):\n",
    "    df = pd.DataFrame()\n",
    "    \n",
    "    if dropdown == \"Master Information Systems\":\n",
    "        df = pd.read_excel(\"C:/Users/michi/enterpriseAI_michi/enterprise-ai-project/module_guide_tableQA/felix_playground_SQA_Training/MS_IS_all_modules_orginal_15_rows_cleaned.xlsx\")\n",
    "    elif dropdown == \"Bachelor Information Systems\":\n",
    "        df = pd.read_excel(\"BA_IS_all_modules.xslx\")\n",
    "    elif dropdown == \"Master Management\":\n",
    "        df = pd.read_excel(\"MA_Management_all_modules.xslx\")\n",
    "    df = df.astype(str)\n",
    "    print(question)\n",
    "    question = str(question)\n",
    "    print(df.shape)\n",
    "\n",
    "    question = [question]\n",
    "    tqa = pipeline(task=\"table-question-answering\", \n",
    "                model=\"google/tapas-base-finetuned-wtq\")\n",
    "    \n",
    "    results = tqa(table=df, query=question)\n",
    "    print(results)\n",
    "    cells_input = results['cells']\n",
    "    cells_input = str(cells_input)\n",
    "    cells_input = cells_input.replace(\"[\", \"\")\n",
    "    cells_input = cells_input.replace(\"]\", \"\")\n",
    "    cells_input = cells_input.replace(\"'\", \"\")\n",
    "\n",
    "    print(cells_input)\n",
    "    print(results)\n",
    "    html_string_short = f\"<h2>Short Answer:</h2><p>{cells_input}</p>\"\n",
    "    row_numbers = [coord[0] for coord in results['coordinates']]\n",
    "    df_short = df.iloc[row_numbers]\n",
    "    df_short = df_short.dropna(axis=1, how='all')\n",
    "    df_short = df_short.loc[:, (df_short != '--').any(axis=0)]\n",
    "\n",
    "\n",
    "\n",
    "\n",
    "\n",
    "\n",
    "    # Convert df_short to HTML table\n",
    "    html_table = f\"<h2>Complete Module(s):</h2><p>{df_short.to_html(index=False)}</p>\"\n",
    "\n",
    "    return html_string_short, html_table\n",
    "\n",
    "\n",
    "with gr.Blocks() as demo:\n",
    "    \n",
    "    gr.HTML(\"<h1>Your Module Guide Assistant</h1><p>Select a module guide from the dropdown and enter your question below.</p>\")\n",
    "    table = gr.Dropdown([\"Master Information Systems\", \"Bachelor Information Systems\", \"Master Management\"], label=\"Module Guide\", value=\"Master Information Systems\")\n",
    "    question = gr.Textbox(label=\"Question\", value=\"How many ECTS credits does the project seminar have?\")\n",
    "    ask_btn = gr.Button(\"Ask Question about Module\")\n",
    "    gr.HTML(\"<hr>\")\n",
    "\n",
    "    inputs = [table, question]\n",
    "    output_question = gr.HTML(label=\"Answer\")\n",
    "    outout_full_module = gr.HTML(label=\"Detailed Description\")\n",
    "    outputs = [output_question, outout_full_module]\n",
    " \n",
    "    ask_btn.click(fn=get_answer, inputs=inputs, outputs=outputs, api_name=\"greet\")\n",
    "\n",
    "demo.launch()\n",
    "#get_answer(\"Master Information Systems\", \"How many etcs credits does the project seminar have?\")"
   ]
  }
 ],
 "metadata": {
  "kernelspec": {
   "display_name": "enterpriseai2",
   "language": "python",
   "name": "python3"
  },
  "language_info": {
   "codemirror_mode": {
    "name": "ipython",
    "version": 3
   },
   "file_extension": ".py",
   "mimetype": "text/x-python",
   "name": "python",
   "nbconvert_exporter": "python",
   "pygments_lexer": "ipython3",
   "version": "3.8.16"
  },
  "orig_nbformat": 4
 },
 "nbformat": 4,
 "nbformat_minor": 2
}
